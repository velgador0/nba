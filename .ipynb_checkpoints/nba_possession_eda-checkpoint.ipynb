{
 "cells": [
  {
   "cell_type": "markdown",
   "metadata": {},
   "source": [
    "The purpose of this analysis is to perform some exploratory data analysis of NBA offense in the 2022-2023 season.\n",
    "\n",
    "The nba API breaks down offensive possessions into several types :\n",
    "\n",
    "* Cut\n",
    "* Handoff\n",
    "* Isolation\n",
    "* Miscellaneous\n",
    "* OffScreen\n",
    "* Postup\n",
    "* PRBallHandler\n",
    "* PRRollman\n",
    "* OffRebound\n",
    "* Spotup\n",
    "* Transition\n",
    "\n",
    "A good starting point for measuring offensive efficiency is points per possession (PPP). To put our analysis into context, let's start by calculating the average points per possession across all players and play types.\n",
    "\n",
    "The NBA SynergyPlayTypes endpoint doesn't let us call all players and play types at once, so instead we'll just do an API call for each playtype and merge the datasets together."
   ]
  },
  {
   "cell_type": "code",
   "execution_count": 22,
   "metadata": {},
   "outputs": [
    {
     "name": "stdout",
     "output_type": "stream",
     "text": [
      "Cut called successfully.\n",
      "Handoff called successfully.\n",
      "Isolation called successfully.\n",
      "Misc called successfully.\n",
      "OffScreen called successfully.\n",
      "Postup called successfully.\n",
      "PRBallHandler called successfully.\n",
      "PRRollman called successfully.\n",
      "OffRebound called successfully.\n",
      "Spotup called successfully.\n",
      "Transition called successfully.\n"
     ]
    }
   ],
   "source": [
    "from nba_api.stats import endpoints\n",
    "import pandas as pd\n",
    "import time\n",
    "import numpy as np\n",
    "\n",
    "# loop over the different play types\n",
    "play_types_list = ['Cut','Handoff','Isolation','Misc','OffScreen','Postup','PRBallHandler','PRRollman','OffRebound','Spotup','Transition']\n",
    "df = pd.DataFrame()\n",
    "\n",
    "for play_type in play_types_list:\n",
    "\n",
    "    # The NBA API often times out on calls, using a while loop to simply automate retries of our api call\n",
    "    while True:\n",
    "        try:\n",
    "            response = endpoints.SynergyPlayTypes(play_type_nullable=play_type, player_or_team_abbreviation='P', type_grouping_nullable='Offensive').get_data_frames()[0]\n",
    "            print(f'{play_type} called successfully.')\n",
    "            break # quit the loop if successful\n",
    "        except:\n",
    "            print(f'Error with {play_type} call.')\n",
    "            time.sleep(5)\n",
    "\n",
    "    # combine each call into one dataframe\n",
    "    df = pd.concat([df,response])\n",
    "    time.sleep(5)\n",
    "\n",
    "df.to_csv('synergy_all_offensive_possessions_by_player.csv')"
   ]
  },
  {
   "cell_type": "markdown",
   "metadata": {},
   "source": [
    "Let's save this as a csv so that in the future we can just read from the csv to save some time for analysis. We can always rerun the previous cell when we want to update our data."
   ]
  },
  {
   "cell_type": "code",
   "execution_count": 168,
   "metadata": {},
   "outputs": [
    {
     "data": {
      "text/html": [
       "        <script type=\"text/javascript\">\n",
       "        window.PlotlyConfig = {MathJaxConfig: 'local'};\n",
       "        if (window.MathJax && window.MathJax.Hub && window.MathJax.Hub.Config) {window.MathJax.Hub.Config({SVG: {font: \"STIX-Web\"}});}\n",
       "        if (typeof require !== 'undefined') {\n",
       "        require.undef(\"plotly\");\n",
       "        requirejs.config({\n",
       "            paths: {\n",
       "                'plotly': ['https://cdn.plot.ly/plotly-2.18.0.min']\n",
       "            }\n",
       "        });\n",
       "        require(['plotly'], function(Plotly) {\n",
       "            window._Plotly = Plotly;\n",
       "        });\n",
       "        }\n",
       "        </script>\n",
       "        "
      ]
     },
     "metadata": {},
     "output_type": "display_data"
    },
    {
     "ename": "NameError",
     "evalue": "name 'plotly' is not defined",
     "output_type": "error",
     "traceback": [
      "\u001b[0;31m---------------------------------------------------------------------------\u001b[0m",
      "\u001b[0;31mNameError\u001b[0m                                 Traceback (most recent call last)",
      "Input \u001b[0;32mIn [168]\u001b[0m, in \u001b[0;36m<cell line: 3>\u001b[0;34m()\u001b[0m\n\u001b[1;32m      1\u001b[0m \u001b[38;5;28;01mfrom\u001b[39;00m \u001b[38;5;21;01mplotly\u001b[39;00m\u001b[38;5;21;01m.\u001b[39;00m\u001b[38;5;21;01moffline\u001b[39;00m \u001b[38;5;28;01mimport\u001b[39;00m init_notebook_mode\n\u001b[1;32m      2\u001b[0m init_notebook_mode(connected\u001b[38;5;241m=\u001b[39m\u001b[38;5;28;01mTrue\u001b[39;00m)\n\u001b[0;32m----> 3\u001b[0m \u001b[43mplotly\u001b[49m\u001b[38;5;241m.\u001b[39moffline\u001b[38;5;241m.\u001b[39minit_notebook_mode(connected\u001b[38;5;241m=\u001b[39m\u001b[38;5;28;01mTrue\u001b[39;00m)\n\u001b[1;32m      5\u001b[0m df \u001b[38;5;241m=\u001b[39m pd\u001b[38;5;241m.\u001b[39mread_csv(\u001b[38;5;124m'\u001b[39m\u001b[38;5;124msynergy_all_offensive_possessions_by_player.csv\u001b[39m\u001b[38;5;124m'\u001b[39m)\n\u001b[1;32m      6\u001b[0m \u001b[38;5;28mprint\u001b[39m(\u001b[38;5;124m'\u001b[39m\u001b[38;5;124mRead file from csv.\u001b[39m\u001b[38;5;124m'\u001b[39m)\n",
      "\u001b[0;31mNameError\u001b[0m: name 'plotly' is not defined"
     ]
    }
   ],
   "source": [
    "df = pd.read_csv('synergy_all_offensive_possessions_by_player.csv')\n",
    "print('Read file from csv.')"
   ]
  },
  {
   "cell_type": "markdown",
   "metadata": {},
   "source": [
    "The complete csv contains many extraneous columns, let's select just a couple that we are interested in.\n",
    "\n",
    "* PLAYER_NAME and TEAM_NAME will identify the players.\n",
    "* PLAY_TYPE describes the type of offensive possession.\n",
    "* PPP gives us the average number of points scored per possession by that player for a certain type of shot attempt.\n",
    "* POSS is the number of possessions that each player utilizes per type of shot attempt."
   ]
  },
  {
   "cell_type": "code",
   "execution_count": 151,
   "metadata": {},
   "outputs": [],
   "source": [
    "df = df[['PLAYER_NAME','TEAM_NAME','PLAY_TYPE','PPP','POSS']]\n",
    "\n",
    "# sort by player name then play type\n",
    "df = df.sort_values(['PLAYER_NAME','PLAY_TYPE'])"
   ]
  },
  {
   "cell_type": "markdown",
   "metadata": {},
   "source": [
    "Now, by calculating the weighted average of points per possession weighted by number of possessions we get our league average PPP of 1.019. That should give us some useful context for our play type analysis."
   ]
  },
  {
   "cell_type": "code",
   "execution_count": 152,
   "metadata": {},
   "outputs": [
    {
     "data": {
      "text/plain": [
       "1.0194306169357525"
      ]
     },
     "execution_count": 152,
     "metadata": {},
     "output_type": "execute_result"
    }
   ],
   "source": [
    "league_average_ppp = np.average(df['PPP'], weights=df['POSS'])\n",
    "league_average_ppp"
   ]
  },
  {
   "cell_type": "markdown",
   "metadata": {},
   "source": [
    "Next, let's calculate PPP for each play type to see which types of plays tend to be more and less efficient."
   ]
  },
  {
   "cell_type": "code",
   "execution_count": 153,
   "metadata": {},
   "outputs": [
    {
     "data": {
      "text/html": [
       "<div>\n",
       "<style scoped>\n",
       "    .dataframe tbody tr th:only-of-type {\n",
       "        vertical-align: middle;\n",
       "    }\n",
       "\n",
       "    .dataframe tbody tr th {\n",
       "        vertical-align: top;\n",
       "    }\n",
       "\n",
       "    .dataframe thead th {\n",
       "        text-align: right;\n",
       "    }\n",
       "</style>\n",
       "<table border=\"1\" class=\"dataframe\">\n",
       "  <thead>\n",
       "    <tr style=\"text-align: right;\">\n",
       "      <th></th>\n",
       "      <th>PLAY_TYPE</th>\n",
       "      <th>PPP</th>\n",
       "      <th>POSS</th>\n",
       "    </tr>\n",
       "  </thead>\n",
       "  <tbody>\n",
       "    <tr>\n",
       "      <th>3</th>\n",
       "      <td>Misc</td>\n",
       "      <td>0.542987</td>\n",
       "      <td>10269</td>\n",
       "    </tr>\n",
       "    <tr>\n",
       "      <th>6</th>\n",
       "      <td>PRBallHandler</td>\n",
       "      <td>0.906870</td>\n",
       "      <td>31514</td>\n",
       "    </tr>\n",
       "    <tr>\n",
       "      <th>2</th>\n",
       "      <td>Isolation</td>\n",
       "      <td>0.947907</td>\n",
       "      <td>12065</td>\n",
       "    </tr>\n",
       "    <tr>\n",
       "      <th>5</th>\n",
       "      <td>OffScreen</td>\n",
       "      <td>0.951863</td>\n",
       "      <td>6508</td>\n",
       "    </tr>\n",
       "    <tr>\n",
       "      <th>1</th>\n",
       "      <td>Handoff</td>\n",
       "      <td>0.960385</td>\n",
       "      <td>8298</td>\n",
       "    </tr>\n",
       "    <tr>\n",
       "      <th>8</th>\n",
       "      <td>Postup</td>\n",
       "      <td>0.978828</td>\n",
       "      <td>7238</td>\n",
       "    </tr>\n",
       "    <tr>\n",
       "      <th>9</th>\n",
       "      <td>Spotup</td>\n",
       "      <td>1.039979</td>\n",
       "      <td>43021</td>\n",
       "    </tr>\n",
       "    <tr>\n",
       "      <th>10</th>\n",
       "      <td>Transition</td>\n",
       "      <td>1.134757</td>\n",
       "      <td>30843</td>\n",
       "    </tr>\n",
       "    <tr>\n",
       "      <th>4</th>\n",
       "      <td>OffRebound</td>\n",
       "      <td>1.148954</td>\n",
       "      <td>9044</td>\n",
       "    </tr>\n",
       "    <tr>\n",
       "      <th>7</th>\n",
       "      <td>PRRollMan</td>\n",
       "      <td>1.176522</td>\n",
       "      <td>9234</td>\n",
       "    </tr>\n",
       "    <tr>\n",
       "      <th>0</th>\n",
       "      <td>Cut</td>\n",
       "      <td>1.306083</td>\n",
       "      <td>12082</td>\n",
       "    </tr>\n",
       "  </tbody>\n",
       "</table>\n",
       "</div>"
      ],
      "text/plain": [
       "        PLAY_TYPE       PPP   POSS\n",
       "3            Misc  0.542987  10269\n",
       "6   PRBallHandler  0.906870  31514\n",
       "2       Isolation  0.947907  12065\n",
       "5       OffScreen  0.951863   6508\n",
       "1         Handoff  0.960385   8298\n",
       "8          Postup  0.978828   7238\n",
       "9          Spotup  1.039979  43021\n",
       "10     Transition  1.134757  30843\n",
       "4      OffRebound  1.148954   9044\n",
       "7       PRRollMan  1.176522   9234\n",
       "0             Cut  1.306083  12082"
      ]
     },
     "execution_count": 153,
     "metadata": {},
     "output_type": "execute_result"
    }
   ],
   "source": [
    "# create new dataframe for this analysis\n",
    "df_play_type_PPP = df.sort_values('PLAY_TYPE')\n",
    "\n",
    "# calculate PPP using grouped weighted average\n",
    "df_play_type_PPP_weights = df_play_type_PPP.groupby('PLAY_TYPE').apply(lambda x: np.average(x['PPP'], weights=x['POSS'])).reset_index(name='PPP')\n",
    "\n",
    "# calculate sum of possessions\n",
    "df_play_type_PPP_possessions = df_play_type_PPP.groupby('PLAY_TYPE')['POSS'].sum().reset_index()\n",
    "df_play_type_PPP = pd.merge(df_play_type_PPP_weights,df_play_type_PPP_possessions)\n",
    "df_play_type_PPP.sort_values('PPP')"
   ]
  },
  {
   "cell_type": "markdown",
   "metadata": {},
   "source": [
    "Now that we have volume and efficiency data for each shot type, let's graph our results."
   ]
  },
  {
   "cell_type": "code",
   "execution_count": 154,
   "metadata": {},
   "outputs": [
    {
     "data": {
      "application/vnd.plotly.v1+json": {
       "config": {
        "plotlyServerURL": "https://plot.ly"
       },
       "data": [
        {
         "hovertemplate": "POSS=%{x}<br>PPP=%{y}<br>PLAY_TYPE=%{text}<extra></extra>",
         "legendgroup": "",
         "marker": {
          "color": "#636efa",
          "symbol": "circle"
         },
         "mode": "markers+text",
         "name": "",
         "orientation": "v",
         "showlegend": false,
         "text": [
          "Cut",
          "Handoff",
          "Isolation",
          "Misc",
          "OffRebound",
          "OffScreen",
          "PRBallHandler",
          "PRRollMan",
          "Postup",
          "Spotup",
          "Transition"
         ],
         "textposition": "bottom center",
         "type": "scatter",
         "x": [
          12082,
          8298,
          12065,
          10269,
          9044,
          6508,
          31514,
          9234,
          7238,
          43021,
          30843
         ],
         "xaxis": "x",
         "y": [
          1.3060830160569443,
          0.960385273559894,
          0.9479066721922919,
          0.5429871457785568,
          1.148954223794781,
          0.9518633988936693,
          0.9068704068033255,
          1.1765219839722765,
          0.9788277148383532,
          1.0399787313172637,
          1.1347565736147587
         ],
         "yaxis": "y"
        }
       ],
       "layout": {
        "legend": {
         "tracegroupgap": 0
        },
        "margin": {
         "t": 60
        },
        "shapes": [
         {
          "line": {
           "dash": "dash",
           "width": 0.5
          },
          "type": "line",
          "x0": 0,
          "x1": 1,
          "xref": "x domain",
          "y0": 1.0194306169357525,
          "y1": 1.0194306169357525,
          "yref": "y"
         }
        ],
        "template": {
         "data": {
          "bar": [
           {
            "error_x": {
             "color": "#2a3f5f"
            },
            "error_y": {
             "color": "#2a3f5f"
            },
            "marker": {
             "line": {
              "color": "#E5ECF6",
              "width": 0.5
             },
             "pattern": {
              "fillmode": "overlay",
              "size": 10,
              "solidity": 0.2
             }
            },
            "type": "bar"
           }
          ],
          "barpolar": [
           {
            "marker": {
             "line": {
              "color": "#E5ECF6",
              "width": 0.5
             },
             "pattern": {
              "fillmode": "overlay",
              "size": 10,
              "solidity": 0.2
             }
            },
            "type": "barpolar"
           }
          ],
          "carpet": [
           {
            "aaxis": {
             "endlinecolor": "#2a3f5f",
             "gridcolor": "white",
             "linecolor": "white",
             "minorgridcolor": "white",
             "startlinecolor": "#2a3f5f"
            },
            "baxis": {
             "endlinecolor": "#2a3f5f",
             "gridcolor": "white",
             "linecolor": "white",
             "minorgridcolor": "white",
             "startlinecolor": "#2a3f5f"
            },
            "type": "carpet"
           }
          ],
          "choropleth": [
           {
            "colorbar": {
             "outlinewidth": 0,
             "ticks": ""
            },
            "type": "choropleth"
           }
          ],
          "contour": [
           {
            "colorbar": {
             "outlinewidth": 0,
             "ticks": ""
            },
            "colorscale": [
             [
              0,
              "#0d0887"
             ],
             [
              0.1111111111111111,
              "#46039f"
             ],
             [
              0.2222222222222222,
              "#7201a8"
             ],
             [
              0.3333333333333333,
              "#9c179e"
             ],
             [
              0.4444444444444444,
              "#bd3786"
             ],
             [
              0.5555555555555556,
              "#d8576b"
             ],
             [
              0.6666666666666666,
              "#ed7953"
             ],
             [
              0.7777777777777778,
              "#fb9f3a"
             ],
             [
              0.8888888888888888,
              "#fdca26"
             ],
             [
              1,
              "#f0f921"
             ]
            ],
            "type": "contour"
           }
          ],
          "contourcarpet": [
           {
            "colorbar": {
             "outlinewidth": 0,
             "ticks": ""
            },
            "type": "contourcarpet"
           }
          ],
          "heatmap": [
           {
            "colorbar": {
             "outlinewidth": 0,
             "ticks": ""
            },
            "colorscale": [
             [
              0,
              "#0d0887"
             ],
             [
              0.1111111111111111,
              "#46039f"
             ],
             [
              0.2222222222222222,
              "#7201a8"
             ],
             [
              0.3333333333333333,
              "#9c179e"
             ],
             [
              0.4444444444444444,
              "#bd3786"
             ],
             [
              0.5555555555555556,
              "#d8576b"
             ],
             [
              0.6666666666666666,
              "#ed7953"
             ],
             [
              0.7777777777777778,
              "#fb9f3a"
             ],
             [
              0.8888888888888888,
              "#fdca26"
             ],
             [
              1,
              "#f0f921"
             ]
            ],
            "type": "heatmap"
           }
          ],
          "heatmapgl": [
           {
            "colorbar": {
             "outlinewidth": 0,
             "ticks": ""
            },
            "colorscale": [
             [
              0,
              "#0d0887"
             ],
             [
              0.1111111111111111,
              "#46039f"
             ],
             [
              0.2222222222222222,
              "#7201a8"
             ],
             [
              0.3333333333333333,
              "#9c179e"
             ],
             [
              0.4444444444444444,
              "#bd3786"
             ],
             [
              0.5555555555555556,
              "#d8576b"
             ],
             [
              0.6666666666666666,
              "#ed7953"
             ],
             [
              0.7777777777777778,
              "#fb9f3a"
             ],
             [
              0.8888888888888888,
              "#fdca26"
             ],
             [
              1,
              "#f0f921"
             ]
            ],
            "type": "heatmapgl"
           }
          ],
          "histogram": [
           {
            "marker": {
             "pattern": {
              "fillmode": "overlay",
              "size": 10,
              "solidity": 0.2
             }
            },
            "type": "histogram"
           }
          ],
          "histogram2d": [
           {
            "colorbar": {
             "outlinewidth": 0,
             "ticks": ""
            },
            "colorscale": [
             [
              0,
              "#0d0887"
             ],
             [
              0.1111111111111111,
              "#46039f"
             ],
             [
              0.2222222222222222,
              "#7201a8"
             ],
             [
              0.3333333333333333,
              "#9c179e"
             ],
             [
              0.4444444444444444,
              "#bd3786"
             ],
             [
              0.5555555555555556,
              "#d8576b"
             ],
             [
              0.6666666666666666,
              "#ed7953"
             ],
             [
              0.7777777777777778,
              "#fb9f3a"
             ],
             [
              0.8888888888888888,
              "#fdca26"
             ],
             [
              1,
              "#f0f921"
             ]
            ],
            "type": "histogram2d"
           }
          ],
          "histogram2dcontour": [
           {
            "colorbar": {
             "outlinewidth": 0,
             "ticks": ""
            },
            "colorscale": [
             [
              0,
              "#0d0887"
             ],
             [
              0.1111111111111111,
              "#46039f"
             ],
             [
              0.2222222222222222,
              "#7201a8"
             ],
             [
              0.3333333333333333,
              "#9c179e"
             ],
             [
              0.4444444444444444,
              "#bd3786"
             ],
             [
              0.5555555555555556,
              "#d8576b"
             ],
             [
              0.6666666666666666,
              "#ed7953"
             ],
             [
              0.7777777777777778,
              "#fb9f3a"
             ],
             [
              0.8888888888888888,
              "#fdca26"
             ],
             [
              1,
              "#f0f921"
             ]
            ],
            "type": "histogram2dcontour"
           }
          ],
          "mesh3d": [
           {
            "colorbar": {
             "outlinewidth": 0,
             "ticks": ""
            },
            "type": "mesh3d"
           }
          ],
          "parcoords": [
           {
            "line": {
             "colorbar": {
              "outlinewidth": 0,
              "ticks": ""
             }
            },
            "type": "parcoords"
           }
          ],
          "pie": [
           {
            "automargin": true,
            "type": "pie"
           }
          ],
          "scatter": [
           {
            "fillpattern": {
             "fillmode": "overlay",
             "size": 10,
             "solidity": 0.2
            },
            "type": "scatter"
           }
          ],
          "scatter3d": [
           {
            "line": {
             "colorbar": {
              "outlinewidth": 0,
              "ticks": ""
             }
            },
            "marker": {
             "colorbar": {
              "outlinewidth": 0,
              "ticks": ""
             }
            },
            "type": "scatter3d"
           }
          ],
          "scattercarpet": [
           {
            "marker": {
             "colorbar": {
              "outlinewidth": 0,
              "ticks": ""
             }
            },
            "type": "scattercarpet"
           }
          ],
          "scattergeo": [
           {
            "marker": {
             "colorbar": {
              "outlinewidth": 0,
              "ticks": ""
             }
            },
            "type": "scattergeo"
           }
          ],
          "scattergl": [
           {
            "marker": {
             "colorbar": {
              "outlinewidth": 0,
              "ticks": ""
             }
            },
            "type": "scattergl"
           }
          ],
          "scattermapbox": [
           {
            "marker": {
             "colorbar": {
              "outlinewidth": 0,
              "ticks": ""
             }
            },
            "type": "scattermapbox"
           }
          ],
          "scatterpolar": [
           {
            "marker": {
             "colorbar": {
              "outlinewidth": 0,
              "ticks": ""
             }
            },
            "type": "scatterpolar"
           }
          ],
          "scatterpolargl": [
           {
            "marker": {
             "colorbar": {
              "outlinewidth": 0,
              "ticks": ""
             }
            },
            "type": "scatterpolargl"
           }
          ],
          "scatterternary": [
           {
            "marker": {
             "colorbar": {
              "outlinewidth": 0,
              "ticks": ""
             }
            },
            "type": "scatterternary"
           }
          ],
          "surface": [
           {
            "colorbar": {
             "outlinewidth": 0,
             "ticks": ""
            },
            "colorscale": [
             [
              0,
              "#0d0887"
             ],
             [
              0.1111111111111111,
              "#46039f"
             ],
             [
              0.2222222222222222,
              "#7201a8"
             ],
             [
              0.3333333333333333,
              "#9c179e"
             ],
             [
              0.4444444444444444,
              "#bd3786"
             ],
             [
              0.5555555555555556,
              "#d8576b"
             ],
             [
              0.6666666666666666,
              "#ed7953"
             ],
             [
              0.7777777777777778,
              "#fb9f3a"
             ],
             [
              0.8888888888888888,
              "#fdca26"
             ],
             [
              1,
              "#f0f921"
             ]
            ],
            "type": "surface"
           }
          ],
          "table": [
           {
            "cells": {
             "fill": {
              "color": "#EBF0F8"
             },
             "line": {
              "color": "white"
             }
            },
            "header": {
             "fill": {
              "color": "#C8D4E3"
             },
             "line": {
              "color": "white"
             }
            },
            "type": "table"
           }
          ]
         },
         "layout": {
          "annotationdefaults": {
           "arrowcolor": "#2a3f5f",
           "arrowhead": 0,
           "arrowwidth": 1
          },
          "autotypenumbers": "strict",
          "coloraxis": {
           "colorbar": {
            "outlinewidth": 0,
            "ticks": ""
           }
          },
          "colorscale": {
           "diverging": [
            [
             0,
             "#8e0152"
            ],
            [
             0.1,
             "#c51b7d"
            ],
            [
             0.2,
             "#de77ae"
            ],
            [
             0.3,
             "#f1b6da"
            ],
            [
             0.4,
             "#fde0ef"
            ],
            [
             0.5,
             "#f7f7f7"
            ],
            [
             0.6,
             "#e6f5d0"
            ],
            [
             0.7,
             "#b8e186"
            ],
            [
             0.8,
             "#7fbc41"
            ],
            [
             0.9,
             "#4d9221"
            ],
            [
             1,
             "#276419"
            ]
           ],
           "sequential": [
            [
             0,
             "#0d0887"
            ],
            [
             0.1111111111111111,
             "#46039f"
            ],
            [
             0.2222222222222222,
             "#7201a8"
            ],
            [
             0.3333333333333333,
             "#9c179e"
            ],
            [
             0.4444444444444444,
             "#bd3786"
            ],
            [
             0.5555555555555556,
             "#d8576b"
            ],
            [
             0.6666666666666666,
             "#ed7953"
            ],
            [
             0.7777777777777778,
             "#fb9f3a"
            ],
            [
             0.8888888888888888,
             "#fdca26"
            ],
            [
             1,
             "#f0f921"
            ]
           ],
           "sequentialminus": [
            [
             0,
             "#0d0887"
            ],
            [
             0.1111111111111111,
             "#46039f"
            ],
            [
             0.2222222222222222,
             "#7201a8"
            ],
            [
             0.3333333333333333,
             "#9c179e"
            ],
            [
             0.4444444444444444,
             "#bd3786"
            ],
            [
             0.5555555555555556,
             "#d8576b"
            ],
            [
             0.6666666666666666,
             "#ed7953"
            ],
            [
             0.7777777777777778,
             "#fb9f3a"
            ],
            [
             0.8888888888888888,
             "#fdca26"
            ],
            [
             1,
             "#f0f921"
            ]
           ]
          },
          "colorway": [
           "#636efa",
           "#EF553B",
           "#00cc96",
           "#ab63fa",
           "#FFA15A",
           "#19d3f3",
           "#FF6692",
           "#B6E880",
           "#FF97FF",
           "#FECB52"
          ],
          "font": {
           "color": "#2a3f5f"
          },
          "geo": {
           "bgcolor": "white",
           "lakecolor": "white",
           "landcolor": "#E5ECF6",
           "showlakes": true,
           "showland": true,
           "subunitcolor": "white"
          },
          "hoverlabel": {
           "align": "left"
          },
          "hovermode": "closest",
          "mapbox": {
           "style": "light"
          },
          "paper_bgcolor": "white",
          "plot_bgcolor": "#E5ECF6",
          "polar": {
           "angularaxis": {
            "gridcolor": "white",
            "linecolor": "white",
            "ticks": ""
           },
           "bgcolor": "#E5ECF6",
           "radialaxis": {
            "gridcolor": "white",
            "linecolor": "white",
            "ticks": ""
           }
          },
          "scene": {
           "xaxis": {
            "backgroundcolor": "#E5ECF6",
            "gridcolor": "white",
            "gridwidth": 2,
            "linecolor": "white",
            "showbackground": true,
            "ticks": "",
            "zerolinecolor": "white"
           },
           "yaxis": {
            "backgroundcolor": "#E5ECF6",
            "gridcolor": "white",
            "gridwidth": 2,
            "linecolor": "white",
            "showbackground": true,
            "ticks": "",
            "zerolinecolor": "white"
           },
           "zaxis": {
            "backgroundcolor": "#E5ECF6",
            "gridcolor": "white",
            "gridwidth": 2,
            "linecolor": "white",
            "showbackground": true,
            "ticks": "",
            "zerolinecolor": "white"
           }
          },
          "shapedefaults": {
           "line": {
            "color": "#2a3f5f"
           }
          },
          "ternary": {
           "aaxis": {
            "gridcolor": "white",
            "linecolor": "white",
            "ticks": ""
           },
           "baxis": {
            "gridcolor": "white",
            "linecolor": "white",
            "ticks": ""
           },
           "bgcolor": "#E5ECF6",
           "caxis": {
            "gridcolor": "white",
            "linecolor": "white",
            "ticks": ""
           }
          },
          "title": {
           "x": 0.05
          },
          "xaxis": {
           "automargin": true,
           "gridcolor": "white",
           "linecolor": "white",
           "ticks": "",
           "title": {
            "standoff": 15
           },
           "zerolinecolor": "white",
           "zerolinewidth": 2
          },
          "yaxis": {
           "automargin": true,
           "gridcolor": "white",
           "linecolor": "white",
           "ticks": "",
           "title": {
            "standoff": 15
           },
           "zerolinecolor": "white",
           "zerolinewidth": 2
          }
         }
        },
        "title": {
         "text": "Frequency and Efficiency of NBA Offensive Possessions by Shot Type (2022-2023)",
         "x": 0.5
        },
        "xaxis": {
         "anchor": "y",
         "domain": [
          0,
          1
         ],
         "title": {
          "text": "Number of Possessions"
         }
        },
        "yaxis": {
         "anchor": "x",
         "domain": [
          0,
          1
         ],
         "title": {
          "text": "Points per Possession (PPP)"
         }
        }
       }
      },
      "text/html": [
       "<div>                            <div id=\"e4a5dfcc-06de-4229-9fd6-eb2dc9dd1b4b\" class=\"plotly-graph-div\" style=\"height:525px; width:100%;\"></div>            <script type=\"text/javascript\">                require([\"plotly\"], function(Plotly) {                    window.PLOTLYENV=window.PLOTLYENV || {};                                    if (document.getElementById(\"e4a5dfcc-06de-4229-9fd6-eb2dc9dd1b4b\")) {                    Plotly.newPlot(                        \"e4a5dfcc-06de-4229-9fd6-eb2dc9dd1b4b\",                        [{\"hovertemplate\":\"POSS=%{x}<br>PPP=%{y}<br>PLAY_TYPE=%{text}<extra></extra>\",\"legendgroup\":\"\",\"marker\":{\"color\":\"#636efa\",\"symbol\":\"circle\"},\"mode\":\"markers+text\",\"name\":\"\",\"orientation\":\"v\",\"showlegend\":false,\"text\":[\"Cut\",\"Handoff\",\"Isolation\",\"Misc\",\"OffRebound\",\"OffScreen\",\"PRBallHandler\",\"PRRollMan\",\"Postup\",\"Spotup\",\"Transition\"],\"x\":[12082,8298,12065,10269,9044,6508,31514,9234,7238,43021,30843],\"xaxis\":\"x\",\"y\":[1.3060830160569443,0.960385273559894,0.9479066721922919,0.5429871457785568,1.148954223794781,0.9518633988936693,0.9068704068033255,1.1765219839722765,0.9788277148383532,1.0399787313172637,1.1347565736147587],\"yaxis\":\"y\",\"type\":\"scatter\",\"textposition\":\"bottom center\"}],                        {\"template\":{\"data\":{\"histogram2dcontour\":[{\"type\":\"histogram2dcontour\",\"colorbar\":{\"outlinewidth\":0,\"ticks\":\"\"},\"colorscale\":[[0.0,\"#0d0887\"],[0.1111111111111111,\"#46039f\"],[0.2222222222222222,\"#7201a8\"],[0.3333333333333333,\"#9c179e\"],[0.4444444444444444,\"#bd3786\"],[0.5555555555555556,\"#d8576b\"],[0.6666666666666666,\"#ed7953\"],[0.7777777777777778,\"#fb9f3a\"],[0.8888888888888888,\"#fdca26\"],[1.0,\"#f0f921\"]]}],\"choropleth\":[{\"type\":\"choropleth\",\"colorbar\":{\"outlinewidth\":0,\"ticks\":\"\"}}],\"histogram2d\":[{\"type\":\"histogram2d\",\"colorbar\":{\"outlinewidth\":0,\"ticks\":\"\"},\"colorscale\":[[0.0,\"#0d0887\"],[0.1111111111111111,\"#46039f\"],[0.2222222222222222,\"#7201a8\"],[0.3333333333333333,\"#9c179e\"],[0.4444444444444444,\"#bd3786\"],[0.5555555555555556,\"#d8576b\"],[0.6666666666666666,\"#ed7953\"],[0.7777777777777778,\"#fb9f3a\"],[0.8888888888888888,\"#fdca26\"],[1.0,\"#f0f921\"]]}],\"heatmap\":[{\"type\":\"heatmap\",\"colorbar\":{\"outlinewidth\":0,\"ticks\":\"\"},\"colorscale\":[[0.0,\"#0d0887\"],[0.1111111111111111,\"#46039f\"],[0.2222222222222222,\"#7201a8\"],[0.3333333333333333,\"#9c179e\"],[0.4444444444444444,\"#bd3786\"],[0.5555555555555556,\"#d8576b\"],[0.6666666666666666,\"#ed7953\"],[0.7777777777777778,\"#fb9f3a\"],[0.8888888888888888,\"#fdca26\"],[1.0,\"#f0f921\"]]}],\"heatmapgl\":[{\"type\":\"heatmapgl\",\"colorbar\":{\"outlinewidth\":0,\"ticks\":\"\"},\"colorscale\":[[0.0,\"#0d0887\"],[0.1111111111111111,\"#46039f\"],[0.2222222222222222,\"#7201a8\"],[0.3333333333333333,\"#9c179e\"],[0.4444444444444444,\"#bd3786\"],[0.5555555555555556,\"#d8576b\"],[0.6666666666666666,\"#ed7953\"],[0.7777777777777778,\"#fb9f3a\"],[0.8888888888888888,\"#fdca26\"],[1.0,\"#f0f921\"]]}],\"contourcarpet\":[{\"type\":\"contourcarpet\",\"colorbar\":{\"outlinewidth\":0,\"ticks\":\"\"}}],\"contour\":[{\"type\":\"contour\",\"colorbar\":{\"outlinewidth\":0,\"ticks\":\"\"},\"colorscale\":[[0.0,\"#0d0887\"],[0.1111111111111111,\"#46039f\"],[0.2222222222222222,\"#7201a8\"],[0.3333333333333333,\"#9c179e\"],[0.4444444444444444,\"#bd3786\"],[0.5555555555555556,\"#d8576b\"],[0.6666666666666666,\"#ed7953\"],[0.7777777777777778,\"#fb9f3a\"],[0.8888888888888888,\"#fdca26\"],[1.0,\"#f0f921\"]]}],\"surface\":[{\"type\":\"surface\",\"colorbar\":{\"outlinewidth\":0,\"ticks\":\"\"},\"colorscale\":[[0.0,\"#0d0887\"],[0.1111111111111111,\"#46039f\"],[0.2222222222222222,\"#7201a8\"],[0.3333333333333333,\"#9c179e\"],[0.4444444444444444,\"#bd3786\"],[0.5555555555555556,\"#d8576b\"],[0.6666666666666666,\"#ed7953\"],[0.7777777777777778,\"#fb9f3a\"],[0.8888888888888888,\"#fdca26\"],[1.0,\"#f0f921\"]]}],\"mesh3d\":[{\"type\":\"mesh3d\",\"colorbar\":{\"outlinewidth\":0,\"ticks\":\"\"}}],\"scatter\":[{\"fillpattern\":{\"fillmode\":\"overlay\",\"size\":10,\"solidity\":0.2},\"type\":\"scatter\"}],\"parcoords\":[{\"type\":\"parcoords\",\"line\":{\"colorbar\":{\"outlinewidth\":0,\"ticks\":\"\"}}}],\"scatterpolargl\":[{\"type\":\"scatterpolargl\",\"marker\":{\"colorbar\":{\"outlinewidth\":0,\"ticks\":\"\"}}}],\"bar\":[{\"error_x\":{\"color\":\"#2a3f5f\"},\"error_y\":{\"color\":\"#2a3f5f\"},\"marker\":{\"line\":{\"color\":\"#E5ECF6\",\"width\":0.5},\"pattern\":{\"fillmode\":\"overlay\",\"size\":10,\"solidity\":0.2}},\"type\":\"bar\"}],\"scattergeo\":[{\"type\":\"scattergeo\",\"marker\":{\"colorbar\":{\"outlinewidth\":0,\"ticks\":\"\"}}}],\"scatterpolar\":[{\"type\":\"scatterpolar\",\"marker\":{\"colorbar\":{\"outlinewidth\":0,\"ticks\":\"\"}}}],\"histogram\":[{\"marker\":{\"pattern\":{\"fillmode\":\"overlay\",\"size\":10,\"solidity\":0.2}},\"type\":\"histogram\"}],\"scattergl\":[{\"type\":\"scattergl\",\"marker\":{\"colorbar\":{\"outlinewidth\":0,\"ticks\":\"\"}}}],\"scatter3d\":[{\"type\":\"scatter3d\",\"line\":{\"colorbar\":{\"outlinewidth\":0,\"ticks\":\"\"}},\"marker\":{\"colorbar\":{\"outlinewidth\":0,\"ticks\":\"\"}}}],\"scattermapbox\":[{\"type\":\"scattermapbox\",\"marker\":{\"colorbar\":{\"outlinewidth\":0,\"ticks\":\"\"}}}],\"scatterternary\":[{\"type\":\"scatterternary\",\"marker\":{\"colorbar\":{\"outlinewidth\":0,\"ticks\":\"\"}}}],\"scattercarpet\":[{\"type\":\"scattercarpet\",\"marker\":{\"colorbar\":{\"outlinewidth\":0,\"ticks\":\"\"}}}],\"carpet\":[{\"aaxis\":{\"endlinecolor\":\"#2a3f5f\",\"gridcolor\":\"white\",\"linecolor\":\"white\",\"minorgridcolor\":\"white\",\"startlinecolor\":\"#2a3f5f\"},\"baxis\":{\"endlinecolor\":\"#2a3f5f\",\"gridcolor\":\"white\",\"linecolor\":\"white\",\"minorgridcolor\":\"white\",\"startlinecolor\":\"#2a3f5f\"},\"type\":\"carpet\"}],\"table\":[{\"cells\":{\"fill\":{\"color\":\"#EBF0F8\"},\"line\":{\"color\":\"white\"}},\"header\":{\"fill\":{\"color\":\"#C8D4E3\"},\"line\":{\"color\":\"white\"}},\"type\":\"table\"}],\"barpolar\":[{\"marker\":{\"line\":{\"color\":\"#E5ECF6\",\"width\":0.5},\"pattern\":{\"fillmode\":\"overlay\",\"size\":10,\"solidity\":0.2}},\"type\":\"barpolar\"}],\"pie\":[{\"automargin\":true,\"type\":\"pie\"}]},\"layout\":{\"autotypenumbers\":\"strict\",\"colorway\":[\"#636efa\",\"#EF553B\",\"#00cc96\",\"#ab63fa\",\"#FFA15A\",\"#19d3f3\",\"#FF6692\",\"#B6E880\",\"#FF97FF\",\"#FECB52\"],\"font\":{\"color\":\"#2a3f5f\"},\"hovermode\":\"closest\",\"hoverlabel\":{\"align\":\"left\"},\"paper_bgcolor\":\"white\",\"plot_bgcolor\":\"#E5ECF6\",\"polar\":{\"bgcolor\":\"#E5ECF6\",\"angularaxis\":{\"gridcolor\":\"white\",\"linecolor\":\"white\",\"ticks\":\"\"},\"radialaxis\":{\"gridcolor\":\"white\",\"linecolor\":\"white\",\"ticks\":\"\"}},\"ternary\":{\"bgcolor\":\"#E5ECF6\",\"aaxis\":{\"gridcolor\":\"white\",\"linecolor\":\"white\",\"ticks\":\"\"},\"baxis\":{\"gridcolor\":\"white\",\"linecolor\":\"white\",\"ticks\":\"\"},\"caxis\":{\"gridcolor\":\"white\",\"linecolor\":\"white\",\"ticks\":\"\"}},\"coloraxis\":{\"colorbar\":{\"outlinewidth\":0,\"ticks\":\"\"}},\"colorscale\":{\"sequential\":[[0.0,\"#0d0887\"],[0.1111111111111111,\"#46039f\"],[0.2222222222222222,\"#7201a8\"],[0.3333333333333333,\"#9c179e\"],[0.4444444444444444,\"#bd3786\"],[0.5555555555555556,\"#d8576b\"],[0.6666666666666666,\"#ed7953\"],[0.7777777777777778,\"#fb9f3a\"],[0.8888888888888888,\"#fdca26\"],[1.0,\"#f0f921\"]],\"sequentialminus\":[[0.0,\"#0d0887\"],[0.1111111111111111,\"#46039f\"],[0.2222222222222222,\"#7201a8\"],[0.3333333333333333,\"#9c179e\"],[0.4444444444444444,\"#bd3786\"],[0.5555555555555556,\"#d8576b\"],[0.6666666666666666,\"#ed7953\"],[0.7777777777777778,\"#fb9f3a\"],[0.8888888888888888,\"#fdca26\"],[1.0,\"#f0f921\"]],\"diverging\":[[0,\"#8e0152\"],[0.1,\"#c51b7d\"],[0.2,\"#de77ae\"],[0.3,\"#f1b6da\"],[0.4,\"#fde0ef\"],[0.5,\"#f7f7f7\"],[0.6,\"#e6f5d0\"],[0.7,\"#b8e186\"],[0.8,\"#7fbc41\"],[0.9,\"#4d9221\"],[1,\"#276419\"]]},\"xaxis\":{\"gridcolor\":\"white\",\"linecolor\":\"white\",\"ticks\":\"\",\"title\":{\"standoff\":15},\"zerolinecolor\":\"white\",\"automargin\":true,\"zerolinewidth\":2},\"yaxis\":{\"gridcolor\":\"white\",\"linecolor\":\"white\",\"ticks\":\"\",\"title\":{\"standoff\":15},\"zerolinecolor\":\"white\",\"automargin\":true,\"zerolinewidth\":2},\"scene\":{\"xaxis\":{\"backgroundcolor\":\"#E5ECF6\",\"gridcolor\":\"white\",\"linecolor\":\"white\",\"showbackground\":true,\"ticks\":\"\",\"zerolinecolor\":\"white\",\"gridwidth\":2},\"yaxis\":{\"backgroundcolor\":\"#E5ECF6\",\"gridcolor\":\"white\",\"linecolor\":\"white\",\"showbackground\":true,\"ticks\":\"\",\"zerolinecolor\":\"white\",\"gridwidth\":2},\"zaxis\":{\"backgroundcolor\":\"#E5ECF6\",\"gridcolor\":\"white\",\"linecolor\":\"white\",\"showbackground\":true,\"ticks\":\"\",\"zerolinecolor\":\"white\",\"gridwidth\":2}},\"shapedefaults\":{\"line\":{\"color\":\"#2a3f5f\"}},\"annotationdefaults\":{\"arrowcolor\":\"#2a3f5f\",\"arrowhead\":0,\"arrowwidth\":1},\"geo\":{\"bgcolor\":\"white\",\"landcolor\":\"#E5ECF6\",\"subunitcolor\":\"white\",\"showland\":true,\"showlakes\":true,\"lakecolor\":\"white\"},\"title\":{\"x\":0.05},\"mapbox\":{\"style\":\"light\"}}},\"xaxis\":{\"anchor\":\"y\",\"domain\":[0.0,1.0],\"title\":{\"text\":\"Number of Possessions\"}},\"yaxis\":{\"anchor\":\"x\",\"domain\":[0.0,1.0],\"title\":{\"text\":\"Points per Possession (PPP)\"}},\"legend\":{\"tracegroupgap\":0},\"margin\":{\"t\":60},\"title\":{\"text\":\"Frequency and Efficiency of NBA Offensive Possessions by Shot Type (2022-2023)\",\"x\":0.5},\"shapes\":[{\"line\":{\"dash\":\"dash\",\"width\":0.5},\"type\":\"line\",\"x0\":0,\"x1\":1,\"xref\":\"x domain\",\"y0\":1.0194306169357525,\"y1\":1.0194306169357525,\"yref\":\"y\"}]},                        {\"responsive\": true}                    ).then(function(){\n",
       "                            \n",
       "var gd = document.getElementById('e4a5dfcc-06de-4229-9fd6-eb2dc9dd1b4b');\n",
       "var x = new MutationObserver(function (mutations, observer) {{\n",
       "        var display = window.getComputedStyle(gd).display;\n",
       "        if (!display || display === 'none') {{\n",
       "            console.log([gd, 'removed!']);\n",
       "            Plotly.purge(gd);\n",
       "            observer.disconnect();\n",
       "        }}\n",
       "}});\n",
       "\n",
       "// Listen for the removal of the full notebook cells\n",
       "var notebookContainer = gd.closest('#notebook-container');\n",
       "if (notebookContainer) {{\n",
       "    x.observe(notebookContainer, {childList: true});\n",
       "}}\n",
       "\n",
       "// Listen for the clearing of the current output cell\n",
       "var outputEl = gd.closest('.output');\n",
       "if (outputEl) {{\n",
       "    x.observe(outputEl, {childList: true});\n",
       "}}\n",
       "\n",
       "                        })                };                });            </script>        </div>"
      ]
     },
     "metadata": {},
     "output_type": "display_data"
    }
   ],
   "source": [
    "import plotly.express as px\n",
    "fig = px.scatter(df_play_type_PPP, x='POSS', y='PPP', text='PLAY_TYPE')\n",
    "fig.update_layout(title_text='Frequency and Efficiency of NBA Offensive Possessions by Shot Type (2022-2023)', title_x=0.5)\n",
    "fig.update_traces(textposition='bottom center')\n",
    "fig.add_hline(y=league_average_ppp, line_dash='dash', line_width = 0.5)\n",
    "fig.update_xaxes(title_text='Number of Possessions')\n",
    "fig.update_yaxes(title_text='Points per Possession (PPP)')\n",
    "fig.show()"
   ]
  },
  {
   "cell_type": "markdown",
   "metadata": {},
   "source": [
    "First, let's start by taking a look at efficiency as measured by PPP.\n",
    "\n",
    "* Cutting to the basket is by far the most efficient type of possession at 1.31 PPP.\n",
    "* Misc possessions are extremely inefficient at 0.54 PPP.\n",
    "* The rest of the shot types are more tightly clustered between 0.8PPP and 1.2PPP\n",
    "\n",
    "Next, let's look at the number of possessions utilized for each shot type.\n",
    "* Spotting up is by far the most common type of possession, with over 43k occurrences in the '22 season.\n",
    "* Transition and Pick and Roll Ball Handler possessions are also quite frequent at around 31k occurrences.\n",
    "* All other possession types occur significantly less frequently, clustered between 6k and 12k occurrences.\n",
    "\n",
    "A major trend in modern NBA offense has been the rise of faster paced play relying on weaker transition defenses. The data here supports this trend, showing both the high frequency and efficiency of these types of possessions."
   ]
  },
  {
   "cell_type": "markdown",
   "metadata": {},
   "source": [
    "Now that we have taken a look at offensive possessions by shot type at the league-level, let's move on to analyzing shot possessions at the team level."
   ]
  },
  {
   "cell_type": "code",
   "execution_count": 155,
   "metadata": {},
   "outputs": [
    {
     "data": {
      "text/html": [
       "<div>\n",
       "<style scoped>\n",
       "    .dataframe tbody tr th:only-of-type {\n",
       "        vertical-align: middle;\n",
       "    }\n",
       "\n",
       "    .dataframe tbody tr th {\n",
       "        vertical-align: top;\n",
       "    }\n",
       "\n",
       "    .dataframe thead th {\n",
       "        text-align: right;\n",
       "    }\n",
       "</style>\n",
       "<table border=\"1\" class=\"dataframe\">\n",
       "  <thead>\n",
       "    <tr style=\"text-align: right;\">\n",
       "      <th></th>\n",
       "      <th>TEAM_NAME</th>\n",
       "      <th>PLAY_TYPE</th>\n",
       "      <th>PPP</th>\n",
       "      <th>POSS</th>\n",
       "    </tr>\n",
       "  </thead>\n",
       "  <tbody>\n",
       "    <tr>\n",
       "      <th>0</th>\n",
       "      <td>Atlanta Hawks</td>\n",
       "      <td>Cut</td>\n",
       "      <td>1.388962</td>\n",
       "      <td>342</td>\n",
       "    </tr>\n",
       "    <tr>\n",
       "      <th>1</th>\n",
       "      <td>Atlanta Hawks</td>\n",
       "      <td>Handoff</td>\n",
       "      <td>1.019487</td>\n",
       "      <td>154</td>\n",
       "    </tr>\n",
       "    <tr>\n",
       "      <th>2</th>\n",
       "      <td>Atlanta Hawks</td>\n",
       "      <td>Isolation</td>\n",
       "      <td>0.977146</td>\n",
       "      <td>481</td>\n",
       "    </tr>\n",
       "    <tr>\n",
       "      <th>3</th>\n",
       "      <td>Atlanta Hawks</td>\n",
       "      <td>Misc</td>\n",
       "      <td>0.613968</td>\n",
       "      <td>285</td>\n",
       "    </tr>\n",
       "    <tr>\n",
       "      <th>4</th>\n",
       "      <td>Atlanta Hawks</td>\n",
       "      <td>OffRebound</td>\n",
       "      <td>1.114693</td>\n",
       "      <td>322</td>\n",
       "    </tr>\n",
       "    <tr>\n",
       "      <th>...</th>\n",
       "      <td>...</td>\n",
       "      <td>...</td>\n",
       "      <td>...</td>\n",
       "      <td>...</td>\n",
       "    </tr>\n",
       "    <tr>\n",
       "      <th>325</th>\n",
       "      <td>Washington Wizards</td>\n",
       "      <td>PRBallHandler</td>\n",
       "      <td>0.897693</td>\n",
       "      <td>919</td>\n",
       "    </tr>\n",
       "    <tr>\n",
       "      <th>326</th>\n",
       "      <td>Washington Wizards</td>\n",
       "      <td>PRRollMan</td>\n",
       "      <td>1.197404</td>\n",
       "      <td>324</td>\n",
       "    </tr>\n",
       "    <tr>\n",
       "      <th>327</th>\n",
       "      <td>Washington Wizards</td>\n",
       "      <td>Postup</td>\n",
       "      <td>0.996683</td>\n",
       "      <td>293</td>\n",
       "    </tr>\n",
       "    <tr>\n",
       "      <th>328</th>\n",
       "      <td>Washington Wizards</td>\n",
       "      <td>Spotup</td>\n",
       "      <td>1.035888</td>\n",
       "      <td>1423</td>\n",
       "    </tr>\n",
       "    <tr>\n",
       "      <th>329</th>\n",
       "      <td>Washington Wizards</td>\n",
       "      <td>Transition</td>\n",
       "      <td>1.133520</td>\n",
       "      <td>898</td>\n",
       "    </tr>\n",
       "  </tbody>\n",
       "</table>\n",
       "<p>330 rows × 4 columns</p>\n",
       "</div>"
      ],
      "text/plain": [
       "              TEAM_NAME      PLAY_TYPE       PPP  POSS\n",
       "0         Atlanta Hawks            Cut  1.388962   342\n",
       "1         Atlanta Hawks        Handoff  1.019487   154\n",
       "2         Atlanta Hawks      Isolation  0.977146   481\n",
       "3         Atlanta Hawks           Misc  0.613968   285\n",
       "4         Atlanta Hawks     OffRebound  1.114693   322\n",
       "..                  ...            ...       ...   ...\n",
       "325  Washington Wizards  PRBallHandler  0.897693   919\n",
       "326  Washington Wizards      PRRollMan  1.197404   324\n",
       "327  Washington Wizards         Postup  0.996683   293\n",
       "328  Washington Wizards         Spotup  1.035888  1423\n",
       "329  Washington Wizards     Transition  1.133520   898\n",
       "\n",
       "[330 rows x 4 columns]"
      ]
     },
     "execution_count": 155,
     "metadata": {},
     "output_type": "execute_result"
    }
   ],
   "source": [
    "# create new dataframe for this analysis\n",
    "df_team = df.sort_values('PLAY_TYPE')\n",
    "\n",
    "# group data by team and play type, then calculate PPP with weighted average\n",
    "df_team_PPP = df_team.groupby(['TEAM_NAME','PLAY_TYPE']).apply(lambda x: np.average(x['PPP'], weights=x['POSS'])).reset_index(name='PPP')\n",
    "\n",
    "# calculate sum of possessions\n",
    "df_team_possessions = df_team.groupby(['TEAM_NAME','PLAY_TYPE'])['POSS'].sum().reset_index()\n",
    "\n",
    "df_team = pd.merge(df_team_PPP,df_team_possessions)\n",
    "df_team.sort_values(['TEAM_NAME','PLAY_TYPE'])"
   ]
  },
  {
   "cell_type": "code",
   "execution_count": 166,
   "metadata": {},
   "outputs": [
    {
     "data": {
      "application/vnd.plotly.v1+json": {
       "config": {
        "plotlyServerURL": "https://plot.ly"
       },
       "data": [
        {
         "hovertemplate": "PLAY_TYPE=Cut<br>POSS=%{x}<br>PPP=%{y}<extra></extra>",
         "legendgroup": "",
         "marker": {
          "color": "#636efa",
          "symbol": "circle"
         },
         "mode": "markers",
         "name": "",
         "orientation": "v",
         "showlegend": false,
         "type": "scatter",
         "x": [
          342,
          301,
          445,
          423,
          303,
          534,
          227,
          554,
          330,
          623,
          413,
          365,
          249,
          385,
          436,
          457,
          294,
          375,
          473,
          373,
          468,
          353,
          277,
          390,
          417,
          498,
          466,
          447,
          455,
          409
         ],
         "xaxis": "x10",
         "y": [
          1.3889619883040936,
          1.3654617940199336,
          1.2721528089887641,
          1.2906950354609927,
          1.3465577557755777,
          1.3855898876404495,
          1.3921762114537446,
          1.3825324909747292,
          1.2818666666666665,
          1.319505617977528,
          1.1404866828087168,
          1.3094657534246574,
          1.2891084337349397,
          1.4155090909090908,
          1.3348233944954127,
          1.2627199124726476,
          1.204091836734694,
          1.3414000000000001,
          1.3044186046511628,
          1.3538042895442362,
          1.2458418803418803,
          1.3485014164305948,
          1.2274187725631769,
          1.2105000000000001,
          1.3070143884892085,
          1.375240963855422,
          1.2402961373390557,
          1.255040268456376,
          1.2571824175824173,
          1.325281173594132
         ],
         "yaxis": "y10"
        },
        {
         "hovertemplate": "PLAY_TYPE=Handoff<br>POSS=%{x}<br>PPP=%{y}<extra></extra>",
         "legendgroup": "",
         "marker": {
          "color": "#636efa",
          "symbol": "circle"
         },
         "mode": "markers",
         "name": "",
         "orientation": "v",
         "showlegend": false,
         "type": "scatter",
         "x": [
          154,
          202,
          307,
          338,
          110,
          221,
          118,
          324,
          169,
          433,
          313,
          325,
          187,
          137,
          292,
          388,
          327,
          221,
          329,
          325,
          154,
          341,
          139,
          286,
          302,
          560,
          502,
          210,
          337,
          247
         ],
         "xaxis": "x11",
         "y": [
          1.019487012987013,
          1.0643762376237622,
          0.9902019543973942,
          1.0885236686390531,
          0.9090545454545454,
          0.9278778280542985,
          0.8730677966101695,
          0.879564814814815,
          0.8166272189349113,
          1.0208221709006928,
          0.9391693290734824,
          0.9936953846153846,
          0.8716363636363635,
          0.9779854014598539,
          0.9623116438356164,
          0.850590206185567,
          0.8592782874617736,
          0.9094434389140271,
          0.9818449848024315,
          0.9816861538461537,
          1.0260974025974023,
          0.8593782991202348,
          1.0142949640287768,
          0.8566083916083916,
          1.0828708609271522,
          1.0948607142857145,
          0.902378486055777,
          1.0190619047619047,
          0.9972789317507418,
          0.903
         ],
         "yaxis": "y11"
        },
        {
         "hovertemplate": "PLAY_TYPE=Isolation<br>POSS=%{x}<br>PPP=%{y}<extra></extra>",
         "legendgroup": "",
         "marker": {
          "color": "#636efa",
          "symbol": "circle"
         },
         "mode": "markers",
         "name": "",
         "orientation": "v",
         "showlegend": false,
         "type": "scatter",
         "x": [
          481,
          484,
          565,
          257,
          341,
          343,
          739,
          312,
          425,
          219,
          390,
          243,
          542,
          563,
          246,
          401,
          371,
          444,
          320,
          555,
          473,
          368,
          645,
          235,
          515,
          248,
          149,
          495,
          364,
          332
         ],
         "xaxis": "x12",
         "y": [
          0.9771455301455302,
          0.9463202479338844,
          1.1010991150442477,
          0.8795252918287938,
          1.0788651026392961,
          0.9390058309037901,
          1.0391569688768607,
          0.9455096153846153,
          0.8517952941176471,
          0.8950547945205479,
          0.941276923076923,
          0.9093045267489711,
          0.8763228782287823,
          0.8649200710479573,
          0.8456219512195122,
          0.9425935162094764,
          0.8383827493261456,
          0.9460518018018018,
          0.9469218749999999,
          0.9859333333333333,
          0.9872029598308668,
          0.8316277173913044,
          1.004568992248062,
          0.8296936170212766,
          1.0429145631067964,
          1.0239798387096775,
          0.758503355704698,
          0.8567313131313131,
          1.0714532967032968,
          0.8976807228915662
         ],
         "yaxis": "y12"
        },
        {
         "hovertemplate": "PLAY_TYPE=Misc<br>POSS=%{x}<br>PPP=%{y}<extra></extra>",
         "legendgroup": "",
         "marker": {
          "color": "#636efa",
          "symbol": "circle"
         },
         "mode": "markers",
         "name": "",
         "orientation": "v",
         "showlegend": false,
         "type": "scatter",
         "x": [
          285,
          302,
          336,
          326,
          282,
          296,
          321,
          381,
          401,
          412,
          367,
          366,
          352,
          308,
          362,
          332,
          359,
          356,
          356,
          312,
          263,
          362,
          321,
          394,
          395,
          307,
          373,
          293,
          391,
          358
         ],
         "xaxis": "x7",
         "y": [
          0.6139684210526316,
          0.5860596026490067,
          0.6042500000000001,
          0.5121840490797546,
          0.5107269503546098,
          0.5539932432432433,
          0.5701869158878504,
          0.44608398950131234,
          0.5634513715710723,
          0.42948786407767,
          0.5393487738419618,
          0.5520792349726775,
          0.536877840909091,
          0.6105097402597401,
          0.5165662983425415,
          0.6025030120481928,
          0.5405125348189415,
          0.5057247191011236,
          0.47191853932584266,
          0.621849358974359,
          0.5171140684410646,
          0.5609033149171271,
          0.47035825545171345,
          0.5176827411167513,
          0.5417873417721519,
          0.6971661237785015,
          0.37804557640750674,
          0.6347440273037541,
          0.5676726342710998,
          0.6115614525139664
         ],
         "yaxis": "y7"
        },
        {
         "hovertemplate": "PLAY_TYPE=OffRebound<br>POSS=%{x}<br>PPP=%{y}<extra></extra>",
         "legendgroup": "",
         "marker": {
          "color": "#636efa",
          "symbol": "circle"
         },
         "mode": "markers",
         "name": "",
         "orientation": "v",
         "showlegend": false,
         "type": "scatter",
         "x": [
          322,
          235,
          186,
          427,
          268,
          254,
          137,
          320,
          320,
          287,
          384,
          257,
          272,
          274,
          402,
          263,
          293,
          270,
          397,
          392,
          315,
          326,
          201,
          356,
          230,
          211,
          361,
          427,
          373,
          284
         ],
         "xaxis": "x8",
         "y": [
          1.114692546583851,
          1.2212893617021277,
          1.2473010752688172,
          1.1568266978922717,
          1.1567313432835822,
          1.1377086614173229,
          1.248343065693431,
          1.17194375,
          1.1624406250000001,
          1.0138362369337979,
          1.078125,
          1.105194552529183,
          0.9630330882352941,
          1.2519051094890508,
          1.0896417910447762,
          1.1142205323193917,
          1.2149590443686007,
          1.1444222222222222,
          1.2015163727959697,
          1.1276658163265305,
          0.9778666666666666,
          1.2239325153374234,
          1.1790995024875621,
          1.1205898876404494,
          1.1567782608695651,
          1.1896777251184834,
          1.2355872576177287,
          1.131096018735363,
          1.1770670241286862,
          1.2853978873239436
         ],
         "yaxis": "y8"
        },
        {
         "hovertemplate": "PLAY_TYPE=OffScreen<br>POSS=%{x}<br>PPP=%{y}<extra></extra>",
         "legendgroup": "",
         "marker": {
          "color": "#636efa",
          "symbol": "circle"
         },
         "mode": "markers",
         "name": "",
         "orientation": "v",
         "showlegend": false,
         "type": "scatter",
         "x": [
          280,
          343,
          229,
          260,
          135,
          192,
          158,
          223,
          246,
          596,
          103,
          205,
          276,
          124,
          204,
          228,
          124,
          250,
          227,
          118,
          80,
          138,
          101,
          223,
          244,
          185,
          178,
          182,
          437,
          219
         ],
         "xaxis": "x9",
         "y": [
          0.8712750000000001,
          1.0145014577259475,
          1.0216768558951965,
          0.8421653846153847,
          0.8221481481481482,
          1.005421875,
          1.0694810126582277,
          0.9281165919282511,
          1.065162601626016,
          1.015253355704698,
          0.7475922330097087,
          0.9022341463414633,
          0.9528804347826088,
          0.8953387096774194,
          0.9312009803921569,
          0.8685219298245613,
          0.7983467741935484,
          0.867928,
          0.9560440528634361,
          0.8730084745762712,
          1.0875,
          1.0432826086956524,
          0.7027128712871288,
          0.9999103139013451,
          1.0898319672131147,
          0.8975189189189189,
          0.9773258426966293,
          0.9011978021978023,
          1.0203867276887872,
          0.9224292237442921
         ],
         "yaxis": "y9"
        },
        {
         "hovertemplate": "PLAY_TYPE=PRBallHandler<br>POSS=%{x}<br>PPP=%{y}<extra></extra>",
         "legendgroup": "",
         "marker": {
          "color": "#636efa",
          "symbol": "circle"
         },
         "mode": "markers",
         "name": "",
         "orientation": "v",
         "showlegend": false,
         "type": "scatter",
         "x": [
          1353,
          983,
          743,
          1204,
          1270,
          1187,
          884,
          774,
          1328,
          836,
          1202,
          1105,
          1141,
          1044,
          1216,
          1073,
          900,
          1027,
          980,
          1158,
          1158,
          1138,
          849,
          1130,
          1035,
          799,
          1080,
          976,
          1022,
          919
         ],
         "xaxis": "x4",
         "y": [
          0.915279379157428,
          0.9308301119023398,
          0.9919030955585463,
          0.7698953488372093,
          0.9526590551181102,
          0.9781718618365627,
          1.0213823529411763,
          0.8902984496124031,
          0.8478704819277109,
          0.9580586124401914,
          0.8134559068219634,
          0.8906262443438915,
          0.942957055214724,
          0.8697289272030652,
          0.8675370065789475,
          0.9393578751164958,
          0.9211222222222222,
          0.9182619279454723,
          0.8786153061224491,
          0.913490500863558,
          0.9083445595854923,
          0.926866432337434,
          0.9009387514723203,
          0.8715008849557522,
          1.0106434782608695,
          0.9384380475594495,
          0.8472916666666667,
          0.8781926229508197,
          0.9031174168297456,
          0.8976931447225245
         ],
         "yaxis": "y4"
        },
        {
         "hovertemplate": "PLAY_TYPE=PRRollMan<br>POSS=%{x}<br>PPP=%{y}<extra></extra>",
         "legendgroup": "",
         "marker": {
          "color": "#636efa",
          "symbol": "circle"
         },
         "mode": "markers",
         "name": "",
         "orientation": "v",
         "showlegend": false,
         "type": "scatter",
         "x": [
          329,
          256,
          214,
          336,
          440,
          433,
          346,
          291,
          287,
          186,
          374,
          395,
          224,
          397,
          235,
          387,
          359,
          262,
          283,
          189,
          269,
          328,
          451,
          408,
          206,
          200,
          257,
          277,
          291,
          324
         ],
         "xaxis": "x5",
         "y": [
          1.2765440729483282,
          1.1526093750000002,
          1.088859813084112,
          1.2143482142857143,
          1.109015909090909,
          1.1133464203233256,
          1.3381589595375722,
          1.374429553264605,
          1.19504181184669,
          1.1881290322580647,
          1.1097807486631015,
          1.070873417721519,
          1.1829151785714287,
          1.3402015113350128,
          1.2980340425531915,
          1.0596382428940572,
          1.1562395543175488,
          1.2022671755725192,
          1.1272120141342756,
          1.2324497354497355,
          1.0705947955390334,
          1.1523597560975607,
          1.2060243902439023,
          1.156752450980392,
          1.1408058252427185,
          1.16523,
          1.1010155642023347,
          1.097350180505415,
          1.216298969072165,
          1.1974043209876544
         ],
         "yaxis": "y5"
        },
        {
         "hovertemplate": "PLAY_TYPE=Postup<br>POSS=%{x}<br>PPP=%{y}<extra></extra>",
         "legendgroup": "",
         "marker": {
          "color": "#636efa",
          "symbol": "circle"
         },
         "mode": "markers",
         "name": "",
         "orientation": "v",
         "showlegend": false,
         "type": "scatter",
         "x": [
          186,
          162,
          151,
          162,
          313,
          193,
          304,
          478,
          214,
          119,
          205,
          130,
          284,
          319,
          167,
          212,
          449,
          148,
          379,
          225,
          75,
          190,
          329,
          385,
          284,
          189,
          257,
          306,
          130,
          293
         ],
         "xaxis": "x6",
         "y": [
          1.0108602150537633,
          1.0680123456790123,
          0.9669205298013245,
          0.969141975308642,
          1.1275367412140576,
          0.777181347150259,
          1.049203947368421,
          1.0896380753138075,
          0.8833317757009347,
          0.7981512605042016,
          0.9559024390243901,
          0.9768923076923076,
          0.9896197183098592,
          0.993921630094044,
          0.934005988023952,
          0.9055707547169811,
          0.975325167037862,
          1.0068513513513515,
          0.9394696569920844,
          0.8177111111111112,
          1.1468666666666667,
          0.9104736842105263,
          1.121519756838906,
          1.0103194805194806,
          0.9189718309859155,
          1.0105555555555557,
          0.9494591439688717,
          0.9118333333333334,
          0.8766846153846153,
          0.9966825938566554
         ],
         "yaxis": "y6"
        },
        {
         "hovertemplate": "PLAY_TYPE=Spotup<br>POSS=%{x}<br>PPP=%{y}<extra></extra>",
         "legendgroup": "",
         "marker": {
          "color": "#636efa",
          "symbol": "circle"
         },
         "mode": "markers",
         "name": "",
         "orientation": "v",
         "showlegend": false,
         "type": "scatter",
         "x": [
          1352,
          1648,
          1325,
          1526,
          1422,
          1335,
          1531,
          1173,
          1465,
          1279,
          1417,
          1511,
          1499,
          1318,
          1367,
          1271,
          1449,
          1557,
          1438,
          1616,
          1644,
          1366,
          1378,
          1653,
          1310,
          1375,
          1543,
          1394,
          1436,
          1423
         ],
         "xaxis": "x",
         "y": [
          0.988096153846154,
          1.1153974514563108,
          1.1260581132075471,
          0.9443414154652688,
          1.059148382559775,
          1.0134876404494382,
          1.0823919007184848,
          1.074058823529412,
          1.01500614334471,
          1.0905582486317438,
          1.0000119971771348,
          0.9913143613500992,
          1.128987991994663,
          1.0295819423368742,
          0.9949722019019751,
          1.0108560188827695,
          1.0483485162180817,
          1.053916506101477,
          1.0270695410292072,
          1.009233292079208,
          1.0201940389294404,
          1.0006749633967789,
          1.1329731494920174,
          1.0526709013914095,
          1.0672854961832061,
          1.0692021818181816,
          0.9947368762151652,
          0.9863034433285509,
          1.0454240947075208,
          1.035888264230499
         ],
         "yaxis": "y"
        },
        {
         "hovertemplate": "PLAY_TYPE=Transition<br>POSS=%{x}<br>PPP=%{y}<extra></extra>",
         "legendgroup": "",
         "marker": {
          "color": "#636efa",
          "symbol": "circle"
         },
         "mode": "markers",
         "name": "",
         "orientation": "v",
         "showlegend": false,
         "type": "scatter",
         "x": [
          965,
          1037,
          1047,
          1139,
          998,
          940,
          794,
          1038,
          1055,
          1033,
          837,
          1246,
          1039,
          1207,
          1246,
          891,
          1073,
          1132,
          1042,
          973,
          1220,
          1007,
          884,
          861,
          836,
          1214,
          1009,
          1204,
          978,
          898
         ],
         "xaxis": "x2",
         "y": [
          1.1721730569948186,
          1.1774513018322084,
          1.1577803247373446,
          1.097476733977173,
          1.113250501002004,
          1.1818340425531915,
          1.0969521410579344,
          1.2456233140655104,
          1.116719431279621,
          1.137385285575992,
          1.0262724014336917,
          1.1725963081861956,
          1.1281222329162655,
          1.104229494614747,
          1.119710272873194,
          1.144753086419753,
          1.0902702702702702,
          1.1536537102473499,
          1.1314913627639156,
          1.1183103802672145,
          1.1533950819672132,
          1.1042393247269118,
          1.20910407239819,
          1.1034006968641115,
          1.1676722488038278,
          1.080785831960461,
          1.1177888999008918,
          1.1245855481727574,
          1.162528629856851,
          1.13352004454343
         ],
         "yaxis": "y2"
        }
       ],
       "layout": {
        "annotations": [
         {
          "font": {},
          "showarrow": false,
          "text": "PLAY_TYPE=Spotup",
          "x": 0.15999999999999998,
          "xanchor": "center",
          "xref": "paper",
          "y": 0.1975,
          "yanchor": "bottom",
          "yref": "paper"
         },
         {
          "font": {},
          "showarrow": false,
          "text": "PLAY_TYPE=Transition",
          "x": 0.49999999999999994,
          "xanchor": "center",
          "xref": "paper",
          "y": 0.1975,
          "yanchor": "bottom",
          "yref": "paper"
         },
         {
          "font": {},
          "showarrow": false,
          "text": "PLAY_TYPE=PRBallHandler",
          "x": 0.15999999999999998,
          "xanchor": "center",
          "xref": "paper",
          "y": 0.465,
          "yanchor": "bottom",
          "yref": "paper"
         },
         {
          "font": {},
          "showarrow": false,
          "text": "PLAY_TYPE=PRRollMan",
          "x": 0.49999999999999994,
          "xanchor": "center",
          "xref": "paper",
          "y": 0.465,
          "yanchor": "bottom",
          "yref": "paper"
         },
         {
          "font": {},
          "showarrow": false,
          "text": "PLAY_TYPE=Postup",
          "x": 0.8399999999999999,
          "xanchor": "center",
          "xref": "paper",
          "y": 0.465,
          "yanchor": "bottom",
          "yref": "paper"
         },
         {
          "font": {},
          "showarrow": false,
          "text": "PLAY_TYPE=Misc",
          "x": 0.15999999999999998,
          "xanchor": "center",
          "xref": "paper",
          "y": 0.7325,
          "yanchor": "bottom",
          "yref": "paper"
         },
         {
          "font": {},
          "showarrow": false,
          "text": "PLAY_TYPE=OffRebound",
          "x": 0.49999999999999994,
          "xanchor": "center",
          "xref": "paper",
          "y": 0.7325,
          "yanchor": "bottom",
          "yref": "paper"
         },
         {
          "font": {},
          "showarrow": false,
          "text": "PLAY_TYPE=OffScreen",
          "x": 0.8399999999999999,
          "xanchor": "center",
          "xref": "paper",
          "y": 0.7325,
          "yanchor": "bottom",
          "yref": "paper"
         },
         {
          "font": {},
          "showarrow": false,
          "text": "PLAY_TYPE=Cut",
          "x": 0.15999999999999998,
          "xanchor": "center",
          "xref": "paper",
          "y": 1,
          "yanchor": "bottom",
          "yref": "paper"
         },
         {
          "font": {},
          "showarrow": false,
          "text": "PLAY_TYPE=Handoff",
          "x": 0.49999999999999994,
          "xanchor": "center",
          "xref": "paper",
          "y": 1,
          "yanchor": "bottom",
          "yref": "paper"
         },
         {
          "font": {},
          "showarrow": false,
          "text": "PLAY_TYPE=Isolation",
          "x": 0.8399999999999999,
          "xanchor": "center",
          "xref": "paper",
          "y": 1,
          "yanchor": "bottom",
          "yref": "paper"
         }
        ],
        "legend": {
         "tracegroupgap": 0
        },
        "margin": {
         "t": 60
        },
        "template": {
         "data": {
          "bar": [
           {
            "error_x": {
             "color": "#2a3f5f"
            },
            "error_y": {
             "color": "#2a3f5f"
            },
            "marker": {
             "line": {
              "color": "#E5ECF6",
              "width": 0.5
             },
             "pattern": {
              "fillmode": "overlay",
              "size": 10,
              "solidity": 0.2
             }
            },
            "type": "bar"
           }
          ],
          "barpolar": [
           {
            "marker": {
             "line": {
              "color": "#E5ECF6",
              "width": 0.5
             },
             "pattern": {
              "fillmode": "overlay",
              "size": 10,
              "solidity": 0.2
             }
            },
            "type": "barpolar"
           }
          ],
          "carpet": [
           {
            "aaxis": {
             "endlinecolor": "#2a3f5f",
             "gridcolor": "white",
             "linecolor": "white",
             "minorgridcolor": "white",
             "startlinecolor": "#2a3f5f"
            },
            "baxis": {
             "endlinecolor": "#2a3f5f",
             "gridcolor": "white",
             "linecolor": "white",
             "minorgridcolor": "white",
             "startlinecolor": "#2a3f5f"
            },
            "type": "carpet"
           }
          ],
          "choropleth": [
           {
            "colorbar": {
             "outlinewidth": 0,
             "ticks": ""
            },
            "type": "choropleth"
           }
          ],
          "contour": [
           {
            "colorbar": {
             "outlinewidth": 0,
             "ticks": ""
            },
            "colorscale": [
             [
              0,
              "#0d0887"
             ],
             [
              0.1111111111111111,
              "#46039f"
             ],
             [
              0.2222222222222222,
              "#7201a8"
             ],
             [
              0.3333333333333333,
              "#9c179e"
             ],
             [
              0.4444444444444444,
              "#bd3786"
             ],
             [
              0.5555555555555556,
              "#d8576b"
             ],
             [
              0.6666666666666666,
              "#ed7953"
             ],
             [
              0.7777777777777778,
              "#fb9f3a"
             ],
             [
              0.8888888888888888,
              "#fdca26"
             ],
             [
              1,
              "#f0f921"
             ]
            ],
            "type": "contour"
           }
          ],
          "contourcarpet": [
           {
            "colorbar": {
             "outlinewidth": 0,
             "ticks": ""
            },
            "type": "contourcarpet"
           }
          ],
          "heatmap": [
           {
            "colorbar": {
             "outlinewidth": 0,
             "ticks": ""
            },
            "colorscale": [
             [
              0,
              "#0d0887"
             ],
             [
              0.1111111111111111,
              "#46039f"
             ],
             [
              0.2222222222222222,
              "#7201a8"
             ],
             [
              0.3333333333333333,
              "#9c179e"
             ],
             [
              0.4444444444444444,
              "#bd3786"
             ],
             [
              0.5555555555555556,
              "#d8576b"
             ],
             [
              0.6666666666666666,
              "#ed7953"
             ],
             [
              0.7777777777777778,
              "#fb9f3a"
             ],
             [
              0.8888888888888888,
              "#fdca26"
             ],
             [
              1,
              "#f0f921"
             ]
            ],
            "type": "heatmap"
           }
          ],
          "heatmapgl": [
           {
            "colorbar": {
             "outlinewidth": 0,
             "ticks": ""
            },
            "colorscale": [
             [
              0,
              "#0d0887"
             ],
             [
              0.1111111111111111,
              "#46039f"
             ],
             [
              0.2222222222222222,
              "#7201a8"
             ],
             [
              0.3333333333333333,
              "#9c179e"
             ],
             [
              0.4444444444444444,
              "#bd3786"
             ],
             [
              0.5555555555555556,
              "#d8576b"
             ],
             [
              0.6666666666666666,
              "#ed7953"
             ],
             [
              0.7777777777777778,
              "#fb9f3a"
             ],
             [
              0.8888888888888888,
              "#fdca26"
             ],
             [
              1,
              "#f0f921"
             ]
            ],
            "type": "heatmapgl"
           }
          ],
          "histogram": [
           {
            "marker": {
             "pattern": {
              "fillmode": "overlay",
              "size": 10,
              "solidity": 0.2
             }
            },
            "type": "histogram"
           }
          ],
          "histogram2d": [
           {
            "colorbar": {
             "outlinewidth": 0,
             "ticks": ""
            },
            "colorscale": [
             [
              0,
              "#0d0887"
             ],
             [
              0.1111111111111111,
              "#46039f"
             ],
             [
              0.2222222222222222,
              "#7201a8"
             ],
             [
              0.3333333333333333,
              "#9c179e"
             ],
             [
              0.4444444444444444,
              "#bd3786"
             ],
             [
              0.5555555555555556,
              "#d8576b"
             ],
             [
              0.6666666666666666,
              "#ed7953"
             ],
             [
              0.7777777777777778,
              "#fb9f3a"
             ],
             [
              0.8888888888888888,
              "#fdca26"
             ],
             [
              1,
              "#f0f921"
             ]
            ],
            "type": "histogram2d"
           }
          ],
          "histogram2dcontour": [
           {
            "colorbar": {
             "outlinewidth": 0,
             "ticks": ""
            },
            "colorscale": [
             [
              0,
              "#0d0887"
             ],
             [
              0.1111111111111111,
              "#46039f"
             ],
             [
              0.2222222222222222,
              "#7201a8"
             ],
             [
              0.3333333333333333,
              "#9c179e"
             ],
             [
              0.4444444444444444,
              "#bd3786"
             ],
             [
              0.5555555555555556,
              "#d8576b"
             ],
             [
              0.6666666666666666,
              "#ed7953"
             ],
             [
              0.7777777777777778,
              "#fb9f3a"
             ],
             [
              0.8888888888888888,
              "#fdca26"
             ],
             [
              1,
              "#f0f921"
             ]
            ],
            "type": "histogram2dcontour"
           }
          ],
          "mesh3d": [
           {
            "colorbar": {
             "outlinewidth": 0,
             "ticks": ""
            },
            "type": "mesh3d"
           }
          ],
          "parcoords": [
           {
            "line": {
             "colorbar": {
              "outlinewidth": 0,
              "ticks": ""
             }
            },
            "type": "parcoords"
           }
          ],
          "pie": [
           {
            "automargin": true,
            "type": "pie"
           }
          ],
          "scatter": [
           {
            "fillpattern": {
             "fillmode": "overlay",
             "size": 10,
             "solidity": 0.2
            },
            "type": "scatter"
           }
          ],
          "scatter3d": [
           {
            "line": {
             "colorbar": {
              "outlinewidth": 0,
              "ticks": ""
             }
            },
            "marker": {
             "colorbar": {
              "outlinewidth": 0,
              "ticks": ""
             }
            },
            "type": "scatter3d"
           }
          ],
          "scattercarpet": [
           {
            "marker": {
             "colorbar": {
              "outlinewidth": 0,
              "ticks": ""
             }
            },
            "type": "scattercarpet"
           }
          ],
          "scattergeo": [
           {
            "marker": {
             "colorbar": {
              "outlinewidth": 0,
              "ticks": ""
             }
            },
            "type": "scattergeo"
           }
          ],
          "scattergl": [
           {
            "marker": {
             "colorbar": {
              "outlinewidth": 0,
              "ticks": ""
             }
            },
            "type": "scattergl"
           }
          ],
          "scattermapbox": [
           {
            "marker": {
             "colorbar": {
              "outlinewidth": 0,
              "ticks": ""
             }
            },
            "type": "scattermapbox"
           }
          ],
          "scatterpolar": [
           {
            "marker": {
             "colorbar": {
              "outlinewidth": 0,
              "ticks": ""
             }
            },
            "type": "scatterpolar"
           }
          ],
          "scatterpolargl": [
           {
            "marker": {
             "colorbar": {
              "outlinewidth": 0,
              "ticks": ""
             }
            },
            "type": "scatterpolargl"
           }
          ],
          "scatterternary": [
           {
            "marker": {
             "colorbar": {
              "outlinewidth": 0,
              "ticks": ""
             }
            },
            "type": "scatterternary"
           }
          ],
          "surface": [
           {
            "colorbar": {
             "outlinewidth": 0,
             "ticks": ""
            },
            "colorscale": [
             [
              0,
              "#0d0887"
             ],
             [
              0.1111111111111111,
              "#46039f"
             ],
             [
              0.2222222222222222,
              "#7201a8"
             ],
             [
              0.3333333333333333,
              "#9c179e"
             ],
             [
              0.4444444444444444,
              "#bd3786"
             ],
             [
              0.5555555555555556,
              "#d8576b"
             ],
             [
              0.6666666666666666,
              "#ed7953"
             ],
             [
              0.7777777777777778,
              "#fb9f3a"
             ],
             [
              0.8888888888888888,
              "#fdca26"
             ],
             [
              1,
              "#f0f921"
             ]
            ],
            "type": "surface"
           }
          ],
          "table": [
           {
            "cells": {
             "fill": {
              "color": "#EBF0F8"
             },
             "line": {
              "color": "white"
             }
            },
            "header": {
             "fill": {
              "color": "#C8D4E3"
             },
             "line": {
              "color": "white"
             }
            },
            "type": "table"
           }
          ]
         },
         "layout": {
          "annotationdefaults": {
           "arrowcolor": "#2a3f5f",
           "arrowhead": 0,
           "arrowwidth": 1
          },
          "autotypenumbers": "strict",
          "coloraxis": {
           "colorbar": {
            "outlinewidth": 0,
            "ticks": ""
           }
          },
          "colorscale": {
           "diverging": [
            [
             0,
             "#8e0152"
            ],
            [
             0.1,
             "#c51b7d"
            ],
            [
             0.2,
             "#de77ae"
            ],
            [
             0.3,
             "#f1b6da"
            ],
            [
             0.4,
             "#fde0ef"
            ],
            [
             0.5,
             "#f7f7f7"
            ],
            [
             0.6,
             "#e6f5d0"
            ],
            [
             0.7,
             "#b8e186"
            ],
            [
             0.8,
             "#7fbc41"
            ],
            [
             0.9,
             "#4d9221"
            ],
            [
             1,
             "#276419"
            ]
           ],
           "sequential": [
            [
             0,
             "#0d0887"
            ],
            [
             0.1111111111111111,
             "#46039f"
            ],
            [
             0.2222222222222222,
             "#7201a8"
            ],
            [
             0.3333333333333333,
             "#9c179e"
            ],
            [
             0.4444444444444444,
             "#bd3786"
            ],
            [
             0.5555555555555556,
             "#d8576b"
            ],
            [
             0.6666666666666666,
             "#ed7953"
            ],
            [
             0.7777777777777778,
             "#fb9f3a"
            ],
            [
             0.8888888888888888,
             "#fdca26"
            ],
            [
             1,
             "#f0f921"
            ]
           ],
           "sequentialminus": [
            [
             0,
             "#0d0887"
            ],
            [
             0.1111111111111111,
             "#46039f"
            ],
            [
             0.2222222222222222,
             "#7201a8"
            ],
            [
             0.3333333333333333,
             "#9c179e"
            ],
            [
             0.4444444444444444,
             "#bd3786"
            ],
            [
             0.5555555555555556,
             "#d8576b"
            ],
            [
             0.6666666666666666,
             "#ed7953"
            ],
            [
             0.7777777777777778,
             "#fb9f3a"
            ],
            [
             0.8888888888888888,
             "#fdca26"
            ],
            [
             1,
             "#f0f921"
            ]
           ]
          },
          "colorway": [
           "#636efa",
           "#EF553B",
           "#00cc96",
           "#ab63fa",
           "#FFA15A",
           "#19d3f3",
           "#FF6692",
           "#B6E880",
           "#FF97FF",
           "#FECB52"
          ],
          "font": {
           "color": "#2a3f5f"
          },
          "geo": {
           "bgcolor": "white",
           "lakecolor": "white",
           "landcolor": "#E5ECF6",
           "showlakes": true,
           "showland": true,
           "subunitcolor": "white"
          },
          "hoverlabel": {
           "align": "left"
          },
          "hovermode": "closest",
          "mapbox": {
           "style": "light"
          },
          "paper_bgcolor": "white",
          "plot_bgcolor": "#E5ECF6",
          "polar": {
           "angularaxis": {
            "gridcolor": "white",
            "linecolor": "white",
            "ticks": ""
           },
           "bgcolor": "#E5ECF6",
           "radialaxis": {
            "gridcolor": "white",
            "linecolor": "white",
            "ticks": ""
           }
          },
          "scene": {
           "xaxis": {
            "backgroundcolor": "#E5ECF6",
            "gridcolor": "white",
            "gridwidth": 2,
            "linecolor": "white",
            "showbackground": true,
            "ticks": "",
            "zerolinecolor": "white"
           },
           "yaxis": {
            "backgroundcolor": "#E5ECF6",
            "gridcolor": "white",
            "gridwidth": 2,
            "linecolor": "white",
            "showbackground": true,
            "ticks": "",
            "zerolinecolor": "white"
           },
           "zaxis": {
            "backgroundcolor": "#E5ECF6",
            "gridcolor": "white",
            "gridwidth": 2,
            "linecolor": "white",
            "showbackground": true,
            "ticks": "",
            "zerolinecolor": "white"
           }
          },
          "shapedefaults": {
           "line": {
            "color": "#2a3f5f"
           }
          },
          "ternary": {
           "aaxis": {
            "gridcolor": "white",
            "linecolor": "white",
            "ticks": ""
           },
           "baxis": {
            "gridcolor": "white",
            "linecolor": "white",
            "ticks": ""
           },
           "bgcolor": "#E5ECF6",
           "caxis": {
            "gridcolor": "white",
            "linecolor": "white",
            "ticks": ""
           }
          },
          "title": {
           "x": 0.05
          },
          "xaxis": {
           "automargin": true,
           "gridcolor": "white",
           "linecolor": "white",
           "ticks": "",
           "title": {
            "standoff": 15
           },
           "zerolinecolor": "white",
           "zerolinewidth": 2
          },
          "yaxis": {
           "automargin": true,
           "gridcolor": "white",
           "linecolor": "white",
           "ticks": "",
           "title": {
            "standoff": 15
           },
           "zerolinecolor": "white",
           "zerolinewidth": 2
          }
         }
        },
        "xaxis": {
         "anchor": "y",
         "domain": [
          0,
          0.31999999999999995
         ],
         "title": {
          "text": "POSS"
         }
        },
        "xaxis10": {
         "anchor": "y10",
         "domain": [
          0,
          0.31999999999999995
         ],
         "matches": "x",
         "showticklabels": false
        },
        "xaxis11": {
         "anchor": "y11",
         "domain": [
          0.33999999999999997,
          0.6599999999999999
         ],
         "matches": "x",
         "showticklabels": false
        },
        "xaxis12": {
         "anchor": "y12",
         "domain": [
          0.6799999999999999,
          0.9999999999999999
         ],
         "matches": "x",
         "showticklabels": false
        },
        "xaxis2": {
         "anchor": "y2",
         "domain": [
          0.33999999999999997,
          0.6599999999999999
         ],
         "matches": "x",
         "title": {
          "text": "POSS"
         }
        },
        "xaxis3": {
         "anchor": "y3",
         "domain": [
          0.6799999999999999,
          0.9999999999999999
         ],
         "matches": "x",
         "title": {
          "text": "POSS"
         }
        },
        "xaxis4": {
         "anchor": "y4",
         "domain": [
          0,
          0.31999999999999995
         ],
         "matches": "x",
         "showticklabels": false
        },
        "xaxis5": {
         "anchor": "y5",
         "domain": [
          0.33999999999999997,
          0.6599999999999999
         ],
         "matches": "x",
         "showticklabels": false
        },
        "xaxis6": {
         "anchor": "y6",
         "domain": [
          0.6799999999999999,
          0.9999999999999999
         ],
         "matches": "x",
         "showticklabels": false
        },
        "xaxis7": {
         "anchor": "y7",
         "domain": [
          0,
          0.31999999999999995
         ],
         "matches": "x",
         "showticklabels": false
        },
        "xaxis8": {
         "anchor": "y8",
         "domain": [
          0.33999999999999997,
          0.6599999999999999
         ],
         "matches": "x",
         "showticklabels": false
        },
        "xaxis9": {
         "anchor": "y9",
         "domain": [
          0.6799999999999999,
          0.9999999999999999
         ],
         "matches": "x",
         "showticklabels": false
        },
        "yaxis": {
         "anchor": "x",
         "domain": [
          0,
          0.1975
         ],
         "title": {
          "text": "PPP"
         }
        },
        "yaxis10": {
         "anchor": "x10",
         "domain": [
          0.8025,
          1
         ],
         "matches": "y",
         "title": {
          "text": "PPP"
         }
        },
        "yaxis11": {
         "anchor": "x11",
         "domain": [
          0.8025,
          1
         ],
         "matches": "y",
         "showticklabels": false
        },
        "yaxis12": {
         "anchor": "x12",
         "domain": [
          0.8025,
          1
         ],
         "matches": "y",
         "showticklabels": false
        },
        "yaxis2": {
         "anchor": "x2",
         "domain": [
          0,
          0.1975
         ],
         "matches": "y",
         "showticklabels": false
        },
        "yaxis3": {
         "anchor": "x3",
         "domain": [
          0,
          0.1975
         ],
         "matches": "y",
         "showticklabels": false
        },
        "yaxis4": {
         "anchor": "x4",
         "domain": [
          0.2675,
          0.465
         ],
         "matches": "y",
         "title": {
          "text": "PPP"
         }
        },
        "yaxis5": {
         "anchor": "x5",
         "domain": [
          0.2675,
          0.465
         ],
         "matches": "y",
         "showticklabels": false
        },
        "yaxis6": {
         "anchor": "x6",
         "domain": [
          0.2675,
          0.465
         ],
         "matches": "y",
         "showticklabels": false
        },
        "yaxis7": {
         "anchor": "x7",
         "domain": [
          0.535,
          0.7325
         ],
         "matches": "y",
         "title": {
          "text": "PPP"
         }
        },
        "yaxis8": {
         "anchor": "x8",
         "domain": [
          0.535,
          0.7325
         ],
         "matches": "y",
         "showticklabels": false
        },
        "yaxis9": {
         "anchor": "x9",
         "domain": [
          0.535,
          0.7325
         ],
         "matches": "y",
         "showticklabels": false
        }
       }
      },
      "text/html": [
       "<div>                            <div id=\"99d058f7-f25c-4293-819a-df8a4043e2ea\" class=\"plotly-graph-div\" style=\"height:525px; width:100%;\"></div>            <script type=\"text/javascript\">                require([\"plotly\"], function(Plotly) {                    window.PLOTLYENV=window.PLOTLYENV || {};                                    if (document.getElementById(\"99d058f7-f25c-4293-819a-df8a4043e2ea\")) {                    Plotly.newPlot(                        \"99d058f7-f25c-4293-819a-df8a4043e2ea\",                        [{\"hovertemplate\":\"PLAY_TYPE=Cut<br>POSS=%{x}<br>PPP=%{y}<extra></extra>\",\"legendgroup\":\"\",\"marker\":{\"color\":\"#636efa\",\"symbol\":\"circle\"},\"mode\":\"markers\",\"name\":\"\",\"orientation\":\"v\",\"showlegend\":false,\"x\":[342,301,445,423,303,534,227,554,330,623,413,365,249,385,436,457,294,375,473,373,468,353,277,390,417,498,466,447,455,409],\"xaxis\":\"x10\",\"y\":[1.3889619883040936,1.3654617940199336,1.2721528089887641,1.2906950354609927,1.3465577557755777,1.3855898876404495,1.3921762114537446,1.3825324909747292,1.2818666666666665,1.319505617977528,1.1404866828087168,1.3094657534246574,1.2891084337349397,1.4155090909090908,1.3348233944954127,1.2627199124726476,1.204091836734694,1.3414000000000001,1.3044186046511628,1.3538042895442362,1.2458418803418803,1.3485014164305948,1.2274187725631769,1.2105000000000001,1.3070143884892085,1.375240963855422,1.2402961373390557,1.255040268456376,1.2571824175824173,1.325281173594132],\"yaxis\":\"y10\",\"type\":\"scatter\"},{\"hovertemplate\":\"PLAY_TYPE=Handoff<br>POSS=%{x}<br>PPP=%{y}<extra></extra>\",\"legendgroup\":\"\",\"marker\":{\"color\":\"#636efa\",\"symbol\":\"circle\"},\"mode\":\"markers\",\"name\":\"\",\"orientation\":\"v\",\"showlegend\":false,\"x\":[154,202,307,338,110,221,118,324,169,433,313,325,187,137,292,388,327,221,329,325,154,341,139,286,302,560,502,210,337,247],\"xaxis\":\"x11\",\"y\":[1.019487012987013,1.0643762376237622,0.9902019543973942,1.0885236686390531,0.9090545454545454,0.9278778280542985,0.8730677966101695,0.879564814814815,0.8166272189349113,1.0208221709006928,0.9391693290734824,0.9936953846153846,0.8716363636363635,0.9779854014598539,0.9623116438356164,0.850590206185567,0.8592782874617736,0.9094434389140271,0.9818449848024315,0.9816861538461537,1.0260974025974023,0.8593782991202348,1.0142949640287768,0.8566083916083916,1.0828708609271522,1.0948607142857145,0.902378486055777,1.0190619047619047,0.9972789317507418,0.903],\"yaxis\":\"y11\",\"type\":\"scatter\"},{\"hovertemplate\":\"PLAY_TYPE=Isolation<br>POSS=%{x}<br>PPP=%{y}<extra></extra>\",\"legendgroup\":\"\",\"marker\":{\"color\":\"#636efa\",\"symbol\":\"circle\"},\"mode\":\"markers\",\"name\":\"\",\"orientation\":\"v\",\"showlegend\":false,\"x\":[481,484,565,257,341,343,739,312,425,219,390,243,542,563,246,401,371,444,320,555,473,368,645,235,515,248,149,495,364,332],\"xaxis\":\"x12\",\"y\":[0.9771455301455302,0.9463202479338844,1.1010991150442477,0.8795252918287938,1.0788651026392961,0.9390058309037901,1.0391569688768607,0.9455096153846153,0.8517952941176471,0.8950547945205479,0.941276923076923,0.9093045267489711,0.8763228782287823,0.8649200710479573,0.8456219512195122,0.9425935162094764,0.8383827493261456,0.9460518018018018,0.9469218749999999,0.9859333333333333,0.9872029598308668,0.8316277173913044,1.004568992248062,0.8296936170212766,1.0429145631067964,1.0239798387096775,0.758503355704698,0.8567313131313131,1.0714532967032968,0.8976807228915662],\"yaxis\":\"y12\",\"type\":\"scatter\"},{\"hovertemplate\":\"PLAY_TYPE=Misc<br>POSS=%{x}<br>PPP=%{y}<extra></extra>\",\"legendgroup\":\"\",\"marker\":{\"color\":\"#636efa\",\"symbol\":\"circle\"},\"mode\":\"markers\",\"name\":\"\",\"orientation\":\"v\",\"showlegend\":false,\"x\":[285,302,336,326,282,296,321,381,401,412,367,366,352,308,362,332,359,356,356,312,263,362,321,394,395,307,373,293,391,358],\"xaxis\":\"x7\",\"y\":[0.6139684210526316,0.5860596026490067,0.6042500000000001,0.5121840490797546,0.5107269503546098,0.5539932432432433,0.5701869158878504,0.44608398950131234,0.5634513715710723,0.42948786407767,0.5393487738419618,0.5520792349726775,0.536877840909091,0.6105097402597401,0.5165662983425415,0.6025030120481928,0.5405125348189415,0.5057247191011236,0.47191853932584266,0.621849358974359,0.5171140684410646,0.5609033149171271,0.47035825545171345,0.5176827411167513,0.5417873417721519,0.6971661237785015,0.37804557640750674,0.6347440273037541,0.5676726342710998,0.6115614525139664],\"yaxis\":\"y7\",\"type\":\"scatter\"},{\"hovertemplate\":\"PLAY_TYPE=OffRebound<br>POSS=%{x}<br>PPP=%{y}<extra></extra>\",\"legendgroup\":\"\",\"marker\":{\"color\":\"#636efa\",\"symbol\":\"circle\"},\"mode\":\"markers\",\"name\":\"\",\"orientation\":\"v\",\"showlegend\":false,\"x\":[322,235,186,427,268,254,137,320,320,287,384,257,272,274,402,263,293,270,397,392,315,326,201,356,230,211,361,427,373,284],\"xaxis\":\"x8\",\"y\":[1.114692546583851,1.2212893617021277,1.2473010752688172,1.1568266978922717,1.1567313432835822,1.1377086614173229,1.248343065693431,1.17194375,1.1624406250000001,1.0138362369337979,1.078125,1.105194552529183,0.9630330882352941,1.2519051094890508,1.0896417910447762,1.1142205323193917,1.2149590443686007,1.1444222222222222,1.2015163727959697,1.1276658163265305,0.9778666666666666,1.2239325153374234,1.1790995024875621,1.1205898876404494,1.1567782608695651,1.1896777251184834,1.2355872576177287,1.131096018735363,1.1770670241286862,1.2853978873239436],\"yaxis\":\"y8\",\"type\":\"scatter\"},{\"hovertemplate\":\"PLAY_TYPE=OffScreen<br>POSS=%{x}<br>PPP=%{y}<extra></extra>\",\"legendgroup\":\"\",\"marker\":{\"color\":\"#636efa\",\"symbol\":\"circle\"},\"mode\":\"markers\",\"name\":\"\",\"orientation\":\"v\",\"showlegend\":false,\"x\":[280,343,229,260,135,192,158,223,246,596,103,205,276,124,204,228,124,250,227,118,80,138,101,223,244,185,178,182,437,219],\"xaxis\":\"x9\",\"y\":[0.8712750000000001,1.0145014577259475,1.0216768558951965,0.8421653846153847,0.8221481481481482,1.005421875,1.0694810126582277,0.9281165919282511,1.065162601626016,1.015253355704698,0.7475922330097087,0.9022341463414633,0.9528804347826088,0.8953387096774194,0.9312009803921569,0.8685219298245613,0.7983467741935484,0.867928,0.9560440528634361,0.8730084745762712,1.0875,1.0432826086956524,0.7027128712871288,0.9999103139013451,1.0898319672131147,0.8975189189189189,0.9773258426966293,0.9011978021978023,1.0203867276887872,0.9224292237442921],\"yaxis\":\"y9\",\"type\":\"scatter\"},{\"hovertemplate\":\"PLAY_TYPE=PRBallHandler<br>POSS=%{x}<br>PPP=%{y}<extra></extra>\",\"legendgroup\":\"\",\"marker\":{\"color\":\"#636efa\",\"symbol\":\"circle\"},\"mode\":\"markers\",\"name\":\"\",\"orientation\":\"v\",\"showlegend\":false,\"x\":[1353,983,743,1204,1270,1187,884,774,1328,836,1202,1105,1141,1044,1216,1073,900,1027,980,1158,1158,1138,849,1130,1035,799,1080,976,1022,919],\"xaxis\":\"x4\",\"y\":[0.915279379157428,0.9308301119023398,0.9919030955585463,0.7698953488372093,0.9526590551181102,0.9781718618365627,1.0213823529411763,0.8902984496124031,0.8478704819277109,0.9580586124401914,0.8134559068219634,0.8906262443438915,0.942957055214724,0.8697289272030652,0.8675370065789475,0.9393578751164958,0.9211222222222222,0.9182619279454723,0.8786153061224491,0.913490500863558,0.9083445595854923,0.926866432337434,0.9009387514723203,0.8715008849557522,1.0106434782608695,0.9384380475594495,0.8472916666666667,0.8781926229508197,0.9031174168297456,0.8976931447225245],\"yaxis\":\"y4\",\"type\":\"scatter\"},{\"hovertemplate\":\"PLAY_TYPE=PRRollMan<br>POSS=%{x}<br>PPP=%{y}<extra></extra>\",\"legendgroup\":\"\",\"marker\":{\"color\":\"#636efa\",\"symbol\":\"circle\"},\"mode\":\"markers\",\"name\":\"\",\"orientation\":\"v\",\"showlegend\":false,\"x\":[329,256,214,336,440,433,346,291,287,186,374,395,224,397,235,387,359,262,283,189,269,328,451,408,206,200,257,277,291,324],\"xaxis\":\"x5\",\"y\":[1.2765440729483282,1.1526093750000002,1.088859813084112,1.2143482142857143,1.109015909090909,1.1133464203233256,1.3381589595375722,1.374429553264605,1.19504181184669,1.1881290322580647,1.1097807486631015,1.070873417721519,1.1829151785714287,1.3402015113350128,1.2980340425531915,1.0596382428940572,1.1562395543175488,1.2022671755725192,1.1272120141342756,1.2324497354497355,1.0705947955390334,1.1523597560975607,1.2060243902439023,1.156752450980392,1.1408058252427185,1.16523,1.1010155642023347,1.097350180505415,1.216298969072165,1.1974043209876544],\"yaxis\":\"y5\",\"type\":\"scatter\"},{\"hovertemplate\":\"PLAY_TYPE=Postup<br>POSS=%{x}<br>PPP=%{y}<extra></extra>\",\"legendgroup\":\"\",\"marker\":{\"color\":\"#636efa\",\"symbol\":\"circle\"},\"mode\":\"markers\",\"name\":\"\",\"orientation\":\"v\",\"showlegend\":false,\"x\":[186,162,151,162,313,193,304,478,214,119,205,130,284,319,167,212,449,148,379,225,75,190,329,385,284,189,257,306,130,293],\"xaxis\":\"x6\",\"y\":[1.0108602150537633,1.0680123456790123,0.9669205298013245,0.969141975308642,1.1275367412140576,0.777181347150259,1.049203947368421,1.0896380753138075,0.8833317757009347,0.7981512605042016,0.9559024390243901,0.9768923076923076,0.9896197183098592,0.993921630094044,0.934005988023952,0.9055707547169811,0.975325167037862,1.0068513513513515,0.9394696569920844,0.8177111111111112,1.1468666666666667,0.9104736842105263,1.121519756838906,1.0103194805194806,0.9189718309859155,1.0105555555555557,0.9494591439688717,0.9118333333333334,0.8766846153846153,0.9966825938566554],\"yaxis\":\"y6\",\"type\":\"scatter\"},{\"hovertemplate\":\"PLAY_TYPE=Spotup<br>POSS=%{x}<br>PPP=%{y}<extra></extra>\",\"legendgroup\":\"\",\"marker\":{\"color\":\"#636efa\",\"symbol\":\"circle\"},\"mode\":\"markers\",\"name\":\"\",\"orientation\":\"v\",\"showlegend\":false,\"x\":[1352,1648,1325,1526,1422,1335,1531,1173,1465,1279,1417,1511,1499,1318,1367,1271,1449,1557,1438,1616,1644,1366,1378,1653,1310,1375,1543,1394,1436,1423],\"xaxis\":\"x\",\"y\":[0.988096153846154,1.1153974514563108,1.1260581132075471,0.9443414154652688,1.059148382559775,1.0134876404494382,1.0823919007184848,1.074058823529412,1.01500614334471,1.0905582486317438,1.0000119971771348,0.9913143613500992,1.128987991994663,1.0295819423368742,0.9949722019019751,1.0108560188827695,1.0483485162180817,1.053916506101477,1.0270695410292072,1.009233292079208,1.0201940389294404,1.0006749633967789,1.1329731494920174,1.0526709013914095,1.0672854961832061,1.0692021818181816,0.9947368762151652,0.9863034433285509,1.0454240947075208,1.035888264230499],\"yaxis\":\"y\",\"type\":\"scatter\"},{\"hovertemplate\":\"PLAY_TYPE=Transition<br>POSS=%{x}<br>PPP=%{y}<extra></extra>\",\"legendgroup\":\"\",\"marker\":{\"color\":\"#636efa\",\"symbol\":\"circle\"},\"mode\":\"markers\",\"name\":\"\",\"orientation\":\"v\",\"showlegend\":false,\"x\":[965,1037,1047,1139,998,940,794,1038,1055,1033,837,1246,1039,1207,1246,891,1073,1132,1042,973,1220,1007,884,861,836,1214,1009,1204,978,898],\"xaxis\":\"x2\",\"y\":[1.1721730569948186,1.1774513018322084,1.1577803247373446,1.097476733977173,1.113250501002004,1.1818340425531915,1.0969521410579344,1.2456233140655104,1.116719431279621,1.137385285575992,1.0262724014336917,1.1725963081861956,1.1281222329162655,1.104229494614747,1.119710272873194,1.144753086419753,1.0902702702702702,1.1536537102473499,1.1314913627639156,1.1183103802672145,1.1533950819672132,1.1042393247269118,1.20910407239819,1.1034006968641115,1.1676722488038278,1.080785831960461,1.1177888999008918,1.1245855481727574,1.162528629856851,1.13352004454343],\"yaxis\":\"y2\",\"type\":\"scatter\"}],                        {\"template\":{\"data\":{\"histogram2dcontour\":[{\"type\":\"histogram2dcontour\",\"colorbar\":{\"outlinewidth\":0,\"ticks\":\"\"},\"colorscale\":[[0.0,\"#0d0887\"],[0.1111111111111111,\"#46039f\"],[0.2222222222222222,\"#7201a8\"],[0.3333333333333333,\"#9c179e\"],[0.4444444444444444,\"#bd3786\"],[0.5555555555555556,\"#d8576b\"],[0.6666666666666666,\"#ed7953\"],[0.7777777777777778,\"#fb9f3a\"],[0.8888888888888888,\"#fdca26\"],[1.0,\"#f0f921\"]]}],\"choropleth\":[{\"type\":\"choropleth\",\"colorbar\":{\"outlinewidth\":0,\"ticks\":\"\"}}],\"histogram2d\":[{\"type\":\"histogram2d\",\"colorbar\":{\"outlinewidth\":0,\"ticks\":\"\"},\"colorscale\":[[0.0,\"#0d0887\"],[0.1111111111111111,\"#46039f\"],[0.2222222222222222,\"#7201a8\"],[0.3333333333333333,\"#9c179e\"],[0.4444444444444444,\"#bd3786\"],[0.5555555555555556,\"#d8576b\"],[0.6666666666666666,\"#ed7953\"],[0.7777777777777778,\"#fb9f3a\"],[0.8888888888888888,\"#fdca26\"],[1.0,\"#f0f921\"]]}],\"heatmap\":[{\"type\":\"heatmap\",\"colorbar\":{\"outlinewidth\":0,\"ticks\":\"\"},\"colorscale\":[[0.0,\"#0d0887\"],[0.1111111111111111,\"#46039f\"],[0.2222222222222222,\"#7201a8\"],[0.3333333333333333,\"#9c179e\"],[0.4444444444444444,\"#bd3786\"],[0.5555555555555556,\"#d8576b\"],[0.6666666666666666,\"#ed7953\"],[0.7777777777777778,\"#fb9f3a\"],[0.8888888888888888,\"#fdca26\"],[1.0,\"#f0f921\"]]}],\"heatmapgl\":[{\"type\":\"heatmapgl\",\"colorbar\":{\"outlinewidth\":0,\"ticks\":\"\"},\"colorscale\":[[0.0,\"#0d0887\"],[0.1111111111111111,\"#46039f\"],[0.2222222222222222,\"#7201a8\"],[0.3333333333333333,\"#9c179e\"],[0.4444444444444444,\"#bd3786\"],[0.5555555555555556,\"#d8576b\"],[0.6666666666666666,\"#ed7953\"],[0.7777777777777778,\"#fb9f3a\"],[0.8888888888888888,\"#fdca26\"],[1.0,\"#f0f921\"]]}],\"contourcarpet\":[{\"type\":\"contourcarpet\",\"colorbar\":{\"outlinewidth\":0,\"ticks\":\"\"}}],\"contour\":[{\"type\":\"contour\",\"colorbar\":{\"outlinewidth\":0,\"ticks\":\"\"},\"colorscale\":[[0.0,\"#0d0887\"],[0.1111111111111111,\"#46039f\"],[0.2222222222222222,\"#7201a8\"],[0.3333333333333333,\"#9c179e\"],[0.4444444444444444,\"#bd3786\"],[0.5555555555555556,\"#d8576b\"],[0.6666666666666666,\"#ed7953\"],[0.7777777777777778,\"#fb9f3a\"],[0.8888888888888888,\"#fdca26\"],[1.0,\"#f0f921\"]]}],\"surface\":[{\"type\":\"surface\",\"colorbar\":{\"outlinewidth\":0,\"ticks\":\"\"},\"colorscale\":[[0.0,\"#0d0887\"],[0.1111111111111111,\"#46039f\"],[0.2222222222222222,\"#7201a8\"],[0.3333333333333333,\"#9c179e\"],[0.4444444444444444,\"#bd3786\"],[0.5555555555555556,\"#d8576b\"],[0.6666666666666666,\"#ed7953\"],[0.7777777777777778,\"#fb9f3a\"],[0.8888888888888888,\"#fdca26\"],[1.0,\"#f0f921\"]]}],\"mesh3d\":[{\"type\":\"mesh3d\",\"colorbar\":{\"outlinewidth\":0,\"ticks\":\"\"}}],\"scatter\":[{\"fillpattern\":{\"fillmode\":\"overlay\",\"size\":10,\"solidity\":0.2},\"type\":\"scatter\"}],\"parcoords\":[{\"type\":\"parcoords\",\"line\":{\"colorbar\":{\"outlinewidth\":0,\"ticks\":\"\"}}}],\"scatterpolargl\":[{\"type\":\"scatterpolargl\",\"marker\":{\"colorbar\":{\"outlinewidth\":0,\"ticks\":\"\"}}}],\"bar\":[{\"error_x\":{\"color\":\"#2a3f5f\"},\"error_y\":{\"color\":\"#2a3f5f\"},\"marker\":{\"line\":{\"color\":\"#E5ECF6\",\"width\":0.5},\"pattern\":{\"fillmode\":\"overlay\",\"size\":10,\"solidity\":0.2}},\"type\":\"bar\"}],\"scattergeo\":[{\"type\":\"scattergeo\",\"marker\":{\"colorbar\":{\"outlinewidth\":0,\"ticks\":\"\"}}}],\"scatterpolar\":[{\"type\":\"scatterpolar\",\"marker\":{\"colorbar\":{\"outlinewidth\":0,\"ticks\":\"\"}}}],\"histogram\":[{\"marker\":{\"pattern\":{\"fillmode\":\"overlay\",\"size\":10,\"solidity\":0.2}},\"type\":\"histogram\"}],\"scattergl\":[{\"type\":\"scattergl\",\"marker\":{\"colorbar\":{\"outlinewidth\":0,\"ticks\":\"\"}}}],\"scatter3d\":[{\"type\":\"scatter3d\",\"line\":{\"colorbar\":{\"outlinewidth\":0,\"ticks\":\"\"}},\"marker\":{\"colorbar\":{\"outlinewidth\":0,\"ticks\":\"\"}}}],\"scattermapbox\":[{\"type\":\"scattermapbox\",\"marker\":{\"colorbar\":{\"outlinewidth\":0,\"ticks\":\"\"}}}],\"scatterternary\":[{\"type\":\"scatterternary\",\"marker\":{\"colorbar\":{\"outlinewidth\":0,\"ticks\":\"\"}}}],\"scattercarpet\":[{\"type\":\"scattercarpet\",\"marker\":{\"colorbar\":{\"outlinewidth\":0,\"ticks\":\"\"}}}],\"carpet\":[{\"aaxis\":{\"endlinecolor\":\"#2a3f5f\",\"gridcolor\":\"white\",\"linecolor\":\"white\",\"minorgridcolor\":\"white\",\"startlinecolor\":\"#2a3f5f\"},\"baxis\":{\"endlinecolor\":\"#2a3f5f\",\"gridcolor\":\"white\",\"linecolor\":\"white\",\"minorgridcolor\":\"white\",\"startlinecolor\":\"#2a3f5f\"},\"type\":\"carpet\"}],\"table\":[{\"cells\":{\"fill\":{\"color\":\"#EBF0F8\"},\"line\":{\"color\":\"white\"}},\"header\":{\"fill\":{\"color\":\"#C8D4E3\"},\"line\":{\"color\":\"white\"}},\"type\":\"table\"}],\"barpolar\":[{\"marker\":{\"line\":{\"color\":\"#E5ECF6\",\"width\":0.5},\"pattern\":{\"fillmode\":\"overlay\",\"size\":10,\"solidity\":0.2}},\"type\":\"barpolar\"}],\"pie\":[{\"automargin\":true,\"type\":\"pie\"}]},\"layout\":{\"autotypenumbers\":\"strict\",\"colorway\":[\"#636efa\",\"#EF553B\",\"#00cc96\",\"#ab63fa\",\"#FFA15A\",\"#19d3f3\",\"#FF6692\",\"#B6E880\",\"#FF97FF\",\"#FECB52\"],\"font\":{\"color\":\"#2a3f5f\"},\"hovermode\":\"closest\",\"hoverlabel\":{\"align\":\"left\"},\"paper_bgcolor\":\"white\",\"plot_bgcolor\":\"#E5ECF6\",\"polar\":{\"bgcolor\":\"#E5ECF6\",\"angularaxis\":{\"gridcolor\":\"white\",\"linecolor\":\"white\",\"ticks\":\"\"},\"radialaxis\":{\"gridcolor\":\"white\",\"linecolor\":\"white\",\"ticks\":\"\"}},\"ternary\":{\"bgcolor\":\"#E5ECF6\",\"aaxis\":{\"gridcolor\":\"white\",\"linecolor\":\"white\",\"ticks\":\"\"},\"baxis\":{\"gridcolor\":\"white\",\"linecolor\":\"white\",\"ticks\":\"\"},\"caxis\":{\"gridcolor\":\"white\",\"linecolor\":\"white\",\"ticks\":\"\"}},\"coloraxis\":{\"colorbar\":{\"outlinewidth\":0,\"ticks\":\"\"}},\"colorscale\":{\"sequential\":[[0.0,\"#0d0887\"],[0.1111111111111111,\"#46039f\"],[0.2222222222222222,\"#7201a8\"],[0.3333333333333333,\"#9c179e\"],[0.4444444444444444,\"#bd3786\"],[0.5555555555555556,\"#d8576b\"],[0.6666666666666666,\"#ed7953\"],[0.7777777777777778,\"#fb9f3a\"],[0.8888888888888888,\"#fdca26\"],[1.0,\"#f0f921\"]],\"sequentialminus\":[[0.0,\"#0d0887\"],[0.1111111111111111,\"#46039f\"],[0.2222222222222222,\"#7201a8\"],[0.3333333333333333,\"#9c179e\"],[0.4444444444444444,\"#bd3786\"],[0.5555555555555556,\"#d8576b\"],[0.6666666666666666,\"#ed7953\"],[0.7777777777777778,\"#fb9f3a\"],[0.8888888888888888,\"#fdca26\"],[1.0,\"#f0f921\"]],\"diverging\":[[0,\"#8e0152\"],[0.1,\"#c51b7d\"],[0.2,\"#de77ae\"],[0.3,\"#f1b6da\"],[0.4,\"#fde0ef\"],[0.5,\"#f7f7f7\"],[0.6,\"#e6f5d0\"],[0.7,\"#b8e186\"],[0.8,\"#7fbc41\"],[0.9,\"#4d9221\"],[1,\"#276419\"]]},\"xaxis\":{\"gridcolor\":\"white\",\"linecolor\":\"white\",\"ticks\":\"\",\"title\":{\"standoff\":15},\"zerolinecolor\":\"white\",\"automargin\":true,\"zerolinewidth\":2},\"yaxis\":{\"gridcolor\":\"white\",\"linecolor\":\"white\",\"ticks\":\"\",\"title\":{\"standoff\":15},\"zerolinecolor\":\"white\",\"automargin\":true,\"zerolinewidth\":2},\"scene\":{\"xaxis\":{\"backgroundcolor\":\"#E5ECF6\",\"gridcolor\":\"white\",\"linecolor\":\"white\",\"showbackground\":true,\"ticks\":\"\",\"zerolinecolor\":\"white\",\"gridwidth\":2},\"yaxis\":{\"backgroundcolor\":\"#E5ECF6\",\"gridcolor\":\"white\",\"linecolor\":\"white\",\"showbackground\":true,\"ticks\":\"\",\"zerolinecolor\":\"white\",\"gridwidth\":2},\"zaxis\":{\"backgroundcolor\":\"#E5ECF6\",\"gridcolor\":\"white\",\"linecolor\":\"white\",\"showbackground\":true,\"ticks\":\"\",\"zerolinecolor\":\"white\",\"gridwidth\":2}},\"shapedefaults\":{\"line\":{\"color\":\"#2a3f5f\"}},\"annotationdefaults\":{\"arrowcolor\":\"#2a3f5f\",\"arrowhead\":0,\"arrowwidth\":1},\"geo\":{\"bgcolor\":\"white\",\"landcolor\":\"#E5ECF6\",\"subunitcolor\":\"white\",\"showland\":true,\"showlakes\":true,\"lakecolor\":\"white\"},\"title\":{\"x\":0.05},\"mapbox\":{\"style\":\"light\"}}},\"xaxis\":{\"anchor\":\"y\",\"domain\":[0.0,0.31999999999999995],\"title\":{\"text\":\"POSS\"}},\"yaxis\":{\"anchor\":\"x\",\"domain\":[0.0,0.1975],\"title\":{\"text\":\"PPP\"}},\"xaxis2\":{\"anchor\":\"y2\",\"domain\":[0.33999999999999997,0.6599999999999999],\"matches\":\"x\",\"title\":{\"text\":\"POSS\"}},\"yaxis2\":{\"anchor\":\"x2\",\"domain\":[0.0,0.1975],\"matches\":\"y\",\"showticklabels\":false},\"xaxis3\":{\"anchor\":\"y3\",\"domain\":[0.6799999999999999,0.9999999999999999],\"matches\":\"x\",\"title\":{\"text\":\"POSS\"}},\"yaxis3\":{\"anchor\":\"x3\",\"domain\":[0.0,0.1975],\"matches\":\"y\",\"showticklabels\":false},\"xaxis4\":{\"anchor\":\"y4\",\"domain\":[0.0,0.31999999999999995],\"matches\":\"x\",\"showticklabels\":false},\"yaxis4\":{\"anchor\":\"x4\",\"domain\":[0.2675,0.465],\"matches\":\"y\",\"title\":{\"text\":\"PPP\"}},\"xaxis5\":{\"anchor\":\"y5\",\"domain\":[0.33999999999999997,0.6599999999999999],\"matches\":\"x\",\"showticklabels\":false},\"yaxis5\":{\"anchor\":\"x5\",\"domain\":[0.2675,0.465],\"matches\":\"y\",\"showticklabels\":false},\"xaxis6\":{\"anchor\":\"y6\",\"domain\":[0.6799999999999999,0.9999999999999999],\"matches\":\"x\",\"showticklabels\":false},\"yaxis6\":{\"anchor\":\"x6\",\"domain\":[0.2675,0.465],\"matches\":\"y\",\"showticklabels\":false},\"xaxis7\":{\"anchor\":\"y7\",\"domain\":[0.0,0.31999999999999995],\"matches\":\"x\",\"showticklabels\":false},\"yaxis7\":{\"anchor\":\"x7\",\"domain\":[0.535,0.7325],\"matches\":\"y\",\"title\":{\"text\":\"PPP\"}},\"xaxis8\":{\"anchor\":\"y8\",\"domain\":[0.33999999999999997,0.6599999999999999],\"matches\":\"x\",\"showticklabels\":false},\"yaxis8\":{\"anchor\":\"x8\",\"domain\":[0.535,0.7325],\"matches\":\"y\",\"showticklabels\":false},\"xaxis9\":{\"anchor\":\"y9\",\"domain\":[0.6799999999999999,0.9999999999999999],\"matches\":\"x\",\"showticklabels\":false},\"yaxis9\":{\"anchor\":\"x9\",\"domain\":[0.535,0.7325],\"matches\":\"y\",\"showticklabels\":false},\"xaxis10\":{\"anchor\":\"y10\",\"domain\":[0.0,0.31999999999999995],\"matches\":\"x\",\"showticklabels\":false},\"yaxis10\":{\"anchor\":\"x10\",\"domain\":[0.8025,1.0],\"matches\":\"y\",\"title\":{\"text\":\"PPP\"}},\"xaxis11\":{\"anchor\":\"y11\",\"domain\":[0.33999999999999997,0.6599999999999999],\"matches\":\"x\",\"showticklabels\":false},\"yaxis11\":{\"anchor\":\"x11\",\"domain\":[0.8025,1.0],\"matches\":\"y\",\"showticklabels\":false},\"xaxis12\":{\"anchor\":\"y12\",\"domain\":[0.6799999999999999,0.9999999999999999],\"matches\":\"x\",\"showticklabels\":false},\"yaxis12\":{\"anchor\":\"x12\",\"domain\":[0.8025,1.0],\"matches\":\"y\",\"showticklabels\":false},\"annotations\":[{\"font\":{},\"showarrow\":false,\"text\":\"PLAY_TYPE=Spotup\",\"x\":0.15999999999999998,\"xanchor\":\"center\",\"xref\":\"paper\",\"y\":0.1975,\"yanchor\":\"bottom\",\"yref\":\"paper\"},{\"font\":{},\"showarrow\":false,\"text\":\"PLAY_TYPE=Transition\",\"x\":0.49999999999999994,\"xanchor\":\"center\",\"xref\":\"paper\",\"y\":0.1975,\"yanchor\":\"bottom\",\"yref\":\"paper\"},{\"font\":{},\"showarrow\":false,\"text\":\"PLAY_TYPE=PRBallHandler\",\"x\":0.15999999999999998,\"xanchor\":\"center\",\"xref\":\"paper\",\"y\":0.465,\"yanchor\":\"bottom\",\"yref\":\"paper\"},{\"font\":{},\"showarrow\":false,\"text\":\"PLAY_TYPE=PRRollMan\",\"x\":0.49999999999999994,\"xanchor\":\"center\",\"xref\":\"paper\",\"y\":0.465,\"yanchor\":\"bottom\",\"yref\":\"paper\"},{\"font\":{},\"showarrow\":false,\"text\":\"PLAY_TYPE=Postup\",\"x\":0.8399999999999999,\"xanchor\":\"center\",\"xref\":\"paper\",\"y\":0.465,\"yanchor\":\"bottom\",\"yref\":\"paper\"},{\"font\":{},\"showarrow\":false,\"text\":\"PLAY_TYPE=Misc\",\"x\":0.15999999999999998,\"xanchor\":\"center\",\"xref\":\"paper\",\"y\":0.7325,\"yanchor\":\"bottom\",\"yref\":\"paper\"},{\"font\":{},\"showarrow\":false,\"text\":\"PLAY_TYPE=OffRebound\",\"x\":0.49999999999999994,\"xanchor\":\"center\",\"xref\":\"paper\",\"y\":0.7325,\"yanchor\":\"bottom\",\"yref\":\"paper\"},{\"font\":{},\"showarrow\":false,\"text\":\"PLAY_TYPE=OffScreen\",\"x\":0.8399999999999999,\"xanchor\":\"center\",\"xref\":\"paper\",\"y\":0.7325,\"yanchor\":\"bottom\",\"yref\":\"paper\"},{\"font\":{},\"showarrow\":false,\"text\":\"PLAY_TYPE=Cut\",\"x\":0.15999999999999998,\"xanchor\":\"center\",\"xref\":\"paper\",\"y\":1.0,\"yanchor\":\"bottom\",\"yref\":\"paper\"},{\"font\":{},\"showarrow\":false,\"text\":\"PLAY_TYPE=Handoff\",\"x\":0.49999999999999994,\"xanchor\":\"center\",\"xref\":\"paper\",\"y\":1.0,\"yanchor\":\"bottom\",\"yref\":\"paper\"},{\"font\":{},\"showarrow\":false,\"text\":\"PLAY_TYPE=Isolation\",\"x\":0.8399999999999999,\"xanchor\":\"center\",\"xref\":\"paper\",\"y\":1.0,\"yanchor\":\"bottom\",\"yref\":\"paper\"}],\"legend\":{\"tracegroupgap\":0},\"margin\":{\"t\":60}},                        {\"responsive\": true}                    ).then(function(){\n",
       "                            \n",
       "var gd = document.getElementById('99d058f7-f25c-4293-819a-df8a4043e2ea');\n",
       "var x = new MutationObserver(function (mutations, observer) {{\n",
       "        var display = window.getComputedStyle(gd).display;\n",
       "        if (!display || display === 'none') {{\n",
       "            console.log([gd, 'removed!']);\n",
       "            Plotly.purge(gd);\n",
       "            observer.disconnect();\n",
       "        }}\n",
       "}});\n",
       "\n",
       "// Listen for the removal of the full notebook cells\n",
       "var notebookContainer = gd.closest('#notebook-container');\n",
       "if (notebookContainer) {{\n",
       "    x.observe(notebookContainer, {childList: true});\n",
       "}}\n",
       "\n",
       "// Listen for the clearing of the current output cell\n",
       "var outputEl = gd.closest('.output');\n",
       "if (outputEl) {{\n",
       "    x.observe(outputEl, {childList: true});\n",
       "}}\n",
       "\n",
       "                        })                };                });            </script>        </div>"
      ]
     },
     "metadata": {},
     "output_type": "display_data"
    }
   ],
   "source": [
    "fig = px.scatter(df_team, x='POSS', y='PPP', facet_col='PLAY_TYPE', facet_col_wrap=3)\n",
    "fig.show()"
   ]
  },
  {
   "cell_type": "code",
   "execution_count": null,
   "metadata": {},
   "outputs": [],
   "source": []
  }
 ],
 "metadata": {
  "kernelspec": {
   "display_name": "Python 3 (ipykernel)",
   "language": "python",
   "name": "python3"
  },
  "language_info": {
   "codemirror_mode": {
    "name": "ipython",
    "version": 3
   },
   "file_extension": ".py",
   "mimetype": "text/x-python",
   "name": "python",
   "nbconvert_exporter": "python",
   "pygments_lexer": "ipython3",
   "version": "3.9.16"
  }
 },
 "nbformat": 4,
 "nbformat_minor": 1
}
