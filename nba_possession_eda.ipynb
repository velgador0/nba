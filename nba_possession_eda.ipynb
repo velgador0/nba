{
 "cells": [
  {
   "cell_type": "markdown",
   "source": [
    "The purpose of this analysis is to perform some exploratory data analysis of NBA offense in the 2022-2023 season.\n",
    "\n",
    "The nba API breaks down offensive possessions into several types :\n",
    "\n",
    "* Cut\n",
    "* Handoff\n",
    "* Isolation\n",
    "* Miscellaneous\n",
    "* OffScreen\n",
    "* Postup\n",
    "* PRBallHandler\n",
    "* PRRollman\n",
    "* OffRebound\n",
    "* Spotup\n",
    "* Transition\n",
    "\n",
    "A good starting point for measuring offensive efficiency is points per possession (PPP). To put our analysis into context, let's start by calculating the average points per possession across all players and play types.\n",
    "\n",
    "The NBA SynergyPlayTypes endpoint doesn't let us call all players and play types at once, so instead we'll just do an API call for each playtype and merge the datasets together."
   ],
   "metadata": {
    "collapsed": false
   }
  },
  {
   "cell_type": "code",
   "execution_count": 22,
   "outputs": [
    {
     "name": "stdout",
     "output_type": "stream",
     "text": [
      "Cut called successfully.\n",
      "Handoff called successfully.\n",
      "Isolation called successfully.\n",
      "Misc called successfully.\n",
      "OffScreen called successfully.\n",
      "Postup called successfully.\n",
      "PRBallHandler called successfully.\n",
      "PRRollman called successfully.\n",
      "OffRebound called successfully.\n",
      "Spotup called successfully.\n",
      "Transition called successfully.\n"
     ]
    }
   ],
   "source": [
    "from nba_api.stats import endpoints\n",
    "import pandas as pd\n",
    "import time\n",
    "import numpy as np\n",
    "\n",
    "# loop over the different play types\n",
    "play_types_list = ['Cut','Handoff','Isolation','Misc','OffScreen','Postup','PRBallHandler','PRRollman','OffRebound','Spotup','Transition']\n",
    "df = pd.DataFrame()\n",
    "\n",
    "for play_type in play_types_list:\n",
    "\n",
    "    # The NBA API often times out on calls, using a while loop to simply automate retries of our api call\n",
    "    while True:\n",
    "        try:\n",
    "            response = endpoints.SynergyPlayTypes(play_type_nullable=play_type, player_or_team_abbreviation='P', type_grouping_nullable='Offensive').get_data_frames()[0]\n",
    "            print(f'{play_type} called successfully.')\n",
    "            break # quit the loop if successful\n",
    "        except:\n",
    "            print(f'Error with {play_type} call.')\n",
    "            time.sleep(5)\n",
    "\n",
    "    # combine each call into one dataframe\n",
    "    df = pd.concat([df,response])\n",
    "    time.sleep(5)\n",
    "\n",
    "df.to_csv('synergy_all_offensive_possessions_by_player.csv')"
   ],
   "metadata": {
    "collapsed": false
   }
  },
  {
   "cell_type": "markdown",
   "source": [
    "Let's save this as a csv so that in the future we can just read from the csv to save some time for analysis. We can always rerun the previous cell when we want to update our data."
   ],
   "metadata": {
    "collapsed": false
   }
  },
  {
   "cell_type": "code",
   "execution_count": 57,
   "outputs": [
    {
     "name": "stdout",
     "output_type": "stream",
     "text": [
      "Read file from csv.\n"
     ]
    }
   ],
   "source": [
    "df = pd.read_csv('synergy_all_offensive_possessions_by_player.csv')\n",
    "print('Read file from csv.')"
   ],
   "metadata": {
    "collapsed": false
   }
  },
  {
   "cell_type": "markdown",
   "source": [
    "The complete csv contains many extraneous columns, let's select just a couple that we are interested in.\n",
    "\n",
    "* PLAYER_NAME and TEAM_NAME will identify the players.\n",
    "* PLAY_TYPE describes the type of offensive possession.\n",
    "* PPP gives us the average number of points scored per possession by that player for a certain type of shot attempt.\n",
    "* POSS is the number of possessions that each player utilizes per type of shot attempt."
   ],
   "metadata": {
    "collapsed": false
   }
  },
  {
   "cell_type": "code",
   "execution_count": 58,
   "outputs": [],
   "source": [
    "df = df[['PLAYER_NAME','TEAM_NAME','PLAY_TYPE','PPP','POSS']]\n",
    "\n",
    "# sort by player name then play type\n",
    "df = df.sort_values(['PLAYER_NAME','PLAY_TYPE'])"
   ],
   "metadata": {
    "collapsed": false
   }
  },
  {
   "cell_type": "markdown",
   "source": [
    "Now, by calculating the weighted average of points per possession weighted by number of possessions we get our league average PPP of 1.019. That should give us some useful context for our play type analysis."
   ],
   "metadata": {
    "collapsed": false
   }
  },
  {
   "cell_type": "code",
   "execution_count": 59,
   "outputs": [
    {
     "data": {
      "text/plain": "1.0194306169357525"
     },
     "execution_count": 59,
     "metadata": {},
     "output_type": "execute_result"
    }
   ],
   "source": [
    "league_average_ppp = np.average(df['PPP'], weights=df['POSS'])\n",
    "league_average_ppp"
   ],
   "metadata": {
    "collapsed": false
   }
  },
  {
   "cell_type": "markdown",
   "source": [
    "Next, let's calculate PPP for each play type to see which types of plays tend to be more and less efficient."
   ],
   "metadata": {
    "collapsed": false
   }
  },
  {
   "cell_type": "code",
   "execution_count": 85,
   "outputs": [
    {
     "data": {
      "text/plain": "        PLAY_TYPE       PPP   POSS\n3            Misc  0.542987  10269\n6   PRBallHandler  0.906870  31514\n2       Isolation  0.947907  12065\n5       OffScreen  0.951863   6508\n1         Handoff  0.960385   8298\n8          Postup  0.978828   7238\n9          Spotup  1.039979  43021\n10     Transition  1.134757  30843\n4      OffRebound  1.148954   9044\n7       PRRollMan  1.176522   9234\n0             Cut  1.306083  12082",
      "text/html": "<div>\n<style scoped>\n    .dataframe tbody tr th:only-of-type {\n        vertical-align: middle;\n    }\n\n    .dataframe tbody tr th {\n        vertical-align: top;\n    }\n\n    .dataframe thead th {\n        text-align: right;\n    }\n</style>\n<table border=\"1\" class=\"dataframe\">\n  <thead>\n    <tr style=\"text-align: right;\">\n      <th></th>\n      <th>PLAY_TYPE</th>\n      <th>PPP</th>\n      <th>POSS</th>\n    </tr>\n  </thead>\n  <tbody>\n    <tr>\n      <th>3</th>\n      <td>Misc</td>\n      <td>0.542987</td>\n      <td>10269</td>\n    </tr>\n    <tr>\n      <th>6</th>\n      <td>PRBallHandler</td>\n      <td>0.906870</td>\n      <td>31514</td>\n    </tr>\n    <tr>\n      <th>2</th>\n      <td>Isolation</td>\n      <td>0.947907</td>\n      <td>12065</td>\n    </tr>\n    <tr>\n      <th>5</th>\n      <td>OffScreen</td>\n      <td>0.951863</td>\n      <td>6508</td>\n    </tr>\n    <tr>\n      <th>1</th>\n      <td>Handoff</td>\n      <td>0.960385</td>\n      <td>8298</td>\n    </tr>\n    <tr>\n      <th>8</th>\n      <td>Postup</td>\n      <td>0.978828</td>\n      <td>7238</td>\n    </tr>\n    <tr>\n      <th>9</th>\n      <td>Spotup</td>\n      <td>1.039979</td>\n      <td>43021</td>\n    </tr>\n    <tr>\n      <th>10</th>\n      <td>Transition</td>\n      <td>1.134757</td>\n      <td>30843</td>\n    </tr>\n    <tr>\n      <th>4</th>\n      <td>OffRebound</td>\n      <td>1.148954</td>\n      <td>9044</td>\n    </tr>\n    <tr>\n      <th>7</th>\n      <td>PRRollMan</td>\n      <td>1.176522</td>\n      <td>9234</td>\n    </tr>\n    <tr>\n      <th>0</th>\n      <td>Cut</td>\n      <td>1.306083</td>\n      <td>12082</td>\n    </tr>\n  </tbody>\n</table>\n</div>"
     },
     "execution_count": 85,
     "metadata": {},
     "output_type": "execute_result"
    }
   ],
   "source": [
    "# create new dataframe for this analysis\n",
    "df_play_type_PPP = df.sort_values('PLAY_TYPE')\n",
    "\n",
    "# calculate PPP using grouped weighted average\n",
    "df_play_type_PPP_weights = df_play_type_PPP.groupby('PLAY_TYPE').apply(lambda x: np.average(x['PPP'], weights=x['POSS'])).reset_index(name='PPP')\n",
    "\n",
    "# calculate sum of possessions\n",
    "df_play_type_PPP_possessions = df_play_type_PPP.groupby('PLAY_TYPE')['POSS'].sum().reset_index()\n",
    "df_play_type_PPP = pd.merge(df_play_type_PPP_weights,df_play_type_PPP_possessions)\n",
    "df_play_type_PPP.sort_values('PPP')"
   ],
   "metadata": {
    "collapsed": false
   }
  },
  {
   "cell_type": "code",
   "execution_count": null,
   "outputs": [],
   "source": [],
   "metadata": {
    "collapsed": false
   }
  }
 ],
 "metadata": {
  "kernelspec": {
   "display_name": "Python 3",
   "language": "python",
   "name": "python3"
  },
  "language_info": {
   "codemirror_mode": {
    "name": "ipython",
    "version": 2
   },
   "file_extension": ".py",
   "mimetype": "text/x-python",
   "name": "python",
   "nbconvert_exporter": "python",
   "pygments_lexer": "ipython2",
   "version": "2.7.6"
  }
 },
 "nbformat": 4,
 "nbformat_minor": 0
}
