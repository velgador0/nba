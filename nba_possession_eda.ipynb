{
 "cells": [
  {
   "cell_type": "markdown",
   "source": [
    "The purpose of this analysis is to perform some exploratory data analysis of NBA offense in the 2022-2023 season.\n",
    "\n",
    "The nba API breaks down offensive possessions into several types :\n",
    "\n",
    "* Cut\n",
    "* Handoff\n",
    "* Isolation\n",
    "* Miscellaneous\n",
    "* OffScreen\n",
    "* Postup\n",
    "* PRBallHandler\n",
    "* PRRollman\n",
    "* OffRebound\n",
    "* Spotup\n",
    "* Transition\n",
    "\n",
    "A good starting point for measuring offensive efficiency is points per possession (PPP). To put our analysis into context, let's start by calculating the average points per possession across all players and play types.\n",
    "\n",
    "The NBA SynergyPlayTypes endpoint doesn't let us call all players and play types at once, so instead we'll just do an API call for each playtype and merge the datasets together."
   ],
   "metadata": {
    "collapsed": false
   }
  },
  {
   "cell_type": "code",
   "execution_count": 28,
   "outputs": [
    {
     "name": "stdout",
     "output_type": "stream",
     "text": [
      "Cut called successfully.\n",
      "Handoff called successfully.\n",
      "Isolation called successfully.\n",
      "Error with Misc call.\n",
      "Misc called successfully.\n",
      "OffScreen called successfully.\n",
      "Error with Postup call.\n",
      "Postup called successfully.\n",
      "PRBallHandler called successfully.\n",
      "PRRollman called successfully.\n",
      "OffRebound called successfully.\n",
      "Spotup called successfully.\n",
      "Transition called successfully.\n"
     ]
    }
   ],
   "source": [
    "from nba_api.stats import endpoints\n",
    "import pandas as pd\n",
    "import time\n",
    "\n",
    "# loop over the different play types\n",
    "play_types_list = ['Cut','Handoff','Isolation','Misc','OffScreen','Postup','PRBallHandler','PRRollman','OffRebound','Spotup','Transition']\n",
    "df = pd.DataFrame()\n",
    "\n",
    "for play_type in play_types_list:\n",
    "\n",
    "    # The NBA API often times out on calls, using a while loop to simply automate retries of our api call\n",
    "    while True:\n",
    "        try:\n",
    "            response = endpoints.SynergyPlayTypes(play_type_nullable=play_type, player_or_team_abbreviation='P', type_grouping_nullable='Offensive').get_data_frames()[0]\n",
    "            print(f'{play_type} called successfully.')\n",
    "            break # quit the loop if successful\n",
    "        except:\n",
    "            print(f'Error with {play_type} call.')\n",
    "            time.sleep(5)\n",
    "\n",
    "    # combine each call into one dataframe\n",
    "    df = pd.concat([df,response])\n",
    "    time.sleep(5)\n",
    "\n",
    "df.to_csv('synergy_all_offensive_possessions_by_player.csv')"
   ],
   "metadata": {
    "collapsed": false
   }
  },
  {
   "cell_type": "code",
   "execution_count": 30,
   "outputs": [],
   "source": [
    "df = df[['PLAYER_NAME','TEAM_NAME','PLAY_TYPE','PERCENTILE','PPP','POSS']]"
   ],
   "metadata": {
    "collapsed": false
   }
  },
  {
   "cell_type": "code",
   "execution_count": 31,
   "outputs": [
    {
     "data": {
      "text/plain": "            PLAYER_NAME               TEAM_NAME   PLAY_TYPE  PERCENTILE  \\\n0         Jarrett Allen     Cleveland Cavaliers         Cut       0.592   \n1      Domantas Sabonis        Sacramento Kings         Cut       0.551   \n2           Nic Claxton           Brooklyn Nets         Cut       0.650   \n3           Evan Mobley     Cleveland Cavaliers         Cut       0.803   \n4           Rudy Gobert  Minnesota Timberwolves         Cut       0.680   \n..                  ...                     ...         ...         ...   \n380       Kendrick Nunn      Washington Wizards  Transition       0.030   \n381       Caleb Houstan           Orlando Magic  Transition       0.015   \n382  Isaiah Hartenstein         New York Knicks  Transition       0.008   \n383         Chuma Okeke           Orlando Magic  Transition       0.008   \n384         P.J. Tucker      Philadelphia 76ers  Transition       0.000   \n\n       PPP  POSS  \n0    1.338   207  \n1    1.328   195  \n2    1.365   181  \n3    1.453   161  \n4    1.377   154  \n..     ...   ...  \n380  0.615    13  \n381  0.462    13  \n382  0.400    15  \n383  0.400    15  \n384  0.313    16  \n\n[2837 rows x 6 columns]",
      "text/html": "<div>\n<style scoped>\n    .dataframe tbody tr th:only-of-type {\n        vertical-align: middle;\n    }\n\n    .dataframe tbody tr th {\n        vertical-align: top;\n    }\n\n    .dataframe thead th {\n        text-align: right;\n    }\n</style>\n<table border=\"1\" class=\"dataframe\">\n  <thead>\n    <tr style=\"text-align: right;\">\n      <th></th>\n      <th>PLAYER_NAME</th>\n      <th>TEAM_NAME</th>\n      <th>PLAY_TYPE</th>\n      <th>PERCENTILE</th>\n      <th>PPP</th>\n      <th>POSS</th>\n    </tr>\n  </thead>\n  <tbody>\n    <tr>\n      <th>0</th>\n      <td>Jarrett Allen</td>\n      <td>Cleveland Cavaliers</td>\n      <td>Cut</td>\n      <td>0.592</td>\n      <td>1.338</td>\n      <td>207</td>\n    </tr>\n    <tr>\n      <th>1</th>\n      <td>Domantas Sabonis</td>\n      <td>Sacramento Kings</td>\n      <td>Cut</td>\n      <td>0.551</td>\n      <td>1.328</td>\n      <td>195</td>\n    </tr>\n    <tr>\n      <th>2</th>\n      <td>Nic Claxton</td>\n      <td>Brooklyn Nets</td>\n      <td>Cut</td>\n      <td>0.650</td>\n      <td>1.365</td>\n      <td>181</td>\n    </tr>\n    <tr>\n      <th>3</th>\n      <td>Evan Mobley</td>\n      <td>Cleveland Cavaliers</td>\n      <td>Cut</td>\n      <td>0.803</td>\n      <td>1.453</td>\n      <td>161</td>\n    </tr>\n    <tr>\n      <th>4</th>\n      <td>Rudy Gobert</td>\n      <td>Minnesota Timberwolves</td>\n      <td>Cut</td>\n      <td>0.680</td>\n      <td>1.377</td>\n      <td>154</td>\n    </tr>\n    <tr>\n      <th>...</th>\n      <td>...</td>\n      <td>...</td>\n      <td>...</td>\n      <td>...</td>\n      <td>...</td>\n      <td>...</td>\n    </tr>\n    <tr>\n      <th>380</th>\n      <td>Kendrick Nunn</td>\n      <td>Washington Wizards</td>\n      <td>Transition</td>\n      <td>0.030</td>\n      <td>0.615</td>\n      <td>13</td>\n    </tr>\n    <tr>\n      <th>381</th>\n      <td>Caleb Houstan</td>\n      <td>Orlando Magic</td>\n      <td>Transition</td>\n      <td>0.015</td>\n      <td>0.462</td>\n      <td>13</td>\n    </tr>\n    <tr>\n      <th>382</th>\n      <td>Isaiah Hartenstein</td>\n      <td>New York Knicks</td>\n      <td>Transition</td>\n      <td>0.008</td>\n      <td>0.400</td>\n      <td>15</td>\n    </tr>\n    <tr>\n      <th>383</th>\n      <td>Chuma Okeke</td>\n      <td>Orlando Magic</td>\n      <td>Transition</td>\n      <td>0.008</td>\n      <td>0.400</td>\n      <td>15</td>\n    </tr>\n    <tr>\n      <th>384</th>\n      <td>P.J. Tucker</td>\n      <td>Philadelphia 76ers</td>\n      <td>Transition</td>\n      <td>0.000</td>\n      <td>0.313</td>\n      <td>16</td>\n    </tr>\n  </tbody>\n</table>\n<p>2837 rows × 6 columns</p>\n</div>"
     },
     "execution_count": 31,
     "metadata": {},
     "output_type": "execute_result"
    }
   ],
   "source": [
    "df"
   ],
   "metadata": {
    "collapsed": false
   }
  },
  {
   "cell_type": "code",
   "execution_count": null,
   "outputs": [],
   "source": [],
   "metadata": {
    "collapsed": false
   }
  }
 ],
 "metadata": {
  "kernelspec": {
   "display_name": "Python 3",
   "language": "python",
   "name": "python3"
  },
  "language_info": {
   "codemirror_mode": {
    "name": "ipython",
    "version": 2
   },
   "file_extension": ".py",
   "mimetype": "text/x-python",
   "name": "python",
   "nbconvert_exporter": "python",
   "pygments_lexer": "ipython2",
   "version": "2.7.6"
  }
 },
 "nbformat": 4,
 "nbformat_minor": 0
}
