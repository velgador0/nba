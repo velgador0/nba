{
 "cells": [
  {
   "cell_type": "markdown",
   "metadata": {},
   "source": [
    "# Exploring the Volume and Efficiency of Different Types of Offensive Possessions in the NBA\n",
    "\n",
    "The purpose of this analysis is to perform some exploratory data analysis of NBA offense, starting in the current 2022-2023 season.\n",
    "\n",
    "Note : If the graphs aren't displaying, you might just need to open the notebook file and make sure it is trusted so that the interactive plots will render.\n",
    "\n",
    "The NBA API breaks down offensive possessions into several types :\n",
    "\n",
    "* Cut\n",
    "* Handoff\n",
    "* Isolation\n",
    "* Miscellaneous\n",
    "* OffScreen\n",
    "* Postup\n",
    "* PRBallHandler\n",
    "* PRRollman\n",
    "* OffRebound\n",
    "* Spotup\n",
    "* Transition\n",
    "\n",
    "A good starting point for measuring offensive efficiency is points per possession (PPP). To put our analysis into context, let's start by calculating the average points per possession across all players and play types.\n",
    "\n",
    "## Scraping the NPA Stats API\n",
    "\n",
    "The NBA SynergyPlayTypes endpoint doesn't let us call all players and play types at once, so instead we'll just do an API call for each playtype and merge the datasets together."
   ]
  },
  {
   "cell_type": "code",
   "execution_count": 215,
   "metadata": {},
   "outputs": [
    {
     "name": "stdout",
     "output_type": "stream",
     "text": [
      "Cut called successfully.\n",
      "Handoff called successfully.\n",
      "Isolation called successfully.\n",
      "Misc called successfully.\n",
      "OffScreen called successfully.\n",
      "Postup called successfully.\n",
      "PRBallHandler called successfully.\n",
      "PRRollman called successfully.\n",
      "OffRebound called successfully.\n",
      "Spotup called successfully.\n",
      "Transition called successfully.\n"
     ]
    }
   ],
   "source": [
    "from nba_api.stats import endpoints\n",
    "import pandas as pd\n",
    "import time\n",
    "import numpy as np\n",
    "\n",
    "#hi\n",
    "\n",
    "# loop over the different play types\n",
    "play_types_list = ['Cut','Handoff','Isolation','Misc','OffScreen','Postup','PRBallHandler','PRRollman','OffRebound','Spotup','Transition']\n",
    "df = pd.DataFrame()\n",
    "\n",
    "for play_type in play_types_list:\n",
    "\n",
    "    # The NBA API often times out on calls, using a while loop to simply automate retries of our api call\n",
    "    while True:\n",
    "        try:\n",
    "            # response = endpoints.SynergyPlayTypes(play_type_nullable=play_type, player_or_team_abbreviation='P', type_grouping_nullable='Offensive').get_data_frames()[0]\n",
    "            print(f'{play_type} called successfully.')\n",
    "            break # quit the loop if successful\n",
    "        except:\n",
    "            print(f'Error with {play_type} call.')\n",
    "            time.sleep(5)\n",
    "\n",
    "    # combine each call into one dataframe\n",
    "    df = pd.concat([df,response])\n",
    "    time.sleep(5)\n",
    "\n",
    "# df.to_csv('synergy_all_offensive_possessions_by_player.csv')"
   ]
  },
  {
   "cell_type": "markdown",
   "metadata": {},
   "source": [
    "Let's save this as a csv so that in the future we can just read from the csv to save some time for analysis. We can always rerun the previous cell when we want to update our data."
   ]
  },
  {
   "cell_type": "code",
   "execution_count": 216,
   "metadata": {},
   "outputs": [
    {
     "name": "stdout",
     "output_type": "stream",
     "text": [
      "Read file from csv.\n"
     ]
    }
   ],
   "source": [
    "df = pd.read_csv('synergy_all_offensive_possessions_by_player.csv')\n",
    "print('Read file from csv.')"
   ]
  },
  {
   "cell_type": "markdown",
   "metadata": {},
   "source": [
    "## Calculating Average Points Per Possession for the Entire League\n",
    "\n",
    "The complete csv contains many extraneous columns, let's select just a couple that we are interested in.\n",
    "\n",
    "* PLAYER_NAME and TEAM_NAME will identify the players.\n",
    "* PLAY_TYPE describes the type of offensive possession.\n",
    "* PPP gives us the average number of points scored per possession by that player for a certain type of shot attempt.\n",
    "* POSS is the number of possessions that each player utilizes per type of shot attempt."
   ]
  },
  {
   "cell_type": "code",
   "execution_count": 217,
   "metadata": {},
   "outputs": [],
   "source": [
    "df = df[['PLAYER_NAME','TEAM_NAME','PLAY_TYPE','PPP','POSS']]\n",
    "\n",
    "# sort by player name then play type\n",
    "df = df.sort_values(['PLAYER_NAME','PLAY_TYPE'])"
   ]
  },
  {
   "cell_type": "markdown",
   "metadata": {},
   "source": [
    "Now, by calculating the weighted average of points per possession weighted by number of possessions we get our league average PPP of 1.019. That should give us some useful context for our play type analysis."
   ]
  },
  {
   "cell_type": "code",
   "execution_count": 218,
   "metadata": {},
   "outputs": [
    {
     "data": {
      "text/plain": [
       "1.0194306169357525"
      ]
     },
     "execution_count": 218,
     "metadata": {},
     "output_type": "execute_result"
    }
   ],
   "source": [
    "league_average_ppp = np.average(df['PPP'], weights=df['POSS'])\n",
    "league_average_ppp"
   ]
  },
  {
   "cell_type": "markdown",
   "metadata": {},
   "source": [
    "## Calculating PPP and Possession Frequency per Play Type\n",
    "\n",
    "Next, let's calculate PPP for each play type to see which types of plays tend to be more and less efficient."
   ]
  },
  {
   "cell_type": "code",
   "execution_count": 219,
   "metadata": {},
   "outputs": [
    {
     "data": {
      "text/html": [
       "<div>\n",
       "<style scoped>\n",
       "    .dataframe tbody tr th:only-of-type {\n",
       "        vertical-align: middle;\n",
       "    }\n",
       "\n",
       "    .dataframe tbody tr th {\n",
       "        vertical-align: top;\n",
       "    }\n",
       "\n",
       "    .dataframe thead th {\n",
       "        text-align: right;\n",
       "    }\n",
       "</style>\n",
       "<table border=\"1\" class=\"dataframe\">\n",
       "  <thead>\n",
       "    <tr style=\"text-align: right;\">\n",
       "      <th></th>\n",
       "      <th>PLAY_TYPE</th>\n",
       "      <th>PPP</th>\n",
       "      <th>POSS</th>\n",
       "    </tr>\n",
       "  </thead>\n",
       "  <tbody>\n",
       "    <tr>\n",
       "      <th>3</th>\n",
       "      <td>Misc</td>\n",
       "      <td>0.542987</td>\n",
       "      <td>10269</td>\n",
       "    </tr>\n",
       "    <tr>\n",
       "      <th>6</th>\n",
       "      <td>PRBallHandler</td>\n",
       "      <td>0.906870</td>\n",
       "      <td>31514</td>\n",
       "    </tr>\n",
       "    <tr>\n",
       "      <th>2</th>\n",
       "      <td>Isolation</td>\n",
       "      <td>0.947907</td>\n",
       "      <td>12065</td>\n",
       "    </tr>\n",
       "    <tr>\n",
       "      <th>5</th>\n",
       "      <td>OffScreen</td>\n",
       "      <td>0.951863</td>\n",
       "      <td>6508</td>\n",
       "    </tr>\n",
       "    <tr>\n",
       "      <th>1</th>\n",
       "      <td>Handoff</td>\n",
       "      <td>0.960385</td>\n",
       "      <td>8298</td>\n",
       "    </tr>\n",
       "    <tr>\n",
       "      <th>8</th>\n",
       "      <td>Postup</td>\n",
       "      <td>0.978828</td>\n",
       "      <td>7238</td>\n",
       "    </tr>\n",
       "    <tr>\n",
       "      <th>9</th>\n",
       "      <td>Spotup</td>\n",
       "      <td>1.039979</td>\n",
       "      <td>43021</td>\n",
       "    </tr>\n",
       "    <tr>\n",
       "      <th>10</th>\n",
       "      <td>Transition</td>\n",
       "      <td>1.134757</td>\n",
       "      <td>30843</td>\n",
       "    </tr>\n",
       "    <tr>\n",
       "      <th>4</th>\n",
       "      <td>OffRebound</td>\n",
       "      <td>1.148954</td>\n",
       "      <td>9044</td>\n",
       "    </tr>\n",
       "    <tr>\n",
       "      <th>7</th>\n",
       "      <td>PRRollMan</td>\n",
       "      <td>1.176522</td>\n",
       "      <td>9234</td>\n",
       "    </tr>\n",
       "    <tr>\n",
       "      <th>0</th>\n",
       "      <td>Cut</td>\n",
       "      <td>1.306083</td>\n",
       "      <td>12082</td>\n",
       "    </tr>\n",
       "  </tbody>\n",
       "</table>\n",
       "</div>"
      ],
      "text/plain": [
       "        PLAY_TYPE       PPP   POSS\n",
       "3            Misc  0.542987  10269\n",
       "6   PRBallHandler  0.906870  31514\n",
       "2       Isolation  0.947907  12065\n",
       "5       OffScreen  0.951863   6508\n",
       "1         Handoff  0.960385   8298\n",
       "8          Postup  0.978828   7238\n",
       "9          Spotup  1.039979  43021\n",
       "10     Transition  1.134757  30843\n",
       "4      OffRebound  1.148954   9044\n",
       "7       PRRollMan  1.176522   9234\n",
       "0             Cut  1.306083  12082"
      ]
     },
     "execution_count": 219,
     "metadata": {},
     "output_type": "execute_result"
    }
   ],
   "source": [
    "# create new dataframe for this analysis\n",
    "df_play_type_PPP = df.sort_values('PLAY_TYPE')\n",
    "\n",
    "# calculate PPP using grouped weighted average\n",
    "df_play_type_PPP_weights = df_play_type_PPP.groupby('PLAY_TYPE').apply(lambda x: np.average(x['PPP'], weights=x['POSS'])).reset_index(name='PPP')\n",
    "\n",
    "# calculate sum of possessions\n",
    "df_play_type_PPP_possessions = df_play_type_PPP.groupby('PLAY_TYPE')['POSS'].sum().reset_index()\n",
    "df_play_type_PPP = pd.merge(df_play_type_PPP_weights,df_play_type_PPP_possessions)\n",
    "df_play_type_PPP.sort_values('PPP')"
   ]
  },
  {
   "cell_type": "markdown",
   "metadata": {},
   "source": [
    "Now that we have volume and efficiency data for each shot type, let's graph our results."
   ]
  },
  {
   "cell_type": "code",
   "execution_count": 224,
   "metadata": {},
   "outputs": [
    {
     "data": {
      "application/vnd.plotly.v1+json": {
       "config": {
        "plotlyServerURL": "https://plot.ly"
       },
       "data": [
        {
         "hovertemplate": "POSS=%{x}<br>PPP=%{y}<br>PLAY_TYPE=%{text}<extra></extra>",
         "legendgroup": "",
         "marker": {
          "color": "#636efa",
          "symbol": "circle"
         },
         "mode": "markers+text",
         "name": "",
         "orientation": "v",
         "showlegend": false,
         "text": [
          "Cut",
          "Handoff",
          "Isolation",
          "Misc",
          "OffRebound",
          "OffScreen",
          "PRBallHandler",
          "PRRollMan",
          "Postup",
          "Spotup",
          "Transition"
         ],
         "textposition": "bottom center",
         "type": "scatter",
         "x": [
          12082,
          8298,
          12065,
          10269,
          9044,
          6508,
          31514,
          9234,
          7238,
          43021,
          30843
         ],
         "xaxis": "x",
         "y": [
          1.3060830160569443,
          0.960385273559894,
          0.9479066721922919,
          0.5429871457785568,
          1.148954223794781,
          0.9518633988936693,
          0.9068704068033255,
          1.1765219839722765,
          0.9788277148383532,
          1.0399787313172637,
          1.1347565736147587
         ],
         "yaxis": "y"
        }
       ],
       "layout": {
        "height": 700,
        "legend": {
         "tracegroupgap": 0
        },
        "margin": {
         "t": 60
        },
        "shapes": [
         {
          "line": {
           "dash": "dash",
           "width": 0.5
          },
          "type": "line",
          "x0": 0,
          "x1": 1,
          "xref": "x domain",
          "y0": 1.0194306169357525,
          "y1": 1.0194306169357525,
          "yref": "y"
         }
        ],
        "template": {
         "data": {
          "bar": [
           {
            "error_x": {
             "color": "#2a3f5f"
            },
            "error_y": {
             "color": "#2a3f5f"
            },
            "marker": {
             "line": {
              "color": "#E5ECF6",
              "width": 0.5
             },
             "pattern": {
              "fillmode": "overlay",
              "size": 10,
              "solidity": 0.2
             }
            },
            "type": "bar"
           }
          ],
          "barpolar": [
           {
            "marker": {
             "line": {
              "color": "#E5ECF6",
              "width": 0.5
             },
             "pattern": {
              "fillmode": "overlay",
              "size": 10,
              "solidity": 0.2
             }
            },
            "type": "barpolar"
           }
          ],
          "carpet": [
           {
            "aaxis": {
             "endlinecolor": "#2a3f5f",
             "gridcolor": "white",
             "linecolor": "white",
             "minorgridcolor": "white",
             "startlinecolor": "#2a3f5f"
            },
            "baxis": {
             "endlinecolor": "#2a3f5f",
             "gridcolor": "white",
             "linecolor": "white",
             "minorgridcolor": "white",
             "startlinecolor": "#2a3f5f"
            },
            "type": "carpet"
           }
          ],
          "choropleth": [
           {
            "colorbar": {
             "outlinewidth": 0,
             "ticks": ""
            },
            "type": "choropleth"
           }
          ],
          "contour": [
           {
            "colorbar": {
             "outlinewidth": 0,
             "ticks": ""
            },
            "colorscale": [
             [
              0,
              "#0d0887"
             ],
             [
              0.1111111111111111,
              "#46039f"
             ],
             [
              0.2222222222222222,
              "#7201a8"
             ],
             [
              0.3333333333333333,
              "#9c179e"
             ],
             [
              0.4444444444444444,
              "#bd3786"
             ],
             [
              0.5555555555555556,
              "#d8576b"
             ],
             [
              0.6666666666666666,
              "#ed7953"
             ],
             [
              0.7777777777777778,
              "#fb9f3a"
             ],
             [
              0.8888888888888888,
              "#fdca26"
             ],
             [
              1,
              "#f0f921"
             ]
            ],
            "type": "contour"
           }
          ],
          "contourcarpet": [
           {
            "colorbar": {
             "outlinewidth": 0,
             "ticks": ""
            },
            "type": "contourcarpet"
           }
          ],
          "heatmap": [
           {
            "colorbar": {
             "outlinewidth": 0,
             "ticks": ""
            },
            "colorscale": [
             [
              0,
              "#0d0887"
             ],
             [
              0.1111111111111111,
              "#46039f"
             ],
             [
              0.2222222222222222,
              "#7201a8"
             ],
             [
              0.3333333333333333,
              "#9c179e"
             ],
             [
              0.4444444444444444,
              "#bd3786"
             ],
             [
              0.5555555555555556,
              "#d8576b"
             ],
             [
              0.6666666666666666,
              "#ed7953"
             ],
             [
              0.7777777777777778,
              "#fb9f3a"
             ],
             [
              0.8888888888888888,
              "#fdca26"
             ],
             [
              1,
              "#f0f921"
             ]
            ],
            "type": "heatmap"
           }
          ],
          "heatmapgl": [
           {
            "colorbar": {
             "outlinewidth": 0,
             "ticks": ""
            },
            "colorscale": [
             [
              0,
              "#0d0887"
             ],
             [
              0.1111111111111111,
              "#46039f"
             ],
             [
              0.2222222222222222,
              "#7201a8"
             ],
             [
              0.3333333333333333,
              "#9c179e"
             ],
             [
              0.4444444444444444,
              "#bd3786"
             ],
             [
              0.5555555555555556,
              "#d8576b"
             ],
             [
              0.6666666666666666,
              "#ed7953"
             ],
             [
              0.7777777777777778,
              "#fb9f3a"
             ],
             [
              0.8888888888888888,
              "#fdca26"
             ],
             [
              1,
              "#f0f921"
             ]
            ],
            "type": "heatmapgl"
           }
          ],
          "histogram": [
           {
            "marker": {
             "pattern": {
              "fillmode": "overlay",
              "size": 10,
              "solidity": 0.2
             }
            },
            "type": "histogram"
           }
          ],
          "histogram2d": [
           {
            "colorbar": {
             "outlinewidth": 0,
             "ticks": ""
            },
            "colorscale": [
             [
              0,
              "#0d0887"
             ],
             [
              0.1111111111111111,
              "#46039f"
             ],
             [
              0.2222222222222222,
              "#7201a8"
             ],
             [
              0.3333333333333333,
              "#9c179e"
             ],
             [
              0.4444444444444444,
              "#bd3786"
             ],
             [
              0.5555555555555556,
              "#d8576b"
             ],
             [
              0.6666666666666666,
              "#ed7953"
             ],
             [
              0.7777777777777778,
              "#fb9f3a"
             ],
             [
              0.8888888888888888,
              "#fdca26"
             ],
             [
              1,
              "#f0f921"
             ]
            ],
            "type": "histogram2d"
           }
          ],
          "histogram2dcontour": [
           {
            "colorbar": {
             "outlinewidth": 0,
             "ticks": ""
            },
            "colorscale": [
             [
              0,
              "#0d0887"
             ],
             [
              0.1111111111111111,
              "#46039f"
             ],
             [
              0.2222222222222222,
              "#7201a8"
             ],
             [
              0.3333333333333333,
              "#9c179e"
             ],
             [
              0.4444444444444444,
              "#bd3786"
             ],
             [
              0.5555555555555556,
              "#d8576b"
             ],
             [
              0.6666666666666666,
              "#ed7953"
             ],
             [
              0.7777777777777778,
              "#fb9f3a"
             ],
             [
              0.8888888888888888,
              "#fdca26"
             ],
             [
              1,
              "#f0f921"
             ]
            ],
            "type": "histogram2dcontour"
           }
          ],
          "mesh3d": [
           {
            "colorbar": {
             "outlinewidth": 0,
             "ticks": ""
            },
            "type": "mesh3d"
           }
          ],
          "parcoords": [
           {
            "line": {
             "colorbar": {
              "outlinewidth": 0,
              "ticks": ""
             }
            },
            "type": "parcoords"
           }
          ],
          "pie": [
           {
            "automargin": true,
            "type": "pie"
           }
          ],
          "scatter": [
           {
            "fillpattern": {
             "fillmode": "overlay",
             "size": 10,
             "solidity": 0.2
            },
            "type": "scatter"
           }
          ],
          "scatter3d": [
           {
            "line": {
             "colorbar": {
              "outlinewidth": 0,
              "ticks": ""
             }
            },
            "marker": {
             "colorbar": {
              "outlinewidth": 0,
              "ticks": ""
             }
            },
            "type": "scatter3d"
           }
          ],
          "scattercarpet": [
           {
            "marker": {
             "colorbar": {
              "outlinewidth": 0,
              "ticks": ""
             }
            },
            "type": "scattercarpet"
           }
          ],
          "scattergeo": [
           {
            "marker": {
             "colorbar": {
              "outlinewidth": 0,
              "ticks": ""
             }
            },
            "type": "scattergeo"
           }
          ],
          "scattergl": [
           {
            "marker": {
             "colorbar": {
              "outlinewidth": 0,
              "ticks": ""
             }
            },
            "type": "scattergl"
           }
          ],
          "scattermapbox": [
           {
            "marker": {
             "colorbar": {
              "outlinewidth": 0,
              "ticks": ""
             }
            },
            "type": "scattermapbox"
           }
          ],
          "scatterpolar": [
           {
            "marker": {
             "colorbar": {
              "outlinewidth": 0,
              "ticks": ""
             }
            },
            "type": "scatterpolar"
           }
          ],
          "scatterpolargl": [
           {
            "marker": {
             "colorbar": {
              "outlinewidth": 0,
              "ticks": ""
             }
            },
            "type": "scatterpolargl"
           }
          ],
          "scatterternary": [
           {
            "marker": {
             "colorbar": {
              "outlinewidth": 0,
              "ticks": ""
             }
            },
            "type": "scatterternary"
           }
          ],
          "surface": [
           {
            "colorbar": {
             "outlinewidth": 0,
             "ticks": ""
            },
            "colorscale": [
             [
              0,
              "#0d0887"
             ],
             [
              0.1111111111111111,
              "#46039f"
             ],
             [
              0.2222222222222222,
              "#7201a8"
             ],
             [
              0.3333333333333333,
              "#9c179e"
             ],
             [
              0.4444444444444444,
              "#bd3786"
             ],
             [
              0.5555555555555556,
              "#d8576b"
             ],
             [
              0.6666666666666666,
              "#ed7953"
             ],
             [
              0.7777777777777778,
              "#fb9f3a"
             ],
             [
              0.8888888888888888,
              "#fdca26"
             ],
             [
              1,
              "#f0f921"
             ]
            ],
            "type": "surface"
           }
          ],
          "table": [
           {
            "cells": {
             "fill": {
              "color": "#EBF0F8"
             },
             "line": {
              "color": "white"
             }
            },
            "header": {
             "fill": {
              "color": "#C8D4E3"
             },
             "line": {
              "color": "white"
             }
            },
            "type": "table"
           }
          ]
         },
         "layout": {
          "annotationdefaults": {
           "arrowcolor": "#2a3f5f",
           "arrowhead": 0,
           "arrowwidth": 1
          },
          "autotypenumbers": "strict",
          "coloraxis": {
           "colorbar": {
            "outlinewidth": 0,
            "ticks": ""
           }
          },
          "colorscale": {
           "diverging": [
            [
             0,
             "#8e0152"
            ],
            [
             0.1,
             "#c51b7d"
            ],
            [
             0.2,
             "#de77ae"
            ],
            [
             0.3,
             "#f1b6da"
            ],
            [
             0.4,
             "#fde0ef"
            ],
            [
             0.5,
             "#f7f7f7"
            ],
            [
             0.6,
             "#e6f5d0"
            ],
            [
             0.7,
             "#b8e186"
            ],
            [
             0.8,
             "#7fbc41"
            ],
            [
             0.9,
             "#4d9221"
            ],
            [
             1,
             "#276419"
            ]
           ],
           "sequential": [
            [
             0,
             "#0d0887"
            ],
            [
             0.1111111111111111,
             "#46039f"
            ],
            [
             0.2222222222222222,
             "#7201a8"
            ],
            [
             0.3333333333333333,
             "#9c179e"
            ],
            [
             0.4444444444444444,
             "#bd3786"
            ],
            [
             0.5555555555555556,
             "#d8576b"
            ],
            [
             0.6666666666666666,
             "#ed7953"
            ],
            [
             0.7777777777777778,
             "#fb9f3a"
            ],
            [
             0.8888888888888888,
             "#fdca26"
            ],
            [
             1,
             "#f0f921"
            ]
           ],
           "sequentialminus": [
            [
             0,
             "#0d0887"
            ],
            [
             0.1111111111111111,
             "#46039f"
            ],
            [
             0.2222222222222222,
             "#7201a8"
            ],
            [
             0.3333333333333333,
             "#9c179e"
            ],
            [
             0.4444444444444444,
             "#bd3786"
            ],
            [
             0.5555555555555556,
             "#d8576b"
            ],
            [
             0.6666666666666666,
             "#ed7953"
            ],
            [
             0.7777777777777778,
             "#fb9f3a"
            ],
            [
             0.8888888888888888,
             "#fdca26"
            ],
            [
             1,
             "#f0f921"
            ]
           ]
          },
          "colorway": [
           "#636efa",
           "#EF553B",
           "#00cc96",
           "#ab63fa",
           "#FFA15A",
           "#19d3f3",
           "#FF6692",
           "#B6E880",
           "#FF97FF",
           "#FECB52"
          ],
          "font": {
           "color": "#2a3f5f"
          },
          "geo": {
           "bgcolor": "white",
           "lakecolor": "white",
           "landcolor": "#E5ECF6",
           "showlakes": true,
           "showland": true,
           "subunitcolor": "white"
          },
          "hoverlabel": {
           "align": "left"
          },
          "hovermode": "closest",
          "mapbox": {
           "style": "light"
          },
          "paper_bgcolor": "white",
          "plot_bgcolor": "#E5ECF6",
          "polar": {
           "angularaxis": {
            "gridcolor": "white",
            "linecolor": "white",
            "ticks": ""
           },
           "bgcolor": "#E5ECF6",
           "radialaxis": {
            "gridcolor": "white",
            "linecolor": "white",
            "ticks": ""
           }
          },
          "scene": {
           "xaxis": {
            "backgroundcolor": "#E5ECF6",
            "gridcolor": "white",
            "gridwidth": 2,
            "linecolor": "white",
            "showbackground": true,
            "ticks": "",
            "zerolinecolor": "white"
           },
           "yaxis": {
            "backgroundcolor": "#E5ECF6",
            "gridcolor": "white",
            "gridwidth": 2,
            "linecolor": "white",
            "showbackground": true,
            "ticks": "",
            "zerolinecolor": "white"
           },
           "zaxis": {
            "backgroundcolor": "#E5ECF6",
            "gridcolor": "white",
            "gridwidth": 2,
            "linecolor": "white",
            "showbackground": true,
            "ticks": "",
            "zerolinecolor": "white"
           }
          },
          "shapedefaults": {
           "line": {
            "color": "#2a3f5f"
           }
          },
          "ternary": {
           "aaxis": {
            "gridcolor": "white",
            "linecolor": "white",
            "ticks": ""
           },
           "baxis": {
            "gridcolor": "white",
            "linecolor": "white",
            "ticks": ""
           },
           "bgcolor": "#E5ECF6",
           "caxis": {
            "gridcolor": "white",
            "linecolor": "white",
            "ticks": ""
           }
          },
          "title": {
           "x": 0.05
          },
          "xaxis": {
           "automargin": true,
           "gridcolor": "white",
           "linecolor": "white",
           "ticks": "",
           "title": {
            "standoff": 15
           },
           "zerolinecolor": "white",
           "zerolinewidth": 2
          },
          "yaxis": {
           "automargin": true,
           "gridcolor": "white",
           "linecolor": "white",
           "ticks": "",
           "title": {
            "standoff": 15
           },
           "zerolinecolor": "white",
           "zerolinewidth": 2
          }
         }
        },
        "title": {
         "text": "Frequency and Efficiency of NBA Offensive Possessions by Shot Type (2022-2023)",
         "x": 0.5
        },
        "width": 1000,
        "xaxis": {
         "anchor": "y",
         "domain": [
          0,
          1
         ],
         "title": {
          "text": "Number of Possessions"
         }
        },
        "yaxis": {
         "anchor": "x",
         "domain": [
          0,
          1
         ],
         "title": {
          "text": "Points per Possession (PPP)"
         }
        }
       }
      },
      "text/html": [
       "<div>                            <div id=\"0b58e526-1cf9-4a31-a3bc-579c8ea1a8a5\" class=\"plotly-graph-div\" style=\"height:700px; width:1000px;\"></div>            <script type=\"text/javascript\">                require([\"plotly\"], function(Plotly) {                    window.PLOTLYENV=window.PLOTLYENV || {};                                    if (document.getElementById(\"0b58e526-1cf9-4a31-a3bc-579c8ea1a8a5\")) {                    Plotly.newPlot(                        \"0b58e526-1cf9-4a31-a3bc-579c8ea1a8a5\",                        [{\"hovertemplate\":\"POSS=%{x}<br>PPP=%{y}<br>PLAY_TYPE=%{text}<extra></extra>\",\"legendgroup\":\"\",\"marker\":{\"color\":\"#636efa\",\"symbol\":\"circle\"},\"mode\":\"markers+text\",\"name\":\"\",\"orientation\":\"v\",\"showlegend\":false,\"text\":[\"Cut\",\"Handoff\",\"Isolation\",\"Misc\",\"OffRebound\",\"OffScreen\",\"PRBallHandler\",\"PRRollMan\",\"Postup\",\"Spotup\",\"Transition\"],\"x\":[12082,8298,12065,10269,9044,6508,31514,9234,7238,43021,30843],\"xaxis\":\"x\",\"y\":[1.3060830160569443,0.960385273559894,0.9479066721922919,0.5429871457785568,1.148954223794781,0.9518633988936693,0.9068704068033255,1.1765219839722765,0.9788277148383532,1.0399787313172637,1.1347565736147587],\"yaxis\":\"y\",\"type\":\"scatter\",\"textposition\":\"bottom center\"}],                        {\"template\":{\"data\":{\"histogram2dcontour\":[{\"type\":\"histogram2dcontour\",\"colorbar\":{\"outlinewidth\":0,\"ticks\":\"\"},\"colorscale\":[[0.0,\"#0d0887\"],[0.1111111111111111,\"#46039f\"],[0.2222222222222222,\"#7201a8\"],[0.3333333333333333,\"#9c179e\"],[0.4444444444444444,\"#bd3786\"],[0.5555555555555556,\"#d8576b\"],[0.6666666666666666,\"#ed7953\"],[0.7777777777777778,\"#fb9f3a\"],[0.8888888888888888,\"#fdca26\"],[1.0,\"#f0f921\"]]}],\"choropleth\":[{\"type\":\"choropleth\",\"colorbar\":{\"outlinewidth\":0,\"ticks\":\"\"}}],\"histogram2d\":[{\"type\":\"histogram2d\",\"colorbar\":{\"outlinewidth\":0,\"ticks\":\"\"},\"colorscale\":[[0.0,\"#0d0887\"],[0.1111111111111111,\"#46039f\"],[0.2222222222222222,\"#7201a8\"],[0.3333333333333333,\"#9c179e\"],[0.4444444444444444,\"#bd3786\"],[0.5555555555555556,\"#d8576b\"],[0.6666666666666666,\"#ed7953\"],[0.7777777777777778,\"#fb9f3a\"],[0.8888888888888888,\"#fdca26\"],[1.0,\"#f0f921\"]]}],\"heatmap\":[{\"type\":\"heatmap\",\"colorbar\":{\"outlinewidth\":0,\"ticks\":\"\"},\"colorscale\":[[0.0,\"#0d0887\"],[0.1111111111111111,\"#46039f\"],[0.2222222222222222,\"#7201a8\"],[0.3333333333333333,\"#9c179e\"],[0.4444444444444444,\"#bd3786\"],[0.5555555555555556,\"#d8576b\"],[0.6666666666666666,\"#ed7953\"],[0.7777777777777778,\"#fb9f3a\"],[0.8888888888888888,\"#fdca26\"],[1.0,\"#f0f921\"]]}],\"heatmapgl\":[{\"type\":\"heatmapgl\",\"colorbar\":{\"outlinewidth\":0,\"ticks\":\"\"},\"colorscale\":[[0.0,\"#0d0887\"],[0.1111111111111111,\"#46039f\"],[0.2222222222222222,\"#7201a8\"],[0.3333333333333333,\"#9c179e\"],[0.4444444444444444,\"#bd3786\"],[0.5555555555555556,\"#d8576b\"],[0.6666666666666666,\"#ed7953\"],[0.7777777777777778,\"#fb9f3a\"],[0.8888888888888888,\"#fdca26\"],[1.0,\"#f0f921\"]]}],\"contourcarpet\":[{\"type\":\"contourcarpet\",\"colorbar\":{\"outlinewidth\":0,\"ticks\":\"\"}}],\"contour\":[{\"type\":\"contour\",\"colorbar\":{\"outlinewidth\":0,\"ticks\":\"\"},\"colorscale\":[[0.0,\"#0d0887\"],[0.1111111111111111,\"#46039f\"],[0.2222222222222222,\"#7201a8\"],[0.3333333333333333,\"#9c179e\"],[0.4444444444444444,\"#bd3786\"],[0.5555555555555556,\"#d8576b\"],[0.6666666666666666,\"#ed7953\"],[0.7777777777777778,\"#fb9f3a\"],[0.8888888888888888,\"#fdca26\"],[1.0,\"#f0f921\"]]}],\"surface\":[{\"type\":\"surface\",\"colorbar\":{\"outlinewidth\":0,\"ticks\":\"\"},\"colorscale\":[[0.0,\"#0d0887\"],[0.1111111111111111,\"#46039f\"],[0.2222222222222222,\"#7201a8\"],[0.3333333333333333,\"#9c179e\"],[0.4444444444444444,\"#bd3786\"],[0.5555555555555556,\"#d8576b\"],[0.6666666666666666,\"#ed7953\"],[0.7777777777777778,\"#fb9f3a\"],[0.8888888888888888,\"#fdca26\"],[1.0,\"#f0f921\"]]}],\"mesh3d\":[{\"type\":\"mesh3d\",\"colorbar\":{\"outlinewidth\":0,\"ticks\":\"\"}}],\"scatter\":[{\"fillpattern\":{\"fillmode\":\"overlay\",\"size\":10,\"solidity\":0.2},\"type\":\"scatter\"}],\"parcoords\":[{\"type\":\"parcoords\",\"line\":{\"colorbar\":{\"outlinewidth\":0,\"ticks\":\"\"}}}],\"scatterpolargl\":[{\"type\":\"scatterpolargl\",\"marker\":{\"colorbar\":{\"outlinewidth\":0,\"ticks\":\"\"}}}],\"bar\":[{\"error_x\":{\"color\":\"#2a3f5f\"},\"error_y\":{\"color\":\"#2a3f5f\"},\"marker\":{\"line\":{\"color\":\"#E5ECF6\",\"width\":0.5},\"pattern\":{\"fillmode\":\"overlay\",\"size\":10,\"solidity\":0.2}},\"type\":\"bar\"}],\"scattergeo\":[{\"type\":\"scattergeo\",\"marker\":{\"colorbar\":{\"outlinewidth\":0,\"ticks\":\"\"}}}],\"scatterpolar\":[{\"type\":\"scatterpolar\",\"marker\":{\"colorbar\":{\"outlinewidth\":0,\"ticks\":\"\"}}}],\"histogram\":[{\"marker\":{\"pattern\":{\"fillmode\":\"overlay\",\"size\":10,\"solidity\":0.2}},\"type\":\"histogram\"}],\"scattergl\":[{\"type\":\"scattergl\",\"marker\":{\"colorbar\":{\"outlinewidth\":0,\"ticks\":\"\"}}}],\"scatter3d\":[{\"type\":\"scatter3d\",\"line\":{\"colorbar\":{\"outlinewidth\":0,\"ticks\":\"\"}},\"marker\":{\"colorbar\":{\"outlinewidth\":0,\"ticks\":\"\"}}}],\"scattermapbox\":[{\"type\":\"scattermapbox\",\"marker\":{\"colorbar\":{\"outlinewidth\":0,\"ticks\":\"\"}}}],\"scatterternary\":[{\"type\":\"scatterternary\",\"marker\":{\"colorbar\":{\"outlinewidth\":0,\"ticks\":\"\"}}}],\"scattercarpet\":[{\"type\":\"scattercarpet\",\"marker\":{\"colorbar\":{\"outlinewidth\":0,\"ticks\":\"\"}}}],\"carpet\":[{\"aaxis\":{\"endlinecolor\":\"#2a3f5f\",\"gridcolor\":\"white\",\"linecolor\":\"white\",\"minorgridcolor\":\"white\",\"startlinecolor\":\"#2a3f5f\"},\"baxis\":{\"endlinecolor\":\"#2a3f5f\",\"gridcolor\":\"white\",\"linecolor\":\"white\",\"minorgridcolor\":\"white\",\"startlinecolor\":\"#2a3f5f\"},\"type\":\"carpet\"}],\"table\":[{\"cells\":{\"fill\":{\"color\":\"#EBF0F8\"},\"line\":{\"color\":\"white\"}},\"header\":{\"fill\":{\"color\":\"#C8D4E3\"},\"line\":{\"color\":\"white\"}},\"type\":\"table\"}],\"barpolar\":[{\"marker\":{\"line\":{\"color\":\"#E5ECF6\",\"width\":0.5},\"pattern\":{\"fillmode\":\"overlay\",\"size\":10,\"solidity\":0.2}},\"type\":\"barpolar\"}],\"pie\":[{\"automargin\":true,\"type\":\"pie\"}]},\"layout\":{\"autotypenumbers\":\"strict\",\"colorway\":[\"#636efa\",\"#EF553B\",\"#00cc96\",\"#ab63fa\",\"#FFA15A\",\"#19d3f3\",\"#FF6692\",\"#B6E880\",\"#FF97FF\",\"#FECB52\"],\"font\":{\"color\":\"#2a3f5f\"},\"hovermode\":\"closest\",\"hoverlabel\":{\"align\":\"left\"},\"paper_bgcolor\":\"white\",\"plot_bgcolor\":\"#E5ECF6\",\"polar\":{\"bgcolor\":\"#E5ECF6\",\"angularaxis\":{\"gridcolor\":\"white\",\"linecolor\":\"white\",\"ticks\":\"\"},\"radialaxis\":{\"gridcolor\":\"white\",\"linecolor\":\"white\",\"ticks\":\"\"}},\"ternary\":{\"bgcolor\":\"#E5ECF6\",\"aaxis\":{\"gridcolor\":\"white\",\"linecolor\":\"white\",\"ticks\":\"\"},\"baxis\":{\"gridcolor\":\"white\",\"linecolor\":\"white\",\"ticks\":\"\"},\"caxis\":{\"gridcolor\":\"white\",\"linecolor\":\"white\",\"ticks\":\"\"}},\"coloraxis\":{\"colorbar\":{\"outlinewidth\":0,\"ticks\":\"\"}},\"colorscale\":{\"sequential\":[[0.0,\"#0d0887\"],[0.1111111111111111,\"#46039f\"],[0.2222222222222222,\"#7201a8\"],[0.3333333333333333,\"#9c179e\"],[0.4444444444444444,\"#bd3786\"],[0.5555555555555556,\"#d8576b\"],[0.6666666666666666,\"#ed7953\"],[0.7777777777777778,\"#fb9f3a\"],[0.8888888888888888,\"#fdca26\"],[1.0,\"#f0f921\"]],\"sequentialminus\":[[0.0,\"#0d0887\"],[0.1111111111111111,\"#46039f\"],[0.2222222222222222,\"#7201a8\"],[0.3333333333333333,\"#9c179e\"],[0.4444444444444444,\"#bd3786\"],[0.5555555555555556,\"#d8576b\"],[0.6666666666666666,\"#ed7953\"],[0.7777777777777778,\"#fb9f3a\"],[0.8888888888888888,\"#fdca26\"],[1.0,\"#f0f921\"]],\"diverging\":[[0,\"#8e0152\"],[0.1,\"#c51b7d\"],[0.2,\"#de77ae\"],[0.3,\"#f1b6da\"],[0.4,\"#fde0ef\"],[0.5,\"#f7f7f7\"],[0.6,\"#e6f5d0\"],[0.7,\"#b8e186\"],[0.8,\"#7fbc41\"],[0.9,\"#4d9221\"],[1,\"#276419\"]]},\"xaxis\":{\"gridcolor\":\"white\",\"linecolor\":\"white\",\"ticks\":\"\",\"title\":{\"standoff\":15},\"zerolinecolor\":\"white\",\"automargin\":true,\"zerolinewidth\":2},\"yaxis\":{\"gridcolor\":\"white\",\"linecolor\":\"white\",\"ticks\":\"\",\"title\":{\"standoff\":15},\"zerolinecolor\":\"white\",\"automargin\":true,\"zerolinewidth\":2},\"scene\":{\"xaxis\":{\"backgroundcolor\":\"#E5ECF6\",\"gridcolor\":\"white\",\"linecolor\":\"white\",\"showbackground\":true,\"ticks\":\"\",\"zerolinecolor\":\"white\",\"gridwidth\":2},\"yaxis\":{\"backgroundcolor\":\"#E5ECF6\",\"gridcolor\":\"white\",\"linecolor\":\"white\",\"showbackground\":true,\"ticks\":\"\",\"zerolinecolor\":\"white\",\"gridwidth\":2},\"zaxis\":{\"backgroundcolor\":\"#E5ECF6\",\"gridcolor\":\"white\",\"linecolor\":\"white\",\"showbackground\":true,\"ticks\":\"\",\"zerolinecolor\":\"white\",\"gridwidth\":2}},\"shapedefaults\":{\"line\":{\"color\":\"#2a3f5f\"}},\"annotationdefaults\":{\"arrowcolor\":\"#2a3f5f\",\"arrowhead\":0,\"arrowwidth\":1},\"geo\":{\"bgcolor\":\"white\",\"landcolor\":\"#E5ECF6\",\"subunitcolor\":\"white\",\"showland\":true,\"showlakes\":true,\"lakecolor\":\"white\"},\"title\":{\"x\":0.05},\"mapbox\":{\"style\":\"light\"}}},\"xaxis\":{\"anchor\":\"y\",\"domain\":[0.0,1.0],\"title\":{\"text\":\"Number of Possessions\"}},\"yaxis\":{\"anchor\":\"x\",\"domain\":[0.0,1.0],\"title\":{\"text\":\"Points per Possession (PPP)\"}},\"legend\":{\"tracegroupgap\":0},\"margin\":{\"t\":60},\"height\":700,\"width\":1000,\"title\":{\"text\":\"Frequency and Efficiency of NBA Offensive Possessions by Shot Type (2022-2023)\",\"x\":0.5},\"shapes\":[{\"line\":{\"dash\":\"dash\",\"width\":0.5},\"type\":\"line\",\"x0\":0,\"x1\":1,\"xref\":\"x domain\",\"y0\":1.0194306169357525,\"y1\":1.0194306169357525,\"yref\":\"y\"}]},                        {\"responsive\": true}                    ).then(function(){\n",
       "                            \n",
       "var gd = document.getElementById('0b58e526-1cf9-4a31-a3bc-579c8ea1a8a5');\n",
       "var x = new MutationObserver(function (mutations, observer) {{\n",
       "        var display = window.getComputedStyle(gd).display;\n",
       "        if (!display || display === 'none') {{\n",
       "            console.log([gd, 'removed!']);\n",
       "            Plotly.purge(gd);\n",
       "            observer.disconnect();\n",
       "        }}\n",
       "}});\n",
       "\n",
       "// Listen for the removal of the full notebook cells\n",
       "var notebookContainer = gd.closest('#notebook-container');\n",
       "if (notebookContainer) {{\n",
       "    x.observe(notebookContainer, {childList: true});\n",
       "}}\n",
       "\n",
       "// Listen for the clearing of the current output cell\n",
       "var outputEl = gd.closest('.output');\n",
       "if (outputEl) {{\n",
       "    x.observe(outputEl, {childList: true});\n",
       "}}\n",
       "\n",
       "                        })                };                });            </script>        </div>"
      ]
     },
     "metadata": {},
     "output_type": "display_data"
    }
   ],
   "source": [
    "import plotly.express as px\n",
    "fig = px.scatter(df_play_type_PPP, x='POSS', y='PPP', text='PLAY_TYPE', width=1000, height=700)\n",
    "fig.update_layout(title_text='Frequency and Efficiency of NBA Offensive Possessions by Shot Type (2022-2023)', title_x=0.5)\n",
    "fig.update_traces(textposition='bottom center')\n",
    "fig.add_hline(y=league_average_ppp, line_dash='dash', line_width = 0.5)\n",
    "fig.update_xaxes(title_text='Number of Possessions')\n",
    "fig.update_yaxes(title_text='Points per Possession (PPP)')\n",
    "fig.show()"
   ]
  },
  {
   "cell_type": "markdown",
   "metadata": {},
   "source": [
    "First, let's start by taking a look at efficiency as measured by PPP.\n",
    "\n",
    "* Cutting to the basket is by far the most efficient type of possession at 1.31 PPP.\n",
    "* Misc possessions are extremely inefficient at 0.54 PPP.\n",
    "* The rest of the shot types are more tightly clustered between 0.8PPP and 1.2PPP\n",
    "\n",
    "Next, let's look at the number of possessions utilized for each shot type.\n",
    "* Spotting up is by far the most common type of possession, with over 43k occurrences in the '22 season.\n",
    "* Transition and Pick and Roll Ball Handler possessions are also quite frequent at around 31k occurrences.\n",
    "* All other possession types occur significantly less frequently, clustered between 6k and 12k occurrences.\n",
    "\n",
    "A major trend in modern NBA offense has been the rise of faster paced play relying on weaker transition defenses. The data here supports this trend, showing both the high frequency and efficiency of these types of possessions."
   ]
  },
  {
   "cell_type": "markdown",
   "metadata": {},
   "source": [
    "## PPP and Possession Frequency at the Team Level\n",
    "\n",
    "Now that we have taken a look at offensive possessions by shot type at the league-level, let's move on to analyzing shot possessions at the team level."
   ]
  },
  {
   "cell_type": "code",
   "execution_count": 221,
   "metadata": {},
   "outputs": [
    {
     "data": {
      "text/html": [
       "<div>\n",
       "<style scoped>\n",
       "    .dataframe tbody tr th:only-of-type {\n",
       "        vertical-align: middle;\n",
       "    }\n",
       "\n",
       "    .dataframe tbody tr th {\n",
       "        vertical-align: top;\n",
       "    }\n",
       "\n",
       "    .dataframe thead th {\n",
       "        text-align: right;\n",
       "    }\n",
       "</style>\n",
       "<table border=\"1\" class=\"dataframe\">\n",
       "  <thead>\n",
       "    <tr style=\"text-align: right;\">\n",
       "      <th></th>\n",
       "      <th>TEAM_NAME</th>\n",
       "      <th>PLAY_TYPE</th>\n",
       "      <th>PPP</th>\n",
       "      <th>POSS</th>\n",
       "    </tr>\n",
       "  </thead>\n",
       "  <tbody>\n",
       "    <tr>\n",
       "      <th>0</th>\n",
       "      <td>Atlanta Hawks</td>\n",
       "      <td>Cut</td>\n",
       "      <td>1.388962</td>\n",
       "      <td>342</td>\n",
       "    </tr>\n",
       "    <tr>\n",
       "      <th>1</th>\n",
       "      <td>Atlanta Hawks</td>\n",
       "      <td>Handoff</td>\n",
       "      <td>1.019487</td>\n",
       "      <td>154</td>\n",
       "    </tr>\n",
       "    <tr>\n",
       "      <th>2</th>\n",
       "      <td>Atlanta Hawks</td>\n",
       "      <td>Isolation</td>\n",
       "      <td>0.977146</td>\n",
       "      <td>481</td>\n",
       "    </tr>\n",
       "    <tr>\n",
       "      <th>3</th>\n",
       "      <td>Atlanta Hawks</td>\n",
       "      <td>Misc</td>\n",
       "      <td>0.613968</td>\n",
       "      <td>285</td>\n",
       "    </tr>\n",
       "    <tr>\n",
       "      <th>4</th>\n",
       "      <td>Atlanta Hawks</td>\n",
       "      <td>OffRebound</td>\n",
       "      <td>1.114693</td>\n",
       "      <td>322</td>\n",
       "    </tr>\n",
       "    <tr>\n",
       "      <th>...</th>\n",
       "      <td>...</td>\n",
       "      <td>...</td>\n",
       "      <td>...</td>\n",
       "      <td>...</td>\n",
       "    </tr>\n",
       "    <tr>\n",
       "      <th>325</th>\n",
       "      <td>Washington Wizards</td>\n",
       "      <td>PRBallHandler</td>\n",
       "      <td>0.897693</td>\n",
       "      <td>919</td>\n",
       "    </tr>\n",
       "    <tr>\n",
       "      <th>326</th>\n",
       "      <td>Washington Wizards</td>\n",
       "      <td>PRRollMan</td>\n",
       "      <td>1.197404</td>\n",
       "      <td>324</td>\n",
       "    </tr>\n",
       "    <tr>\n",
       "      <th>327</th>\n",
       "      <td>Washington Wizards</td>\n",
       "      <td>Postup</td>\n",
       "      <td>0.996683</td>\n",
       "      <td>293</td>\n",
       "    </tr>\n",
       "    <tr>\n",
       "      <th>328</th>\n",
       "      <td>Washington Wizards</td>\n",
       "      <td>Spotup</td>\n",
       "      <td>1.035888</td>\n",
       "      <td>1423</td>\n",
       "    </tr>\n",
       "    <tr>\n",
       "      <th>329</th>\n",
       "      <td>Washington Wizards</td>\n",
       "      <td>Transition</td>\n",
       "      <td>1.133520</td>\n",
       "      <td>898</td>\n",
       "    </tr>\n",
       "  </tbody>\n",
       "</table>\n",
       "<p>330 rows × 4 columns</p>\n",
       "</div>"
      ],
      "text/plain": [
       "              TEAM_NAME      PLAY_TYPE       PPP  POSS\n",
       "0         Atlanta Hawks            Cut  1.388962   342\n",
       "1         Atlanta Hawks        Handoff  1.019487   154\n",
       "2         Atlanta Hawks      Isolation  0.977146   481\n",
       "3         Atlanta Hawks           Misc  0.613968   285\n",
       "4         Atlanta Hawks     OffRebound  1.114693   322\n",
       "..                  ...            ...       ...   ...\n",
       "325  Washington Wizards  PRBallHandler  0.897693   919\n",
       "326  Washington Wizards      PRRollMan  1.197404   324\n",
       "327  Washington Wizards         Postup  0.996683   293\n",
       "328  Washington Wizards         Spotup  1.035888  1423\n",
       "329  Washington Wizards     Transition  1.133520   898\n",
       "\n",
       "[330 rows x 4 columns]"
      ]
     },
     "execution_count": 221,
     "metadata": {},
     "output_type": "execute_result"
    }
   ],
   "source": [
    "# create new dataframe for this analysis\n",
    "df_team = df.sort_values('PLAY_TYPE')\n",
    "\n",
    "# group data by team and play type, then calculate PPP with weighted average\n",
    "df_team_PPP = df_team.groupby(['TEAM_NAME','PLAY_TYPE']).apply(lambda x: np.average(x['PPP'], weights=x['POSS'])).reset_index(name='PPP')\n",
    "\n",
    "# calculate sum of possessions\n",
    "df_team_possessions = df_team.groupby(['TEAM_NAME','PLAY_TYPE'])['POSS'].sum().reset_index()\n",
    "\n",
    "df_team = pd.merge(df_team_PPP,df_team_possessions)\n",
    "df_team.sort_values(['TEAM_NAME','PLAY_TYPE'])"
   ]
  },
  {
   "cell_type": "code",
   "execution_count": 222,
   "metadata": {},
   "outputs": [
    {
     "data": {
      "application/vnd.plotly.v1+json": {
       "config": {
        "plotlyServerURL": "https://plot.ly"
       },
       "data": [
        {
         "hovertemplate": "<b>%{hovertext}</b><br><br>PLAY_TYPE=Cut<br>POSS=%{x}<br>PPP=%{y}<extra></extra>",
         "hovertext": [
          "Atlanta Hawks",
          "Boston Celtics",
          "Brooklyn Nets",
          "Charlotte Hornets",
          "Chicago Bulls",
          "Cleveland Cavaliers",
          "Dallas Mavericks",
          "Denver Nuggets",
          "Detroit Pistons",
          "Golden State Warriors",
          "Houston Rockets",
          "Indiana Pacers",
          "LA Clippers",
          "Los Angeles Lakers",
          "Memphis Grizzlies",
          "Miami Heat",
          "Milwaukee Bucks",
          "Minnesota Timberwolves",
          "New Orleans Pelicans",
          "New York Knicks",
          "Oklahoma City Thunder",
          "Orlando Magic",
          "Philadelphia 76ers",
          "Phoenix Suns",
          "Portland Trail Blazers",
          "Sacramento Kings",
          "San Antonio Spurs",
          "Toronto Raptors",
          "Utah Jazz",
          "Washington Wizards"
         ],
         "legendgroup": "Cut",
         "marker": {
          "color": "#636efa",
          "symbol": "circle"
         },
         "mode": "markers",
         "name": "Cut",
         "orientation": "v",
         "showlegend": true,
         "type": "scatter",
         "x": [
          342,
          301,
          445,
          423,
          303,
          534,
          227,
          554,
          330,
          623,
          413,
          365,
          249,
          385,
          436,
          457,
          294,
          375,
          473,
          373,
          468,
          353,
          277,
          390,
          417,
          498,
          466,
          447,
          455,
          409
         ],
         "xaxis": "x",
         "y": [
          1.3889619883040936,
          1.3654617940199336,
          1.2721528089887641,
          1.2906950354609927,
          1.3465577557755777,
          1.3855898876404495,
          1.3921762114537446,
          1.3825324909747292,
          1.2818666666666665,
          1.319505617977528,
          1.1404866828087168,
          1.3094657534246574,
          1.2891084337349397,
          1.4155090909090908,
          1.3348233944954127,
          1.2627199124726476,
          1.204091836734694,
          1.3414000000000001,
          1.3044186046511628,
          1.3538042895442362,
          1.2458418803418803,
          1.3485014164305948,
          1.2274187725631769,
          1.2105000000000001,
          1.3070143884892085,
          1.375240963855422,
          1.2402961373390557,
          1.255040268456376,
          1.2571824175824173,
          1.325281173594132
         ],
         "yaxis": "y"
        },
        {
         "hovertemplate": "<b>%{hovertext}</b><br><br>PLAY_TYPE=Handoff<br>POSS=%{x}<br>PPP=%{y}<extra></extra>",
         "hovertext": [
          "Atlanta Hawks",
          "Boston Celtics",
          "Brooklyn Nets",
          "Charlotte Hornets",
          "Chicago Bulls",
          "Cleveland Cavaliers",
          "Dallas Mavericks",
          "Denver Nuggets",
          "Detroit Pistons",
          "Golden State Warriors",
          "Houston Rockets",
          "Indiana Pacers",
          "LA Clippers",
          "Los Angeles Lakers",
          "Memphis Grizzlies",
          "Miami Heat",
          "Milwaukee Bucks",
          "Minnesota Timberwolves",
          "New Orleans Pelicans",
          "New York Knicks",
          "Oklahoma City Thunder",
          "Orlando Magic",
          "Philadelphia 76ers",
          "Phoenix Suns",
          "Portland Trail Blazers",
          "Sacramento Kings",
          "San Antonio Spurs",
          "Toronto Raptors",
          "Utah Jazz",
          "Washington Wizards"
         ],
         "legendgroup": "Handoff",
         "marker": {
          "color": "#EF553B",
          "symbol": "circle"
         },
         "mode": "markers",
         "name": "Handoff",
         "orientation": "v",
         "showlegend": true,
         "type": "scatter",
         "x": [
          154,
          202,
          307,
          338,
          110,
          221,
          118,
          324,
          169,
          433,
          313,
          325,
          187,
          137,
          292,
          388,
          327,
          221,
          329,
          325,
          154,
          341,
          139,
          286,
          302,
          560,
          502,
          210,
          337,
          247
         ],
         "xaxis": "x",
         "y": [
          1.019487012987013,
          1.0643762376237622,
          0.9902019543973942,
          1.0885236686390531,
          0.9090545454545454,
          0.9278778280542985,
          0.8730677966101695,
          0.879564814814815,
          0.8166272189349113,
          1.0208221709006928,
          0.9391693290734824,
          0.9936953846153846,
          0.8716363636363635,
          0.9779854014598539,
          0.9623116438356164,
          0.850590206185567,
          0.8592782874617736,
          0.9094434389140271,
          0.9818449848024315,
          0.9816861538461537,
          1.0260974025974023,
          0.8593782991202348,
          1.0142949640287768,
          0.8566083916083916,
          1.0828708609271522,
          1.0948607142857145,
          0.902378486055777,
          1.0190619047619047,
          0.9972789317507418,
          0.903
         ],
         "yaxis": "y"
        },
        {
         "hovertemplate": "<b>%{hovertext}</b><br><br>PLAY_TYPE=Isolation<br>POSS=%{x}<br>PPP=%{y}<extra></extra>",
         "hovertext": [
          "Atlanta Hawks",
          "Boston Celtics",
          "Brooklyn Nets",
          "Charlotte Hornets",
          "Chicago Bulls",
          "Cleveland Cavaliers",
          "Dallas Mavericks",
          "Denver Nuggets",
          "Detroit Pistons",
          "Golden State Warriors",
          "Houston Rockets",
          "Indiana Pacers",
          "LA Clippers",
          "Los Angeles Lakers",
          "Memphis Grizzlies",
          "Miami Heat",
          "Milwaukee Bucks",
          "Minnesota Timberwolves",
          "New Orleans Pelicans",
          "New York Knicks",
          "Oklahoma City Thunder",
          "Orlando Magic",
          "Philadelphia 76ers",
          "Phoenix Suns",
          "Portland Trail Blazers",
          "Sacramento Kings",
          "San Antonio Spurs",
          "Toronto Raptors",
          "Utah Jazz",
          "Washington Wizards"
         ],
         "legendgroup": "Isolation",
         "marker": {
          "color": "#00cc96",
          "symbol": "circle"
         },
         "mode": "markers",
         "name": "Isolation",
         "orientation": "v",
         "showlegend": true,
         "type": "scatter",
         "x": [
          481,
          484,
          565,
          257,
          341,
          343,
          739,
          312,
          425,
          219,
          390,
          243,
          542,
          563,
          246,
          401,
          371,
          444,
          320,
          555,
          473,
          368,
          645,
          235,
          515,
          248,
          149,
          495,
          364,
          332
         ],
         "xaxis": "x",
         "y": [
          0.9771455301455302,
          0.9463202479338844,
          1.1010991150442477,
          0.8795252918287938,
          1.0788651026392961,
          0.9390058309037901,
          1.0391569688768607,
          0.9455096153846153,
          0.8517952941176471,
          0.8950547945205479,
          0.941276923076923,
          0.9093045267489711,
          0.8763228782287823,
          0.8649200710479573,
          0.8456219512195122,
          0.9425935162094764,
          0.8383827493261456,
          0.9460518018018018,
          0.9469218749999999,
          0.9859333333333333,
          0.9872029598308668,
          0.8316277173913044,
          1.004568992248062,
          0.8296936170212766,
          1.0429145631067964,
          1.0239798387096775,
          0.758503355704698,
          0.8567313131313131,
          1.0714532967032968,
          0.8976807228915662
         ],
         "yaxis": "y"
        },
        {
         "hovertemplate": "<b>%{hovertext}</b><br><br>PLAY_TYPE=Misc<br>POSS=%{x}<br>PPP=%{y}<extra></extra>",
         "hovertext": [
          "Atlanta Hawks",
          "Boston Celtics",
          "Brooklyn Nets",
          "Charlotte Hornets",
          "Chicago Bulls",
          "Cleveland Cavaliers",
          "Dallas Mavericks",
          "Denver Nuggets",
          "Detroit Pistons",
          "Golden State Warriors",
          "Houston Rockets",
          "Indiana Pacers",
          "LA Clippers",
          "Los Angeles Lakers",
          "Memphis Grizzlies",
          "Miami Heat",
          "Milwaukee Bucks",
          "Minnesota Timberwolves",
          "New Orleans Pelicans",
          "New York Knicks",
          "Oklahoma City Thunder",
          "Orlando Magic",
          "Philadelphia 76ers",
          "Phoenix Suns",
          "Portland Trail Blazers",
          "Sacramento Kings",
          "San Antonio Spurs",
          "Toronto Raptors",
          "Utah Jazz",
          "Washington Wizards"
         ],
         "legendgroup": "Misc",
         "marker": {
          "color": "#ab63fa",
          "symbol": "circle"
         },
         "mode": "markers",
         "name": "Misc",
         "orientation": "v",
         "showlegend": true,
         "type": "scatter",
         "x": [
          285,
          302,
          336,
          326,
          282,
          296,
          321,
          381,
          401,
          412,
          367,
          366,
          352,
          308,
          362,
          332,
          359,
          356,
          356,
          312,
          263,
          362,
          321,
          394,
          395,
          307,
          373,
          293,
          391,
          358
         ],
         "xaxis": "x",
         "y": [
          0.6139684210526316,
          0.5860596026490067,
          0.6042500000000001,
          0.5121840490797546,
          0.5107269503546098,
          0.5539932432432433,
          0.5701869158878504,
          0.44608398950131234,
          0.5634513715710723,
          0.42948786407767,
          0.5393487738419618,
          0.5520792349726775,
          0.536877840909091,
          0.6105097402597401,
          0.5165662983425415,
          0.6025030120481928,
          0.5405125348189415,
          0.5057247191011236,
          0.47191853932584266,
          0.621849358974359,
          0.5171140684410646,
          0.5609033149171271,
          0.47035825545171345,
          0.5176827411167513,
          0.5417873417721519,
          0.6971661237785015,
          0.37804557640750674,
          0.6347440273037541,
          0.5676726342710998,
          0.6115614525139664
         ],
         "yaxis": "y"
        },
        {
         "hovertemplate": "<b>%{hovertext}</b><br><br>PLAY_TYPE=OffRebound<br>POSS=%{x}<br>PPP=%{y}<extra></extra>",
         "hovertext": [
          "Atlanta Hawks",
          "Boston Celtics",
          "Brooklyn Nets",
          "Charlotte Hornets",
          "Chicago Bulls",
          "Cleveland Cavaliers",
          "Dallas Mavericks",
          "Denver Nuggets",
          "Detroit Pistons",
          "Golden State Warriors",
          "Houston Rockets",
          "Indiana Pacers",
          "LA Clippers",
          "Los Angeles Lakers",
          "Memphis Grizzlies",
          "Miami Heat",
          "Milwaukee Bucks",
          "Minnesota Timberwolves",
          "New Orleans Pelicans",
          "New York Knicks",
          "Oklahoma City Thunder",
          "Orlando Magic",
          "Philadelphia 76ers",
          "Phoenix Suns",
          "Portland Trail Blazers",
          "Sacramento Kings",
          "San Antonio Spurs",
          "Toronto Raptors",
          "Utah Jazz",
          "Washington Wizards"
         ],
         "legendgroup": "OffRebound",
         "marker": {
          "color": "#FFA15A",
          "symbol": "circle"
         },
         "mode": "markers",
         "name": "OffRebound",
         "orientation": "v",
         "showlegend": true,
         "type": "scatter",
         "x": [
          322,
          235,
          186,
          427,
          268,
          254,
          137,
          320,
          320,
          287,
          384,
          257,
          272,
          274,
          402,
          263,
          293,
          270,
          397,
          392,
          315,
          326,
          201,
          356,
          230,
          211,
          361,
          427,
          373,
          284
         ],
         "xaxis": "x",
         "y": [
          1.114692546583851,
          1.2212893617021277,
          1.2473010752688172,
          1.1568266978922717,
          1.1567313432835822,
          1.1377086614173229,
          1.248343065693431,
          1.17194375,
          1.1624406250000001,
          1.0138362369337979,
          1.078125,
          1.105194552529183,
          0.9630330882352941,
          1.2519051094890508,
          1.0896417910447762,
          1.1142205323193917,
          1.2149590443686007,
          1.1444222222222222,
          1.2015163727959697,
          1.1276658163265305,
          0.9778666666666666,
          1.2239325153374234,
          1.1790995024875621,
          1.1205898876404494,
          1.1567782608695651,
          1.1896777251184834,
          1.2355872576177287,
          1.131096018735363,
          1.1770670241286862,
          1.2853978873239436
         ],
         "yaxis": "y"
        },
        {
         "hovertemplate": "<b>%{hovertext}</b><br><br>PLAY_TYPE=OffScreen<br>POSS=%{x}<br>PPP=%{y}<extra></extra>",
         "hovertext": [
          "Atlanta Hawks",
          "Boston Celtics",
          "Brooklyn Nets",
          "Charlotte Hornets",
          "Chicago Bulls",
          "Cleveland Cavaliers",
          "Dallas Mavericks",
          "Denver Nuggets",
          "Detroit Pistons",
          "Golden State Warriors",
          "Houston Rockets",
          "Indiana Pacers",
          "LA Clippers",
          "Los Angeles Lakers",
          "Memphis Grizzlies",
          "Miami Heat",
          "Milwaukee Bucks",
          "Minnesota Timberwolves",
          "New Orleans Pelicans",
          "New York Knicks",
          "Oklahoma City Thunder",
          "Orlando Magic",
          "Philadelphia 76ers",
          "Phoenix Suns",
          "Portland Trail Blazers",
          "Sacramento Kings",
          "San Antonio Spurs",
          "Toronto Raptors",
          "Utah Jazz",
          "Washington Wizards"
         ],
         "legendgroup": "OffScreen",
         "marker": {
          "color": "#19d3f3",
          "symbol": "circle"
         },
         "mode": "markers",
         "name": "OffScreen",
         "orientation": "v",
         "showlegend": true,
         "type": "scatter",
         "x": [
          280,
          343,
          229,
          260,
          135,
          192,
          158,
          223,
          246,
          596,
          103,
          205,
          276,
          124,
          204,
          228,
          124,
          250,
          227,
          118,
          80,
          138,
          101,
          223,
          244,
          185,
          178,
          182,
          437,
          219
         ],
         "xaxis": "x",
         "y": [
          0.8712750000000001,
          1.0145014577259475,
          1.0216768558951965,
          0.8421653846153847,
          0.8221481481481482,
          1.005421875,
          1.0694810126582277,
          0.9281165919282511,
          1.065162601626016,
          1.015253355704698,
          0.7475922330097087,
          0.9022341463414633,
          0.9528804347826088,
          0.8953387096774194,
          0.9312009803921569,
          0.8685219298245613,
          0.7983467741935484,
          0.867928,
          0.9560440528634361,
          0.8730084745762712,
          1.0875,
          1.0432826086956524,
          0.7027128712871288,
          0.9999103139013451,
          1.0898319672131147,
          0.8975189189189189,
          0.9773258426966293,
          0.9011978021978023,
          1.0203867276887872,
          0.9224292237442921
         ],
         "yaxis": "y"
        },
        {
         "hovertemplate": "<b>%{hovertext}</b><br><br>PLAY_TYPE=PRBallHandler<br>POSS=%{x}<br>PPP=%{y}<extra></extra>",
         "hovertext": [
          "Atlanta Hawks",
          "Boston Celtics",
          "Brooklyn Nets",
          "Charlotte Hornets",
          "Chicago Bulls",
          "Cleveland Cavaliers",
          "Dallas Mavericks",
          "Denver Nuggets",
          "Detroit Pistons",
          "Golden State Warriors",
          "Houston Rockets",
          "Indiana Pacers",
          "LA Clippers",
          "Los Angeles Lakers",
          "Memphis Grizzlies",
          "Miami Heat",
          "Milwaukee Bucks",
          "Minnesota Timberwolves",
          "New Orleans Pelicans",
          "New York Knicks",
          "Oklahoma City Thunder",
          "Orlando Magic",
          "Philadelphia 76ers",
          "Phoenix Suns",
          "Portland Trail Blazers",
          "Sacramento Kings",
          "San Antonio Spurs",
          "Toronto Raptors",
          "Utah Jazz",
          "Washington Wizards"
         ],
         "legendgroup": "PRBallHandler",
         "marker": {
          "color": "#FF6692",
          "symbol": "circle"
         },
         "mode": "markers",
         "name": "PRBallHandler",
         "orientation": "v",
         "showlegend": true,
         "type": "scatter",
         "x": [
          1353,
          983,
          743,
          1204,
          1270,
          1187,
          884,
          774,
          1328,
          836,
          1202,
          1105,
          1141,
          1044,
          1216,
          1073,
          900,
          1027,
          980,
          1158,
          1158,
          1138,
          849,
          1130,
          1035,
          799,
          1080,
          976,
          1022,
          919
         ],
         "xaxis": "x",
         "y": [
          0.915279379157428,
          0.9308301119023398,
          0.9919030955585463,
          0.7698953488372093,
          0.9526590551181102,
          0.9781718618365627,
          1.0213823529411763,
          0.8902984496124031,
          0.8478704819277109,
          0.9580586124401914,
          0.8134559068219634,
          0.8906262443438915,
          0.942957055214724,
          0.8697289272030652,
          0.8675370065789475,
          0.9393578751164958,
          0.9211222222222222,
          0.9182619279454723,
          0.8786153061224491,
          0.913490500863558,
          0.9083445595854923,
          0.926866432337434,
          0.9009387514723203,
          0.8715008849557522,
          1.0106434782608695,
          0.9384380475594495,
          0.8472916666666667,
          0.8781926229508197,
          0.9031174168297456,
          0.8976931447225245
         ],
         "yaxis": "y"
        },
        {
         "hovertemplate": "<b>%{hovertext}</b><br><br>PLAY_TYPE=PRRollMan<br>POSS=%{x}<br>PPP=%{y}<extra></extra>",
         "hovertext": [
          "Atlanta Hawks",
          "Boston Celtics",
          "Brooklyn Nets",
          "Charlotte Hornets",
          "Chicago Bulls",
          "Cleveland Cavaliers",
          "Dallas Mavericks",
          "Denver Nuggets",
          "Detroit Pistons",
          "Golden State Warriors",
          "Houston Rockets",
          "Indiana Pacers",
          "LA Clippers",
          "Los Angeles Lakers",
          "Memphis Grizzlies",
          "Miami Heat",
          "Milwaukee Bucks",
          "Minnesota Timberwolves",
          "New Orleans Pelicans",
          "New York Knicks",
          "Oklahoma City Thunder",
          "Orlando Magic",
          "Philadelphia 76ers",
          "Phoenix Suns",
          "Portland Trail Blazers",
          "Sacramento Kings",
          "San Antonio Spurs",
          "Toronto Raptors",
          "Utah Jazz",
          "Washington Wizards"
         ],
         "legendgroup": "PRRollMan",
         "marker": {
          "color": "#B6E880",
          "symbol": "circle"
         },
         "mode": "markers",
         "name": "PRRollMan",
         "orientation": "v",
         "showlegend": true,
         "type": "scatter",
         "x": [
          329,
          256,
          214,
          336,
          440,
          433,
          346,
          291,
          287,
          186,
          374,
          395,
          224,
          397,
          235,
          387,
          359,
          262,
          283,
          189,
          269,
          328,
          451,
          408,
          206,
          200,
          257,
          277,
          291,
          324
         ],
         "xaxis": "x",
         "y": [
          1.2765440729483282,
          1.1526093750000002,
          1.088859813084112,
          1.2143482142857143,
          1.109015909090909,
          1.1133464203233256,
          1.3381589595375722,
          1.374429553264605,
          1.19504181184669,
          1.1881290322580647,
          1.1097807486631015,
          1.070873417721519,
          1.1829151785714287,
          1.3402015113350128,
          1.2980340425531915,
          1.0596382428940572,
          1.1562395543175488,
          1.2022671755725192,
          1.1272120141342756,
          1.2324497354497355,
          1.0705947955390334,
          1.1523597560975607,
          1.2060243902439023,
          1.156752450980392,
          1.1408058252427185,
          1.16523,
          1.1010155642023347,
          1.097350180505415,
          1.216298969072165,
          1.1974043209876544
         ],
         "yaxis": "y"
        },
        {
         "hovertemplate": "<b>%{hovertext}</b><br><br>PLAY_TYPE=Postup<br>POSS=%{x}<br>PPP=%{y}<extra></extra>",
         "hovertext": [
          "Atlanta Hawks",
          "Boston Celtics",
          "Brooklyn Nets",
          "Charlotte Hornets",
          "Chicago Bulls",
          "Cleveland Cavaliers",
          "Dallas Mavericks",
          "Denver Nuggets",
          "Detroit Pistons",
          "Golden State Warriors",
          "Houston Rockets",
          "Indiana Pacers",
          "LA Clippers",
          "Los Angeles Lakers",
          "Memphis Grizzlies",
          "Miami Heat",
          "Milwaukee Bucks",
          "Minnesota Timberwolves",
          "New Orleans Pelicans",
          "New York Knicks",
          "Oklahoma City Thunder",
          "Orlando Magic",
          "Philadelphia 76ers",
          "Phoenix Suns",
          "Portland Trail Blazers",
          "Sacramento Kings",
          "San Antonio Spurs",
          "Toronto Raptors",
          "Utah Jazz",
          "Washington Wizards"
         ],
         "legendgroup": "Postup",
         "marker": {
          "color": "#FF97FF",
          "symbol": "circle"
         },
         "mode": "markers",
         "name": "Postup",
         "orientation": "v",
         "showlegend": true,
         "type": "scatter",
         "x": [
          186,
          162,
          151,
          162,
          313,
          193,
          304,
          478,
          214,
          119,
          205,
          130,
          284,
          319,
          167,
          212,
          449,
          148,
          379,
          225,
          75,
          190,
          329,
          385,
          284,
          189,
          257,
          306,
          130,
          293
         ],
         "xaxis": "x",
         "y": [
          1.0108602150537633,
          1.0680123456790123,
          0.9669205298013245,
          0.969141975308642,
          1.1275367412140576,
          0.777181347150259,
          1.049203947368421,
          1.0896380753138075,
          0.8833317757009347,
          0.7981512605042016,
          0.9559024390243901,
          0.9768923076923076,
          0.9896197183098592,
          0.993921630094044,
          0.934005988023952,
          0.9055707547169811,
          0.975325167037862,
          1.0068513513513515,
          0.9394696569920844,
          0.8177111111111112,
          1.1468666666666667,
          0.9104736842105263,
          1.121519756838906,
          1.0103194805194806,
          0.9189718309859155,
          1.0105555555555557,
          0.9494591439688717,
          0.9118333333333334,
          0.8766846153846153,
          0.9966825938566554
         ],
         "yaxis": "y"
        },
        {
         "hovertemplate": "<b>%{hovertext}</b><br><br>PLAY_TYPE=Spotup<br>POSS=%{x}<br>PPP=%{y}<extra></extra>",
         "hovertext": [
          "Atlanta Hawks",
          "Boston Celtics",
          "Brooklyn Nets",
          "Charlotte Hornets",
          "Chicago Bulls",
          "Cleveland Cavaliers",
          "Dallas Mavericks",
          "Denver Nuggets",
          "Detroit Pistons",
          "Golden State Warriors",
          "Houston Rockets",
          "Indiana Pacers",
          "LA Clippers",
          "Los Angeles Lakers",
          "Memphis Grizzlies",
          "Miami Heat",
          "Milwaukee Bucks",
          "Minnesota Timberwolves",
          "New Orleans Pelicans",
          "New York Knicks",
          "Oklahoma City Thunder",
          "Orlando Magic",
          "Philadelphia 76ers",
          "Phoenix Suns",
          "Portland Trail Blazers",
          "Sacramento Kings",
          "San Antonio Spurs",
          "Toronto Raptors",
          "Utah Jazz",
          "Washington Wizards"
         ],
         "legendgroup": "Spotup",
         "marker": {
          "color": "#FECB52",
          "symbol": "circle"
         },
         "mode": "markers",
         "name": "Spotup",
         "orientation": "v",
         "showlegend": true,
         "type": "scatter",
         "x": [
          1352,
          1648,
          1325,
          1526,
          1422,
          1335,
          1531,
          1173,
          1465,
          1279,
          1417,
          1511,
          1499,
          1318,
          1367,
          1271,
          1449,
          1557,
          1438,
          1616,
          1644,
          1366,
          1378,
          1653,
          1310,
          1375,
          1543,
          1394,
          1436,
          1423
         ],
         "xaxis": "x",
         "y": [
          0.988096153846154,
          1.1153974514563108,
          1.1260581132075471,
          0.9443414154652688,
          1.059148382559775,
          1.0134876404494382,
          1.0823919007184848,
          1.074058823529412,
          1.01500614334471,
          1.0905582486317438,
          1.0000119971771348,
          0.9913143613500992,
          1.128987991994663,
          1.0295819423368742,
          0.9949722019019751,
          1.0108560188827695,
          1.0483485162180817,
          1.053916506101477,
          1.0270695410292072,
          1.009233292079208,
          1.0201940389294404,
          1.0006749633967789,
          1.1329731494920174,
          1.0526709013914095,
          1.0672854961832061,
          1.0692021818181816,
          0.9947368762151652,
          0.9863034433285509,
          1.0454240947075208,
          1.035888264230499
         ],
         "yaxis": "y"
        },
        {
         "hovertemplate": "<b>%{hovertext}</b><br><br>PLAY_TYPE=Transition<br>POSS=%{x}<br>PPP=%{y}<extra></extra>",
         "hovertext": [
          "Atlanta Hawks",
          "Boston Celtics",
          "Brooklyn Nets",
          "Charlotte Hornets",
          "Chicago Bulls",
          "Cleveland Cavaliers",
          "Dallas Mavericks",
          "Denver Nuggets",
          "Detroit Pistons",
          "Golden State Warriors",
          "Houston Rockets",
          "Indiana Pacers",
          "LA Clippers",
          "Los Angeles Lakers",
          "Memphis Grizzlies",
          "Miami Heat",
          "Milwaukee Bucks",
          "Minnesota Timberwolves",
          "New Orleans Pelicans",
          "New York Knicks",
          "Oklahoma City Thunder",
          "Orlando Magic",
          "Philadelphia 76ers",
          "Phoenix Suns",
          "Portland Trail Blazers",
          "Sacramento Kings",
          "San Antonio Spurs",
          "Toronto Raptors",
          "Utah Jazz",
          "Washington Wizards"
         ],
         "legendgroup": "Transition",
         "marker": {
          "color": "#636efa",
          "symbol": "circle"
         },
         "mode": "markers",
         "name": "Transition",
         "orientation": "v",
         "showlegend": true,
         "type": "scatter",
         "x": [
          965,
          1037,
          1047,
          1139,
          998,
          940,
          794,
          1038,
          1055,
          1033,
          837,
          1246,
          1039,
          1207,
          1246,
          891,
          1073,
          1132,
          1042,
          973,
          1220,
          1007,
          884,
          861,
          836,
          1214,
          1009,
          1204,
          978,
          898
         ],
         "xaxis": "x",
         "y": [
          1.1721730569948186,
          1.1774513018322084,
          1.1577803247373446,
          1.097476733977173,
          1.113250501002004,
          1.1818340425531915,
          1.0969521410579344,
          1.2456233140655104,
          1.116719431279621,
          1.137385285575992,
          1.0262724014336917,
          1.1725963081861956,
          1.1281222329162655,
          1.104229494614747,
          1.119710272873194,
          1.144753086419753,
          1.0902702702702702,
          1.1536537102473499,
          1.1314913627639156,
          1.1183103802672145,
          1.1533950819672132,
          1.1042393247269118,
          1.20910407239819,
          1.1034006968641115,
          1.1676722488038278,
          1.080785831960461,
          1.1177888999008918,
          1.1245855481727574,
          1.162528629856851,
          1.13352004454343
         ],
         "yaxis": "y"
        }
       ],
       "layout": {
        "height": 700,
        "legend": {
         "title": {
          "text": "PLAY_TYPE"
         },
         "tracegroupgap": 0
        },
        "margin": {
         "t": 60
        },
        "shapes": [
         {
          "line": {
           "dash": "dash",
           "width": 0.5
          },
          "type": "line",
          "x0": 0,
          "x1": 1,
          "xref": "x domain",
          "y0": 1.0194306169357525,
          "y1": 1.0194306169357525,
          "yref": "y"
         }
        ],
        "template": {
         "data": {
          "bar": [
           {
            "error_x": {
             "color": "#2a3f5f"
            },
            "error_y": {
             "color": "#2a3f5f"
            },
            "marker": {
             "line": {
              "color": "#E5ECF6",
              "width": 0.5
             },
             "pattern": {
              "fillmode": "overlay",
              "size": 10,
              "solidity": 0.2
             }
            },
            "type": "bar"
           }
          ],
          "barpolar": [
           {
            "marker": {
             "line": {
              "color": "#E5ECF6",
              "width": 0.5
             },
             "pattern": {
              "fillmode": "overlay",
              "size": 10,
              "solidity": 0.2
             }
            },
            "type": "barpolar"
           }
          ],
          "carpet": [
           {
            "aaxis": {
             "endlinecolor": "#2a3f5f",
             "gridcolor": "white",
             "linecolor": "white",
             "minorgridcolor": "white",
             "startlinecolor": "#2a3f5f"
            },
            "baxis": {
             "endlinecolor": "#2a3f5f",
             "gridcolor": "white",
             "linecolor": "white",
             "minorgridcolor": "white",
             "startlinecolor": "#2a3f5f"
            },
            "type": "carpet"
           }
          ],
          "choropleth": [
           {
            "colorbar": {
             "outlinewidth": 0,
             "ticks": ""
            },
            "type": "choropleth"
           }
          ],
          "contour": [
           {
            "colorbar": {
             "outlinewidth": 0,
             "ticks": ""
            },
            "colorscale": [
             [
              0,
              "#0d0887"
             ],
             [
              0.1111111111111111,
              "#46039f"
             ],
             [
              0.2222222222222222,
              "#7201a8"
             ],
             [
              0.3333333333333333,
              "#9c179e"
             ],
             [
              0.4444444444444444,
              "#bd3786"
             ],
             [
              0.5555555555555556,
              "#d8576b"
             ],
             [
              0.6666666666666666,
              "#ed7953"
             ],
             [
              0.7777777777777778,
              "#fb9f3a"
             ],
             [
              0.8888888888888888,
              "#fdca26"
             ],
             [
              1,
              "#f0f921"
             ]
            ],
            "type": "contour"
           }
          ],
          "contourcarpet": [
           {
            "colorbar": {
             "outlinewidth": 0,
             "ticks": ""
            },
            "type": "contourcarpet"
           }
          ],
          "heatmap": [
           {
            "colorbar": {
             "outlinewidth": 0,
             "ticks": ""
            },
            "colorscale": [
             [
              0,
              "#0d0887"
             ],
             [
              0.1111111111111111,
              "#46039f"
             ],
             [
              0.2222222222222222,
              "#7201a8"
             ],
             [
              0.3333333333333333,
              "#9c179e"
             ],
             [
              0.4444444444444444,
              "#bd3786"
             ],
             [
              0.5555555555555556,
              "#d8576b"
             ],
             [
              0.6666666666666666,
              "#ed7953"
             ],
             [
              0.7777777777777778,
              "#fb9f3a"
             ],
             [
              0.8888888888888888,
              "#fdca26"
             ],
             [
              1,
              "#f0f921"
             ]
            ],
            "type": "heatmap"
           }
          ],
          "heatmapgl": [
           {
            "colorbar": {
             "outlinewidth": 0,
             "ticks": ""
            },
            "colorscale": [
             [
              0,
              "#0d0887"
             ],
             [
              0.1111111111111111,
              "#46039f"
             ],
             [
              0.2222222222222222,
              "#7201a8"
             ],
             [
              0.3333333333333333,
              "#9c179e"
             ],
             [
              0.4444444444444444,
              "#bd3786"
             ],
             [
              0.5555555555555556,
              "#d8576b"
             ],
             [
              0.6666666666666666,
              "#ed7953"
             ],
             [
              0.7777777777777778,
              "#fb9f3a"
             ],
             [
              0.8888888888888888,
              "#fdca26"
             ],
             [
              1,
              "#f0f921"
             ]
            ],
            "type": "heatmapgl"
           }
          ],
          "histogram": [
           {
            "marker": {
             "pattern": {
              "fillmode": "overlay",
              "size": 10,
              "solidity": 0.2
             }
            },
            "type": "histogram"
           }
          ],
          "histogram2d": [
           {
            "colorbar": {
             "outlinewidth": 0,
             "ticks": ""
            },
            "colorscale": [
             [
              0,
              "#0d0887"
             ],
             [
              0.1111111111111111,
              "#46039f"
             ],
             [
              0.2222222222222222,
              "#7201a8"
             ],
             [
              0.3333333333333333,
              "#9c179e"
             ],
             [
              0.4444444444444444,
              "#bd3786"
             ],
             [
              0.5555555555555556,
              "#d8576b"
             ],
             [
              0.6666666666666666,
              "#ed7953"
             ],
             [
              0.7777777777777778,
              "#fb9f3a"
             ],
             [
              0.8888888888888888,
              "#fdca26"
             ],
             [
              1,
              "#f0f921"
             ]
            ],
            "type": "histogram2d"
           }
          ],
          "histogram2dcontour": [
           {
            "colorbar": {
             "outlinewidth": 0,
             "ticks": ""
            },
            "colorscale": [
             [
              0,
              "#0d0887"
             ],
             [
              0.1111111111111111,
              "#46039f"
             ],
             [
              0.2222222222222222,
              "#7201a8"
             ],
             [
              0.3333333333333333,
              "#9c179e"
             ],
             [
              0.4444444444444444,
              "#bd3786"
             ],
             [
              0.5555555555555556,
              "#d8576b"
             ],
             [
              0.6666666666666666,
              "#ed7953"
             ],
             [
              0.7777777777777778,
              "#fb9f3a"
             ],
             [
              0.8888888888888888,
              "#fdca26"
             ],
             [
              1,
              "#f0f921"
             ]
            ],
            "type": "histogram2dcontour"
           }
          ],
          "mesh3d": [
           {
            "colorbar": {
             "outlinewidth": 0,
             "ticks": ""
            },
            "type": "mesh3d"
           }
          ],
          "parcoords": [
           {
            "line": {
             "colorbar": {
              "outlinewidth": 0,
              "ticks": ""
             }
            },
            "type": "parcoords"
           }
          ],
          "pie": [
           {
            "automargin": true,
            "type": "pie"
           }
          ],
          "scatter": [
           {
            "fillpattern": {
             "fillmode": "overlay",
             "size": 10,
             "solidity": 0.2
            },
            "type": "scatter"
           }
          ],
          "scatter3d": [
           {
            "line": {
             "colorbar": {
              "outlinewidth": 0,
              "ticks": ""
             }
            },
            "marker": {
             "colorbar": {
              "outlinewidth": 0,
              "ticks": ""
             }
            },
            "type": "scatter3d"
           }
          ],
          "scattercarpet": [
           {
            "marker": {
             "colorbar": {
              "outlinewidth": 0,
              "ticks": ""
             }
            },
            "type": "scattercarpet"
           }
          ],
          "scattergeo": [
           {
            "marker": {
             "colorbar": {
              "outlinewidth": 0,
              "ticks": ""
             }
            },
            "type": "scattergeo"
           }
          ],
          "scattergl": [
           {
            "marker": {
             "colorbar": {
              "outlinewidth": 0,
              "ticks": ""
             }
            },
            "type": "scattergl"
           }
          ],
          "scattermapbox": [
           {
            "marker": {
             "colorbar": {
              "outlinewidth": 0,
              "ticks": ""
             }
            },
            "type": "scattermapbox"
           }
          ],
          "scatterpolar": [
           {
            "marker": {
             "colorbar": {
              "outlinewidth": 0,
              "ticks": ""
             }
            },
            "type": "scatterpolar"
           }
          ],
          "scatterpolargl": [
           {
            "marker": {
             "colorbar": {
              "outlinewidth": 0,
              "ticks": ""
             }
            },
            "type": "scatterpolargl"
           }
          ],
          "scatterternary": [
           {
            "marker": {
             "colorbar": {
              "outlinewidth": 0,
              "ticks": ""
             }
            },
            "type": "scatterternary"
           }
          ],
          "surface": [
           {
            "colorbar": {
             "outlinewidth": 0,
             "ticks": ""
            },
            "colorscale": [
             [
              0,
              "#0d0887"
             ],
             [
              0.1111111111111111,
              "#46039f"
             ],
             [
              0.2222222222222222,
              "#7201a8"
             ],
             [
              0.3333333333333333,
              "#9c179e"
             ],
             [
              0.4444444444444444,
              "#bd3786"
             ],
             [
              0.5555555555555556,
              "#d8576b"
             ],
             [
              0.6666666666666666,
              "#ed7953"
             ],
             [
              0.7777777777777778,
              "#fb9f3a"
             ],
             [
              0.8888888888888888,
              "#fdca26"
             ],
             [
              1,
              "#f0f921"
             ]
            ],
            "type": "surface"
           }
          ],
          "table": [
           {
            "cells": {
             "fill": {
              "color": "#EBF0F8"
             },
             "line": {
              "color": "white"
             }
            },
            "header": {
             "fill": {
              "color": "#C8D4E3"
             },
             "line": {
              "color": "white"
             }
            },
            "type": "table"
           }
          ]
         },
         "layout": {
          "annotationdefaults": {
           "arrowcolor": "#2a3f5f",
           "arrowhead": 0,
           "arrowwidth": 1
          },
          "autotypenumbers": "strict",
          "coloraxis": {
           "colorbar": {
            "outlinewidth": 0,
            "ticks": ""
           }
          },
          "colorscale": {
           "diverging": [
            [
             0,
             "#8e0152"
            ],
            [
             0.1,
             "#c51b7d"
            ],
            [
             0.2,
             "#de77ae"
            ],
            [
             0.3,
             "#f1b6da"
            ],
            [
             0.4,
             "#fde0ef"
            ],
            [
             0.5,
             "#f7f7f7"
            ],
            [
             0.6,
             "#e6f5d0"
            ],
            [
             0.7,
             "#b8e186"
            ],
            [
             0.8,
             "#7fbc41"
            ],
            [
             0.9,
             "#4d9221"
            ],
            [
             1,
             "#276419"
            ]
           ],
           "sequential": [
            [
             0,
             "#0d0887"
            ],
            [
             0.1111111111111111,
             "#46039f"
            ],
            [
             0.2222222222222222,
             "#7201a8"
            ],
            [
             0.3333333333333333,
             "#9c179e"
            ],
            [
             0.4444444444444444,
             "#bd3786"
            ],
            [
             0.5555555555555556,
             "#d8576b"
            ],
            [
             0.6666666666666666,
             "#ed7953"
            ],
            [
             0.7777777777777778,
             "#fb9f3a"
            ],
            [
             0.8888888888888888,
             "#fdca26"
            ],
            [
             1,
             "#f0f921"
            ]
           ],
           "sequentialminus": [
            [
             0,
             "#0d0887"
            ],
            [
             0.1111111111111111,
             "#46039f"
            ],
            [
             0.2222222222222222,
             "#7201a8"
            ],
            [
             0.3333333333333333,
             "#9c179e"
            ],
            [
             0.4444444444444444,
             "#bd3786"
            ],
            [
             0.5555555555555556,
             "#d8576b"
            ],
            [
             0.6666666666666666,
             "#ed7953"
            ],
            [
             0.7777777777777778,
             "#fb9f3a"
            ],
            [
             0.8888888888888888,
             "#fdca26"
            ],
            [
             1,
             "#f0f921"
            ]
           ]
          },
          "colorway": [
           "#636efa",
           "#EF553B",
           "#00cc96",
           "#ab63fa",
           "#FFA15A",
           "#19d3f3",
           "#FF6692",
           "#B6E880",
           "#FF97FF",
           "#FECB52"
          ],
          "font": {
           "color": "#2a3f5f"
          },
          "geo": {
           "bgcolor": "white",
           "lakecolor": "white",
           "landcolor": "#E5ECF6",
           "showlakes": true,
           "showland": true,
           "subunitcolor": "white"
          },
          "hoverlabel": {
           "align": "left"
          },
          "hovermode": "closest",
          "mapbox": {
           "style": "light"
          },
          "paper_bgcolor": "white",
          "plot_bgcolor": "#E5ECF6",
          "polar": {
           "angularaxis": {
            "gridcolor": "white",
            "linecolor": "white",
            "ticks": ""
           },
           "bgcolor": "#E5ECF6",
           "radialaxis": {
            "gridcolor": "white",
            "linecolor": "white",
            "ticks": ""
           }
          },
          "scene": {
           "xaxis": {
            "backgroundcolor": "#E5ECF6",
            "gridcolor": "white",
            "gridwidth": 2,
            "linecolor": "white",
            "showbackground": true,
            "ticks": "",
            "zerolinecolor": "white"
           },
           "yaxis": {
            "backgroundcolor": "#E5ECF6",
            "gridcolor": "white",
            "gridwidth": 2,
            "linecolor": "white",
            "showbackground": true,
            "ticks": "",
            "zerolinecolor": "white"
           },
           "zaxis": {
            "backgroundcolor": "#E5ECF6",
            "gridcolor": "white",
            "gridwidth": 2,
            "linecolor": "white",
            "showbackground": true,
            "ticks": "",
            "zerolinecolor": "white"
           }
          },
          "shapedefaults": {
           "line": {
            "color": "#2a3f5f"
           }
          },
          "ternary": {
           "aaxis": {
            "gridcolor": "white",
            "linecolor": "white",
            "ticks": ""
           },
           "baxis": {
            "gridcolor": "white",
            "linecolor": "white",
            "ticks": ""
           },
           "bgcolor": "#E5ECF6",
           "caxis": {
            "gridcolor": "white",
            "linecolor": "white",
            "ticks": ""
           }
          },
          "title": {
           "x": 0.05
          },
          "xaxis": {
           "automargin": true,
           "gridcolor": "white",
           "linecolor": "white",
           "ticks": "",
           "title": {
            "standoff": 15
           },
           "zerolinecolor": "white",
           "zerolinewidth": 2
          },
          "yaxis": {
           "automargin": true,
           "gridcolor": "white",
           "linecolor": "white",
           "ticks": "",
           "title": {
            "standoff": 15
           },
           "zerolinecolor": "white",
           "zerolinewidth": 2
          }
         }
        },
        "title": {
         "text": "Frequency and Efficiency of NBA Teams by Shot Type (2022-2023)",
         "x": 0.5
        },
        "width": 1000,
        "xaxis": {
         "anchor": "y",
         "domain": [
          0,
          1
         ],
         "title": {
          "text": "Number of Possessions"
         }
        },
        "yaxis": {
         "anchor": "x",
         "domain": [
          0,
          1
         ],
         "title": {
          "text": "Points per Possession (PPP)"
         }
        }
       }
      },
      "text/html": [
       "<div>                            <div id=\"05cfa548-ed13-4d0a-80a0-5c3c2453798c\" class=\"plotly-graph-div\" style=\"height:700px; width:1000px;\"></div>            <script type=\"text/javascript\">                require([\"plotly\"], function(Plotly) {                    window.PLOTLYENV=window.PLOTLYENV || {};                                    if (document.getElementById(\"05cfa548-ed13-4d0a-80a0-5c3c2453798c\")) {                    Plotly.newPlot(                        \"05cfa548-ed13-4d0a-80a0-5c3c2453798c\",                        [{\"hovertemplate\":\"<b>%{hovertext}</b><br><br>PLAY_TYPE=Cut<br>POSS=%{x}<br>PPP=%{y}<extra></extra>\",\"hovertext\":[\"Atlanta Hawks\",\"Boston Celtics\",\"Brooklyn Nets\",\"Charlotte Hornets\",\"Chicago Bulls\",\"Cleveland Cavaliers\",\"Dallas Mavericks\",\"Denver Nuggets\",\"Detroit Pistons\",\"Golden State Warriors\",\"Houston Rockets\",\"Indiana Pacers\",\"LA Clippers\",\"Los Angeles Lakers\",\"Memphis Grizzlies\",\"Miami Heat\",\"Milwaukee Bucks\",\"Minnesota Timberwolves\",\"New Orleans Pelicans\",\"New York Knicks\",\"Oklahoma City Thunder\",\"Orlando Magic\",\"Philadelphia 76ers\",\"Phoenix Suns\",\"Portland Trail Blazers\",\"Sacramento Kings\",\"San Antonio Spurs\",\"Toronto Raptors\",\"Utah Jazz\",\"Washington Wizards\"],\"legendgroup\":\"Cut\",\"marker\":{\"color\":\"#636efa\",\"symbol\":\"circle\"},\"mode\":\"markers\",\"name\":\"Cut\",\"orientation\":\"v\",\"showlegend\":true,\"x\":[342,301,445,423,303,534,227,554,330,623,413,365,249,385,436,457,294,375,473,373,468,353,277,390,417,498,466,447,455,409],\"xaxis\":\"x\",\"y\":[1.3889619883040936,1.3654617940199336,1.2721528089887641,1.2906950354609927,1.3465577557755777,1.3855898876404495,1.3921762114537446,1.3825324909747292,1.2818666666666665,1.319505617977528,1.1404866828087168,1.3094657534246574,1.2891084337349397,1.4155090909090908,1.3348233944954127,1.2627199124726476,1.204091836734694,1.3414000000000001,1.3044186046511628,1.3538042895442362,1.2458418803418803,1.3485014164305948,1.2274187725631769,1.2105000000000001,1.3070143884892085,1.375240963855422,1.2402961373390557,1.255040268456376,1.2571824175824173,1.325281173594132],\"yaxis\":\"y\",\"type\":\"scatter\"},{\"hovertemplate\":\"<b>%{hovertext}</b><br><br>PLAY_TYPE=Handoff<br>POSS=%{x}<br>PPP=%{y}<extra></extra>\",\"hovertext\":[\"Atlanta Hawks\",\"Boston Celtics\",\"Brooklyn Nets\",\"Charlotte Hornets\",\"Chicago Bulls\",\"Cleveland Cavaliers\",\"Dallas Mavericks\",\"Denver Nuggets\",\"Detroit Pistons\",\"Golden State Warriors\",\"Houston Rockets\",\"Indiana Pacers\",\"LA Clippers\",\"Los Angeles Lakers\",\"Memphis Grizzlies\",\"Miami Heat\",\"Milwaukee Bucks\",\"Minnesota Timberwolves\",\"New Orleans Pelicans\",\"New York Knicks\",\"Oklahoma City Thunder\",\"Orlando Magic\",\"Philadelphia 76ers\",\"Phoenix Suns\",\"Portland Trail Blazers\",\"Sacramento Kings\",\"San Antonio Spurs\",\"Toronto Raptors\",\"Utah Jazz\",\"Washington Wizards\"],\"legendgroup\":\"Handoff\",\"marker\":{\"color\":\"#EF553B\",\"symbol\":\"circle\"},\"mode\":\"markers\",\"name\":\"Handoff\",\"orientation\":\"v\",\"showlegend\":true,\"x\":[154,202,307,338,110,221,118,324,169,433,313,325,187,137,292,388,327,221,329,325,154,341,139,286,302,560,502,210,337,247],\"xaxis\":\"x\",\"y\":[1.019487012987013,1.0643762376237622,0.9902019543973942,1.0885236686390531,0.9090545454545454,0.9278778280542985,0.8730677966101695,0.879564814814815,0.8166272189349113,1.0208221709006928,0.9391693290734824,0.9936953846153846,0.8716363636363635,0.9779854014598539,0.9623116438356164,0.850590206185567,0.8592782874617736,0.9094434389140271,0.9818449848024315,0.9816861538461537,1.0260974025974023,0.8593782991202348,1.0142949640287768,0.8566083916083916,1.0828708609271522,1.0948607142857145,0.902378486055777,1.0190619047619047,0.9972789317507418,0.903],\"yaxis\":\"y\",\"type\":\"scatter\"},{\"hovertemplate\":\"<b>%{hovertext}</b><br><br>PLAY_TYPE=Isolation<br>POSS=%{x}<br>PPP=%{y}<extra></extra>\",\"hovertext\":[\"Atlanta Hawks\",\"Boston Celtics\",\"Brooklyn Nets\",\"Charlotte Hornets\",\"Chicago Bulls\",\"Cleveland Cavaliers\",\"Dallas Mavericks\",\"Denver Nuggets\",\"Detroit Pistons\",\"Golden State Warriors\",\"Houston Rockets\",\"Indiana Pacers\",\"LA Clippers\",\"Los Angeles Lakers\",\"Memphis Grizzlies\",\"Miami Heat\",\"Milwaukee Bucks\",\"Minnesota Timberwolves\",\"New Orleans Pelicans\",\"New York Knicks\",\"Oklahoma City Thunder\",\"Orlando Magic\",\"Philadelphia 76ers\",\"Phoenix Suns\",\"Portland Trail Blazers\",\"Sacramento Kings\",\"San Antonio Spurs\",\"Toronto Raptors\",\"Utah Jazz\",\"Washington Wizards\"],\"legendgroup\":\"Isolation\",\"marker\":{\"color\":\"#00cc96\",\"symbol\":\"circle\"},\"mode\":\"markers\",\"name\":\"Isolation\",\"orientation\":\"v\",\"showlegend\":true,\"x\":[481,484,565,257,341,343,739,312,425,219,390,243,542,563,246,401,371,444,320,555,473,368,645,235,515,248,149,495,364,332],\"xaxis\":\"x\",\"y\":[0.9771455301455302,0.9463202479338844,1.1010991150442477,0.8795252918287938,1.0788651026392961,0.9390058309037901,1.0391569688768607,0.9455096153846153,0.8517952941176471,0.8950547945205479,0.941276923076923,0.9093045267489711,0.8763228782287823,0.8649200710479573,0.8456219512195122,0.9425935162094764,0.8383827493261456,0.9460518018018018,0.9469218749999999,0.9859333333333333,0.9872029598308668,0.8316277173913044,1.004568992248062,0.8296936170212766,1.0429145631067964,1.0239798387096775,0.758503355704698,0.8567313131313131,1.0714532967032968,0.8976807228915662],\"yaxis\":\"y\",\"type\":\"scatter\"},{\"hovertemplate\":\"<b>%{hovertext}</b><br><br>PLAY_TYPE=Misc<br>POSS=%{x}<br>PPP=%{y}<extra></extra>\",\"hovertext\":[\"Atlanta Hawks\",\"Boston Celtics\",\"Brooklyn Nets\",\"Charlotte Hornets\",\"Chicago Bulls\",\"Cleveland Cavaliers\",\"Dallas Mavericks\",\"Denver Nuggets\",\"Detroit Pistons\",\"Golden State Warriors\",\"Houston Rockets\",\"Indiana Pacers\",\"LA Clippers\",\"Los Angeles Lakers\",\"Memphis Grizzlies\",\"Miami Heat\",\"Milwaukee Bucks\",\"Minnesota Timberwolves\",\"New Orleans Pelicans\",\"New York Knicks\",\"Oklahoma City Thunder\",\"Orlando Magic\",\"Philadelphia 76ers\",\"Phoenix Suns\",\"Portland Trail Blazers\",\"Sacramento Kings\",\"San Antonio Spurs\",\"Toronto Raptors\",\"Utah Jazz\",\"Washington Wizards\"],\"legendgroup\":\"Misc\",\"marker\":{\"color\":\"#ab63fa\",\"symbol\":\"circle\"},\"mode\":\"markers\",\"name\":\"Misc\",\"orientation\":\"v\",\"showlegend\":true,\"x\":[285,302,336,326,282,296,321,381,401,412,367,366,352,308,362,332,359,356,356,312,263,362,321,394,395,307,373,293,391,358],\"xaxis\":\"x\",\"y\":[0.6139684210526316,0.5860596026490067,0.6042500000000001,0.5121840490797546,0.5107269503546098,0.5539932432432433,0.5701869158878504,0.44608398950131234,0.5634513715710723,0.42948786407767,0.5393487738419618,0.5520792349726775,0.536877840909091,0.6105097402597401,0.5165662983425415,0.6025030120481928,0.5405125348189415,0.5057247191011236,0.47191853932584266,0.621849358974359,0.5171140684410646,0.5609033149171271,0.47035825545171345,0.5176827411167513,0.5417873417721519,0.6971661237785015,0.37804557640750674,0.6347440273037541,0.5676726342710998,0.6115614525139664],\"yaxis\":\"y\",\"type\":\"scatter\"},{\"hovertemplate\":\"<b>%{hovertext}</b><br><br>PLAY_TYPE=OffRebound<br>POSS=%{x}<br>PPP=%{y}<extra></extra>\",\"hovertext\":[\"Atlanta Hawks\",\"Boston Celtics\",\"Brooklyn Nets\",\"Charlotte Hornets\",\"Chicago Bulls\",\"Cleveland Cavaliers\",\"Dallas Mavericks\",\"Denver Nuggets\",\"Detroit Pistons\",\"Golden State Warriors\",\"Houston Rockets\",\"Indiana Pacers\",\"LA Clippers\",\"Los Angeles Lakers\",\"Memphis Grizzlies\",\"Miami Heat\",\"Milwaukee Bucks\",\"Minnesota Timberwolves\",\"New Orleans Pelicans\",\"New York Knicks\",\"Oklahoma City Thunder\",\"Orlando Magic\",\"Philadelphia 76ers\",\"Phoenix Suns\",\"Portland Trail Blazers\",\"Sacramento Kings\",\"San Antonio Spurs\",\"Toronto Raptors\",\"Utah Jazz\",\"Washington Wizards\"],\"legendgroup\":\"OffRebound\",\"marker\":{\"color\":\"#FFA15A\",\"symbol\":\"circle\"},\"mode\":\"markers\",\"name\":\"OffRebound\",\"orientation\":\"v\",\"showlegend\":true,\"x\":[322,235,186,427,268,254,137,320,320,287,384,257,272,274,402,263,293,270,397,392,315,326,201,356,230,211,361,427,373,284],\"xaxis\":\"x\",\"y\":[1.114692546583851,1.2212893617021277,1.2473010752688172,1.1568266978922717,1.1567313432835822,1.1377086614173229,1.248343065693431,1.17194375,1.1624406250000001,1.0138362369337979,1.078125,1.105194552529183,0.9630330882352941,1.2519051094890508,1.0896417910447762,1.1142205323193917,1.2149590443686007,1.1444222222222222,1.2015163727959697,1.1276658163265305,0.9778666666666666,1.2239325153374234,1.1790995024875621,1.1205898876404494,1.1567782608695651,1.1896777251184834,1.2355872576177287,1.131096018735363,1.1770670241286862,1.2853978873239436],\"yaxis\":\"y\",\"type\":\"scatter\"},{\"hovertemplate\":\"<b>%{hovertext}</b><br><br>PLAY_TYPE=OffScreen<br>POSS=%{x}<br>PPP=%{y}<extra></extra>\",\"hovertext\":[\"Atlanta Hawks\",\"Boston Celtics\",\"Brooklyn Nets\",\"Charlotte Hornets\",\"Chicago Bulls\",\"Cleveland Cavaliers\",\"Dallas Mavericks\",\"Denver Nuggets\",\"Detroit Pistons\",\"Golden State Warriors\",\"Houston Rockets\",\"Indiana Pacers\",\"LA Clippers\",\"Los Angeles Lakers\",\"Memphis Grizzlies\",\"Miami Heat\",\"Milwaukee Bucks\",\"Minnesota Timberwolves\",\"New Orleans Pelicans\",\"New York Knicks\",\"Oklahoma City Thunder\",\"Orlando Magic\",\"Philadelphia 76ers\",\"Phoenix Suns\",\"Portland Trail Blazers\",\"Sacramento Kings\",\"San Antonio Spurs\",\"Toronto Raptors\",\"Utah Jazz\",\"Washington Wizards\"],\"legendgroup\":\"OffScreen\",\"marker\":{\"color\":\"#19d3f3\",\"symbol\":\"circle\"},\"mode\":\"markers\",\"name\":\"OffScreen\",\"orientation\":\"v\",\"showlegend\":true,\"x\":[280,343,229,260,135,192,158,223,246,596,103,205,276,124,204,228,124,250,227,118,80,138,101,223,244,185,178,182,437,219],\"xaxis\":\"x\",\"y\":[0.8712750000000001,1.0145014577259475,1.0216768558951965,0.8421653846153847,0.8221481481481482,1.005421875,1.0694810126582277,0.9281165919282511,1.065162601626016,1.015253355704698,0.7475922330097087,0.9022341463414633,0.9528804347826088,0.8953387096774194,0.9312009803921569,0.8685219298245613,0.7983467741935484,0.867928,0.9560440528634361,0.8730084745762712,1.0875,1.0432826086956524,0.7027128712871288,0.9999103139013451,1.0898319672131147,0.8975189189189189,0.9773258426966293,0.9011978021978023,1.0203867276887872,0.9224292237442921],\"yaxis\":\"y\",\"type\":\"scatter\"},{\"hovertemplate\":\"<b>%{hovertext}</b><br><br>PLAY_TYPE=PRBallHandler<br>POSS=%{x}<br>PPP=%{y}<extra></extra>\",\"hovertext\":[\"Atlanta Hawks\",\"Boston Celtics\",\"Brooklyn Nets\",\"Charlotte Hornets\",\"Chicago Bulls\",\"Cleveland Cavaliers\",\"Dallas Mavericks\",\"Denver Nuggets\",\"Detroit Pistons\",\"Golden State Warriors\",\"Houston Rockets\",\"Indiana Pacers\",\"LA Clippers\",\"Los Angeles Lakers\",\"Memphis Grizzlies\",\"Miami Heat\",\"Milwaukee Bucks\",\"Minnesota Timberwolves\",\"New Orleans Pelicans\",\"New York Knicks\",\"Oklahoma City Thunder\",\"Orlando Magic\",\"Philadelphia 76ers\",\"Phoenix Suns\",\"Portland Trail Blazers\",\"Sacramento Kings\",\"San Antonio Spurs\",\"Toronto Raptors\",\"Utah Jazz\",\"Washington Wizards\"],\"legendgroup\":\"PRBallHandler\",\"marker\":{\"color\":\"#FF6692\",\"symbol\":\"circle\"},\"mode\":\"markers\",\"name\":\"PRBallHandler\",\"orientation\":\"v\",\"showlegend\":true,\"x\":[1353,983,743,1204,1270,1187,884,774,1328,836,1202,1105,1141,1044,1216,1073,900,1027,980,1158,1158,1138,849,1130,1035,799,1080,976,1022,919],\"xaxis\":\"x\",\"y\":[0.915279379157428,0.9308301119023398,0.9919030955585463,0.7698953488372093,0.9526590551181102,0.9781718618365627,1.0213823529411763,0.8902984496124031,0.8478704819277109,0.9580586124401914,0.8134559068219634,0.8906262443438915,0.942957055214724,0.8697289272030652,0.8675370065789475,0.9393578751164958,0.9211222222222222,0.9182619279454723,0.8786153061224491,0.913490500863558,0.9083445595854923,0.926866432337434,0.9009387514723203,0.8715008849557522,1.0106434782608695,0.9384380475594495,0.8472916666666667,0.8781926229508197,0.9031174168297456,0.8976931447225245],\"yaxis\":\"y\",\"type\":\"scatter\"},{\"hovertemplate\":\"<b>%{hovertext}</b><br><br>PLAY_TYPE=PRRollMan<br>POSS=%{x}<br>PPP=%{y}<extra></extra>\",\"hovertext\":[\"Atlanta Hawks\",\"Boston Celtics\",\"Brooklyn Nets\",\"Charlotte Hornets\",\"Chicago Bulls\",\"Cleveland Cavaliers\",\"Dallas Mavericks\",\"Denver Nuggets\",\"Detroit Pistons\",\"Golden State Warriors\",\"Houston Rockets\",\"Indiana Pacers\",\"LA Clippers\",\"Los Angeles Lakers\",\"Memphis Grizzlies\",\"Miami Heat\",\"Milwaukee Bucks\",\"Minnesota Timberwolves\",\"New Orleans Pelicans\",\"New York Knicks\",\"Oklahoma City Thunder\",\"Orlando Magic\",\"Philadelphia 76ers\",\"Phoenix Suns\",\"Portland Trail Blazers\",\"Sacramento Kings\",\"San Antonio Spurs\",\"Toronto Raptors\",\"Utah Jazz\",\"Washington Wizards\"],\"legendgroup\":\"PRRollMan\",\"marker\":{\"color\":\"#B6E880\",\"symbol\":\"circle\"},\"mode\":\"markers\",\"name\":\"PRRollMan\",\"orientation\":\"v\",\"showlegend\":true,\"x\":[329,256,214,336,440,433,346,291,287,186,374,395,224,397,235,387,359,262,283,189,269,328,451,408,206,200,257,277,291,324],\"xaxis\":\"x\",\"y\":[1.2765440729483282,1.1526093750000002,1.088859813084112,1.2143482142857143,1.109015909090909,1.1133464203233256,1.3381589595375722,1.374429553264605,1.19504181184669,1.1881290322580647,1.1097807486631015,1.070873417721519,1.1829151785714287,1.3402015113350128,1.2980340425531915,1.0596382428940572,1.1562395543175488,1.2022671755725192,1.1272120141342756,1.2324497354497355,1.0705947955390334,1.1523597560975607,1.2060243902439023,1.156752450980392,1.1408058252427185,1.16523,1.1010155642023347,1.097350180505415,1.216298969072165,1.1974043209876544],\"yaxis\":\"y\",\"type\":\"scatter\"},{\"hovertemplate\":\"<b>%{hovertext}</b><br><br>PLAY_TYPE=Postup<br>POSS=%{x}<br>PPP=%{y}<extra></extra>\",\"hovertext\":[\"Atlanta Hawks\",\"Boston Celtics\",\"Brooklyn Nets\",\"Charlotte Hornets\",\"Chicago Bulls\",\"Cleveland Cavaliers\",\"Dallas Mavericks\",\"Denver Nuggets\",\"Detroit Pistons\",\"Golden State Warriors\",\"Houston Rockets\",\"Indiana Pacers\",\"LA Clippers\",\"Los Angeles Lakers\",\"Memphis Grizzlies\",\"Miami Heat\",\"Milwaukee Bucks\",\"Minnesota Timberwolves\",\"New Orleans Pelicans\",\"New York Knicks\",\"Oklahoma City Thunder\",\"Orlando Magic\",\"Philadelphia 76ers\",\"Phoenix Suns\",\"Portland Trail Blazers\",\"Sacramento Kings\",\"San Antonio Spurs\",\"Toronto Raptors\",\"Utah Jazz\",\"Washington Wizards\"],\"legendgroup\":\"Postup\",\"marker\":{\"color\":\"#FF97FF\",\"symbol\":\"circle\"},\"mode\":\"markers\",\"name\":\"Postup\",\"orientation\":\"v\",\"showlegend\":true,\"x\":[186,162,151,162,313,193,304,478,214,119,205,130,284,319,167,212,449,148,379,225,75,190,329,385,284,189,257,306,130,293],\"xaxis\":\"x\",\"y\":[1.0108602150537633,1.0680123456790123,0.9669205298013245,0.969141975308642,1.1275367412140576,0.777181347150259,1.049203947368421,1.0896380753138075,0.8833317757009347,0.7981512605042016,0.9559024390243901,0.9768923076923076,0.9896197183098592,0.993921630094044,0.934005988023952,0.9055707547169811,0.975325167037862,1.0068513513513515,0.9394696569920844,0.8177111111111112,1.1468666666666667,0.9104736842105263,1.121519756838906,1.0103194805194806,0.9189718309859155,1.0105555555555557,0.9494591439688717,0.9118333333333334,0.8766846153846153,0.9966825938566554],\"yaxis\":\"y\",\"type\":\"scatter\"},{\"hovertemplate\":\"<b>%{hovertext}</b><br><br>PLAY_TYPE=Spotup<br>POSS=%{x}<br>PPP=%{y}<extra></extra>\",\"hovertext\":[\"Atlanta Hawks\",\"Boston Celtics\",\"Brooklyn Nets\",\"Charlotte Hornets\",\"Chicago Bulls\",\"Cleveland Cavaliers\",\"Dallas Mavericks\",\"Denver Nuggets\",\"Detroit Pistons\",\"Golden State Warriors\",\"Houston Rockets\",\"Indiana Pacers\",\"LA Clippers\",\"Los Angeles Lakers\",\"Memphis Grizzlies\",\"Miami Heat\",\"Milwaukee Bucks\",\"Minnesota Timberwolves\",\"New Orleans Pelicans\",\"New York Knicks\",\"Oklahoma City Thunder\",\"Orlando Magic\",\"Philadelphia 76ers\",\"Phoenix Suns\",\"Portland Trail Blazers\",\"Sacramento Kings\",\"San Antonio Spurs\",\"Toronto Raptors\",\"Utah Jazz\",\"Washington Wizards\"],\"legendgroup\":\"Spotup\",\"marker\":{\"color\":\"#FECB52\",\"symbol\":\"circle\"},\"mode\":\"markers\",\"name\":\"Spotup\",\"orientation\":\"v\",\"showlegend\":true,\"x\":[1352,1648,1325,1526,1422,1335,1531,1173,1465,1279,1417,1511,1499,1318,1367,1271,1449,1557,1438,1616,1644,1366,1378,1653,1310,1375,1543,1394,1436,1423],\"xaxis\":\"x\",\"y\":[0.988096153846154,1.1153974514563108,1.1260581132075471,0.9443414154652688,1.059148382559775,1.0134876404494382,1.0823919007184848,1.074058823529412,1.01500614334471,1.0905582486317438,1.0000119971771348,0.9913143613500992,1.128987991994663,1.0295819423368742,0.9949722019019751,1.0108560188827695,1.0483485162180817,1.053916506101477,1.0270695410292072,1.009233292079208,1.0201940389294404,1.0006749633967789,1.1329731494920174,1.0526709013914095,1.0672854961832061,1.0692021818181816,0.9947368762151652,0.9863034433285509,1.0454240947075208,1.035888264230499],\"yaxis\":\"y\",\"type\":\"scatter\"},{\"hovertemplate\":\"<b>%{hovertext}</b><br><br>PLAY_TYPE=Transition<br>POSS=%{x}<br>PPP=%{y}<extra></extra>\",\"hovertext\":[\"Atlanta Hawks\",\"Boston Celtics\",\"Brooklyn Nets\",\"Charlotte Hornets\",\"Chicago Bulls\",\"Cleveland Cavaliers\",\"Dallas Mavericks\",\"Denver Nuggets\",\"Detroit Pistons\",\"Golden State Warriors\",\"Houston Rockets\",\"Indiana Pacers\",\"LA Clippers\",\"Los Angeles Lakers\",\"Memphis Grizzlies\",\"Miami Heat\",\"Milwaukee Bucks\",\"Minnesota Timberwolves\",\"New Orleans Pelicans\",\"New York Knicks\",\"Oklahoma City Thunder\",\"Orlando Magic\",\"Philadelphia 76ers\",\"Phoenix Suns\",\"Portland Trail Blazers\",\"Sacramento Kings\",\"San Antonio Spurs\",\"Toronto Raptors\",\"Utah Jazz\",\"Washington Wizards\"],\"legendgroup\":\"Transition\",\"marker\":{\"color\":\"#636efa\",\"symbol\":\"circle\"},\"mode\":\"markers\",\"name\":\"Transition\",\"orientation\":\"v\",\"showlegend\":true,\"x\":[965,1037,1047,1139,998,940,794,1038,1055,1033,837,1246,1039,1207,1246,891,1073,1132,1042,973,1220,1007,884,861,836,1214,1009,1204,978,898],\"xaxis\":\"x\",\"y\":[1.1721730569948186,1.1774513018322084,1.1577803247373446,1.097476733977173,1.113250501002004,1.1818340425531915,1.0969521410579344,1.2456233140655104,1.116719431279621,1.137385285575992,1.0262724014336917,1.1725963081861956,1.1281222329162655,1.104229494614747,1.119710272873194,1.144753086419753,1.0902702702702702,1.1536537102473499,1.1314913627639156,1.1183103802672145,1.1533950819672132,1.1042393247269118,1.20910407239819,1.1034006968641115,1.1676722488038278,1.080785831960461,1.1177888999008918,1.1245855481727574,1.162528629856851,1.13352004454343],\"yaxis\":\"y\",\"type\":\"scatter\"}],                        {\"template\":{\"data\":{\"histogram2dcontour\":[{\"type\":\"histogram2dcontour\",\"colorbar\":{\"outlinewidth\":0,\"ticks\":\"\"},\"colorscale\":[[0.0,\"#0d0887\"],[0.1111111111111111,\"#46039f\"],[0.2222222222222222,\"#7201a8\"],[0.3333333333333333,\"#9c179e\"],[0.4444444444444444,\"#bd3786\"],[0.5555555555555556,\"#d8576b\"],[0.6666666666666666,\"#ed7953\"],[0.7777777777777778,\"#fb9f3a\"],[0.8888888888888888,\"#fdca26\"],[1.0,\"#f0f921\"]]}],\"choropleth\":[{\"type\":\"choropleth\",\"colorbar\":{\"outlinewidth\":0,\"ticks\":\"\"}}],\"histogram2d\":[{\"type\":\"histogram2d\",\"colorbar\":{\"outlinewidth\":0,\"ticks\":\"\"},\"colorscale\":[[0.0,\"#0d0887\"],[0.1111111111111111,\"#46039f\"],[0.2222222222222222,\"#7201a8\"],[0.3333333333333333,\"#9c179e\"],[0.4444444444444444,\"#bd3786\"],[0.5555555555555556,\"#d8576b\"],[0.6666666666666666,\"#ed7953\"],[0.7777777777777778,\"#fb9f3a\"],[0.8888888888888888,\"#fdca26\"],[1.0,\"#f0f921\"]]}],\"heatmap\":[{\"type\":\"heatmap\",\"colorbar\":{\"outlinewidth\":0,\"ticks\":\"\"},\"colorscale\":[[0.0,\"#0d0887\"],[0.1111111111111111,\"#46039f\"],[0.2222222222222222,\"#7201a8\"],[0.3333333333333333,\"#9c179e\"],[0.4444444444444444,\"#bd3786\"],[0.5555555555555556,\"#d8576b\"],[0.6666666666666666,\"#ed7953\"],[0.7777777777777778,\"#fb9f3a\"],[0.8888888888888888,\"#fdca26\"],[1.0,\"#f0f921\"]]}],\"heatmapgl\":[{\"type\":\"heatmapgl\",\"colorbar\":{\"outlinewidth\":0,\"ticks\":\"\"},\"colorscale\":[[0.0,\"#0d0887\"],[0.1111111111111111,\"#46039f\"],[0.2222222222222222,\"#7201a8\"],[0.3333333333333333,\"#9c179e\"],[0.4444444444444444,\"#bd3786\"],[0.5555555555555556,\"#d8576b\"],[0.6666666666666666,\"#ed7953\"],[0.7777777777777778,\"#fb9f3a\"],[0.8888888888888888,\"#fdca26\"],[1.0,\"#f0f921\"]]}],\"contourcarpet\":[{\"type\":\"contourcarpet\",\"colorbar\":{\"outlinewidth\":0,\"ticks\":\"\"}}],\"contour\":[{\"type\":\"contour\",\"colorbar\":{\"outlinewidth\":0,\"ticks\":\"\"},\"colorscale\":[[0.0,\"#0d0887\"],[0.1111111111111111,\"#46039f\"],[0.2222222222222222,\"#7201a8\"],[0.3333333333333333,\"#9c179e\"],[0.4444444444444444,\"#bd3786\"],[0.5555555555555556,\"#d8576b\"],[0.6666666666666666,\"#ed7953\"],[0.7777777777777778,\"#fb9f3a\"],[0.8888888888888888,\"#fdca26\"],[1.0,\"#f0f921\"]]}],\"surface\":[{\"type\":\"surface\",\"colorbar\":{\"outlinewidth\":0,\"ticks\":\"\"},\"colorscale\":[[0.0,\"#0d0887\"],[0.1111111111111111,\"#46039f\"],[0.2222222222222222,\"#7201a8\"],[0.3333333333333333,\"#9c179e\"],[0.4444444444444444,\"#bd3786\"],[0.5555555555555556,\"#d8576b\"],[0.6666666666666666,\"#ed7953\"],[0.7777777777777778,\"#fb9f3a\"],[0.8888888888888888,\"#fdca26\"],[1.0,\"#f0f921\"]]}],\"mesh3d\":[{\"type\":\"mesh3d\",\"colorbar\":{\"outlinewidth\":0,\"ticks\":\"\"}}],\"scatter\":[{\"fillpattern\":{\"fillmode\":\"overlay\",\"size\":10,\"solidity\":0.2},\"type\":\"scatter\"}],\"parcoords\":[{\"type\":\"parcoords\",\"line\":{\"colorbar\":{\"outlinewidth\":0,\"ticks\":\"\"}}}],\"scatterpolargl\":[{\"type\":\"scatterpolargl\",\"marker\":{\"colorbar\":{\"outlinewidth\":0,\"ticks\":\"\"}}}],\"bar\":[{\"error_x\":{\"color\":\"#2a3f5f\"},\"error_y\":{\"color\":\"#2a3f5f\"},\"marker\":{\"line\":{\"color\":\"#E5ECF6\",\"width\":0.5},\"pattern\":{\"fillmode\":\"overlay\",\"size\":10,\"solidity\":0.2}},\"type\":\"bar\"}],\"scattergeo\":[{\"type\":\"scattergeo\",\"marker\":{\"colorbar\":{\"outlinewidth\":0,\"ticks\":\"\"}}}],\"scatterpolar\":[{\"type\":\"scatterpolar\",\"marker\":{\"colorbar\":{\"outlinewidth\":0,\"ticks\":\"\"}}}],\"histogram\":[{\"marker\":{\"pattern\":{\"fillmode\":\"overlay\",\"size\":10,\"solidity\":0.2}},\"type\":\"histogram\"}],\"scattergl\":[{\"type\":\"scattergl\",\"marker\":{\"colorbar\":{\"outlinewidth\":0,\"ticks\":\"\"}}}],\"scatter3d\":[{\"type\":\"scatter3d\",\"line\":{\"colorbar\":{\"outlinewidth\":0,\"ticks\":\"\"}},\"marker\":{\"colorbar\":{\"outlinewidth\":0,\"ticks\":\"\"}}}],\"scattermapbox\":[{\"type\":\"scattermapbox\",\"marker\":{\"colorbar\":{\"outlinewidth\":0,\"ticks\":\"\"}}}],\"scatterternary\":[{\"type\":\"scatterternary\",\"marker\":{\"colorbar\":{\"outlinewidth\":0,\"ticks\":\"\"}}}],\"scattercarpet\":[{\"type\":\"scattercarpet\",\"marker\":{\"colorbar\":{\"outlinewidth\":0,\"ticks\":\"\"}}}],\"carpet\":[{\"aaxis\":{\"endlinecolor\":\"#2a3f5f\",\"gridcolor\":\"white\",\"linecolor\":\"white\",\"minorgridcolor\":\"white\",\"startlinecolor\":\"#2a3f5f\"},\"baxis\":{\"endlinecolor\":\"#2a3f5f\",\"gridcolor\":\"white\",\"linecolor\":\"white\",\"minorgridcolor\":\"white\",\"startlinecolor\":\"#2a3f5f\"},\"type\":\"carpet\"}],\"table\":[{\"cells\":{\"fill\":{\"color\":\"#EBF0F8\"},\"line\":{\"color\":\"white\"}},\"header\":{\"fill\":{\"color\":\"#C8D4E3\"},\"line\":{\"color\":\"white\"}},\"type\":\"table\"}],\"barpolar\":[{\"marker\":{\"line\":{\"color\":\"#E5ECF6\",\"width\":0.5},\"pattern\":{\"fillmode\":\"overlay\",\"size\":10,\"solidity\":0.2}},\"type\":\"barpolar\"}],\"pie\":[{\"automargin\":true,\"type\":\"pie\"}]},\"layout\":{\"autotypenumbers\":\"strict\",\"colorway\":[\"#636efa\",\"#EF553B\",\"#00cc96\",\"#ab63fa\",\"#FFA15A\",\"#19d3f3\",\"#FF6692\",\"#B6E880\",\"#FF97FF\",\"#FECB52\"],\"font\":{\"color\":\"#2a3f5f\"},\"hovermode\":\"closest\",\"hoverlabel\":{\"align\":\"left\"},\"paper_bgcolor\":\"white\",\"plot_bgcolor\":\"#E5ECF6\",\"polar\":{\"bgcolor\":\"#E5ECF6\",\"angularaxis\":{\"gridcolor\":\"white\",\"linecolor\":\"white\",\"ticks\":\"\"},\"radialaxis\":{\"gridcolor\":\"white\",\"linecolor\":\"white\",\"ticks\":\"\"}},\"ternary\":{\"bgcolor\":\"#E5ECF6\",\"aaxis\":{\"gridcolor\":\"white\",\"linecolor\":\"white\",\"ticks\":\"\"},\"baxis\":{\"gridcolor\":\"white\",\"linecolor\":\"white\",\"ticks\":\"\"},\"caxis\":{\"gridcolor\":\"white\",\"linecolor\":\"white\",\"ticks\":\"\"}},\"coloraxis\":{\"colorbar\":{\"outlinewidth\":0,\"ticks\":\"\"}},\"colorscale\":{\"sequential\":[[0.0,\"#0d0887\"],[0.1111111111111111,\"#46039f\"],[0.2222222222222222,\"#7201a8\"],[0.3333333333333333,\"#9c179e\"],[0.4444444444444444,\"#bd3786\"],[0.5555555555555556,\"#d8576b\"],[0.6666666666666666,\"#ed7953\"],[0.7777777777777778,\"#fb9f3a\"],[0.8888888888888888,\"#fdca26\"],[1.0,\"#f0f921\"]],\"sequentialminus\":[[0.0,\"#0d0887\"],[0.1111111111111111,\"#46039f\"],[0.2222222222222222,\"#7201a8\"],[0.3333333333333333,\"#9c179e\"],[0.4444444444444444,\"#bd3786\"],[0.5555555555555556,\"#d8576b\"],[0.6666666666666666,\"#ed7953\"],[0.7777777777777778,\"#fb9f3a\"],[0.8888888888888888,\"#fdca26\"],[1.0,\"#f0f921\"]],\"diverging\":[[0,\"#8e0152\"],[0.1,\"#c51b7d\"],[0.2,\"#de77ae\"],[0.3,\"#f1b6da\"],[0.4,\"#fde0ef\"],[0.5,\"#f7f7f7\"],[0.6,\"#e6f5d0\"],[0.7,\"#b8e186\"],[0.8,\"#7fbc41\"],[0.9,\"#4d9221\"],[1,\"#276419\"]]},\"xaxis\":{\"gridcolor\":\"white\",\"linecolor\":\"white\",\"ticks\":\"\",\"title\":{\"standoff\":15},\"zerolinecolor\":\"white\",\"automargin\":true,\"zerolinewidth\":2},\"yaxis\":{\"gridcolor\":\"white\",\"linecolor\":\"white\",\"ticks\":\"\",\"title\":{\"standoff\":15},\"zerolinecolor\":\"white\",\"automargin\":true,\"zerolinewidth\":2},\"scene\":{\"xaxis\":{\"backgroundcolor\":\"#E5ECF6\",\"gridcolor\":\"white\",\"linecolor\":\"white\",\"showbackground\":true,\"ticks\":\"\",\"zerolinecolor\":\"white\",\"gridwidth\":2},\"yaxis\":{\"backgroundcolor\":\"#E5ECF6\",\"gridcolor\":\"white\",\"linecolor\":\"white\",\"showbackground\":true,\"ticks\":\"\",\"zerolinecolor\":\"white\",\"gridwidth\":2},\"zaxis\":{\"backgroundcolor\":\"#E5ECF6\",\"gridcolor\":\"white\",\"linecolor\":\"white\",\"showbackground\":true,\"ticks\":\"\",\"zerolinecolor\":\"white\",\"gridwidth\":2}},\"shapedefaults\":{\"line\":{\"color\":\"#2a3f5f\"}},\"annotationdefaults\":{\"arrowcolor\":\"#2a3f5f\",\"arrowhead\":0,\"arrowwidth\":1},\"geo\":{\"bgcolor\":\"white\",\"landcolor\":\"#E5ECF6\",\"subunitcolor\":\"white\",\"showland\":true,\"showlakes\":true,\"lakecolor\":\"white\"},\"title\":{\"x\":0.05},\"mapbox\":{\"style\":\"light\"}}},\"xaxis\":{\"anchor\":\"y\",\"domain\":[0.0,1.0],\"title\":{\"text\":\"Number of Possessions\"}},\"yaxis\":{\"anchor\":\"x\",\"domain\":[0.0,1.0],\"title\":{\"text\":\"Points per Possession (PPP)\"}},\"legend\":{\"title\":{\"text\":\"PLAY_TYPE\"},\"tracegroupgap\":0},\"margin\":{\"t\":60},\"title\":{\"text\":\"Frequency and Efficiency of NBA Teams by Shot Type (2022-2023)\",\"x\":0.5},\"width\":1000,\"height\":700,\"shapes\":[{\"line\":{\"dash\":\"dash\",\"width\":0.5},\"type\":\"line\",\"x0\":0,\"x1\":1,\"xref\":\"x domain\",\"y0\":1.0194306169357525,\"y1\":1.0194306169357525,\"yref\":\"y\"}]},                        {\"responsive\": true}                    ).then(function(){\n",
       "                            \n",
       "var gd = document.getElementById('05cfa548-ed13-4d0a-80a0-5c3c2453798c');\n",
       "var x = new MutationObserver(function (mutations, observer) {{\n",
       "        var display = window.getComputedStyle(gd).display;\n",
       "        if (!display || display === 'none') {{\n",
       "            console.log([gd, 'removed!']);\n",
       "            Plotly.purge(gd);\n",
       "            observer.disconnect();\n",
       "        }}\n",
       "}});\n",
       "\n",
       "// Listen for the removal of the full notebook cells\n",
       "var notebookContainer = gd.closest('#notebook-container');\n",
       "if (notebookContainer) {{\n",
       "    x.observe(notebookContainer, {childList: true});\n",
       "}}\n",
       "\n",
       "// Listen for the clearing of the current output cell\n",
       "var outputEl = gd.closest('.output');\n",
       "if (outputEl) {{\n",
       "    x.observe(outputEl, {childList: true});\n",
       "}}\n",
       "\n",
       "                        })                };                });            </script>        </div>"
      ]
     },
     "metadata": {},
     "output_type": "display_data"
    }
   ],
   "source": [
    "fig = px.scatter(df_team, x='POSS', y='PPP', color='PLAY_TYPE', hover_name='TEAM_NAME')\n",
    "fig.update_layout(title_text='Frequency and Efficiency of NBA Teams by Shot Type (2022-2023)', title_x=0.5, width=1000, height=700)\n",
    "fig.add_hline(y=league_average_ppp, line_dash='dash', line_width = 0.5)\n",
    "fig.update_xaxes(title_text='Number of Possessions')\n",
    "fig.update_yaxes(title_text='Points per Possession (PPP)')\n",
    "fig.show()"
   ]
  },
  {
   "cell_type": "markdown",
   "metadata": {},
   "source": [
    "The graph above plots a point for each NBA team and play type. From the big picture perspective, we can see that the distribution of shot types varies widely from team to team. Let's split this into separate graphs for each play type for a clearer picture."
   ]
  },
  {
   "cell_type": "code",
   "execution_count": 223,
   "metadata": {},
   "outputs": [
    {
     "data": {
      "application/vnd.plotly.v1+json": {
       "config": {
        "plotlyServerURL": "https://plot.ly"
       },
       "data": [
        {
         "hovertemplate": "TEAM_NAME=Atlanta Hawks<br>PLAY_TYPE=Cut<br>POSS=%{x}<br>PPP=%{y}<extra></extra>",
         "legendgroup": "Atlanta Hawks",
         "marker": {
          "color": "#636efa",
          "symbol": "circle"
         },
         "mode": "markers",
         "name": "Atlanta Hawks",
         "orientation": "v",
         "showlegend": true,
         "type": "scatter",
         "x": [
          342
         ],
         "xaxis": "x10",
         "y": [
          1.3889619883040936
         ],
         "yaxis": "y10"
        },
        {
         "hovertemplate": "TEAM_NAME=Atlanta Hawks<br>PLAY_TYPE=Handoff<br>POSS=%{x}<br>PPP=%{y}<extra></extra>",
         "legendgroup": "Atlanta Hawks",
         "marker": {
          "color": "#636efa",
          "symbol": "circle"
         },
         "mode": "markers",
         "name": "Atlanta Hawks",
         "orientation": "v",
         "showlegend": false,
         "type": "scatter",
         "x": [
          154
         ],
         "xaxis": "x11",
         "y": [
          1.019487012987013
         ],
         "yaxis": "y11"
        },
        {
         "hovertemplate": "TEAM_NAME=Atlanta Hawks<br>PLAY_TYPE=Isolation<br>POSS=%{x}<br>PPP=%{y}<extra></extra>",
         "legendgroup": "Atlanta Hawks",
         "marker": {
          "color": "#636efa",
          "symbol": "circle"
         },
         "mode": "markers",
         "name": "Atlanta Hawks",
         "orientation": "v",
         "showlegend": false,
         "type": "scatter",
         "x": [
          481
         ],
         "xaxis": "x12",
         "y": [
          0.9771455301455302
         ],
         "yaxis": "y12"
        },
        {
         "hovertemplate": "TEAM_NAME=Atlanta Hawks<br>PLAY_TYPE=Misc<br>POSS=%{x}<br>PPP=%{y}<extra></extra>",
         "legendgroup": "Atlanta Hawks",
         "marker": {
          "color": "#636efa",
          "symbol": "circle"
         },
         "mode": "markers",
         "name": "Atlanta Hawks",
         "orientation": "v",
         "showlegend": false,
         "type": "scatter",
         "x": [
          285
         ],
         "xaxis": "x7",
         "y": [
          0.6139684210526316
         ],
         "yaxis": "y7"
        },
        {
         "hovertemplate": "TEAM_NAME=Atlanta Hawks<br>PLAY_TYPE=OffRebound<br>POSS=%{x}<br>PPP=%{y}<extra></extra>",
         "legendgroup": "Atlanta Hawks",
         "marker": {
          "color": "#636efa",
          "symbol": "circle"
         },
         "mode": "markers",
         "name": "Atlanta Hawks",
         "orientation": "v",
         "showlegend": false,
         "type": "scatter",
         "x": [
          322
         ],
         "xaxis": "x8",
         "y": [
          1.114692546583851
         ],
         "yaxis": "y8"
        },
        {
         "hovertemplate": "TEAM_NAME=Atlanta Hawks<br>PLAY_TYPE=OffScreen<br>POSS=%{x}<br>PPP=%{y}<extra></extra>",
         "legendgroup": "Atlanta Hawks",
         "marker": {
          "color": "#636efa",
          "symbol": "circle"
         },
         "mode": "markers",
         "name": "Atlanta Hawks",
         "orientation": "v",
         "showlegend": false,
         "type": "scatter",
         "x": [
          280
         ],
         "xaxis": "x9",
         "y": [
          0.8712750000000001
         ],
         "yaxis": "y9"
        },
        {
         "hovertemplate": "TEAM_NAME=Atlanta Hawks<br>PLAY_TYPE=PRBallHandler<br>POSS=%{x}<br>PPP=%{y}<extra></extra>",
         "legendgroup": "Atlanta Hawks",
         "marker": {
          "color": "#636efa",
          "symbol": "circle"
         },
         "mode": "markers",
         "name": "Atlanta Hawks",
         "orientation": "v",
         "showlegend": false,
         "type": "scatter",
         "x": [
          1353
         ],
         "xaxis": "x4",
         "y": [
          0.915279379157428
         ],
         "yaxis": "y4"
        },
        {
         "hovertemplate": "TEAM_NAME=Atlanta Hawks<br>PLAY_TYPE=PRRollMan<br>POSS=%{x}<br>PPP=%{y}<extra></extra>",
         "legendgroup": "Atlanta Hawks",
         "marker": {
          "color": "#636efa",
          "symbol": "circle"
         },
         "mode": "markers",
         "name": "Atlanta Hawks",
         "orientation": "v",
         "showlegend": false,
         "type": "scatter",
         "x": [
          329
         ],
         "xaxis": "x5",
         "y": [
          1.2765440729483282
         ],
         "yaxis": "y5"
        },
        {
         "hovertemplate": "TEAM_NAME=Atlanta Hawks<br>PLAY_TYPE=Postup<br>POSS=%{x}<br>PPP=%{y}<extra></extra>",
         "legendgroup": "Atlanta Hawks",
         "marker": {
          "color": "#636efa",
          "symbol": "circle"
         },
         "mode": "markers",
         "name": "Atlanta Hawks",
         "orientation": "v",
         "showlegend": false,
         "type": "scatter",
         "x": [
          186
         ],
         "xaxis": "x6",
         "y": [
          1.0108602150537633
         ],
         "yaxis": "y6"
        },
        {
         "hovertemplate": "TEAM_NAME=Atlanta Hawks<br>PLAY_TYPE=Spotup<br>POSS=%{x}<br>PPP=%{y}<extra></extra>",
         "legendgroup": "Atlanta Hawks",
         "marker": {
          "color": "#636efa",
          "symbol": "circle"
         },
         "mode": "markers",
         "name": "Atlanta Hawks",
         "orientation": "v",
         "showlegend": false,
         "type": "scatter",
         "x": [
          1352
         ],
         "xaxis": "x",
         "y": [
          0.988096153846154
         ],
         "yaxis": "y"
        },
        {
         "hovertemplate": "TEAM_NAME=Atlanta Hawks<br>PLAY_TYPE=Transition<br>POSS=%{x}<br>PPP=%{y}<extra></extra>",
         "legendgroup": "Atlanta Hawks",
         "marker": {
          "color": "#636efa",
          "symbol": "circle"
         },
         "mode": "markers",
         "name": "Atlanta Hawks",
         "orientation": "v",
         "showlegend": false,
         "type": "scatter",
         "x": [
          965
         ],
         "xaxis": "x2",
         "y": [
          1.1721730569948186
         ],
         "yaxis": "y2"
        },
        {
         "hovertemplate": "TEAM_NAME=Boston Celtics<br>PLAY_TYPE=Cut<br>POSS=%{x}<br>PPP=%{y}<extra></extra>",
         "legendgroup": "Boston Celtics",
         "marker": {
          "color": "#EF553B",
          "symbol": "circle"
         },
         "mode": "markers",
         "name": "Boston Celtics",
         "orientation": "v",
         "showlegend": true,
         "type": "scatter",
         "x": [
          301
         ],
         "xaxis": "x10",
         "y": [
          1.3654617940199336
         ],
         "yaxis": "y10"
        },
        {
         "hovertemplate": "TEAM_NAME=Boston Celtics<br>PLAY_TYPE=Handoff<br>POSS=%{x}<br>PPP=%{y}<extra></extra>",
         "legendgroup": "Boston Celtics",
         "marker": {
          "color": "#EF553B",
          "symbol": "circle"
         },
         "mode": "markers",
         "name": "Boston Celtics",
         "orientation": "v",
         "showlegend": false,
         "type": "scatter",
         "x": [
          202
         ],
         "xaxis": "x11",
         "y": [
          1.0643762376237622
         ],
         "yaxis": "y11"
        },
        {
         "hovertemplate": "TEAM_NAME=Boston Celtics<br>PLAY_TYPE=Isolation<br>POSS=%{x}<br>PPP=%{y}<extra></extra>",
         "legendgroup": "Boston Celtics",
         "marker": {
          "color": "#EF553B",
          "symbol": "circle"
         },
         "mode": "markers",
         "name": "Boston Celtics",
         "orientation": "v",
         "showlegend": false,
         "type": "scatter",
         "x": [
          484
         ],
         "xaxis": "x12",
         "y": [
          0.9463202479338844
         ],
         "yaxis": "y12"
        },
        {
         "hovertemplate": "TEAM_NAME=Boston Celtics<br>PLAY_TYPE=Misc<br>POSS=%{x}<br>PPP=%{y}<extra></extra>",
         "legendgroup": "Boston Celtics",
         "marker": {
          "color": "#EF553B",
          "symbol": "circle"
         },
         "mode": "markers",
         "name": "Boston Celtics",
         "orientation": "v",
         "showlegend": false,
         "type": "scatter",
         "x": [
          302
         ],
         "xaxis": "x7",
         "y": [
          0.5860596026490067
         ],
         "yaxis": "y7"
        },
        {
         "hovertemplate": "TEAM_NAME=Boston Celtics<br>PLAY_TYPE=OffRebound<br>POSS=%{x}<br>PPP=%{y}<extra></extra>",
         "legendgroup": "Boston Celtics",
         "marker": {
          "color": "#EF553B",
          "symbol": "circle"
         },
         "mode": "markers",
         "name": "Boston Celtics",
         "orientation": "v",
         "showlegend": false,
         "type": "scatter",
         "x": [
          235
         ],
         "xaxis": "x8",
         "y": [
          1.2212893617021277
         ],
         "yaxis": "y8"
        },
        {
         "hovertemplate": "TEAM_NAME=Boston Celtics<br>PLAY_TYPE=OffScreen<br>POSS=%{x}<br>PPP=%{y}<extra></extra>",
         "legendgroup": "Boston Celtics",
         "marker": {
          "color": "#EF553B",
          "symbol": "circle"
         },
         "mode": "markers",
         "name": "Boston Celtics",
         "orientation": "v",
         "showlegend": false,
         "type": "scatter",
         "x": [
          343
         ],
         "xaxis": "x9",
         "y": [
          1.0145014577259475
         ],
         "yaxis": "y9"
        },
        {
         "hovertemplate": "TEAM_NAME=Boston Celtics<br>PLAY_TYPE=PRBallHandler<br>POSS=%{x}<br>PPP=%{y}<extra></extra>",
         "legendgroup": "Boston Celtics",
         "marker": {
          "color": "#EF553B",
          "symbol": "circle"
         },
         "mode": "markers",
         "name": "Boston Celtics",
         "orientation": "v",
         "showlegend": false,
         "type": "scatter",
         "x": [
          983
         ],
         "xaxis": "x4",
         "y": [
          0.9308301119023398
         ],
         "yaxis": "y4"
        },
        {
         "hovertemplate": "TEAM_NAME=Boston Celtics<br>PLAY_TYPE=PRRollMan<br>POSS=%{x}<br>PPP=%{y}<extra></extra>",
         "legendgroup": "Boston Celtics",
         "marker": {
          "color": "#EF553B",
          "symbol": "circle"
         },
         "mode": "markers",
         "name": "Boston Celtics",
         "orientation": "v",
         "showlegend": false,
         "type": "scatter",
         "x": [
          256
         ],
         "xaxis": "x5",
         "y": [
          1.1526093750000002
         ],
         "yaxis": "y5"
        },
        {
         "hovertemplate": "TEAM_NAME=Boston Celtics<br>PLAY_TYPE=Postup<br>POSS=%{x}<br>PPP=%{y}<extra></extra>",
         "legendgroup": "Boston Celtics",
         "marker": {
          "color": "#EF553B",
          "symbol": "circle"
         },
         "mode": "markers",
         "name": "Boston Celtics",
         "orientation": "v",
         "showlegend": false,
         "type": "scatter",
         "x": [
          162
         ],
         "xaxis": "x6",
         "y": [
          1.0680123456790123
         ],
         "yaxis": "y6"
        },
        {
         "hovertemplate": "TEAM_NAME=Boston Celtics<br>PLAY_TYPE=Spotup<br>POSS=%{x}<br>PPP=%{y}<extra></extra>",
         "legendgroup": "Boston Celtics",
         "marker": {
          "color": "#EF553B",
          "symbol": "circle"
         },
         "mode": "markers",
         "name": "Boston Celtics",
         "orientation": "v",
         "showlegend": false,
         "type": "scatter",
         "x": [
          1648
         ],
         "xaxis": "x",
         "y": [
          1.1153974514563108
         ],
         "yaxis": "y"
        },
        {
         "hovertemplate": "TEAM_NAME=Boston Celtics<br>PLAY_TYPE=Transition<br>POSS=%{x}<br>PPP=%{y}<extra></extra>",
         "legendgroup": "Boston Celtics",
         "marker": {
          "color": "#EF553B",
          "symbol": "circle"
         },
         "mode": "markers",
         "name": "Boston Celtics",
         "orientation": "v",
         "showlegend": false,
         "type": "scatter",
         "x": [
          1037
         ],
         "xaxis": "x2",
         "y": [
          1.1774513018322084
         ],
         "yaxis": "y2"
        },
        {
         "hovertemplate": "TEAM_NAME=Brooklyn Nets<br>PLAY_TYPE=Cut<br>POSS=%{x}<br>PPP=%{y}<extra></extra>",
         "legendgroup": "Brooklyn Nets",
         "marker": {
          "color": "#00cc96",
          "symbol": "circle"
         },
         "mode": "markers",
         "name": "Brooklyn Nets",
         "orientation": "v",
         "showlegend": true,
         "type": "scatter",
         "x": [
          445
         ],
         "xaxis": "x10",
         "y": [
          1.2721528089887641
         ],
         "yaxis": "y10"
        },
        {
         "hovertemplate": "TEAM_NAME=Brooklyn Nets<br>PLAY_TYPE=Handoff<br>POSS=%{x}<br>PPP=%{y}<extra></extra>",
         "legendgroup": "Brooklyn Nets",
         "marker": {
          "color": "#00cc96",
          "symbol": "circle"
         },
         "mode": "markers",
         "name": "Brooklyn Nets",
         "orientation": "v",
         "showlegend": false,
         "type": "scatter",
         "x": [
          307
         ],
         "xaxis": "x11",
         "y": [
          0.9902019543973942
         ],
         "yaxis": "y11"
        },
        {
         "hovertemplate": "TEAM_NAME=Brooklyn Nets<br>PLAY_TYPE=Isolation<br>POSS=%{x}<br>PPP=%{y}<extra></extra>",
         "legendgroup": "Brooklyn Nets",
         "marker": {
          "color": "#00cc96",
          "symbol": "circle"
         },
         "mode": "markers",
         "name": "Brooklyn Nets",
         "orientation": "v",
         "showlegend": false,
         "type": "scatter",
         "x": [
          565
         ],
         "xaxis": "x12",
         "y": [
          1.1010991150442477
         ],
         "yaxis": "y12"
        },
        {
         "hovertemplate": "TEAM_NAME=Brooklyn Nets<br>PLAY_TYPE=Misc<br>POSS=%{x}<br>PPP=%{y}<extra></extra>",
         "legendgroup": "Brooklyn Nets",
         "marker": {
          "color": "#00cc96",
          "symbol": "circle"
         },
         "mode": "markers",
         "name": "Brooklyn Nets",
         "orientation": "v",
         "showlegend": false,
         "type": "scatter",
         "x": [
          336
         ],
         "xaxis": "x7",
         "y": [
          0.6042500000000001
         ],
         "yaxis": "y7"
        },
        {
         "hovertemplate": "TEAM_NAME=Brooklyn Nets<br>PLAY_TYPE=OffRebound<br>POSS=%{x}<br>PPP=%{y}<extra></extra>",
         "legendgroup": "Brooklyn Nets",
         "marker": {
          "color": "#00cc96",
          "symbol": "circle"
         },
         "mode": "markers",
         "name": "Brooklyn Nets",
         "orientation": "v",
         "showlegend": false,
         "type": "scatter",
         "x": [
          186
         ],
         "xaxis": "x8",
         "y": [
          1.2473010752688172
         ],
         "yaxis": "y8"
        },
        {
         "hovertemplate": "TEAM_NAME=Brooklyn Nets<br>PLAY_TYPE=OffScreen<br>POSS=%{x}<br>PPP=%{y}<extra></extra>",
         "legendgroup": "Brooklyn Nets",
         "marker": {
          "color": "#00cc96",
          "symbol": "circle"
         },
         "mode": "markers",
         "name": "Brooklyn Nets",
         "orientation": "v",
         "showlegend": false,
         "type": "scatter",
         "x": [
          229
         ],
         "xaxis": "x9",
         "y": [
          1.0216768558951965
         ],
         "yaxis": "y9"
        },
        {
         "hovertemplate": "TEAM_NAME=Brooklyn Nets<br>PLAY_TYPE=PRBallHandler<br>POSS=%{x}<br>PPP=%{y}<extra></extra>",
         "legendgroup": "Brooklyn Nets",
         "marker": {
          "color": "#00cc96",
          "symbol": "circle"
         },
         "mode": "markers",
         "name": "Brooklyn Nets",
         "orientation": "v",
         "showlegend": false,
         "type": "scatter",
         "x": [
          743
         ],
         "xaxis": "x4",
         "y": [
          0.9919030955585463
         ],
         "yaxis": "y4"
        },
        {
         "hovertemplate": "TEAM_NAME=Brooklyn Nets<br>PLAY_TYPE=PRRollMan<br>POSS=%{x}<br>PPP=%{y}<extra></extra>",
         "legendgroup": "Brooklyn Nets",
         "marker": {
          "color": "#00cc96",
          "symbol": "circle"
         },
         "mode": "markers",
         "name": "Brooklyn Nets",
         "orientation": "v",
         "showlegend": false,
         "type": "scatter",
         "x": [
          214
         ],
         "xaxis": "x5",
         "y": [
          1.088859813084112
         ],
         "yaxis": "y5"
        },
        {
         "hovertemplate": "TEAM_NAME=Brooklyn Nets<br>PLAY_TYPE=Postup<br>POSS=%{x}<br>PPP=%{y}<extra></extra>",
         "legendgroup": "Brooklyn Nets",
         "marker": {
          "color": "#00cc96",
          "symbol": "circle"
         },
         "mode": "markers",
         "name": "Brooklyn Nets",
         "orientation": "v",
         "showlegend": false,
         "type": "scatter",
         "x": [
          151
         ],
         "xaxis": "x6",
         "y": [
          0.9669205298013245
         ],
         "yaxis": "y6"
        },
        {
         "hovertemplate": "TEAM_NAME=Brooklyn Nets<br>PLAY_TYPE=Spotup<br>POSS=%{x}<br>PPP=%{y}<extra></extra>",
         "legendgroup": "Brooklyn Nets",
         "marker": {
          "color": "#00cc96",
          "symbol": "circle"
         },
         "mode": "markers",
         "name": "Brooklyn Nets",
         "orientation": "v",
         "showlegend": false,
         "type": "scatter",
         "x": [
          1325
         ],
         "xaxis": "x",
         "y": [
          1.1260581132075471
         ],
         "yaxis": "y"
        },
        {
         "hovertemplate": "TEAM_NAME=Brooklyn Nets<br>PLAY_TYPE=Transition<br>POSS=%{x}<br>PPP=%{y}<extra></extra>",
         "legendgroup": "Brooklyn Nets",
         "marker": {
          "color": "#00cc96",
          "symbol": "circle"
         },
         "mode": "markers",
         "name": "Brooklyn Nets",
         "orientation": "v",
         "showlegend": false,
         "type": "scatter",
         "x": [
          1047
         ],
         "xaxis": "x2",
         "y": [
          1.1577803247373446
         ],
         "yaxis": "y2"
        },
        {
         "hovertemplate": "TEAM_NAME=Charlotte Hornets<br>PLAY_TYPE=Cut<br>POSS=%{x}<br>PPP=%{y}<extra></extra>",
         "legendgroup": "Charlotte Hornets",
         "marker": {
          "color": "#ab63fa",
          "symbol": "circle"
         },
         "mode": "markers",
         "name": "Charlotte Hornets",
         "orientation": "v",
         "showlegend": true,
         "type": "scatter",
         "x": [
          423
         ],
         "xaxis": "x10",
         "y": [
          1.2906950354609927
         ],
         "yaxis": "y10"
        },
        {
         "hovertemplate": "TEAM_NAME=Charlotte Hornets<br>PLAY_TYPE=Handoff<br>POSS=%{x}<br>PPP=%{y}<extra></extra>",
         "legendgroup": "Charlotte Hornets",
         "marker": {
          "color": "#ab63fa",
          "symbol": "circle"
         },
         "mode": "markers",
         "name": "Charlotte Hornets",
         "orientation": "v",
         "showlegend": false,
         "type": "scatter",
         "x": [
          338
         ],
         "xaxis": "x11",
         "y": [
          1.0885236686390531
         ],
         "yaxis": "y11"
        },
        {
         "hovertemplate": "TEAM_NAME=Charlotte Hornets<br>PLAY_TYPE=Isolation<br>POSS=%{x}<br>PPP=%{y}<extra></extra>",
         "legendgroup": "Charlotte Hornets",
         "marker": {
          "color": "#ab63fa",
          "symbol": "circle"
         },
         "mode": "markers",
         "name": "Charlotte Hornets",
         "orientation": "v",
         "showlegend": false,
         "type": "scatter",
         "x": [
          257
         ],
         "xaxis": "x12",
         "y": [
          0.8795252918287938
         ],
         "yaxis": "y12"
        },
        {
         "hovertemplate": "TEAM_NAME=Charlotte Hornets<br>PLAY_TYPE=Misc<br>POSS=%{x}<br>PPP=%{y}<extra></extra>",
         "legendgroup": "Charlotte Hornets",
         "marker": {
          "color": "#ab63fa",
          "symbol": "circle"
         },
         "mode": "markers",
         "name": "Charlotte Hornets",
         "orientation": "v",
         "showlegend": false,
         "type": "scatter",
         "x": [
          326
         ],
         "xaxis": "x7",
         "y": [
          0.5121840490797546
         ],
         "yaxis": "y7"
        },
        {
         "hovertemplate": "TEAM_NAME=Charlotte Hornets<br>PLAY_TYPE=OffRebound<br>POSS=%{x}<br>PPP=%{y}<extra></extra>",
         "legendgroup": "Charlotte Hornets",
         "marker": {
          "color": "#ab63fa",
          "symbol": "circle"
         },
         "mode": "markers",
         "name": "Charlotte Hornets",
         "orientation": "v",
         "showlegend": false,
         "type": "scatter",
         "x": [
          427
         ],
         "xaxis": "x8",
         "y": [
          1.1568266978922717
         ],
         "yaxis": "y8"
        },
        {
         "hovertemplate": "TEAM_NAME=Charlotte Hornets<br>PLAY_TYPE=OffScreen<br>POSS=%{x}<br>PPP=%{y}<extra></extra>",
         "legendgroup": "Charlotte Hornets",
         "marker": {
          "color": "#ab63fa",
          "symbol": "circle"
         },
         "mode": "markers",
         "name": "Charlotte Hornets",
         "orientation": "v",
         "showlegend": false,
         "type": "scatter",
         "x": [
          260
         ],
         "xaxis": "x9",
         "y": [
          0.8421653846153847
         ],
         "yaxis": "y9"
        },
        {
         "hovertemplate": "TEAM_NAME=Charlotte Hornets<br>PLAY_TYPE=PRBallHandler<br>POSS=%{x}<br>PPP=%{y}<extra></extra>",
         "legendgroup": "Charlotte Hornets",
         "marker": {
          "color": "#ab63fa",
          "symbol": "circle"
         },
         "mode": "markers",
         "name": "Charlotte Hornets",
         "orientation": "v",
         "showlegend": false,
         "type": "scatter",
         "x": [
          1204
         ],
         "xaxis": "x4",
         "y": [
          0.7698953488372093
         ],
         "yaxis": "y4"
        },
        {
         "hovertemplate": "TEAM_NAME=Charlotte Hornets<br>PLAY_TYPE=PRRollMan<br>POSS=%{x}<br>PPP=%{y}<extra></extra>",
         "legendgroup": "Charlotte Hornets",
         "marker": {
          "color": "#ab63fa",
          "symbol": "circle"
         },
         "mode": "markers",
         "name": "Charlotte Hornets",
         "orientation": "v",
         "showlegend": false,
         "type": "scatter",
         "x": [
          336
         ],
         "xaxis": "x5",
         "y": [
          1.2143482142857143
         ],
         "yaxis": "y5"
        },
        {
         "hovertemplate": "TEAM_NAME=Charlotte Hornets<br>PLAY_TYPE=Postup<br>POSS=%{x}<br>PPP=%{y}<extra></extra>",
         "legendgroup": "Charlotte Hornets",
         "marker": {
          "color": "#ab63fa",
          "symbol": "circle"
         },
         "mode": "markers",
         "name": "Charlotte Hornets",
         "orientation": "v",
         "showlegend": false,
         "type": "scatter",
         "x": [
          162
         ],
         "xaxis": "x6",
         "y": [
          0.969141975308642
         ],
         "yaxis": "y6"
        },
        {
         "hovertemplate": "TEAM_NAME=Charlotte Hornets<br>PLAY_TYPE=Spotup<br>POSS=%{x}<br>PPP=%{y}<extra></extra>",
         "legendgroup": "Charlotte Hornets",
         "marker": {
          "color": "#ab63fa",
          "symbol": "circle"
         },
         "mode": "markers",
         "name": "Charlotte Hornets",
         "orientation": "v",
         "showlegend": false,
         "type": "scatter",
         "x": [
          1526
         ],
         "xaxis": "x",
         "y": [
          0.9443414154652688
         ],
         "yaxis": "y"
        },
        {
         "hovertemplate": "TEAM_NAME=Charlotte Hornets<br>PLAY_TYPE=Transition<br>POSS=%{x}<br>PPP=%{y}<extra></extra>",
         "legendgroup": "Charlotte Hornets",
         "marker": {
          "color": "#ab63fa",
          "symbol": "circle"
         },
         "mode": "markers",
         "name": "Charlotte Hornets",
         "orientation": "v",
         "showlegend": false,
         "type": "scatter",
         "x": [
          1139
         ],
         "xaxis": "x2",
         "y": [
          1.097476733977173
         ],
         "yaxis": "y2"
        },
        {
         "hovertemplate": "TEAM_NAME=Chicago Bulls<br>PLAY_TYPE=Cut<br>POSS=%{x}<br>PPP=%{y}<extra></extra>",
         "legendgroup": "Chicago Bulls",
         "marker": {
          "color": "#FFA15A",
          "symbol": "circle"
         },
         "mode": "markers",
         "name": "Chicago Bulls",
         "orientation": "v",
         "showlegend": true,
         "type": "scatter",
         "x": [
          303
         ],
         "xaxis": "x10",
         "y": [
          1.3465577557755777
         ],
         "yaxis": "y10"
        },
        {
         "hovertemplate": "TEAM_NAME=Chicago Bulls<br>PLAY_TYPE=Handoff<br>POSS=%{x}<br>PPP=%{y}<extra></extra>",
         "legendgroup": "Chicago Bulls",
         "marker": {
          "color": "#FFA15A",
          "symbol": "circle"
         },
         "mode": "markers",
         "name": "Chicago Bulls",
         "orientation": "v",
         "showlegend": false,
         "type": "scatter",
         "x": [
          110
         ],
         "xaxis": "x11",
         "y": [
          0.9090545454545454
         ],
         "yaxis": "y11"
        },
        {
         "hovertemplate": "TEAM_NAME=Chicago Bulls<br>PLAY_TYPE=Isolation<br>POSS=%{x}<br>PPP=%{y}<extra></extra>",
         "legendgroup": "Chicago Bulls",
         "marker": {
          "color": "#FFA15A",
          "symbol": "circle"
         },
         "mode": "markers",
         "name": "Chicago Bulls",
         "orientation": "v",
         "showlegend": false,
         "type": "scatter",
         "x": [
          341
         ],
         "xaxis": "x12",
         "y": [
          1.0788651026392961
         ],
         "yaxis": "y12"
        },
        {
         "hovertemplate": "TEAM_NAME=Chicago Bulls<br>PLAY_TYPE=Misc<br>POSS=%{x}<br>PPP=%{y}<extra></extra>",
         "legendgroup": "Chicago Bulls",
         "marker": {
          "color": "#FFA15A",
          "symbol": "circle"
         },
         "mode": "markers",
         "name": "Chicago Bulls",
         "orientation": "v",
         "showlegend": false,
         "type": "scatter",
         "x": [
          282
         ],
         "xaxis": "x7",
         "y": [
          0.5107269503546098
         ],
         "yaxis": "y7"
        },
        {
         "hovertemplate": "TEAM_NAME=Chicago Bulls<br>PLAY_TYPE=OffRebound<br>POSS=%{x}<br>PPP=%{y}<extra></extra>",
         "legendgroup": "Chicago Bulls",
         "marker": {
          "color": "#FFA15A",
          "symbol": "circle"
         },
         "mode": "markers",
         "name": "Chicago Bulls",
         "orientation": "v",
         "showlegend": false,
         "type": "scatter",
         "x": [
          268
         ],
         "xaxis": "x8",
         "y": [
          1.1567313432835822
         ],
         "yaxis": "y8"
        },
        {
         "hovertemplate": "TEAM_NAME=Chicago Bulls<br>PLAY_TYPE=OffScreen<br>POSS=%{x}<br>PPP=%{y}<extra></extra>",
         "legendgroup": "Chicago Bulls",
         "marker": {
          "color": "#FFA15A",
          "symbol": "circle"
         },
         "mode": "markers",
         "name": "Chicago Bulls",
         "orientation": "v",
         "showlegend": false,
         "type": "scatter",
         "x": [
          135
         ],
         "xaxis": "x9",
         "y": [
          0.8221481481481482
         ],
         "yaxis": "y9"
        },
        {
         "hovertemplate": "TEAM_NAME=Chicago Bulls<br>PLAY_TYPE=PRBallHandler<br>POSS=%{x}<br>PPP=%{y}<extra></extra>",
         "legendgroup": "Chicago Bulls",
         "marker": {
          "color": "#FFA15A",
          "symbol": "circle"
         },
         "mode": "markers",
         "name": "Chicago Bulls",
         "orientation": "v",
         "showlegend": false,
         "type": "scatter",
         "x": [
          1270
         ],
         "xaxis": "x4",
         "y": [
          0.9526590551181102
         ],
         "yaxis": "y4"
        },
        {
         "hovertemplate": "TEAM_NAME=Chicago Bulls<br>PLAY_TYPE=PRRollMan<br>POSS=%{x}<br>PPP=%{y}<extra></extra>",
         "legendgroup": "Chicago Bulls",
         "marker": {
          "color": "#FFA15A",
          "symbol": "circle"
         },
         "mode": "markers",
         "name": "Chicago Bulls",
         "orientation": "v",
         "showlegend": false,
         "type": "scatter",
         "x": [
          440
         ],
         "xaxis": "x5",
         "y": [
          1.109015909090909
         ],
         "yaxis": "y5"
        },
        {
         "hovertemplate": "TEAM_NAME=Chicago Bulls<br>PLAY_TYPE=Postup<br>POSS=%{x}<br>PPP=%{y}<extra></extra>",
         "legendgroup": "Chicago Bulls",
         "marker": {
          "color": "#FFA15A",
          "symbol": "circle"
         },
         "mode": "markers",
         "name": "Chicago Bulls",
         "orientation": "v",
         "showlegend": false,
         "type": "scatter",
         "x": [
          313
         ],
         "xaxis": "x6",
         "y": [
          1.1275367412140576
         ],
         "yaxis": "y6"
        },
        {
         "hovertemplate": "TEAM_NAME=Chicago Bulls<br>PLAY_TYPE=Spotup<br>POSS=%{x}<br>PPP=%{y}<extra></extra>",
         "legendgroup": "Chicago Bulls",
         "marker": {
          "color": "#FFA15A",
          "symbol": "circle"
         },
         "mode": "markers",
         "name": "Chicago Bulls",
         "orientation": "v",
         "showlegend": false,
         "type": "scatter",
         "x": [
          1422
         ],
         "xaxis": "x",
         "y": [
          1.059148382559775
         ],
         "yaxis": "y"
        },
        {
         "hovertemplate": "TEAM_NAME=Chicago Bulls<br>PLAY_TYPE=Transition<br>POSS=%{x}<br>PPP=%{y}<extra></extra>",
         "legendgroup": "Chicago Bulls",
         "marker": {
          "color": "#FFA15A",
          "symbol": "circle"
         },
         "mode": "markers",
         "name": "Chicago Bulls",
         "orientation": "v",
         "showlegend": false,
         "type": "scatter",
         "x": [
          998
         ],
         "xaxis": "x2",
         "y": [
          1.113250501002004
         ],
         "yaxis": "y2"
        },
        {
         "hovertemplate": "TEAM_NAME=Cleveland Cavaliers<br>PLAY_TYPE=Cut<br>POSS=%{x}<br>PPP=%{y}<extra></extra>",
         "legendgroup": "Cleveland Cavaliers",
         "marker": {
          "color": "#19d3f3",
          "symbol": "circle"
         },
         "mode": "markers",
         "name": "Cleveland Cavaliers",
         "orientation": "v",
         "showlegend": true,
         "type": "scatter",
         "x": [
          534
         ],
         "xaxis": "x10",
         "y": [
          1.3855898876404495
         ],
         "yaxis": "y10"
        },
        {
         "hovertemplate": "TEAM_NAME=Cleveland Cavaliers<br>PLAY_TYPE=Handoff<br>POSS=%{x}<br>PPP=%{y}<extra></extra>",
         "legendgroup": "Cleveland Cavaliers",
         "marker": {
          "color": "#19d3f3",
          "symbol": "circle"
         },
         "mode": "markers",
         "name": "Cleveland Cavaliers",
         "orientation": "v",
         "showlegend": false,
         "type": "scatter",
         "x": [
          221
         ],
         "xaxis": "x11",
         "y": [
          0.9278778280542985
         ],
         "yaxis": "y11"
        },
        {
         "hovertemplate": "TEAM_NAME=Cleveland Cavaliers<br>PLAY_TYPE=Isolation<br>POSS=%{x}<br>PPP=%{y}<extra></extra>",
         "legendgroup": "Cleveland Cavaliers",
         "marker": {
          "color": "#19d3f3",
          "symbol": "circle"
         },
         "mode": "markers",
         "name": "Cleveland Cavaliers",
         "orientation": "v",
         "showlegend": false,
         "type": "scatter",
         "x": [
          343
         ],
         "xaxis": "x12",
         "y": [
          0.9390058309037901
         ],
         "yaxis": "y12"
        },
        {
         "hovertemplate": "TEAM_NAME=Cleveland Cavaliers<br>PLAY_TYPE=Misc<br>POSS=%{x}<br>PPP=%{y}<extra></extra>",
         "legendgroup": "Cleveland Cavaliers",
         "marker": {
          "color": "#19d3f3",
          "symbol": "circle"
         },
         "mode": "markers",
         "name": "Cleveland Cavaliers",
         "orientation": "v",
         "showlegend": false,
         "type": "scatter",
         "x": [
          296
         ],
         "xaxis": "x7",
         "y": [
          0.5539932432432433
         ],
         "yaxis": "y7"
        },
        {
         "hovertemplate": "TEAM_NAME=Cleveland Cavaliers<br>PLAY_TYPE=OffRebound<br>POSS=%{x}<br>PPP=%{y}<extra></extra>",
         "legendgroup": "Cleveland Cavaliers",
         "marker": {
          "color": "#19d3f3",
          "symbol": "circle"
         },
         "mode": "markers",
         "name": "Cleveland Cavaliers",
         "orientation": "v",
         "showlegend": false,
         "type": "scatter",
         "x": [
          254
         ],
         "xaxis": "x8",
         "y": [
          1.1377086614173229
         ],
         "yaxis": "y8"
        },
        {
         "hovertemplate": "TEAM_NAME=Cleveland Cavaliers<br>PLAY_TYPE=OffScreen<br>POSS=%{x}<br>PPP=%{y}<extra></extra>",
         "legendgroup": "Cleveland Cavaliers",
         "marker": {
          "color": "#19d3f3",
          "symbol": "circle"
         },
         "mode": "markers",
         "name": "Cleveland Cavaliers",
         "orientation": "v",
         "showlegend": false,
         "type": "scatter",
         "x": [
          192
         ],
         "xaxis": "x9",
         "y": [
          1.005421875
         ],
         "yaxis": "y9"
        },
        {
         "hovertemplate": "TEAM_NAME=Cleveland Cavaliers<br>PLAY_TYPE=PRBallHandler<br>POSS=%{x}<br>PPP=%{y}<extra></extra>",
         "legendgroup": "Cleveland Cavaliers",
         "marker": {
          "color": "#19d3f3",
          "symbol": "circle"
         },
         "mode": "markers",
         "name": "Cleveland Cavaliers",
         "orientation": "v",
         "showlegend": false,
         "type": "scatter",
         "x": [
          1187
         ],
         "xaxis": "x4",
         "y": [
          0.9781718618365627
         ],
         "yaxis": "y4"
        },
        {
         "hovertemplate": "TEAM_NAME=Cleveland Cavaliers<br>PLAY_TYPE=PRRollMan<br>POSS=%{x}<br>PPP=%{y}<extra></extra>",
         "legendgroup": "Cleveland Cavaliers",
         "marker": {
          "color": "#19d3f3",
          "symbol": "circle"
         },
         "mode": "markers",
         "name": "Cleveland Cavaliers",
         "orientation": "v",
         "showlegend": false,
         "type": "scatter",
         "x": [
          433
         ],
         "xaxis": "x5",
         "y": [
          1.1133464203233256
         ],
         "yaxis": "y5"
        },
        {
         "hovertemplate": "TEAM_NAME=Cleveland Cavaliers<br>PLAY_TYPE=Postup<br>POSS=%{x}<br>PPP=%{y}<extra></extra>",
         "legendgroup": "Cleveland Cavaliers",
         "marker": {
          "color": "#19d3f3",
          "symbol": "circle"
         },
         "mode": "markers",
         "name": "Cleveland Cavaliers",
         "orientation": "v",
         "showlegend": false,
         "type": "scatter",
         "x": [
          193
         ],
         "xaxis": "x6",
         "y": [
          0.777181347150259
         ],
         "yaxis": "y6"
        },
        {
         "hovertemplate": "TEAM_NAME=Cleveland Cavaliers<br>PLAY_TYPE=Spotup<br>POSS=%{x}<br>PPP=%{y}<extra></extra>",
         "legendgroup": "Cleveland Cavaliers",
         "marker": {
          "color": "#19d3f3",
          "symbol": "circle"
         },
         "mode": "markers",
         "name": "Cleveland Cavaliers",
         "orientation": "v",
         "showlegend": false,
         "type": "scatter",
         "x": [
          1335
         ],
         "xaxis": "x",
         "y": [
          1.0134876404494382
         ],
         "yaxis": "y"
        },
        {
         "hovertemplate": "TEAM_NAME=Cleveland Cavaliers<br>PLAY_TYPE=Transition<br>POSS=%{x}<br>PPP=%{y}<extra></extra>",
         "legendgroup": "Cleveland Cavaliers",
         "marker": {
          "color": "#19d3f3",
          "symbol": "circle"
         },
         "mode": "markers",
         "name": "Cleveland Cavaliers",
         "orientation": "v",
         "showlegend": false,
         "type": "scatter",
         "x": [
          940
         ],
         "xaxis": "x2",
         "y": [
          1.1818340425531915
         ],
         "yaxis": "y2"
        },
        {
         "hovertemplate": "TEAM_NAME=Dallas Mavericks<br>PLAY_TYPE=Cut<br>POSS=%{x}<br>PPP=%{y}<extra></extra>",
         "legendgroup": "Dallas Mavericks",
         "marker": {
          "color": "#FF6692",
          "symbol": "circle"
         },
         "mode": "markers",
         "name": "Dallas Mavericks",
         "orientation": "v",
         "showlegend": true,
         "type": "scatter",
         "x": [
          227
         ],
         "xaxis": "x10",
         "y": [
          1.3921762114537446
         ],
         "yaxis": "y10"
        },
        {
         "hovertemplate": "TEAM_NAME=Dallas Mavericks<br>PLAY_TYPE=Handoff<br>POSS=%{x}<br>PPP=%{y}<extra></extra>",
         "legendgroup": "Dallas Mavericks",
         "marker": {
          "color": "#FF6692",
          "symbol": "circle"
         },
         "mode": "markers",
         "name": "Dallas Mavericks",
         "orientation": "v",
         "showlegend": false,
         "type": "scatter",
         "x": [
          118
         ],
         "xaxis": "x11",
         "y": [
          0.8730677966101695
         ],
         "yaxis": "y11"
        },
        {
         "hovertemplate": "TEAM_NAME=Dallas Mavericks<br>PLAY_TYPE=Isolation<br>POSS=%{x}<br>PPP=%{y}<extra></extra>",
         "legendgroup": "Dallas Mavericks",
         "marker": {
          "color": "#FF6692",
          "symbol": "circle"
         },
         "mode": "markers",
         "name": "Dallas Mavericks",
         "orientation": "v",
         "showlegend": false,
         "type": "scatter",
         "x": [
          739
         ],
         "xaxis": "x12",
         "y": [
          1.0391569688768607
         ],
         "yaxis": "y12"
        },
        {
         "hovertemplate": "TEAM_NAME=Dallas Mavericks<br>PLAY_TYPE=Misc<br>POSS=%{x}<br>PPP=%{y}<extra></extra>",
         "legendgroup": "Dallas Mavericks",
         "marker": {
          "color": "#FF6692",
          "symbol": "circle"
         },
         "mode": "markers",
         "name": "Dallas Mavericks",
         "orientation": "v",
         "showlegend": false,
         "type": "scatter",
         "x": [
          321
         ],
         "xaxis": "x7",
         "y": [
          0.5701869158878504
         ],
         "yaxis": "y7"
        },
        {
         "hovertemplate": "TEAM_NAME=Dallas Mavericks<br>PLAY_TYPE=OffRebound<br>POSS=%{x}<br>PPP=%{y}<extra></extra>",
         "legendgroup": "Dallas Mavericks",
         "marker": {
          "color": "#FF6692",
          "symbol": "circle"
         },
         "mode": "markers",
         "name": "Dallas Mavericks",
         "orientation": "v",
         "showlegend": false,
         "type": "scatter",
         "x": [
          137
         ],
         "xaxis": "x8",
         "y": [
          1.248343065693431
         ],
         "yaxis": "y8"
        },
        {
         "hovertemplate": "TEAM_NAME=Dallas Mavericks<br>PLAY_TYPE=OffScreen<br>POSS=%{x}<br>PPP=%{y}<extra></extra>",
         "legendgroup": "Dallas Mavericks",
         "marker": {
          "color": "#FF6692",
          "symbol": "circle"
         },
         "mode": "markers",
         "name": "Dallas Mavericks",
         "orientation": "v",
         "showlegend": false,
         "type": "scatter",
         "x": [
          158
         ],
         "xaxis": "x9",
         "y": [
          1.0694810126582277
         ],
         "yaxis": "y9"
        },
        {
         "hovertemplate": "TEAM_NAME=Dallas Mavericks<br>PLAY_TYPE=PRBallHandler<br>POSS=%{x}<br>PPP=%{y}<extra></extra>",
         "legendgroup": "Dallas Mavericks",
         "marker": {
          "color": "#FF6692",
          "symbol": "circle"
         },
         "mode": "markers",
         "name": "Dallas Mavericks",
         "orientation": "v",
         "showlegend": false,
         "type": "scatter",
         "x": [
          884
         ],
         "xaxis": "x4",
         "y": [
          1.0213823529411763
         ],
         "yaxis": "y4"
        },
        {
         "hovertemplate": "TEAM_NAME=Dallas Mavericks<br>PLAY_TYPE=PRRollMan<br>POSS=%{x}<br>PPP=%{y}<extra></extra>",
         "legendgroup": "Dallas Mavericks",
         "marker": {
          "color": "#FF6692",
          "symbol": "circle"
         },
         "mode": "markers",
         "name": "Dallas Mavericks",
         "orientation": "v",
         "showlegend": false,
         "type": "scatter",
         "x": [
          346
         ],
         "xaxis": "x5",
         "y": [
          1.3381589595375722
         ],
         "yaxis": "y5"
        },
        {
         "hovertemplate": "TEAM_NAME=Dallas Mavericks<br>PLAY_TYPE=Postup<br>POSS=%{x}<br>PPP=%{y}<extra></extra>",
         "legendgroup": "Dallas Mavericks",
         "marker": {
          "color": "#FF6692",
          "symbol": "circle"
         },
         "mode": "markers",
         "name": "Dallas Mavericks",
         "orientation": "v",
         "showlegend": false,
         "type": "scatter",
         "x": [
          304
         ],
         "xaxis": "x6",
         "y": [
          1.049203947368421
         ],
         "yaxis": "y6"
        },
        {
         "hovertemplate": "TEAM_NAME=Dallas Mavericks<br>PLAY_TYPE=Spotup<br>POSS=%{x}<br>PPP=%{y}<extra></extra>",
         "legendgroup": "Dallas Mavericks",
         "marker": {
          "color": "#FF6692",
          "symbol": "circle"
         },
         "mode": "markers",
         "name": "Dallas Mavericks",
         "orientation": "v",
         "showlegend": false,
         "type": "scatter",
         "x": [
          1531
         ],
         "xaxis": "x",
         "y": [
          1.0823919007184848
         ],
         "yaxis": "y"
        },
        {
         "hovertemplate": "TEAM_NAME=Dallas Mavericks<br>PLAY_TYPE=Transition<br>POSS=%{x}<br>PPP=%{y}<extra></extra>",
         "legendgroup": "Dallas Mavericks",
         "marker": {
          "color": "#FF6692",
          "symbol": "circle"
         },
         "mode": "markers",
         "name": "Dallas Mavericks",
         "orientation": "v",
         "showlegend": false,
         "type": "scatter",
         "x": [
          794
         ],
         "xaxis": "x2",
         "y": [
          1.0969521410579344
         ],
         "yaxis": "y2"
        },
        {
         "hovertemplate": "TEAM_NAME=Denver Nuggets<br>PLAY_TYPE=Cut<br>POSS=%{x}<br>PPP=%{y}<extra></extra>",
         "legendgroup": "Denver Nuggets",
         "marker": {
          "color": "#B6E880",
          "symbol": "circle"
         },
         "mode": "markers",
         "name": "Denver Nuggets",
         "orientation": "v",
         "showlegend": true,
         "type": "scatter",
         "x": [
          554
         ],
         "xaxis": "x10",
         "y": [
          1.3825324909747292
         ],
         "yaxis": "y10"
        },
        {
         "hovertemplate": "TEAM_NAME=Denver Nuggets<br>PLAY_TYPE=Handoff<br>POSS=%{x}<br>PPP=%{y}<extra></extra>",
         "legendgroup": "Denver Nuggets",
         "marker": {
          "color": "#B6E880",
          "symbol": "circle"
         },
         "mode": "markers",
         "name": "Denver Nuggets",
         "orientation": "v",
         "showlegend": false,
         "type": "scatter",
         "x": [
          324
         ],
         "xaxis": "x11",
         "y": [
          0.879564814814815
         ],
         "yaxis": "y11"
        },
        {
         "hovertemplate": "TEAM_NAME=Denver Nuggets<br>PLAY_TYPE=Isolation<br>POSS=%{x}<br>PPP=%{y}<extra></extra>",
         "legendgroup": "Denver Nuggets",
         "marker": {
          "color": "#B6E880",
          "symbol": "circle"
         },
         "mode": "markers",
         "name": "Denver Nuggets",
         "orientation": "v",
         "showlegend": false,
         "type": "scatter",
         "x": [
          312
         ],
         "xaxis": "x12",
         "y": [
          0.9455096153846153
         ],
         "yaxis": "y12"
        },
        {
         "hovertemplate": "TEAM_NAME=Denver Nuggets<br>PLAY_TYPE=Misc<br>POSS=%{x}<br>PPP=%{y}<extra></extra>",
         "legendgroup": "Denver Nuggets",
         "marker": {
          "color": "#B6E880",
          "symbol": "circle"
         },
         "mode": "markers",
         "name": "Denver Nuggets",
         "orientation": "v",
         "showlegend": false,
         "type": "scatter",
         "x": [
          381
         ],
         "xaxis": "x7",
         "y": [
          0.44608398950131234
         ],
         "yaxis": "y7"
        },
        {
         "hovertemplate": "TEAM_NAME=Denver Nuggets<br>PLAY_TYPE=OffRebound<br>POSS=%{x}<br>PPP=%{y}<extra></extra>",
         "legendgroup": "Denver Nuggets",
         "marker": {
          "color": "#B6E880",
          "symbol": "circle"
         },
         "mode": "markers",
         "name": "Denver Nuggets",
         "orientation": "v",
         "showlegend": false,
         "type": "scatter",
         "x": [
          320
         ],
         "xaxis": "x8",
         "y": [
          1.17194375
         ],
         "yaxis": "y8"
        },
        {
         "hovertemplate": "TEAM_NAME=Denver Nuggets<br>PLAY_TYPE=OffScreen<br>POSS=%{x}<br>PPP=%{y}<extra></extra>",
         "legendgroup": "Denver Nuggets",
         "marker": {
          "color": "#B6E880",
          "symbol": "circle"
         },
         "mode": "markers",
         "name": "Denver Nuggets",
         "orientation": "v",
         "showlegend": false,
         "type": "scatter",
         "x": [
          223
         ],
         "xaxis": "x9",
         "y": [
          0.9281165919282511
         ],
         "yaxis": "y9"
        },
        {
         "hovertemplate": "TEAM_NAME=Denver Nuggets<br>PLAY_TYPE=PRBallHandler<br>POSS=%{x}<br>PPP=%{y}<extra></extra>",
         "legendgroup": "Denver Nuggets",
         "marker": {
          "color": "#B6E880",
          "symbol": "circle"
         },
         "mode": "markers",
         "name": "Denver Nuggets",
         "orientation": "v",
         "showlegend": false,
         "type": "scatter",
         "x": [
          774
         ],
         "xaxis": "x4",
         "y": [
          0.8902984496124031
         ],
         "yaxis": "y4"
        },
        {
         "hovertemplate": "TEAM_NAME=Denver Nuggets<br>PLAY_TYPE=PRRollMan<br>POSS=%{x}<br>PPP=%{y}<extra></extra>",
         "legendgroup": "Denver Nuggets",
         "marker": {
          "color": "#B6E880",
          "symbol": "circle"
         },
         "mode": "markers",
         "name": "Denver Nuggets",
         "orientation": "v",
         "showlegend": false,
         "type": "scatter",
         "x": [
          291
         ],
         "xaxis": "x5",
         "y": [
          1.374429553264605
         ],
         "yaxis": "y5"
        },
        {
         "hovertemplate": "TEAM_NAME=Denver Nuggets<br>PLAY_TYPE=Postup<br>POSS=%{x}<br>PPP=%{y}<extra></extra>",
         "legendgroup": "Denver Nuggets",
         "marker": {
          "color": "#B6E880",
          "symbol": "circle"
         },
         "mode": "markers",
         "name": "Denver Nuggets",
         "orientation": "v",
         "showlegend": false,
         "type": "scatter",
         "x": [
          478
         ],
         "xaxis": "x6",
         "y": [
          1.0896380753138075
         ],
         "yaxis": "y6"
        },
        {
         "hovertemplate": "TEAM_NAME=Denver Nuggets<br>PLAY_TYPE=Spotup<br>POSS=%{x}<br>PPP=%{y}<extra></extra>",
         "legendgroup": "Denver Nuggets",
         "marker": {
          "color": "#B6E880",
          "symbol": "circle"
         },
         "mode": "markers",
         "name": "Denver Nuggets",
         "orientation": "v",
         "showlegend": false,
         "type": "scatter",
         "x": [
          1173
         ],
         "xaxis": "x",
         "y": [
          1.074058823529412
         ],
         "yaxis": "y"
        },
        {
         "hovertemplate": "TEAM_NAME=Denver Nuggets<br>PLAY_TYPE=Transition<br>POSS=%{x}<br>PPP=%{y}<extra></extra>",
         "legendgroup": "Denver Nuggets",
         "marker": {
          "color": "#B6E880",
          "symbol": "circle"
         },
         "mode": "markers",
         "name": "Denver Nuggets",
         "orientation": "v",
         "showlegend": false,
         "type": "scatter",
         "x": [
          1038
         ],
         "xaxis": "x2",
         "y": [
          1.2456233140655104
         ],
         "yaxis": "y2"
        },
        {
         "hovertemplate": "TEAM_NAME=Detroit Pistons<br>PLAY_TYPE=Cut<br>POSS=%{x}<br>PPP=%{y}<extra></extra>",
         "legendgroup": "Detroit Pistons",
         "marker": {
          "color": "#FF97FF",
          "symbol": "circle"
         },
         "mode": "markers",
         "name": "Detroit Pistons",
         "orientation": "v",
         "showlegend": true,
         "type": "scatter",
         "x": [
          330
         ],
         "xaxis": "x10",
         "y": [
          1.2818666666666665
         ],
         "yaxis": "y10"
        },
        {
         "hovertemplate": "TEAM_NAME=Detroit Pistons<br>PLAY_TYPE=Handoff<br>POSS=%{x}<br>PPP=%{y}<extra></extra>",
         "legendgroup": "Detroit Pistons",
         "marker": {
          "color": "#FF97FF",
          "symbol": "circle"
         },
         "mode": "markers",
         "name": "Detroit Pistons",
         "orientation": "v",
         "showlegend": false,
         "type": "scatter",
         "x": [
          169
         ],
         "xaxis": "x11",
         "y": [
          0.8166272189349113
         ],
         "yaxis": "y11"
        },
        {
         "hovertemplate": "TEAM_NAME=Detroit Pistons<br>PLAY_TYPE=Isolation<br>POSS=%{x}<br>PPP=%{y}<extra></extra>",
         "legendgroup": "Detroit Pistons",
         "marker": {
          "color": "#FF97FF",
          "symbol": "circle"
         },
         "mode": "markers",
         "name": "Detroit Pistons",
         "orientation": "v",
         "showlegend": false,
         "type": "scatter",
         "x": [
          425
         ],
         "xaxis": "x12",
         "y": [
          0.8517952941176471
         ],
         "yaxis": "y12"
        },
        {
         "hovertemplate": "TEAM_NAME=Detroit Pistons<br>PLAY_TYPE=Misc<br>POSS=%{x}<br>PPP=%{y}<extra></extra>",
         "legendgroup": "Detroit Pistons",
         "marker": {
          "color": "#FF97FF",
          "symbol": "circle"
         },
         "mode": "markers",
         "name": "Detroit Pistons",
         "orientation": "v",
         "showlegend": false,
         "type": "scatter",
         "x": [
          401
         ],
         "xaxis": "x7",
         "y": [
          0.5634513715710723
         ],
         "yaxis": "y7"
        },
        {
         "hovertemplate": "TEAM_NAME=Detroit Pistons<br>PLAY_TYPE=OffRebound<br>POSS=%{x}<br>PPP=%{y}<extra></extra>",
         "legendgroup": "Detroit Pistons",
         "marker": {
          "color": "#FF97FF",
          "symbol": "circle"
         },
         "mode": "markers",
         "name": "Detroit Pistons",
         "orientation": "v",
         "showlegend": false,
         "type": "scatter",
         "x": [
          320
         ],
         "xaxis": "x8",
         "y": [
          1.1624406250000001
         ],
         "yaxis": "y8"
        },
        {
         "hovertemplate": "TEAM_NAME=Detroit Pistons<br>PLAY_TYPE=OffScreen<br>POSS=%{x}<br>PPP=%{y}<extra></extra>",
         "legendgroup": "Detroit Pistons",
         "marker": {
          "color": "#FF97FF",
          "symbol": "circle"
         },
         "mode": "markers",
         "name": "Detroit Pistons",
         "orientation": "v",
         "showlegend": false,
         "type": "scatter",
         "x": [
          246
         ],
         "xaxis": "x9",
         "y": [
          1.065162601626016
         ],
         "yaxis": "y9"
        },
        {
         "hovertemplate": "TEAM_NAME=Detroit Pistons<br>PLAY_TYPE=PRBallHandler<br>POSS=%{x}<br>PPP=%{y}<extra></extra>",
         "legendgroup": "Detroit Pistons",
         "marker": {
          "color": "#FF97FF",
          "symbol": "circle"
         },
         "mode": "markers",
         "name": "Detroit Pistons",
         "orientation": "v",
         "showlegend": false,
         "type": "scatter",
         "x": [
          1328
         ],
         "xaxis": "x4",
         "y": [
          0.8478704819277109
         ],
         "yaxis": "y4"
        },
        {
         "hovertemplate": "TEAM_NAME=Detroit Pistons<br>PLAY_TYPE=PRRollMan<br>POSS=%{x}<br>PPP=%{y}<extra></extra>",
         "legendgroup": "Detroit Pistons",
         "marker": {
          "color": "#FF97FF",
          "symbol": "circle"
         },
         "mode": "markers",
         "name": "Detroit Pistons",
         "orientation": "v",
         "showlegend": false,
         "type": "scatter",
         "x": [
          287
         ],
         "xaxis": "x5",
         "y": [
          1.19504181184669
         ],
         "yaxis": "y5"
        },
        {
         "hovertemplate": "TEAM_NAME=Detroit Pistons<br>PLAY_TYPE=Postup<br>POSS=%{x}<br>PPP=%{y}<extra></extra>",
         "legendgroup": "Detroit Pistons",
         "marker": {
          "color": "#FF97FF",
          "symbol": "circle"
         },
         "mode": "markers",
         "name": "Detroit Pistons",
         "orientation": "v",
         "showlegend": false,
         "type": "scatter",
         "x": [
          214
         ],
         "xaxis": "x6",
         "y": [
          0.8833317757009347
         ],
         "yaxis": "y6"
        },
        {
         "hovertemplate": "TEAM_NAME=Detroit Pistons<br>PLAY_TYPE=Spotup<br>POSS=%{x}<br>PPP=%{y}<extra></extra>",
         "legendgroup": "Detroit Pistons",
         "marker": {
          "color": "#FF97FF",
          "symbol": "circle"
         },
         "mode": "markers",
         "name": "Detroit Pistons",
         "orientation": "v",
         "showlegend": false,
         "type": "scatter",
         "x": [
          1465
         ],
         "xaxis": "x",
         "y": [
          1.01500614334471
         ],
         "yaxis": "y"
        },
        {
         "hovertemplate": "TEAM_NAME=Detroit Pistons<br>PLAY_TYPE=Transition<br>POSS=%{x}<br>PPP=%{y}<extra></extra>",
         "legendgroup": "Detroit Pistons",
         "marker": {
          "color": "#FF97FF",
          "symbol": "circle"
         },
         "mode": "markers",
         "name": "Detroit Pistons",
         "orientation": "v",
         "showlegend": false,
         "type": "scatter",
         "x": [
          1055
         ],
         "xaxis": "x2",
         "y": [
          1.116719431279621
         ],
         "yaxis": "y2"
        },
        {
         "hovertemplate": "TEAM_NAME=Golden State Warriors<br>PLAY_TYPE=Cut<br>POSS=%{x}<br>PPP=%{y}<extra></extra>",
         "legendgroup": "Golden State Warriors",
         "marker": {
          "color": "#FECB52",
          "symbol": "circle"
         },
         "mode": "markers",
         "name": "Golden State Warriors",
         "orientation": "v",
         "showlegend": true,
         "type": "scatter",
         "x": [
          623
         ],
         "xaxis": "x10",
         "y": [
          1.319505617977528
         ],
         "yaxis": "y10"
        },
        {
         "hovertemplate": "TEAM_NAME=Golden State Warriors<br>PLAY_TYPE=Handoff<br>POSS=%{x}<br>PPP=%{y}<extra></extra>",
         "legendgroup": "Golden State Warriors",
         "marker": {
          "color": "#FECB52",
          "symbol": "circle"
         },
         "mode": "markers",
         "name": "Golden State Warriors",
         "orientation": "v",
         "showlegend": false,
         "type": "scatter",
         "x": [
          433
         ],
         "xaxis": "x11",
         "y": [
          1.0208221709006928
         ],
         "yaxis": "y11"
        },
        {
         "hovertemplate": "TEAM_NAME=Golden State Warriors<br>PLAY_TYPE=Isolation<br>POSS=%{x}<br>PPP=%{y}<extra></extra>",
         "legendgroup": "Golden State Warriors",
         "marker": {
          "color": "#FECB52",
          "symbol": "circle"
         },
         "mode": "markers",
         "name": "Golden State Warriors",
         "orientation": "v",
         "showlegend": false,
         "type": "scatter",
         "x": [
          219
         ],
         "xaxis": "x12",
         "y": [
          0.8950547945205479
         ],
         "yaxis": "y12"
        },
        {
         "hovertemplate": "TEAM_NAME=Golden State Warriors<br>PLAY_TYPE=Misc<br>POSS=%{x}<br>PPP=%{y}<extra></extra>",
         "legendgroup": "Golden State Warriors",
         "marker": {
          "color": "#FECB52",
          "symbol": "circle"
         },
         "mode": "markers",
         "name": "Golden State Warriors",
         "orientation": "v",
         "showlegend": false,
         "type": "scatter",
         "x": [
          412
         ],
         "xaxis": "x7",
         "y": [
          0.42948786407767
         ],
         "yaxis": "y7"
        },
        {
         "hovertemplate": "TEAM_NAME=Golden State Warriors<br>PLAY_TYPE=OffRebound<br>POSS=%{x}<br>PPP=%{y}<extra></extra>",
         "legendgroup": "Golden State Warriors",
         "marker": {
          "color": "#FECB52",
          "symbol": "circle"
         },
         "mode": "markers",
         "name": "Golden State Warriors",
         "orientation": "v",
         "showlegend": false,
         "type": "scatter",
         "x": [
          287
         ],
         "xaxis": "x8",
         "y": [
          1.0138362369337979
         ],
         "yaxis": "y8"
        },
        {
         "hovertemplate": "TEAM_NAME=Golden State Warriors<br>PLAY_TYPE=OffScreen<br>POSS=%{x}<br>PPP=%{y}<extra></extra>",
         "legendgroup": "Golden State Warriors",
         "marker": {
          "color": "#FECB52",
          "symbol": "circle"
         },
         "mode": "markers",
         "name": "Golden State Warriors",
         "orientation": "v",
         "showlegend": false,
         "type": "scatter",
         "x": [
          596
         ],
         "xaxis": "x9",
         "y": [
          1.015253355704698
         ],
         "yaxis": "y9"
        },
        {
         "hovertemplate": "TEAM_NAME=Golden State Warriors<br>PLAY_TYPE=PRBallHandler<br>POSS=%{x}<br>PPP=%{y}<extra></extra>",
         "legendgroup": "Golden State Warriors",
         "marker": {
          "color": "#FECB52",
          "symbol": "circle"
         },
         "mode": "markers",
         "name": "Golden State Warriors",
         "orientation": "v",
         "showlegend": false,
         "type": "scatter",
         "x": [
          836
         ],
         "xaxis": "x4",
         "y": [
          0.9580586124401914
         ],
         "yaxis": "y4"
        },
        {
         "hovertemplate": "TEAM_NAME=Golden State Warriors<br>PLAY_TYPE=PRRollMan<br>POSS=%{x}<br>PPP=%{y}<extra></extra>",
         "legendgroup": "Golden State Warriors",
         "marker": {
          "color": "#FECB52",
          "symbol": "circle"
         },
         "mode": "markers",
         "name": "Golden State Warriors",
         "orientation": "v",
         "showlegend": false,
         "type": "scatter",
         "x": [
          186
         ],
         "xaxis": "x5",
         "y": [
          1.1881290322580647
         ],
         "yaxis": "y5"
        },
        {
         "hovertemplate": "TEAM_NAME=Golden State Warriors<br>PLAY_TYPE=Postup<br>POSS=%{x}<br>PPP=%{y}<extra></extra>",
         "legendgroup": "Golden State Warriors",
         "marker": {
          "color": "#FECB52",
          "symbol": "circle"
         },
         "mode": "markers",
         "name": "Golden State Warriors",
         "orientation": "v",
         "showlegend": false,
         "type": "scatter",
         "x": [
          119
         ],
         "xaxis": "x6",
         "y": [
          0.7981512605042016
         ],
         "yaxis": "y6"
        },
        {
         "hovertemplate": "TEAM_NAME=Golden State Warriors<br>PLAY_TYPE=Spotup<br>POSS=%{x}<br>PPP=%{y}<extra></extra>",
         "legendgroup": "Golden State Warriors",
         "marker": {
          "color": "#FECB52",
          "symbol": "circle"
         },
         "mode": "markers",
         "name": "Golden State Warriors",
         "orientation": "v",
         "showlegend": false,
         "type": "scatter",
         "x": [
          1279
         ],
         "xaxis": "x",
         "y": [
          1.0905582486317438
         ],
         "yaxis": "y"
        },
        {
         "hovertemplate": "TEAM_NAME=Golden State Warriors<br>PLAY_TYPE=Transition<br>POSS=%{x}<br>PPP=%{y}<extra></extra>",
         "legendgroup": "Golden State Warriors",
         "marker": {
          "color": "#FECB52",
          "symbol": "circle"
         },
         "mode": "markers",
         "name": "Golden State Warriors",
         "orientation": "v",
         "showlegend": false,
         "type": "scatter",
         "x": [
          1033
         ],
         "xaxis": "x2",
         "y": [
          1.137385285575992
         ],
         "yaxis": "y2"
        },
        {
         "hovertemplate": "TEAM_NAME=Houston Rockets<br>PLAY_TYPE=Cut<br>POSS=%{x}<br>PPP=%{y}<extra></extra>",
         "legendgroup": "Houston Rockets",
         "marker": {
          "color": "#636efa",
          "symbol": "circle"
         },
         "mode": "markers",
         "name": "Houston Rockets",
         "orientation": "v",
         "showlegend": true,
         "type": "scatter",
         "x": [
          413
         ],
         "xaxis": "x10",
         "y": [
          1.1404866828087168
         ],
         "yaxis": "y10"
        },
        {
         "hovertemplate": "TEAM_NAME=Houston Rockets<br>PLAY_TYPE=Handoff<br>POSS=%{x}<br>PPP=%{y}<extra></extra>",
         "legendgroup": "Houston Rockets",
         "marker": {
          "color": "#636efa",
          "symbol": "circle"
         },
         "mode": "markers",
         "name": "Houston Rockets",
         "orientation": "v",
         "showlegend": false,
         "type": "scatter",
         "x": [
          313
         ],
         "xaxis": "x11",
         "y": [
          0.9391693290734824
         ],
         "yaxis": "y11"
        },
        {
         "hovertemplate": "TEAM_NAME=Houston Rockets<br>PLAY_TYPE=Isolation<br>POSS=%{x}<br>PPP=%{y}<extra></extra>",
         "legendgroup": "Houston Rockets",
         "marker": {
          "color": "#636efa",
          "symbol": "circle"
         },
         "mode": "markers",
         "name": "Houston Rockets",
         "orientation": "v",
         "showlegend": false,
         "type": "scatter",
         "x": [
          390
         ],
         "xaxis": "x12",
         "y": [
          0.941276923076923
         ],
         "yaxis": "y12"
        },
        {
         "hovertemplate": "TEAM_NAME=Houston Rockets<br>PLAY_TYPE=Misc<br>POSS=%{x}<br>PPP=%{y}<extra></extra>",
         "legendgroup": "Houston Rockets",
         "marker": {
          "color": "#636efa",
          "symbol": "circle"
         },
         "mode": "markers",
         "name": "Houston Rockets",
         "orientation": "v",
         "showlegend": false,
         "type": "scatter",
         "x": [
          367
         ],
         "xaxis": "x7",
         "y": [
          0.5393487738419618
         ],
         "yaxis": "y7"
        },
        {
         "hovertemplate": "TEAM_NAME=Houston Rockets<br>PLAY_TYPE=OffRebound<br>POSS=%{x}<br>PPP=%{y}<extra></extra>",
         "legendgroup": "Houston Rockets",
         "marker": {
          "color": "#636efa",
          "symbol": "circle"
         },
         "mode": "markers",
         "name": "Houston Rockets",
         "orientation": "v",
         "showlegend": false,
         "type": "scatter",
         "x": [
          384
         ],
         "xaxis": "x8",
         "y": [
          1.078125
         ],
         "yaxis": "y8"
        },
        {
         "hovertemplate": "TEAM_NAME=Houston Rockets<br>PLAY_TYPE=OffScreen<br>POSS=%{x}<br>PPP=%{y}<extra></extra>",
         "legendgroup": "Houston Rockets",
         "marker": {
          "color": "#636efa",
          "symbol": "circle"
         },
         "mode": "markers",
         "name": "Houston Rockets",
         "orientation": "v",
         "showlegend": false,
         "type": "scatter",
         "x": [
          103
         ],
         "xaxis": "x9",
         "y": [
          0.7475922330097087
         ],
         "yaxis": "y9"
        },
        {
         "hovertemplate": "TEAM_NAME=Houston Rockets<br>PLAY_TYPE=PRBallHandler<br>POSS=%{x}<br>PPP=%{y}<extra></extra>",
         "legendgroup": "Houston Rockets",
         "marker": {
          "color": "#636efa",
          "symbol": "circle"
         },
         "mode": "markers",
         "name": "Houston Rockets",
         "orientation": "v",
         "showlegend": false,
         "type": "scatter",
         "x": [
          1202
         ],
         "xaxis": "x4",
         "y": [
          0.8134559068219634
         ],
         "yaxis": "y4"
        },
        {
         "hovertemplate": "TEAM_NAME=Houston Rockets<br>PLAY_TYPE=PRRollMan<br>POSS=%{x}<br>PPP=%{y}<extra></extra>",
         "legendgroup": "Houston Rockets",
         "marker": {
          "color": "#636efa",
          "symbol": "circle"
         },
         "mode": "markers",
         "name": "Houston Rockets",
         "orientation": "v",
         "showlegend": false,
         "type": "scatter",
         "x": [
          374
         ],
         "xaxis": "x5",
         "y": [
          1.1097807486631015
         ],
         "yaxis": "y5"
        },
        {
         "hovertemplate": "TEAM_NAME=Houston Rockets<br>PLAY_TYPE=Postup<br>POSS=%{x}<br>PPP=%{y}<extra></extra>",
         "legendgroup": "Houston Rockets",
         "marker": {
          "color": "#636efa",
          "symbol": "circle"
         },
         "mode": "markers",
         "name": "Houston Rockets",
         "orientation": "v",
         "showlegend": false,
         "type": "scatter",
         "x": [
          205
         ],
         "xaxis": "x6",
         "y": [
          0.9559024390243901
         ],
         "yaxis": "y6"
        },
        {
         "hovertemplate": "TEAM_NAME=Houston Rockets<br>PLAY_TYPE=Spotup<br>POSS=%{x}<br>PPP=%{y}<extra></extra>",
         "legendgroup": "Houston Rockets",
         "marker": {
          "color": "#636efa",
          "symbol": "circle"
         },
         "mode": "markers",
         "name": "Houston Rockets",
         "orientation": "v",
         "showlegend": false,
         "type": "scatter",
         "x": [
          1417
         ],
         "xaxis": "x",
         "y": [
          1.0000119971771348
         ],
         "yaxis": "y"
        },
        {
         "hovertemplate": "TEAM_NAME=Houston Rockets<br>PLAY_TYPE=Transition<br>POSS=%{x}<br>PPP=%{y}<extra></extra>",
         "legendgroup": "Houston Rockets",
         "marker": {
          "color": "#636efa",
          "symbol": "circle"
         },
         "mode": "markers",
         "name": "Houston Rockets",
         "orientation": "v",
         "showlegend": false,
         "type": "scatter",
         "x": [
          837
         ],
         "xaxis": "x2",
         "y": [
          1.0262724014336917
         ],
         "yaxis": "y2"
        },
        {
         "hovertemplate": "TEAM_NAME=Indiana Pacers<br>PLAY_TYPE=Cut<br>POSS=%{x}<br>PPP=%{y}<extra></extra>",
         "legendgroup": "Indiana Pacers",
         "marker": {
          "color": "#EF553B",
          "symbol": "circle"
         },
         "mode": "markers",
         "name": "Indiana Pacers",
         "orientation": "v",
         "showlegend": true,
         "type": "scatter",
         "x": [
          365
         ],
         "xaxis": "x10",
         "y": [
          1.3094657534246574
         ],
         "yaxis": "y10"
        },
        {
         "hovertemplate": "TEAM_NAME=Indiana Pacers<br>PLAY_TYPE=Handoff<br>POSS=%{x}<br>PPP=%{y}<extra></extra>",
         "legendgroup": "Indiana Pacers",
         "marker": {
          "color": "#EF553B",
          "symbol": "circle"
         },
         "mode": "markers",
         "name": "Indiana Pacers",
         "orientation": "v",
         "showlegend": false,
         "type": "scatter",
         "x": [
          325
         ],
         "xaxis": "x11",
         "y": [
          0.9936953846153846
         ],
         "yaxis": "y11"
        },
        {
         "hovertemplate": "TEAM_NAME=Indiana Pacers<br>PLAY_TYPE=Isolation<br>POSS=%{x}<br>PPP=%{y}<extra></extra>",
         "legendgroup": "Indiana Pacers",
         "marker": {
          "color": "#EF553B",
          "symbol": "circle"
         },
         "mode": "markers",
         "name": "Indiana Pacers",
         "orientation": "v",
         "showlegend": false,
         "type": "scatter",
         "x": [
          243
         ],
         "xaxis": "x12",
         "y": [
          0.9093045267489711
         ],
         "yaxis": "y12"
        },
        {
         "hovertemplate": "TEAM_NAME=Indiana Pacers<br>PLAY_TYPE=Misc<br>POSS=%{x}<br>PPP=%{y}<extra></extra>",
         "legendgroup": "Indiana Pacers",
         "marker": {
          "color": "#EF553B",
          "symbol": "circle"
         },
         "mode": "markers",
         "name": "Indiana Pacers",
         "orientation": "v",
         "showlegend": false,
         "type": "scatter",
         "x": [
          366
         ],
         "xaxis": "x7",
         "y": [
          0.5520792349726775
         ],
         "yaxis": "y7"
        },
        {
         "hovertemplate": "TEAM_NAME=Indiana Pacers<br>PLAY_TYPE=OffRebound<br>POSS=%{x}<br>PPP=%{y}<extra></extra>",
         "legendgroup": "Indiana Pacers",
         "marker": {
          "color": "#EF553B",
          "symbol": "circle"
         },
         "mode": "markers",
         "name": "Indiana Pacers",
         "orientation": "v",
         "showlegend": false,
         "type": "scatter",
         "x": [
          257
         ],
         "xaxis": "x8",
         "y": [
          1.105194552529183
         ],
         "yaxis": "y8"
        },
        {
         "hovertemplate": "TEAM_NAME=Indiana Pacers<br>PLAY_TYPE=OffScreen<br>POSS=%{x}<br>PPP=%{y}<extra></extra>",
         "legendgroup": "Indiana Pacers",
         "marker": {
          "color": "#EF553B",
          "symbol": "circle"
         },
         "mode": "markers",
         "name": "Indiana Pacers",
         "orientation": "v",
         "showlegend": false,
         "type": "scatter",
         "x": [
          205
         ],
         "xaxis": "x9",
         "y": [
          0.9022341463414633
         ],
         "yaxis": "y9"
        },
        {
         "hovertemplate": "TEAM_NAME=Indiana Pacers<br>PLAY_TYPE=PRBallHandler<br>POSS=%{x}<br>PPP=%{y}<extra></extra>",
         "legendgroup": "Indiana Pacers",
         "marker": {
          "color": "#EF553B",
          "symbol": "circle"
         },
         "mode": "markers",
         "name": "Indiana Pacers",
         "orientation": "v",
         "showlegend": false,
         "type": "scatter",
         "x": [
          1105
         ],
         "xaxis": "x4",
         "y": [
          0.8906262443438915
         ],
         "yaxis": "y4"
        },
        {
         "hovertemplate": "TEAM_NAME=Indiana Pacers<br>PLAY_TYPE=PRRollMan<br>POSS=%{x}<br>PPP=%{y}<extra></extra>",
         "legendgroup": "Indiana Pacers",
         "marker": {
          "color": "#EF553B",
          "symbol": "circle"
         },
         "mode": "markers",
         "name": "Indiana Pacers",
         "orientation": "v",
         "showlegend": false,
         "type": "scatter",
         "x": [
          395
         ],
         "xaxis": "x5",
         "y": [
          1.070873417721519
         ],
         "yaxis": "y5"
        },
        {
         "hovertemplate": "TEAM_NAME=Indiana Pacers<br>PLAY_TYPE=Postup<br>POSS=%{x}<br>PPP=%{y}<extra></extra>",
         "legendgroup": "Indiana Pacers",
         "marker": {
          "color": "#EF553B",
          "symbol": "circle"
         },
         "mode": "markers",
         "name": "Indiana Pacers",
         "orientation": "v",
         "showlegend": false,
         "type": "scatter",
         "x": [
          130
         ],
         "xaxis": "x6",
         "y": [
          0.9768923076923076
         ],
         "yaxis": "y6"
        },
        {
         "hovertemplate": "TEAM_NAME=Indiana Pacers<br>PLAY_TYPE=Spotup<br>POSS=%{x}<br>PPP=%{y}<extra></extra>",
         "legendgroup": "Indiana Pacers",
         "marker": {
          "color": "#EF553B",
          "symbol": "circle"
         },
         "mode": "markers",
         "name": "Indiana Pacers",
         "orientation": "v",
         "showlegend": false,
         "type": "scatter",
         "x": [
          1511
         ],
         "xaxis": "x",
         "y": [
          0.9913143613500992
         ],
         "yaxis": "y"
        },
        {
         "hovertemplate": "TEAM_NAME=Indiana Pacers<br>PLAY_TYPE=Transition<br>POSS=%{x}<br>PPP=%{y}<extra></extra>",
         "legendgroup": "Indiana Pacers",
         "marker": {
          "color": "#EF553B",
          "symbol": "circle"
         },
         "mode": "markers",
         "name": "Indiana Pacers",
         "orientation": "v",
         "showlegend": false,
         "type": "scatter",
         "x": [
          1246
         ],
         "xaxis": "x2",
         "y": [
          1.1725963081861956
         ],
         "yaxis": "y2"
        },
        {
         "hovertemplate": "TEAM_NAME=LA Clippers<br>PLAY_TYPE=Cut<br>POSS=%{x}<br>PPP=%{y}<extra></extra>",
         "legendgroup": "LA Clippers",
         "marker": {
          "color": "#00cc96",
          "symbol": "circle"
         },
         "mode": "markers",
         "name": "LA Clippers",
         "orientation": "v",
         "showlegend": true,
         "type": "scatter",
         "x": [
          249
         ],
         "xaxis": "x10",
         "y": [
          1.2891084337349397
         ],
         "yaxis": "y10"
        },
        {
         "hovertemplate": "TEAM_NAME=LA Clippers<br>PLAY_TYPE=Handoff<br>POSS=%{x}<br>PPP=%{y}<extra></extra>",
         "legendgroup": "LA Clippers",
         "marker": {
          "color": "#00cc96",
          "symbol": "circle"
         },
         "mode": "markers",
         "name": "LA Clippers",
         "orientation": "v",
         "showlegend": false,
         "type": "scatter",
         "x": [
          187
         ],
         "xaxis": "x11",
         "y": [
          0.8716363636363635
         ],
         "yaxis": "y11"
        },
        {
         "hovertemplate": "TEAM_NAME=LA Clippers<br>PLAY_TYPE=Isolation<br>POSS=%{x}<br>PPP=%{y}<extra></extra>",
         "legendgroup": "LA Clippers",
         "marker": {
          "color": "#00cc96",
          "symbol": "circle"
         },
         "mode": "markers",
         "name": "LA Clippers",
         "orientation": "v",
         "showlegend": false,
         "type": "scatter",
         "x": [
          542
         ],
         "xaxis": "x12",
         "y": [
          0.8763228782287823
         ],
         "yaxis": "y12"
        },
        {
         "hovertemplate": "TEAM_NAME=LA Clippers<br>PLAY_TYPE=Misc<br>POSS=%{x}<br>PPP=%{y}<extra></extra>",
         "legendgroup": "LA Clippers",
         "marker": {
          "color": "#00cc96",
          "symbol": "circle"
         },
         "mode": "markers",
         "name": "LA Clippers",
         "orientation": "v",
         "showlegend": false,
         "type": "scatter",
         "x": [
          352
         ],
         "xaxis": "x7",
         "y": [
          0.536877840909091
         ],
         "yaxis": "y7"
        },
        {
         "hovertemplate": "TEAM_NAME=LA Clippers<br>PLAY_TYPE=OffRebound<br>POSS=%{x}<br>PPP=%{y}<extra></extra>",
         "legendgroup": "LA Clippers",
         "marker": {
          "color": "#00cc96",
          "symbol": "circle"
         },
         "mode": "markers",
         "name": "LA Clippers",
         "orientation": "v",
         "showlegend": false,
         "type": "scatter",
         "x": [
          272
         ],
         "xaxis": "x8",
         "y": [
          0.9630330882352941
         ],
         "yaxis": "y8"
        },
        {
         "hovertemplate": "TEAM_NAME=LA Clippers<br>PLAY_TYPE=OffScreen<br>POSS=%{x}<br>PPP=%{y}<extra></extra>",
         "legendgroup": "LA Clippers",
         "marker": {
          "color": "#00cc96",
          "symbol": "circle"
         },
         "mode": "markers",
         "name": "LA Clippers",
         "orientation": "v",
         "showlegend": false,
         "type": "scatter",
         "x": [
          276
         ],
         "xaxis": "x9",
         "y": [
          0.9528804347826088
         ],
         "yaxis": "y9"
        },
        {
         "hovertemplate": "TEAM_NAME=LA Clippers<br>PLAY_TYPE=PRBallHandler<br>POSS=%{x}<br>PPP=%{y}<extra></extra>",
         "legendgroup": "LA Clippers",
         "marker": {
          "color": "#00cc96",
          "symbol": "circle"
         },
         "mode": "markers",
         "name": "LA Clippers",
         "orientation": "v",
         "showlegend": false,
         "type": "scatter",
         "x": [
          1141
         ],
         "xaxis": "x4",
         "y": [
          0.942957055214724
         ],
         "yaxis": "y4"
        },
        {
         "hovertemplate": "TEAM_NAME=LA Clippers<br>PLAY_TYPE=PRRollMan<br>POSS=%{x}<br>PPP=%{y}<extra></extra>",
         "legendgroup": "LA Clippers",
         "marker": {
          "color": "#00cc96",
          "symbol": "circle"
         },
         "mode": "markers",
         "name": "LA Clippers",
         "orientation": "v",
         "showlegend": false,
         "type": "scatter",
         "x": [
          224
         ],
         "xaxis": "x5",
         "y": [
          1.1829151785714287
         ],
         "yaxis": "y5"
        },
        {
         "hovertemplate": "TEAM_NAME=LA Clippers<br>PLAY_TYPE=Postup<br>POSS=%{x}<br>PPP=%{y}<extra></extra>",
         "legendgroup": "LA Clippers",
         "marker": {
          "color": "#00cc96",
          "symbol": "circle"
         },
         "mode": "markers",
         "name": "LA Clippers",
         "orientation": "v",
         "showlegend": false,
         "type": "scatter",
         "x": [
          284
         ],
         "xaxis": "x6",
         "y": [
          0.9896197183098592
         ],
         "yaxis": "y6"
        },
        {
         "hovertemplate": "TEAM_NAME=LA Clippers<br>PLAY_TYPE=Spotup<br>POSS=%{x}<br>PPP=%{y}<extra></extra>",
         "legendgroup": "LA Clippers",
         "marker": {
          "color": "#00cc96",
          "symbol": "circle"
         },
         "mode": "markers",
         "name": "LA Clippers",
         "orientation": "v",
         "showlegend": false,
         "type": "scatter",
         "x": [
          1499
         ],
         "xaxis": "x",
         "y": [
          1.128987991994663
         ],
         "yaxis": "y"
        },
        {
         "hovertemplate": "TEAM_NAME=LA Clippers<br>PLAY_TYPE=Transition<br>POSS=%{x}<br>PPP=%{y}<extra></extra>",
         "legendgroup": "LA Clippers",
         "marker": {
          "color": "#00cc96",
          "symbol": "circle"
         },
         "mode": "markers",
         "name": "LA Clippers",
         "orientation": "v",
         "showlegend": false,
         "type": "scatter",
         "x": [
          1039
         ],
         "xaxis": "x2",
         "y": [
          1.1281222329162655
         ],
         "yaxis": "y2"
        },
        {
         "hovertemplate": "TEAM_NAME=Los Angeles Lakers<br>PLAY_TYPE=Cut<br>POSS=%{x}<br>PPP=%{y}<extra></extra>",
         "legendgroup": "Los Angeles Lakers",
         "marker": {
          "color": "#ab63fa",
          "symbol": "circle"
         },
         "mode": "markers",
         "name": "Los Angeles Lakers",
         "orientation": "v",
         "showlegend": true,
         "type": "scatter",
         "x": [
          385
         ],
         "xaxis": "x10",
         "y": [
          1.4155090909090908
         ],
         "yaxis": "y10"
        },
        {
         "hovertemplate": "TEAM_NAME=Los Angeles Lakers<br>PLAY_TYPE=Handoff<br>POSS=%{x}<br>PPP=%{y}<extra></extra>",
         "legendgroup": "Los Angeles Lakers",
         "marker": {
          "color": "#ab63fa",
          "symbol": "circle"
         },
         "mode": "markers",
         "name": "Los Angeles Lakers",
         "orientation": "v",
         "showlegend": false,
         "type": "scatter",
         "x": [
          137
         ],
         "xaxis": "x11",
         "y": [
          0.9779854014598539
         ],
         "yaxis": "y11"
        },
        {
         "hovertemplate": "TEAM_NAME=Los Angeles Lakers<br>PLAY_TYPE=Isolation<br>POSS=%{x}<br>PPP=%{y}<extra></extra>",
         "legendgroup": "Los Angeles Lakers",
         "marker": {
          "color": "#ab63fa",
          "symbol": "circle"
         },
         "mode": "markers",
         "name": "Los Angeles Lakers",
         "orientation": "v",
         "showlegend": false,
         "type": "scatter",
         "x": [
          563
         ],
         "xaxis": "x12",
         "y": [
          0.8649200710479573
         ],
         "yaxis": "y12"
        },
        {
         "hovertemplate": "TEAM_NAME=Los Angeles Lakers<br>PLAY_TYPE=Misc<br>POSS=%{x}<br>PPP=%{y}<extra></extra>",
         "legendgroup": "Los Angeles Lakers",
         "marker": {
          "color": "#ab63fa",
          "symbol": "circle"
         },
         "mode": "markers",
         "name": "Los Angeles Lakers",
         "orientation": "v",
         "showlegend": false,
         "type": "scatter",
         "x": [
          308
         ],
         "xaxis": "x7",
         "y": [
          0.6105097402597401
         ],
         "yaxis": "y7"
        },
        {
         "hovertemplate": "TEAM_NAME=Los Angeles Lakers<br>PLAY_TYPE=OffRebound<br>POSS=%{x}<br>PPP=%{y}<extra></extra>",
         "legendgroup": "Los Angeles Lakers",
         "marker": {
          "color": "#ab63fa",
          "symbol": "circle"
         },
         "mode": "markers",
         "name": "Los Angeles Lakers",
         "orientation": "v",
         "showlegend": false,
         "type": "scatter",
         "x": [
          274
         ],
         "xaxis": "x8",
         "y": [
          1.2519051094890508
         ],
         "yaxis": "y8"
        },
        {
         "hovertemplate": "TEAM_NAME=Los Angeles Lakers<br>PLAY_TYPE=OffScreen<br>POSS=%{x}<br>PPP=%{y}<extra></extra>",
         "legendgroup": "Los Angeles Lakers",
         "marker": {
          "color": "#ab63fa",
          "symbol": "circle"
         },
         "mode": "markers",
         "name": "Los Angeles Lakers",
         "orientation": "v",
         "showlegend": false,
         "type": "scatter",
         "x": [
          124
         ],
         "xaxis": "x9",
         "y": [
          0.8953387096774194
         ],
         "yaxis": "y9"
        },
        {
         "hovertemplate": "TEAM_NAME=Los Angeles Lakers<br>PLAY_TYPE=PRBallHandler<br>POSS=%{x}<br>PPP=%{y}<extra></extra>",
         "legendgroup": "Los Angeles Lakers",
         "marker": {
          "color": "#ab63fa",
          "symbol": "circle"
         },
         "mode": "markers",
         "name": "Los Angeles Lakers",
         "orientation": "v",
         "showlegend": false,
         "type": "scatter",
         "x": [
          1044
         ],
         "xaxis": "x4",
         "y": [
          0.8697289272030652
         ],
         "yaxis": "y4"
        },
        {
         "hovertemplate": "TEAM_NAME=Los Angeles Lakers<br>PLAY_TYPE=PRRollMan<br>POSS=%{x}<br>PPP=%{y}<extra></extra>",
         "legendgroup": "Los Angeles Lakers",
         "marker": {
          "color": "#ab63fa",
          "symbol": "circle"
         },
         "mode": "markers",
         "name": "Los Angeles Lakers",
         "orientation": "v",
         "showlegend": false,
         "type": "scatter",
         "x": [
          397
         ],
         "xaxis": "x5",
         "y": [
          1.3402015113350128
         ],
         "yaxis": "y5"
        },
        {
         "hovertemplate": "TEAM_NAME=Los Angeles Lakers<br>PLAY_TYPE=Postup<br>POSS=%{x}<br>PPP=%{y}<extra></extra>",
         "legendgroup": "Los Angeles Lakers",
         "marker": {
          "color": "#ab63fa",
          "symbol": "circle"
         },
         "mode": "markers",
         "name": "Los Angeles Lakers",
         "orientation": "v",
         "showlegend": false,
         "type": "scatter",
         "x": [
          319
         ],
         "xaxis": "x6",
         "y": [
          0.993921630094044
         ],
         "yaxis": "y6"
        },
        {
         "hovertemplate": "TEAM_NAME=Los Angeles Lakers<br>PLAY_TYPE=Spotup<br>POSS=%{x}<br>PPP=%{y}<extra></extra>",
         "legendgroup": "Los Angeles Lakers",
         "marker": {
          "color": "#ab63fa",
          "symbol": "circle"
         },
         "mode": "markers",
         "name": "Los Angeles Lakers",
         "orientation": "v",
         "showlegend": false,
         "type": "scatter",
         "x": [
          1318
         ],
         "xaxis": "x",
         "y": [
          1.0295819423368742
         ],
         "yaxis": "y"
        },
        {
         "hovertemplate": "TEAM_NAME=Los Angeles Lakers<br>PLAY_TYPE=Transition<br>POSS=%{x}<br>PPP=%{y}<extra></extra>",
         "legendgroup": "Los Angeles Lakers",
         "marker": {
          "color": "#ab63fa",
          "symbol": "circle"
         },
         "mode": "markers",
         "name": "Los Angeles Lakers",
         "orientation": "v",
         "showlegend": false,
         "type": "scatter",
         "x": [
          1207
         ],
         "xaxis": "x2",
         "y": [
          1.104229494614747
         ],
         "yaxis": "y2"
        },
        {
         "hovertemplate": "TEAM_NAME=Memphis Grizzlies<br>PLAY_TYPE=Cut<br>POSS=%{x}<br>PPP=%{y}<extra></extra>",
         "legendgroup": "Memphis Grizzlies",
         "marker": {
          "color": "#FFA15A",
          "symbol": "circle"
         },
         "mode": "markers",
         "name": "Memphis Grizzlies",
         "orientation": "v",
         "showlegend": true,
         "type": "scatter",
         "x": [
          436
         ],
         "xaxis": "x10",
         "y": [
          1.3348233944954127
         ],
         "yaxis": "y10"
        },
        {
         "hovertemplate": "TEAM_NAME=Memphis Grizzlies<br>PLAY_TYPE=Handoff<br>POSS=%{x}<br>PPP=%{y}<extra></extra>",
         "legendgroup": "Memphis Grizzlies",
         "marker": {
          "color": "#FFA15A",
          "symbol": "circle"
         },
         "mode": "markers",
         "name": "Memphis Grizzlies",
         "orientation": "v",
         "showlegend": false,
         "type": "scatter",
         "x": [
          292
         ],
         "xaxis": "x11",
         "y": [
          0.9623116438356164
         ],
         "yaxis": "y11"
        },
        {
         "hovertemplate": "TEAM_NAME=Memphis Grizzlies<br>PLAY_TYPE=Isolation<br>POSS=%{x}<br>PPP=%{y}<extra></extra>",
         "legendgroup": "Memphis Grizzlies",
         "marker": {
          "color": "#FFA15A",
          "symbol": "circle"
         },
         "mode": "markers",
         "name": "Memphis Grizzlies",
         "orientation": "v",
         "showlegend": false,
         "type": "scatter",
         "x": [
          246
         ],
         "xaxis": "x12",
         "y": [
          0.8456219512195122
         ],
         "yaxis": "y12"
        },
        {
         "hovertemplate": "TEAM_NAME=Memphis Grizzlies<br>PLAY_TYPE=Misc<br>POSS=%{x}<br>PPP=%{y}<extra></extra>",
         "legendgroup": "Memphis Grizzlies",
         "marker": {
          "color": "#FFA15A",
          "symbol": "circle"
         },
         "mode": "markers",
         "name": "Memphis Grizzlies",
         "orientation": "v",
         "showlegend": false,
         "type": "scatter",
         "x": [
          362
         ],
         "xaxis": "x7",
         "y": [
          0.5165662983425415
         ],
         "yaxis": "y7"
        },
        {
         "hovertemplate": "TEAM_NAME=Memphis Grizzlies<br>PLAY_TYPE=OffRebound<br>POSS=%{x}<br>PPP=%{y}<extra></extra>",
         "legendgroup": "Memphis Grizzlies",
         "marker": {
          "color": "#FFA15A",
          "symbol": "circle"
         },
         "mode": "markers",
         "name": "Memphis Grizzlies",
         "orientation": "v",
         "showlegend": false,
         "type": "scatter",
         "x": [
          402
         ],
         "xaxis": "x8",
         "y": [
          1.0896417910447762
         ],
         "yaxis": "y8"
        },
        {
         "hovertemplate": "TEAM_NAME=Memphis Grizzlies<br>PLAY_TYPE=OffScreen<br>POSS=%{x}<br>PPP=%{y}<extra></extra>",
         "legendgroup": "Memphis Grizzlies",
         "marker": {
          "color": "#FFA15A",
          "symbol": "circle"
         },
         "mode": "markers",
         "name": "Memphis Grizzlies",
         "orientation": "v",
         "showlegend": false,
         "type": "scatter",
         "x": [
          204
         ],
         "xaxis": "x9",
         "y": [
          0.9312009803921569
         ],
         "yaxis": "y9"
        },
        {
         "hovertemplate": "TEAM_NAME=Memphis Grizzlies<br>PLAY_TYPE=PRBallHandler<br>POSS=%{x}<br>PPP=%{y}<extra></extra>",
         "legendgroup": "Memphis Grizzlies",
         "marker": {
          "color": "#FFA15A",
          "symbol": "circle"
         },
         "mode": "markers",
         "name": "Memphis Grizzlies",
         "orientation": "v",
         "showlegend": false,
         "type": "scatter",
         "x": [
          1216
         ],
         "xaxis": "x4",
         "y": [
          0.8675370065789475
         ],
         "yaxis": "y4"
        },
        {
         "hovertemplate": "TEAM_NAME=Memphis Grizzlies<br>PLAY_TYPE=PRRollMan<br>POSS=%{x}<br>PPP=%{y}<extra></extra>",
         "legendgroup": "Memphis Grizzlies",
         "marker": {
          "color": "#FFA15A",
          "symbol": "circle"
         },
         "mode": "markers",
         "name": "Memphis Grizzlies",
         "orientation": "v",
         "showlegend": false,
         "type": "scatter",
         "x": [
          235
         ],
         "xaxis": "x5",
         "y": [
          1.2980340425531915
         ],
         "yaxis": "y5"
        },
        {
         "hovertemplate": "TEAM_NAME=Memphis Grizzlies<br>PLAY_TYPE=Postup<br>POSS=%{x}<br>PPP=%{y}<extra></extra>",
         "legendgroup": "Memphis Grizzlies",
         "marker": {
          "color": "#FFA15A",
          "symbol": "circle"
         },
         "mode": "markers",
         "name": "Memphis Grizzlies",
         "orientation": "v",
         "showlegend": false,
         "type": "scatter",
         "x": [
          167
         ],
         "xaxis": "x6",
         "y": [
          0.934005988023952
         ],
         "yaxis": "y6"
        },
        {
         "hovertemplate": "TEAM_NAME=Memphis Grizzlies<br>PLAY_TYPE=Spotup<br>POSS=%{x}<br>PPP=%{y}<extra></extra>",
         "legendgroup": "Memphis Grizzlies",
         "marker": {
          "color": "#FFA15A",
          "symbol": "circle"
         },
         "mode": "markers",
         "name": "Memphis Grizzlies",
         "orientation": "v",
         "showlegend": false,
         "type": "scatter",
         "x": [
          1367
         ],
         "xaxis": "x",
         "y": [
          0.9949722019019751
         ],
         "yaxis": "y"
        },
        {
         "hovertemplate": "TEAM_NAME=Memphis Grizzlies<br>PLAY_TYPE=Transition<br>POSS=%{x}<br>PPP=%{y}<extra></extra>",
         "legendgroup": "Memphis Grizzlies",
         "marker": {
          "color": "#FFA15A",
          "symbol": "circle"
         },
         "mode": "markers",
         "name": "Memphis Grizzlies",
         "orientation": "v",
         "showlegend": false,
         "type": "scatter",
         "x": [
          1246
         ],
         "xaxis": "x2",
         "y": [
          1.119710272873194
         ],
         "yaxis": "y2"
        },
        {
         "hovertemplate": "TEAM_NAME=Miami Heat<br>PLAY_TYPE=Cut<br>POSS=%{x}<br>PPP=%{y}<extra></extra>",
         "legendgroup": "Miami Heat",
         "marker": {
          "color": "#19d3f3",
          "symbol": "circle"
         },
         "mode": "markers",
         "name": "Miami Heat",
         "orientation": "v",
         "showlegend": true,
         "type": "scatter",
         "x": [
          457
         ],
         "xaxis": "x10",
         "y": [
          1.2627199124726476
         ],
         "yaxis": "y10"
        },
        {
         "hovertemplate": "TEAM_NAME=Miami Heat<br>PLAY_TYPE=Handoff<br>POSS=%{x}<br>PPP=%{y}<extra></extra>",
         "legendgroup": "Miami Heat",
         "marker": {
          "color": "#19d3f3",
          "symbol": "circle"
         },
         "mode": "markers",
         "name": "Miami Heat",
         "orientation": "v",
         "showlegend": false,
         "type": "scatter",
         "x": [
          388
         ],
         "xaxis": "x11",
         "y": [
          0.850590206185567
         ],
         "yaxis": "y11"
        },
        {
         "hovertemplate": "TEAM_NAME=Miami Heat<br>PLAY_TYPE=Isolation<br>POSS=%{x}<br>PPP=%{y}<extra></extra>",
         "legendgroup": "Miami Heat",
         "marker": {
          "color": "#19d3f3",
          "symbol": "circle"
         },
         "mode": "markers",
         "name": "Miami Heat",
         "orientation": "v",
         "showlegend": false,
         "type": "scatter",
         "x": [
          401
         ],
         "xaxis": "x12",
         "y": [
          0.9425935162094764
         ],
         "yaxis": "y12"
        },
        {
         "hovertemplate": "TEAM_NAME=Miami Heat<br>PLAY_TYPE=Misc<br>POSS=%{x}<br>PPP=%{y}<extra></extra>",
         "legendgroup": "Miami Heat",
         "marker": {
          "color": "#19d3f3",
          "symbol": "circle"
         },
         "mode": "markers",
         "name": "Miami Heat",
         "orientation": "v",
         "showlegend": false,
         "type": "scatter",
         "x": [
          332
         ],
         "xaxis": "x7",
         "y": [
          0.6025030120481928
         ],
         "yaxis": "y7"
        },
        {
         "hovertemplate": "TEAM_NAME=Miami Heat<br>PLAY_TYPE=OffRebound<br>POSS=%{x}<br>PPP=%{y}<extra></extra>",
         "legendgroup": "Miami Heat",
         "marker": {
          "color": "#19d3f3",
          "symbol": "circle"
         },
         "mode": "markers",
         "name": "Miami Heat",
         "orientation": "v",
         "showlegend": false,
         "type": "scatter",
         "x": [
          263
         ],
         "xaxis": "x8",
         "y": [
          1.1142205323193917
         ],
         "yaxis": "y8"
        },
        {
         "hovertemplate": "TEAM_NAME=Miami Heat<br>PLAY_TYPE=OffScreen<br>POSS=%{x}<br>PPP=%{y}<extra></extra>",
         "legendgroup": "Miami Heat",
         "marker": {
          "color": "#19d3f3",
          "symbol": "circle"
         },
         "mode": "markers",
         "name": "Miami Heat",
         "orientation": "v",
         "showlegend": false,
         "type": "scatter",
         "x": [
          228
         ],
         "xaxis": "x9",
         "y": [
          0.8685219298245613
         ],
         "yaxis": "y9"
        },
        {
         "hovertemplate": "TEAM_NAME=Miami Heat<br>PLAY_TYPE=PRBallHandler<br>POSS=%{x}<br>PPP=%{y}<extra></extra>",
         "legendgroup": "Miami Heat",
         "marker": {
          "color": "#19d3f3",
          "symbol": "circle"
         },
         "mode": "markers",
         "name": "Miami Heat",
         "orientation": "v",
         "showlegend": false,
         "type": "scatter",
         "x": [
          1073
         ],
         "xaxis": "x4",
         "y": [
          0.9393578751164958
         ],
         "yaxis": "y4"
        },
        {
         "hovertemplate": "TEAM_NAME=Miami Heat<br>PLAY_TYPE=PRRollMan<br>POSS=%{x}<br>PPP=%{y}<extra></extra>",
         "legendgroup": "Miami Heat",
         "marker": {
          "color": "#19d3f3",
          "symbol": "circle"
         },
         "mode": "markers",
         "name": "Miami Heat",
         "orientation": "v",
         "showlegend": false,
         "type": "scatter",
         "x": [
          387
         ],
         "xaxis": "x5",
         "y": [
          1.0596382428940572
         ],
         "yaxis": "y5"
        },
        {
         "hovertemplate": "TEAM_NAME=Miami Heat<br>PLAY_TYPE=Postup<br>POSS=%{x}<br>PPP=%{y}<extra></extra>",
         "legendgroup": "Miami Heat",
         "marker": {
          "color": "#19d3f3",
          "symbol": "circle"
         },
         "mode": "markers",
         "name": "Miami Heat",
         "orientation": "v",
         "showlegend": false,
         "type": "scatter",
         "x": [
          212
         ],
         "xaxis": "x6",
         "y": [
          0.9055707547169811
         ],
         "yaxis": "y6"
        },
        {
         "hovertemplate": "TEAM_NAME=Miami Heat<br>PLAY_TYPE=Spotup<br>POSS=%{x}<br>PPP=%{y}<extra></extra>",
         "legendgroup": "Miami Heat",
         "marker": {
          "color": "#19d3f3",
          "symbol": "circle"
         },
         "mode": "markers",
         "name": "Miami Heat",
         "orientation": "v",
         "showlegend": false,
         "type": "scatter",
         "x": [
          1271
         ],
         "xaxis": "x",
         "y": [
          1.0108560188827695
         ],
         "yaxis": "y"
        },
        {
         "hovertemplate": "TEAM_NAME=Miami Heat<br>PLAY_TYPE=Transition<br>POSS=%{x}<br>PPP=%{y}<extra></extra>",
         "legendgroup": "Miami Heat",
         "marker": {
          "color": "#19d3f3",
          "symbol": "circle"
         },
         "mode": "markers",
         "name": "Miami Heat",
         "orientation": "v",
         "showlegend": false,
         "type": "scatter",
         "x": [
          891
         ],
         "xaxis": "x2",
         "y": [
          1.144753086419753
         ],
         "yaxis": "y2"
        },
        {
         "hovertemplate": "TEAM_NAME=Milwaukee Bucks<br>PLAY_TYPE=Cut<br>POSS=%{x}<br>PPP=%{y}<extra></extra>",
         "legendgroup": "Milwaukee Bucks",
         "marker": {
          "color": "#FF6692",
          "symbol": "circle"
         },
         "mode": "markers",
         "name": "Milwaukee Bucks",
         "orientation": "v",
         "showlegend": true,
         "type": "scatter",
         "x": [
          294
         ],
         "xaxis": "x10",
         "y": [
          1.204091836734694
         ],
         "yaxis": "y10"
        },
        {
         "hovertemplate": "TEAM_NAME=Milwaukee Bucks<br>PLAY_TYPE=Handoff<br>POSS=%{x}<br>PPP=%{y}<extra></extra>",
         "legendgroup": "Milwaukee Bucks",
         "marker": {
          "color": "#FF6692",
          "symbol": "circle"
         },
         "mode": "markers",
         "name": "Milwaukee Bucks",
         "orientation": "v",
         "showlegend": false,
         "type": "scatter",
         "x": [
          327
         ],
         "xaxis": "x11",
         "y": [
          0.8592782874617736
         ],
         "yaxis": "y11"
        },
        {
         "hovertemplate": "TEAM_NAME=Milwaukee Bucks<br>PLAY_TYPE=Isolation<br>POSS=%{x}<br>PPP=%{y}<extra></extra>",
         "legendgroup": "Milwaukee Bucks",
         "marker": {
          "color": "#FF6692",
          "symbol": "circle"
         },
         "mode": "markers",
         "name": "Milwaukee Bucks",
         "orientation": "v",
         "showlegend": false,
         "type": "scatter",
         "x": [
          371
         ],
         "xaxis": "x12",
         "y": [
          0.8383827493261456
         ],
         "yaxis": "y12"
        },
        {
         "hovertemplate": "TEAM_NAME=Milwaukee Bucks<br>PLAY_TYPE=Misc<br>POSS=%{x}<br>PPP=%{y}<extra></extra>",
         "legendgroup": "Milwaukee Bucks",
         "marker": {
          "color": "#FF6692",
          "symbol": "circle"
         },
         "mode": "markers",
         "name": "Milwaukee Bucks",
         "orientation": "v",
         "showlegend": false,
         "type": "scatter",
         "x": [
          359
         ],
         "xaxis": "x7",
         "y": [
          0.5405125348189415
         ],
         "yaxis": "y7"
        },
        {
         "hovertemplate": "TEAM_NAME=Milwaukee Bucks<br>PLAY_TYPE=OffRebound<br>POSS=%{x}<br>PPP=%{y}<extra></extra>",
         "legendgroup": "Milwaukee Bucks",
         "marker": {
          "color": "#FF6692",
          "symbol": "circle"
         },
         "mode": "markers",
         "name": "Milwaukee Bucks",
         "orientation": "v",
         "showlegend": false,
         "type": "scatter",
         "x": [
          293
         ],
         "xaxis": "x8",
         "y": [
          1.2149590443686007
         ],
         "yaxis": "y8"
        },
        {
         "hovertemplate": "TEAM_NAME=Milwaukee Bucks<br>PLAY_TYPE=OffScreen<br>POSS=%{x}<br>PPP=%{y}<extra></extra>",
         "legendgroup": "Milwaukee Bucks",
         "marker": {
          "color": "#FF6692",
          "symbol": "circle"
         },
         "mode": "markers",
         "name": "Milwaukee Bucks",
         "orientation": "v",
         "showlegend": false,
         "type": "scatter",
         "x": [
          124
         ],
         "xaxis": "x9",
         "y": [
          0.7983467741935484
         ],
         "yaxis": "y9"
        },
        {
         "hovertemplate": "TEAM_NAME=Milwaukee Bucks<br>PLAY_TYPE=PRBallHandler<br>POSS=%{x}<br>PPP=%{y}<extra></extra>",
         "legendgroup": "Milwaukee Bucks",
         "marker": {
          "color": "#FF6692",
          "symbol": "circle"
         },
         "mode": "markers",
         "name": "Milwaukee Bucks",
         "orientation": "v",
         "showlegend": false,
         "type": "scatter",
         "x": [
          900
         ],
         "xaxis": "x4",
         "y": [
          0.9211222222222222
         ],
         "yaxis": "y4"
        },
        {
         "hovertemplate": "TEAM_NAME=Milwaukee Bucks<br>PLAY_TYPE=PRRollMan<br>POSS=%{x}<br>PPP=%{y}<extra></extra>",
         "legendgroup": "Milwaukee Bucks",
         "marker": {
          "color": "#FF6692",
          "symbol": "circle"
         },
         "mode": "markers",
         "name": "Milwaukee Bucks",
         "orientation": "v",
         "showlegend": false,
         "type": "scatter",
         "x": [
          359
         ],
         "xaxis": "x5",
         "y": [
          1.1562395543175488
         ],
         "yaxis": "y5"
        },
        {
         "hovertemplate": "TEAM_NAME=Milwaukee Bucks<br>PLAY_TYPE=Postup<br>POSS=%{x}<br>PPP=%{y}<extra></extra>",
         "legendgroup": "Milwaukee Bucks",
         "marker": {
          "color": "#FF6692",
          "symbol": "circle"
         },
         "mode": "markers",
         "name": "Milwaukee Bucks",
         "orientation": "v",
         "showlegend": false,
         "type": "scatter",
         "x": [
          449
         ],
         "xaxis": "x6",
         "y": [
          0.975325167037862
         ],
         "yaxis": "y6"
        },
        {
         "hovertemplate": "TEAM_NAME=Milwaukee Bucks<br>PLAY_TYPE=Spotup<br>POSS=%{x}<br>PPP=%{y}<extra></extra>",
         "legendgroup": "Milwaukee Bucks",
         "marker": {
          "color": "#FF6692",
          "symbol": "circle"
         },
         "mode": "markers",
         "name": "Milwaukee Bucks",
         "orientation": "v",
         "showlegend": false,
         "type": "scatter",
         "x": [
          1449
         ],
         "xaxis": "x",
         "y": [
          1.0483485162180817
         ],
         "yaxis": "y"
        },
        {
         "hovertemplate": "TEAM_NAME=Milwaukee Bucks<br>PLAY_TYPE=Transition<br>POSS=%{x}<br>PPP=%{y}<extra></extra>",
         "legendgroup": "Milwaukee Bucks",
         "marker": {
          "color": "#FF6692",
          "symbol": "circle"
         },
         "mode": "markers",
         "name": "Milwaukee Bucks",
         "orientation": "v",
         "showlegend": false,
         "type": "scatter",
         "x": [
          1073
         ],
         "xaxis": "x2",
         "y": [
          1.0902702702702702
         ],
         "yaxis": "y2"
        },
        {
         "hovertemplate": "TEAM_NAME=Minnesota Timberwolves<br>PLAY_TYPE=Cut<br>POSS=%{x}<br>PPP=%{y}<extra></extra>",
         "legendgroup": "Minnesota Timberwolves",
         "marker": {
          "color": "#B6E880",
          "symbol": "circle"
         },
         "mode": "markers",
         "name": "Minnesota Timberwolves",
         "orientation": "v",
         "showlegend": true,
         "type": "scatter",
         "x": [
          375
         ],
         "xaxis": "x10",
         "y": [
          1.3414000000000001
         ],
         "yaxis": "y10"
        },
        {
         "hovertemplate": "TEAM_NAME=Minnesota Timberwolves<br>PLAY_TYPE=Handoff<br>POSS=%{x}<br>PPP=%{y}<extra></extra>",
         "legendgroup": "Minnesota Timberwolves",
         "marker": {
          "color": "#B6E880",
          "symbol": "circle"
         },
         "mode": "markers",
         "name": "Minnesota Timberwolves",
         "orientation": "v",
         "showlegend": false,
         "type": "scatter",
         "x": [
          221
         ],
         "xaxis": "x11",
         "y": [
          0.9094434389140271
         ],
         "yaxis": "y11"
        },
        {
         "hovertemplate": "TEAM_NAME=Minnesota Timberwolves<br>PLAY_TYPE=Isolation<br>POSS=%{x}<br>PPP=%{y}<extra></extra>",
         "legendgroup": "Minnesota Timberwolves",
         "marker": {
          "color": "#B6E880",
          "symbol": "circle"
         },
         "mode": "markers",
         "name": "Minnesota Timberwolves",
         "orientation": "v",
         "showlegend": false,
         "type": "scatter",
         "x": [
          444
         ],
         "xaxis": "x12",
         "y": [
          0.9460518018018018
         ],
         "yaxis": "y12"
        },
        {
         "hovertemplate": "TEAM_NAME=Minnesota Timberwolves<br>PLAY_TYPE=Misc<br>POSS=%{x}<br>PPP=%{y}<extra></extra>",
         "legendgroup": "Minnesota Timberwolves",
         "marker": {
          "color": "#B6E880",
          "symbol": "circle"
         },
         "mode": "markers",
         "name": "Minnesota Timberwolves",
         "orientation": "v",
         "showlegend": false,
         "type": "scatter",
         "x": [
          356
         ],
         "xaxis": "x7",
         "y": [
          0.5057247191011236
         ],
         "yaxis": "y7"
        },
        {
         "hovertemplate": "TEAM_NAME=Minnesota Timberwolves<br>PLAY_TYPE=OffRebound<br>POSS=%{x}<br>PPP=%{y}<extra></extra>",
         "legendgroup": "Minnesota Timberwolves",
         "marker": {
          "color": "#B6E880",
          "symbol": "circle"
         },
         "mode": "markers",
         "name": "Minnesota Timberwolves",
         "orientation": "v",
         "showlegend": false,
         "type": "scatter",
         "x": [
          270
         ],
         "xaxis": "x8",
         "y": [
          1.1444222222222222
         ],
         "yaxis": "y8"
        },
        {
         "hovertemplate": "TEAM_NAME=Minnesota Timberwolves<br>PLAY_TYPE=OffScreen<br>POSS=%{x}<br>PPP=%{y}<extra></extra>",
         "legendgroup": "Minnesota Timberwolves",
         "marker": {
          "color": "#B6E880",
          "symbol": "circle"
         },
         "mode": "markers",
         "name": "Minnesota Timberwolves",
         "orientation": "v",
         "showlegend": false,
         "type": "scatter",
         "x": [
          250
         ],
         "xaxis": "x9",
         "y": [
          0.867928
         ],
         "yaxis": "y9"
        },
        {
         "hovertemplate": "TEAM_NAME=Minnesota Timberwolves<br>PLAY_TYPE=PRBallHandler<br>POSS=%{x}<br>PPP=%{y}<extra></extra>",
         "legendgroup": "Minnesota Timberwolves",
         "marker": {
          "color": "#B6E880",
          "symbol": "circle"
         },
         "mode": "markers",
         "name": "Minnesota Timberwolves",
         "orientation": "v",
         "showlegend": false,
         "type": "scatter",
         "x": [
          1027
         ],
         "xaxis": "x4",
         "y": [
          0.9182619279454723
         ],
         "yaxis": "y4"
        },
        {
         "hovertemplate": "TEAM_NAME=Minnesota Timberwolves<br>PLAY_TYPE=PRRollMan<br>POSS=%{x}<br>PPP=%{y}<extra></extra>",
         "legendgroup": "Minnesota Timberwolves",
         "marker": {
          "color": "#B6E880",
          "symbol": "circle"
         },
         "mode": "markers",
         "name": "Minnesota Timberwolves",
         "orientation": "v",
         "showlegend": false,
         "type": "scatter",
         "x": [
          262
         ],
         "xaxis": "x5",
         "y": [
          1.2022671755725192
         ],
         "yaxis": "y5"
        },
        {
         "hovertemplate": "TEAM_NAME=Minnesota Timberwolves<br>PLAY_TYPE=Postup<br>POSS=%{x}<br>PPP=%{y}<extra></extra>",
         "legendgroup": "Minnesota Timberwolves",
         "marker": {
          "color": "#B6E880",
          "symbol": "circle"
         },
         "mode": "markers",
         "name": "Minnesota Timberwolves",
         "orientation": "v",
         "showlegend": false,
         "type": "scatter",
         "x": [
          148
         ],
         "xaxis": "x6",
         "y": [
          1.0068513513513515
         ],
         "yaxis": "y6"
        },
        {
         "hovertemplate": "TEAM_NAME=Minnesota Timberwolves<br>PLAY_TYPE=Spotup<br>POSS=%{x}<br>PPP=%{y}<extra></extra>",
         "legendgroup": "Minnesota Timberwolves",
         "marker": {
          "color": "#B6E880",
          "symbol": "circle"
         },
         "mode": "markers",
         "name": "Minnesota Timberwolves",
         "orientation": "v",
         "showlegend": false,
         "type": "scatter",
         "x": [
          1557
         ],
         "xaxis": "x",
         "y": [
          1.053916506101477
         ],
         "yaxis": "y"
        },
        {
         "hovertemplate": "TEAM_NAME=Minnesota Timberwolves<br>PLAY_TYPE=Transition<br>POSS=%{x}<br>PPP=%{y}<extra></extra>",
         "legendgroup": "Minnesota Timberwolves",
         "marker": {
          "color": "#B6E880",
          "symbol": "circle"
         },
         "mode": "markers",
         "name": "Minnesota Timberwolves",
         "orientation": "v",
         "showlegend": false,
         "type": "scatter",
         "x": [
          1132
         ],
         "xaxis": "x2",
         "y": [
          1.1536537102473499
         ],
         "yaxis": "y2"
        },
        {
         "hovertemplate": "TEAM_NAME=New Orleans Pelicans<br>PLAY_TYPE=Cut<br>POSS=%{x}<br>PPP=%{y}<extra></extra>",
         "legendgroup": "New Orleans Pelicans",
         "marker": {
          "color": "#FF97FF",
          "symbol": "circle"
         },
         "mode": "markers",
         "name": "New Orleans Pelicans",
         "orientation": "v",
         "showlegend": true,
         "type": "scatter",
         "x": [
          473
         ],
         "xaxis": "x10",
         "y": [
          1.3044186046511628
         ],
         "yaxis": "y10"
        },
        {
         "hovertemplate": "TEAM_NAME=New Orleans Pelicans<br>PLAY_TYPE=Handoff<br>POSS=%{x}<br>PPP=%{y}<extra></extra>",
         "legendgroup": "New Orleans Pelicans",
         "marker": {
          "color": "#FF97FF",
          "symbol": "circle"
         },
         "mode": "markers",
         "name": "New Orleans Pelicans",
         "orientation": "v",
         "showlegend": false,
         "type": "scatter",
         "x": [
          329
         ],
         "xaxis": "x11",
         "y": [
          0.9818449848024315
         ],
         "yaxis": "y11"
        },
        {
         "hovertemplate": "TEAM_NAME=New Orleans Pelicans<br>PLAY_TYPE=Isolation<br>POSS=%{x}<br>PPP=%{y}<extra></extra>",
         "legendgroup": "New Orleans Pelicans",
         "marker": {
          "color": "#FF97FF",
          "symbol": "circle"
         },
         "mode": "markers",
         "name": "New Orleans Pelicans",
         "orientation": "v",
         "showlegend": false,
         "type": "scatter",
         "x": [
          320
         ],
         "xaxis": "x12",
         "y": [
          0.9469218749999999
         ],
         "yaxis": "y12"
        },
        {
         "hovertemplate": "TEAM_NAME=New Orleans Pelicans<br>PLAY_TYPE=Misc<br>POSS=%{x}<br>PPP=%{y}<extra></extra>",
         "legendgroup": "New Orleans Pelicans",
         "marker": {
          "color": "#FF97FF",
          "symbol": "circle"
         },
         "mode": "markers",
         "name": "New Orleans Pelicans",
         "orientation": "v",
         "showlegend": false,
         "type": "scatter",
         "x": [
          356
         ],
         "xaxis": "x7",
         "y": [
          0.47191853932584266
         ],
         "yaxis": "y7"
        },
        {
         "hovertemplate": "TEAM_NAME=New Orleans Pelicans<br>PLAY_TYPE=OffRebound<br>POSS=%{x}<br>PPP=%{y}<extra></extra>",
         "legendgroup": "New Orleans Pelicans",
         "marker": {
          "color": "#FF97FF",
          "symbol": "circle"
         },
         "mode": "markers",
         "name": "New Orleans Pelicans",
         "orientation": "v",
         "showlegend": false,
         "type": "scatter",
         "x": [
          397
         ],
         "xaxis": "x8",
         "y": [
          1.2015163727959697
         ],
         "yaxis": "y8"
        },
        {
         "hovertemplate": "TEAM_NAME=New Orleans Pelicans<br>PLAY_TYPE=OffScreen<br>POSS=%{x}<br>PPP=%{y}<extra></extra>",
         "legendgroup": "New Orleans Pelicans",
         "marker": {
          "color": "#FF97FF",
          "symbol": "circle"
         },
         "mode": "markers",
         "name": "New Orleans Pelicans",
         "orientation": "v",
         "showlegend": false,
         "type": "scatter",
         "x": [
          227
         ],
         "xaxis": "x9",
         "y": [
          0.9560440528634361
         ],
         "yaxis": "y9"
        },
        {
         "hovertemplate": "TEAM_NAME=New Orleans Pelicans<br>PLAY_TYPE=PRBallHandler<br>POSS=%{x}<br>PPP=%{y}<extra></extra>",
         "legendgroup": "New Orleans Pelicans",
         "marker": {
          "color": "#FF97FF",
          "symbol": "circle"
         },
         "mode": "markers",
         "name": "New Orleans Pelicans",
         "orientation": "v",
         "showlegend": false,
         "type": "scatter",
         "x": [
          980
         ],
         "xaxis": "x4",
         "y": [
          0.8786153061224491
         ],
         "yaxis": "y4"
        },
        {
         "hovertemplate": "TEAM_NAME=New Orleans Pelicans<br>PLAY_TYPE=PRRollMan<br>POSS=%{x}<br>PPP=%{y}<extra></extra>",
         "legendgroup": "New Orleans Pelicans",
         "marker": {
          "color": "#FF97FF",
          "symbol": "circle"
         },
         "mode": "markers",
         "name": "New Orleans Pelicans",
         "orientation": "v",
         "showlegend": false,
         "type": "scatter",
         "x": [
          283
         ],
         "xaxis": "x5",
         "y": [
          1.1272120141342756
         ],
         "yaxis": "y5"
        },
        {
         "hovertemplate": "TEAM_NAME=New Orleans Pelicans<br>PLAY_TYPE=Postup<br>POSS=%{x}<br>PPP=%{y}<extra></extra>",
         "legendgroup": "New Orleans Pelicans",
         "marker": {
          "color": "#FF97FF",
          "symbol": "circle"
         },
         "mode": "markers",
         "name": "New Orleans Pelicans",
         "orientation": "v",
         "showlegend": false,
         "type": "scatter",
         "x": [
          379
         ],
         "xaxis": "x6",
         "y": [
          0.9394696569920844
         ],
         "yaxis": "y6"
        },
        {
         "hovertemplate": "TEAM_NAME=New Orleans Pelicans<br>PLAY_TYPE=Spotup<br>POSS=%{x}<br>PPP=%{y}<extra></extra>",
         "legendgroup": "New Orleans Pelicans",
         "marker": {
          "color": "#FF97FF",
          "symbol": "circle"
         },
         "mode": "markers",
         "name": "New Orleans Pelicans",
         "orientation": "v",
         "showlegend": false,
         "type": "scatter",
         "x": [
          1438
         ],
         "xaxis": "x",
         "y": [
          1.0270695410292072
         ],
         "yaxis": "y"
        },
        {
         "hovertemplate": "TEAM_NAME=New Orleans Pelicans<br>PLAY_TYPE=Transition<br>POSS=%{x}<br>PPP=%{y}<extra></extra>",
         "legendgroup": "New Orleans Pelicans",
         "marker": {
          "color": "#FF97FF",
          "symbol": "circle"
         },
         "mode": "markers",
         "name": "New Orleans Pelicans",
         "orientation": "v",
         "showlegend": false,
         "type": "scatter",
         "x": [
          1042
         ],
         "xaxis": "x2",
         "y": [
          1.1314913627639156
         ],
         "yaxis": "y2"
        },
        {
         "hovertemplate": "TEAM_NAME=New York Knicks<br>PLAY_TYPE=Cut<br>POSS=%{x}<br>PPP=%{y}<extra></extra>",
         "legendgroup": "New York Knicks",
         "marker": {
          "color": "#FECB52",
          "symbol": "circle"
         },
         "mode": "markers",
         "name": "New York Knicks",
         "orientation": "v",
         "showlegend": true,
         "type": "scatter",
         "x": [
          373
         ],
         "xaxis": "x10",
         "y": [
          1.3538042895442362
         ],
         "yaxis": "y10"
        },
        {
         "hovertemplate": "TEAM_NAME=New York Knicks<br>PLAY_TYPE=Handoff<br>POSS=%{x}<br>PPP=%{y}<extra></extra>",
         "legendgroup": "New York Knicks",
         "marker": {
          "color": "#FECB52",
          "symbol": "circle"
         },
         "mode": "markers",
         "name": "New York Knicks",
         "orientation": "v",
         "showlegend": false,
         "type": "scatter",
         "x": [
          325
         ],
         "xaxis": "x11",
         "y": [
          0.9816861538461537
         ],
         "yaxis": "y11"
        },
        {
         "hovertemplate": "TEAM_NAME=New York Knicks<br>PLAY_TYPE=Isolation<br>POSS=%{x}<br>PPP=%{y}<extra></extra>",
         "legendgroup": "New York Knicks",
         "marker": {
          "color": "#FECB52",
          "symbol": "circle"
         },
         "mode": "markers",
         "name": "New York Knicks",
         "orientation": "v",
         "showlegend": false,
         "type": "scatter",
         "x": [
          555
         ],
         "xaxis": "x12",
         "y": [
          0.9859333333333333
         ],
         "yaxis": "y12"
        },
        {
         "hovertemplate": "TEAM_NAME=New York Knicks<br>PLAY_TYPE=Misc<br>POSS=%{x}<br>PPP=%{y}<extra></extra>",
         "legendgroup": "New York Knicks",
         "marker": {
          "color": "#FECB52",
          "symbol": "circle"
         },
         "mode": "markers",
         "name": "New York Knicks",
         "orientation": "v",
         "showlegend": false,
         "type": "scatter",
         "x": [
          312
         ],
         "xaxis": "x7",
         "y": [
          0.621849358974359
         ],
         "yaxis": "y7"
        },
        {
         "hovertemplate": "TEAM_NAME=New York Knicks<br>PLAY_TYPE=OffRebound<br>POSS=%{x}<br>PPP=%{y}<extra></extra>",
         "legendgroup": "New York Knicks",
         "marker": {
          "color": "#FECB52",
          "symbol": "circle"
         },
         "mode": "markers",
         "name": "New York Knicks",
         "orientation": "v",
         "showlegend": false,
         "type": "scatter",
         "x": [
          392
         ],
         "xaxis": "x8",
         "y": [
          1.1276658163265305
         ],
         "yaxis": "y8"
        },
        {
         "hovertemplate": "TEAM_NAME=New York Knicks<br>PLAY_TYPE=OffScreen<br>POSS=%{x}<br>PPP=%{y}<extra></extra>",
         "legendgroup": "New York Knicks",
         "marker": {
          "color": "#FECB52",
          "symbol": "circle"
         },
         "mode": "markers",
         "name": "New York Knicks",
         "orientation": "v",
         "showlegend": false,
         "type": "scatter",
         "x": [
          118
         ],
         "xaxis": "x9",
         "y": [
          0.8730084745762712
         ],
         "yaxis": "y9"
        },
        {
         "hovertemplate": "TEAM_NAME=New York Knicks<br>PLAY_TYPE=PRBallHandler<br>POSS=%{x}<br>PPP=%{y}<extra></extra>",
         "legendgroup": "New York Knicks",
         "marker": {
          "color": "#FECB52",
          "symbol": "circle"
         },
         "mode": "markers",
         "name": "New York Knicks",
         "orientation": "v",
         "showlegend": false,
         "type": "scatter",
         "x": [
          1158
         ],
         "xaxis": "x4",
         "y": [
          0.913490500863558
         ],
         "yaxis": "y4"
        },
        {
         "hovertemplate": "TEAM_NAME=New York Knicks<br>PLAY_TYPE=PRRollMan<br>POSS=%{x}<br>PPP=%{y}<extra></extra>",
         "legendgroup": "New York Knicks",
         "marker": {
          "color": "#FECB52",
          "symbol": "circle"
         },
         "mode": "markers",
         "name": "New York Knicks",
         "orientation": "v",
         "showlegend": false,
         "type": "scatter",
         "x": [
          189
         ],
         "xaxis": "x5",
         "y": [
          1.2324497354497355
         ],
         "yaxis": "y5"
        },
        {
         "hovertemplate": "TEAM_NAME=New York Knicks<br>PLAY_TYPE=Postup<br>POSS=%{x}<br>PPP=%{y}<extra></extra>",
         "legendgroup": "New York Knicks",
         "marker": {
          "color": "#FECB52",
          "symbol": "circle"
         },
         "mode": "markers",
         "name": "New York Knicks",
         "orientation": "v",
         "showlegend": false,
         "type": "scatter",
         "x": [
          225
         ],
         "xaxis": "x6",
         "y": [
          0.8177111111111112
         ],
         "yaxis": "y6"
        },
        {
         "hovertemplate": "TEAM_NAME=New York Knicks<br>PLAY_TYPE=Spotup<br>POSS=%{x}<br>PPP=%{y}<extra></extra>",
         "legendgroup": "New York Knicks",
         "marker": {
          "color": "#FECB52",
          "symbol": "circle"
         },
         "mode": "markers",
         "name": "New York Knicks",
         "orientation": "v",
         "showlegend": false,
         "type": "scatter",
         "x": [
          1616
         ],
         "xaxis": "x",
         "y": [
          1.009233292079208
         ],
         "yaxis": "y"
        },
        {
         "hovertemplate": "TEAM_NAME=New York Knicks<br>PLAY_TYPE=Transition<br>POSS=%{x}<br>PPP=%{y}<extra></extra>",
         "legendgroup": "New York Knicks",
         "marker": {
          "color": "#FECB52",
          "symbol": "circle"
         },
         "mode": "markers",
         "name": "New York Knicks",
         "orientation": "v",
         "showlegend": false,
         "type": "scatter",
         "x": [
          973
         ],
         "xaxis": "x2",
         "y": [
          1.1183103802672145
         ],
         "yaxis": "y2"
        },
        {
         "hovertemplate": "TEAM_NAME=Oklahoma City Thunder<br>PLAY_TYPE=Cut<br>POSS=%{x}<br>PPP=%{y}<extra></extra>",
         "legendgroup": "Oklahoma City Thunder",
         "marker": {
          "color": "#636efa",
          "symbol": "circle"
         },
         "mode": "markers",
         "name": "Oklahoma City Thunder",
         "orientation": "v",
         "showlegend": true,
         "type": "scatter",
         "x": [
          468
         ],
         "xaxis": "x10",
         "y": [
          1.2458418803418803
         ],
         "yaxis": "y10"
        },
        {
         "hovertemplate": "TEAM_NAME=Oklahoma City Thunder<br>PLAY_TYPE=Handoff<br>POSS=%{x}<br>PPP=%{y}<extra></extra>",
         "legendgroup": "Oklahoma City Thunder",
         "marker": {
          "color": "#636efa",
          "symbol": "circle"
         },
         "mode": "markers",
         "name": "Oklahoma City Thunder",
         "orientation": "v",
         "showlegend": false,
         "type": "scatter",
         "x": [
          154
         ],
         "xaxis": "x11",
         "y": [
          1.0260974025974023
         ],
         "yaxis": "y11"
        },
        {
         "hovertemplate": "TEAM_NAME=Oklahoma City Thunder<br>PLAY_TYPE=Isolation<br>POSS=%{x}<br>PPP=%{y}<extra></extra>",
         "legendgroup": "Oklahoma City Thunder",
         "marker": {
          "color": "#636efa",
          "symbol": "circle"
         },
         "mode": "markers",
         "name": "Oklahoma City Thunder",
         "orientation": "v",
         "showlegend": false,
         "type": "scatter",
         "x": [
          473
         ],
         "xaxis": "x12",
         "y": [
          0.9872029598308668
         ],
         "yaxis": "y12"
        },
        {
         "hovertemplate": "TEAM_NAME=Oklahoma City Thunder<br>PLAY_TYPE=Misc<br>POSS=%{x}<br>PPP=%{y}<extra></extra>",
         "legendgroup": "Oklahoma City Thunder",
         "marker": {
          "color": "#636efa",
          "symbol": "circle"
         },
         "mode": "markers",
         "name": "Oklahoma City Thunder",
         "orientation": "v",
         "showlegend": false,
         "type": "scatter",
         "x": [
          263
         ],
         "xaxis": "x7",
         "y": [
          0.5171140684410646
         ],
         "yaxis": "y7"
        },
        {
         "hovertemplate": "TEAM_NAME=Oklahoma City Thunder<br>PLAY_TYPE=OffRebound<br>POSS=%{x}<br>PPP=%{y}<extra></extra>",
         "legendgroup": "Oklahoma City Thunder",
         "marker": {
          "color": "#636efa",
          "symbol": "circle"
         },
         "mode": "markers",
         "name": "Oklahoma City Thunder",
         "orientation": "v",
         "showlegend": false,
         "type": "scatter",
         "x": [
          315
         ],
         "xaxis": "x8",
         "y": [
          0.9778666666666666
         ],
         "yaxis": "y8"
        },
        {
         "hovertemplate": "TEAM_NAME=Oklahoma City Thunder<br>PLAY_TYPE=OffScreen<br>POSS=%{x}<br>PPP=%{y}<extra></extra>",
         "legendgroup": "Oklahoma City Thunder",
         "marker": {
          "color": "#636efa",
          "symbol": "circle"
         },
         "mode": "markers",
         "name": "Oklahoma City Thunder",
         "orientation": "v",
         "showlegend": false,
         "type": "scatter",
         "x": [
          80
         ],
         "xaxis": "x9",
         "y": [
          1.0875
         ],
         "yaxis": "y9"
        },
        {
         "hovertemplate": "TEAM_NAME=Oklahoma City Thunder<br>PLAY_TYPE=PRBallHandler<br>POSS=%{x}<br>PPP=%{y}<extra></extra>",
         "legendgroup": "Oklahoma City Thunder",
         "marker": {
          "color": "#636efa",
          "symbol": "circle"
         },
         "mode": "markers",
         "name": "Oklahoma City Thunder",
         "orientation": "v",
         "showlegend": false,
         "type": "scatter",
         "x": [
          1158
         ],
         "xaxis": "x4",
         "y": [
          0.9083445595854923
         ],
         "yaxis": "y4"
        },
        {
         "hovertemplate": "TEAM_NAME=Oklahoma City Thunder<br>PLAY_TYPE=PRRollMan<br>POSS=%{x}<br>PPP=%{y}<extra></extra>",
         "legendgroup": "Oklahoma City Thunder",
         "marker": {
          "color": "#636efa",
          "symbol": "circle"
         },
         "mode": "markers",
         "name": "Oklahoma City Thunder",
         "orientation": "v",
         "showlegend": false,
         "type": "scatter",
         "x": [
          269
         ],
         "xaxis": "x5",
         "y": [
          1.0705947955390334
         ],
         "yaxis": "y5"
        },
        {
         "hovertemplate": "TEAM_NAME=Oklahoma City Thunder<br>PLAY_TYPE=Postup<br>POSS=%{x}<br>PPP=%{y}<extra></extra>",
         "legendgroup": "Oklahoma City Thunder",
         "marker": {
          "color": "#636efa",
          "symbol": "circle"
         },
         "mode": "markers",
         "name": "Oklahoma City Thunder",
         "orientation": "v",
         "showlegend": false,
         "type": "scatter",
         "x": [
          75
         ],
         "xaxis": "x6",
         "y": [
          1.1468666666666667
         ],
         "yaxis": "y6"
        },
        {
         "hovertemplate": "TEAM_NAME=Oklahoma City Thunder<br>PLAY_TYPE=Spotup<br>POSS=%{x}<br>PPP=%{y}<extra></extra>",
         "legendgroup": "Oklahoma City Thunder",
         "marker": {
          "color": "#636efa",
          "symbol": "circle"
         },
         "mode": "markers",
         "name": "Oklahoma City Thunder",
         "orientation": "v",
         "showlegend": false,
         "type": "scatter",
         "x": [
          1644
         ],
         "xaxis": "x",
         "y": [
          1.0201940389294404
         ],
         "yaxis": "y"
        },
        {
         "hovertemplate": "TEAM_NAME=Oklahoma City Thunder<br>PLAY_TYPE=Transition<br>POSS=%{x}<br>PPP=%{y}<extra></extra>",
         "legendgroup": "Oklahoma City Thunder",
         "marker": {
          "color": "#636efa",
          "symbol": "circle"
         },
         "mode": "markers",
         "name": "Oklahoma City Thunder",
         "orientation": "v",
         "showlegend": false,
         "type": "scatter",
         "x": [
          1220
         ],
         "xaxis": "x2",
         "y": [
          1.1533950819672132
         ],
         "yaxis": "y2"
        },
        {
         "hovertemplate": "TEAM_NAME=Orlando Magic<br>PLAY_TYPE=Cut<br>POSS=%{x}<br>PPP=%{y}<extra></extra>",
         "legendgroup": "Orlando Magic",
         "marker": {
          "color": "#EF553B",
          "symbol": "circle"
         },
         "mode": "markers",
         "name": "Orlando Magic",
         "orientation": "v",
         "showlegend": true,
         "type": "scatter",
         "x": [
          353
         ],
         "xaxis": "x10",
         "y": [
          1.3485014164305948
         ],
         "yaxis": "y10"
        },
        {
         "hovertemplate": "TEAM_NAME=Orlando Magic<br>PLAY_TYPE=Handoff<br>POSS=%{x}<br>PPP=%{y}<extra></extra>",
         "legendgroup": "Orlando Magic",
         "marker": {
          "color": "#EF553B",
          "symbol": "circle"
         },
         "mode": "markers",
         "name": "Orlando Magic",
         "orientation": "v",
         "showlegend": false,
         "type": "scatter",
         "x": [
          341
         ],
         "xaxis": "x11",
         "y": [
          0.8593782991202348
         ],
         "yaxis": "y11"
        },
        {
         "hovertemplate": "TEAM_NAME=Orlando Magic<br>PLAY_TYPE=Isolation<br>POSS=%{x}<br>PPP=%{y}<extra></extra>",
         "legendgroup": "Orlando Magic",
         "marker": {
          "color": "#EF553B",
          "symbol": "circle"
         },
         "mode": "markers",
         "name": "Orlando Magic",
         "orientation": "v",
         "showlegend": false,
         "type": "scatter",
         "x": [
          368
         ],
         "xaxis": "x12",
         "y": [
          0.8316277173913044
         ],
         "yaxis": "y12"
        },
        {
         "hovertemplate": "TEAM_NAME=Orlando Magic<br>PLAY_TYPE=Misc<br>POSS=%{x}<br>PPP=%{y}<extra></extra>",
         "legendgroup": "Orlando Magic",
         "marker": {
          "color": "#EF553B",
          "symbol": "circle"
         },
         "mode": "markers",
         "name": "Orlando Magic",
         "orientation": "v",
         "showlegend": false,
         "type": "scatter",
         "x": [
          362
         ],
         "xaxis": "x7",
         "y": [
          0.5609033149171271
         ],
         "yaxis": "y7"
        },
        {
         "hovertemplate": "TEAM_NAME=Orlando Magic<br>PLAY_TYPE=OffRebound<br>POSS=%{x}<br>PPP=%{y}<extra></extra>",
         "legendgroup": "Orlando Magic",
         "marker": {
          "color": "#EF553B",
          "symbol": "circle"
         },
         "mode": "markers",
         "name": "Orlando Magic",
         "orientation": "v",
         "showlegend": false,
         "type": "scatter",
         "x": [
          326
         ],
         "xaxis": "x8",
         "y": [
          1.2239325153374234
         ],
         "yaxis": "y8"
        },
        {
         "hovertemplate": "TEAM_NAME=Orlando Magic<br>PLAY_TYPE=OffScreen<br>POSS=%{x}<br>PPP=%{y}<extra></extra>",
         "legendgroup": "Orlando Magic",
         "marker": {
          "color": "#EF553B",
          "symbol": "circle"
         },
         "mode": "markers",
         "name": "Orlando Magic",
         "orientation": "v",
         "showlegend": false,
         "type": "scatter",
         "x": [
          138
         ],
         "xaxis": "x9",
         "y": [
          1.0432826086956524
         ],
         "yaxis": "y9"
        },
        {
         "hovertemplate": "TEAM_NAME=Orlando Magic<br>PLAY_TYPE=PRBallHandler<br>POSS=%{x}<br>PPP=%{y}<extra></extra>",
         "legendgroup": "Orlando Magic",
         "marker": {
          "color": "#EF553B",
          "symbol": "circle"
         },
         "mode": "markers",
         "name": "Orlando Magic",
         "orientation": "v",
         "showlegend": false,
         "type": "scatter",
         "x": [
          1138
         ],
         "xaxis": "x4",
         "y": [
          0.926866432337434
         ],
         "yaxis": "y4"
        },
        {
         "hovertemplate": "TEAM_NAME=Orlando Magic<br>PLAY_TYPE=PRRollMan<br>POSS=%{x}<br>PPP=%{y}<extra></extra>",
         "legendgroup": "Orlando Magic",
         "marker": {
          "color": "#EF553B",
          "symbol": "circle"
         },
         "mode": "markers",
         "name": "Orlando Magic",
         "orientation": "v",
         "showlegend": false,
         "type": "scatter",
         "x": [
          328
         ],
         "xaxis": "x5",
         "y": [
          1.1523597560975607
         ],
         "yaxis": "y5"
        },
        {
         "hovertemplate": "TEAM_NAME=Orlando Magic<br>PLAY_TYPE=Postup<br>POSS=%{x}<br>PPP=%{y}<extra></extra>",
         "legendgroup": "Orlando Magic",
         "marker": {
          "color": "#EF553B",
          "symbol": "circle"
         },
         "mode": "markers",
         "name": "Orlando Magic",
         "orientation": "v",
         "showlegend": false,
         "type": "scatter",
         "x": [
          190
         ],
         "xaxis": "x6",
         "y": [
          0.9104736842105263
         ],
         "yaxis": "y6"
        },
        {
         "hovertemplate": "TEAM_NAME=Orlando Magic<br>PLAY_TYPE=Spotup<br>POSS=%{x}<br>PPP=%{y}<extra></extra>",
         "legendgroup": "Orlando Magic",
         "marker": {
          "color": "#EF553B",
          "symbol": "circle"
         },
         "mode": "markers",
         "name": "Orlando Magic",
         "orientation": "v",
         "showlegend": false,
         "type": "scatter",
         "x": [
          1366
         ],
         "xaxis": "x",
         "y": [
          1.0006749633967789
         ],
         "yaxis": "y"
        },
        {
         "hovertemplate": "TEAM_NAME=Orlando Magic<br>PLAY_TYPE=Transition<br>POSS=%{x}<br>PPP=%{y}<extra></extra>",
         "legendgroup": "Orlando Magic",
         "marker": {
          "color": "#EF553B",
          "symbol": "circle"
         },
         "mode": "markers",
         "name": "Orlando Magic",
         "orientation": "v",
         "showlegend": false,
         "type": "scatter",
         "x": [
          1007
         ],
         "xaxis": "x2",
         "y": [
          1.1042393247269118
         ],
         "yaxis": "y2"
        },
        {
         "hovertemplate": "TEAM_NAME=Philadelphia 76ers<br>PLAY_TYPE=Cut<br>POSS=%{x}<br>PPP=%{y}<extra></extra>",
         "legendgroup": "Philadelphia 76ers",
         "marker": {
          "color": "#00cc96",
          "symbol": "circle"
         },
         "mode": "markers",
         "name": "Philadelphia 76ers",
         "orientation": "v",
         "showlegend": true,
         "type": "scatter",
         "x": [
          277
         ],
         "xaxis": "x10",
         "y": [
          1.2274187725631769
         ],
         "yaxis": "y10"
        },
        {
         "hovertemplate": "TEAM_NAME=Philadelphia 76ers<br>PLAY_TYPE=Handoff<br>POSS=%{x}<br>PPP=%{y}<extra></extra>",
         "legendgroup": "Philadelphia 76ers",
         "marker": {
          "color": "#00cc96",
          "symbol": "circle"
         },
         "mode": "markers",
         "name": "Philadelphia 76ers",
         "orientation": "v",
         "showlegend": false,
         "type": "scatter",
         "x": [
          139
         ],
         "xaxis": "x11",
         "y": [
          1.0142949640287768
         ],
         "yaxis": "y11"
        },
        {
         "hovertemplate": "TEAM_NAME=Philadelphia 76ers<br>PLAY_TYPE=Isolation<br>POSS=%{x}<br>PPP=%{y}<extra></extra>",
         "legendgroup": "Philadelphia 76ers",
         "marker": {
          "color": "#00cc96",
          "symbol": "circle"
         },
         "mode": "markers",
         "name": "Philadelphia 76ers",
         "orientation": "v",
         "showlegend": false,
         "type": "scatter",
         "x": [
          645
         ],
         "xaxis": "x12",
         "y": [
          1.004568992248062
         ],
         "yaxis": "y12"
        },
        {
         "hovertemplate": "TEAM_NAME=Philadelphia 76ers<br>PLAY_TYPE=Misc<br>POSS=%{x}<br>PPP=%{y}<extra></extra>",
         "legendgroup": "Philadelphia 76ers",
         "marker": {
          "color": "#00cc96",
          "symbol": "circle"
         },
         "mode": "markers",
         "name": "Philadelphia 76ers",
         "orientation": "v",
         "showlegend": false,
         "type": "scatter",
         "x": [
          321
         ],
         "xaxis": "x7",
         "y": [
          0.47035825545171345
         ],
         "yaxis": "y7"
        },
        {
         "hovertemplate": "TEAM_NAME=Philadelphia 76ers<br>PLAY_TYPE=OffRebound<br>POSS=%{x}<br>PPP=%{y}<extra></extra>",
         "legendgroup": "Philadelphia 76ers",
         "marker": {
          "color": "#00cc96",
          "symbol": "circle"
         },
         "mode": "markers",
         "name": "Philadelphia 76ers",
         "orientation": "v",
         "showlegend": false,
         "type": "scatter",
         "x": [
          201
         ],
         "xaxis": "x8",
         "y": [
          1.1790995024875621
         ],
         "yaxis": "y8"
        },
        {
         "hovertemplate": "TEAM_NAME=Philadelphia 76ers<br>PLAY_TYPE=OffScreen<br>POSS=%{x}<br>PPP=%{y}<extra></extra>",
         "legendgroup": "Philadelphia 76ers",
         "marker": {
          "color": "#00cc96",
          "symbol": "circle"
         },
         "mode": "markers",
         "name": "Philadelphia 76ers",
         "orientation": "v",
         "showlegend": false,
         "type": "scatter",
         "x": [
          101
         ],
         "xaxis": "x9",
         "y": [
          0.7027128712871288
         ],
         "yaxis": "y9"
        },
        {
         "hovertemplate": "TEAM_NAME=Philadelphia 76ers<br>PLAY_TYPE=PRBallHandler<br>POSS=%{x}<br>PPP=%{y}<extra></extra>",
         "legendgroup": "Philadelphia 76ers",
         "marker": {
          "color": "#00cc96",
          "symbol": "circle"
         },
         "mode": "markers",
         "name": "Philadelphia 76ers",
         "orientation": "v",
         "showlegend": false,
         "type": "scatter",
         "x": [
          849
         ],
         "xaxis": "x4",
         "y": [
          0.9009387514723203
         ],
         "yaxis": "y4"
        },
        {
         "hovertemplate": "TEAM_NAME=Philadelphia 76ers<br>PLAY_TYPE=PRRollMan<br>POSS=%{x}<br>PPP=%{y}<extra></extra>",
         "legendgroup": "Philadelphia 76ers",
         "marker": {
          "color": "#00cc96",
          "symbol": "circle"
         },
         "mode": "markers",
         "name": "Philadelphia 76ers",
         "orientation": "v",
         "showlegend": false,
         "type": "scatter",
         "x": [
          451
         ],
         "xaxis": "x5",
         "y": [
          1.2060243902439023
         ],
         "yaxis": "y5"
        },
        {
         "hovertemplate": "TEAM_NAME=Philadelphia 76ers<br>PLAY_TYPE=Postup<br>POSS=%{x}<br>PPP=%{y}<extra></extra>",
         "legendgroup": "Philadelphia 76ers",
         "marker": {
          "color": "#00cc96",
          "symbol": "circle"
         },
         "mode": "markers",
         "name": "Philadelphia 76ers",
         "orientation": "v",
         "showlegend": false,
         "type": "scatter",
         "x": [
          329
         ],
         "xaxis": "x6",
         "y": [
          1.121519756838906
         ],
         "yaxis": "y6"
        },
        {
         "hovertemplate": "TEAM_NAME=Philadelphia 76ers<br>PLAY_TYPE=Spotup<br>POSS=%{x}<br>PPP=%{y}<extra></extra>",
         "legendgroup": "Philadelphia 76ers",
         "marker": {
          "color": "#00cc96",
          "symbol": "circle"
         },
         "mode": "markers",
         "name": "Philadelphia 76ers",
         "orientation": "v",
         "showlegend": false,
         "type": "scatter",
         "x": [
          1378
         ],
         "xaxis": "x",
         "y": [
          1.1329731494920174
         ],
         "yaxis": "y"
        },
        {
         "hovertemplate": "TEAM_NAME=Philadelphia 76ers<br>PLAY_TYPE=Transition<br>POSS=%{x}<br>PPP=%{y}<extra></extra>",
         "legendgroup": "Philadelphia 76ers",
         "marker": {
          "color": "#00cc96",
          "symbol": "circle"
         },
         "mode": "markers",
         "name": "Philadelphia 76ers",
         "orientation": "v",
         "showlegend": false,
         "type": "scatter",
         "x": [
          884
         ],
         "xaxis": "x2",
         "y": [
          1.20910407239819
         ],
         "yaxis": "y2"
        },
        {
         "hovertemplate": "TEAM_NAME=Phoenix Suns<br>PLAY_TYPE=Cut<br>POSS=%{x}<br>PPP=%{y}<extra></extra>",
         "legendgroup": "Phoenix Suns",
         "marker": {
          "color": "#ab63fa",
          "symbol": "circle"
         },
         "mode": "markers",
         "name": "Phoenix Suns",
         "orientation": "v",
         "showlegend": true,
         "type": "scatter",
         "x": [
          390
         ],
         "xaxis": "x10",
         "y": [
          1.2105000000000001
         ],
         "yaxis": "y10"
        },
        {
         "hovertemplate": "TEAM_NAME=Phoenix Suns<br>PLAY_TYPE=Handoff<br>POSS=%{x}<br>PPP=%{y}<extra></extra>",
         "legendgroup": "Phoenix Suns",
         "marker": {
          "color": "#ab63fa",
          "symbol": "circle"
         },
         "mode": "markers",
         "name": "Phoenix Suns",
         "orientation": "v",
         "showlegend": false,
         "type": "scatter",
         "x": [
          286
         ],
         "xaxis": "x11",
         "y": [
          0.8566083916083916
         ],
         "yaxis": "y11"
        },
        {
         "hovertemplate": "TEAM_NAME=Phoenix Suns<br>PLAY_TYPE=Isolation<br>POSS=%{x}<br>PPP=%{y}<extra></extra>",
         "legendgroup": "Phoenix Suns",
         "marker": {
          "color": "#ab63fa",
          "symbol": "circle"
         },
         "mode": "markers",
         "name": "Phoenix Suns",
         "orientation": "v",
         "showlegend": false,
         "type": "scatter",
         "x": [
          235
         ],
         "xaxis": "x12",
         "y": [
          0.8296936170212766
         ],
         "yaxis": "y12"
        },
        {
         "hovertemplate": "TEAM_NAME=Phoenix Suns<br>PLAY_TYPE=Misc<br>POSS=%{x}<br>PPP=%{y}<extra></extra>",
         "legendgroup": "Phoenix Suns",
         "marker": {
          "color": "#ab63fa",
          "symbol": "circle"
         },
         "mode": "markers",
         "name": "Phoenix Suns",
         "orientation": "v",
         "showlegend": false,
         "type": "scatter",
         "x": [
          394
         ],
         "xaxis": "x7",
         "y": [
          0.5176827411167513
         ],
         "yaxis": "y7"
        },
        {
         "hovertemplate": "TEAM_NAME=Phoenix Suns<br>PLAY_TYPE=OffRebound<br>POSS=%{x}<br>PPP=%{y}<extra></extra>",
         "legendgroup": "Phoenix Suns",
         "marker": {
          "color": "#ab63fa",
          "symbol": "circle"
         },
         "mode": "markers",
         "name": "Phoenix Suns",
         "orientation": "v",
         "showlegend": false,
         "type": "scatter",
         "x": [
          356
         ],
         "xaxis": "x8",
         "y": [
          1.1205898876404494
         ],
         "yaxis": "y8"
        },
        {
         "hovertemplate": "TEAM_NAME=Phoenix Suns<br>PLAY_TYPE=OffScreen<br>POSS=%{x}<br>PPP=%{y}<extra></extra>",
         "legendgroup": "Phoenix Suns",
         "marker": {
          "color": "#ab63fa",
          "symbol": "circle"
         },
         "mode": "markers",
         "name": "Phoenix Suns",
         "orientation": "v",
         "showlegend": false,
         "type": "scatter",
         "x": [
          223
         ],
         "xaxis": "x9",
         "y": [
          0.9999103139013451
         ],
         "yaxis": "y9"
        },
        {
         "hovertemplate": "TEAM_NAME=Phoenix Suns<br>PLAY_TYPE=PRBallHandler<br>POSS=%{x}<br>PPP=%{y}<extra></extra>",
         "legendgroup": "Phoenix Suns",
         "marker": {
          "color": "#ab63fa",
          "symbol": "circle"
         },
         "mode": "markers",
         "name": "Phoenix Suns",
         "orientation": "v",
         "showlegend": false,
         "type": "scatter",
         "x": [
          1130
         ],
         "xaxis": "x4",
         "y": [
          0.8715008849557522
         ],
         "yaxis": "y4"
        },
        {
         "hovertemplate": "TEAM_NAME=Phoenix Suns<br>PLAY_TYPE=PRRollMan<br>POSS=%{x}<br>PPP=%{y}<extra></extra>",
         "legendgroup": "Phoenix Suns",
         "marker": {
          "color": "#ab63fa",
          "symbol": "circle"
         },
         "mode": "markers",
         "name": "Phoenix Suns",
         "orientation": "v",
         "showlegend": false,
         "type": "scatter",
         "x": [
          408
         ],
         "xaxis": "x5",
         "y": [
          1.156752450980392
         ],
         "yaxis": "y5"
        },
        {
         "hovertemplate": "TEAM_NAME=Phoenix Suns<br>PLAY_TYPE=Postup<br>POSS=%{x}<br>PPP=%{y}<extra></extra>",
         "legendgroup": "Phoenix Suns",
         "marker": {
          "color": "#ab63fa",
          "symbol": "circle"
         },
         "mode": "markers",
         "name": "Phoenix Suns",
         "orientation": "v",
         "showlegend": false,
         "type": "scatter",
         "x": [
          385
         ],
         "xaxis": "x6",
         "y": [
          1.0103194805194806
         ],
         "yaxis": "y6"
        },
        {
         "hovertemplate": "TEAM_NAME=Phoenix Suns<br>PLAY_TYPE=Spotup<br>POSS=%{x}<br>PPP=%{y}<extra></extra>",
         "legendgroup": "Phoenix Suns",
         "marker": {
          "color": "#ab63fa",
          "symbol": "circle"
         },
         "mode": "markers",
         "name": "Phoenix Suns",
         "orientation": "v",
         "showlegend": false,
         "type": "scatter",
         "x": [
          1653
         ],
         "xaxis": "x",
         "y": [
          1.0526709013914095
         ],
         "yaxis": "y"
        },
        {
         "hovertemplate": "TEAM_NAME=Phoenix Suns<br>PLAY_TYPE=Transition<br>POSS=%{x}<br>PPP=%{y}<extra></extra>",
         "legendgroup": "Phoenix Suns",
         "marker": {
          "color": "#ab63fa",
          "symbol": "circle"
         },
         "mode": "markers",
         "name": "Phoenix Suns",
         "orientation": "v",
         "showlegend": false,
         "type": "scatter",
         "x": [
          861
         ],
         "xaxis": "x2",
         "y": [
          1.1034006968641115
         ],
         "yaxis": "y2"
        },
        {
         "hovertemplate": "TEAM_NAME=Portland Trail Blazers<br>PLAY_TYPE=Cut<br>POSS=%{x}<br>PPP=%{y}<extra></extra>",
         "legendgroup": "Portland Trail Blazers",
         "marker": {
          "color": "#FFA15A",
          "symbol": "circle"
         },
         "mode": "markers",
         "name": "Portland Trail Blazers",
         "orientation": "v",
         "showlegend": true,
         "type": "scatter",
         "x": [
          417
         ],
         "xaxis": "x10",
         "y": [
          1.3070143884892085
         ],
         "yaxis": "y10"
        },
        {
         "hovertemplate": "TEAM_NAME=Portland Trail Blazers<br>PLAY_TYPE=Handoff<br>POSS=%{x}<br>PPP=%{y}<extra></extra>",
         "legendgroup": "Portland Trail Blazers",
         "marker": {
          "color": "#FFA15A",
          "symbol": "circle"
         },
         "mode": "markers",
         "name": "Portland Trail Blazers",
         "orientation": "v",
         "showlegend": false,
         "type": "scatter",
         "x": [
          302
         ],
         "xaxis": "x11",
         "y": [
          1.0828708609271522
         ],
         "yaxis": "y11"
        },
        {
         "hovertemplate": "TEAM_NAME=Portland Trail Blazers<br>PLAY_TYPE=Isolation<br>POSS=%{x}<br>PPP=%{y}<extra></extra>",
         "legendgroup": "Portland Trail Blazers",
         "marker": {
          "color": "#FFA15A",
          "symbol": "circle"
         },
         "mode": "markers",
         "name": "Portland Trail Blazers",
         "orientation": "v",
         "showlegend": false,
         "type": "scatter",
         "x": [
          515
         ],
         "xaxis": "x12",
         "y": [
          1.0429145631067964
         ],
         "yaxis": "y12"
        },
        {
         "hovertemplate": "TEAM_NAME=Portland Trail Blazers<br>PLAY_TYPE=Misc<br>POSS=%{x}<br>PPP=%{y}<extra></extra>",
         "legendgroup": "Portland Trail Blazers",
         "marker": {
          "color": "#FFA15A",
          "symbol": "circle"
         },
         "mode": "markers",
         "name": "Portland Trail Blazers",
         "orientation": "v",
         "showlegend": false,
         "type": "scatter",
         "x": [
          395
         ],
         "xaxis": "x7",
         "y": [
          0.5417873417721519
         ],
         "yaxis": "y7"
        },
        {
         "hovertemplate": "TEAM_NAME=Portland Trail Blazers<br>PLAY_TYPE=OffRebound<br>POSS=%{x}<br>PPP=%{y}<extra></extra>",
         "legendgroup": "Portland Trail Blazers",
         "marker": {
          "color": "#FFA15A",
          "symbol": "circle"
         },
         "mode": "markers",
         "name": "Portland Trail Blazers",
         "orientation": "v",
         "showlegend": false,
         "type": "scatter",
         "x": [
          230
         ],
         "xaxis": "x8",
         "y": [
          1.1567782608695651
         ],
         "yaxis": "y8"
        },
        {
         "hovertemplate": "TEAM_NAME=Portland Trail Blazers<br>PLAY_TYPE=OffScreen<br>POSS=%{x}<br>PPP=%{y}<extra></extra>",
         "legendgroup": "Portland Trail Blazers",
         "marker": {
          "color": "#FFA15A",
          "symbol": "circle"
         },
         "mode": "markers",
         "name": "Portland Trail Blazers",
         "orientation": "v",
         "showlegend": false,
         "type": "scatter",
         "x": [
          244
         ],
         "xaxis": "x9",
         "y": [
          1.0898319672131147
         ],
         "yaxis": "y9"
        },
        {
         "hovertemplate": "TEAM_NAME=Portland Trail Blazers<br>PLAY_TYPE=PRBallHandler<br>POSS=%{x}<br>PPP=%{y}<extra></extra>",
         "legendgroup": "Portland Trail Blazers",
         "marker": {
          "color": "#FFA15A",
          "symbol": "circle"
         },
         "mode": "markers",
         "name": "Portland Trail Blazers",
         "orientation": "v",
         "showlegend": false,
         "type": "scatter",
         "x": [
          1035
         ],
         "xaxis": "x4",
         "y": [
          1.0106434782608695
         ],
         "yaxis": "y4"
        },
        {
         "hovertemplate": "TEAM_NAME=Portland Trail Blazers<br>PLAY_TYPE=PRRollMan<br>POSS=%{x}<br>PPP=%{y}<extra></extra>",
         "legendgroup": "Portland Trail Blazers",
         "marker": {
          "color": "#FFA15A",
          "symbol": "circle"
         },
         "mode": "markers",
         "name": "Portland Trail Blazers",
         "orientation": "v",
         "showlegend": false,
         "type": "scatter",
         "x": [
          206
         ],
         "xaxis": "x5",
         "y": [
          1.1408058252427185
         ],
         "yaxis": "y5"
        },
        {
         "hovertemplate": "TEAM_NAME=Portland Trail Blazers<br>PLAY_TYPE=Postup<br>POSS=%{x}<br>PPP=%{y}<extra></extra>",
         "legendgroup": "Portland Trail Blazers",
         "marker": {
          "color": "#FFA15A",
          "symbol": "circle"
         },
         "mode": "markers",
         "name": "Portland Trail Blazers",
         "orientation": "v",
         "showlegend": false,
         "type": "scatter",
         "x": [
          284
         ],
         "xaxis": "x6",
         "y": [
          0.9189718309859155
         ],
         "yaxis": "y6"
        },
        {
         "hovertemplate": "TEAM_NAME=Portland Trail Blazers<br>PLAY_TYPE=Spotup<br>POSS=%{x}<br>PPP=%{y}<extra></extra>",
         "legendgroup": "Portland Trail Blazers",
         "marker": {
          "color": "#FFA15A",
          "symbol": "circle"
         },
         "mode": "markers",
         "name": "Portland Trail Blazers",
         "orientation": "v",
         "showlegend": false,
         "type": "scatter",
         "x": [
          1310
         ],
         "xaxis": "x",
         "y": [
          1.0672854961832061
         ],
         "yaxis": "y"
        },
        {
         "hovertemplate": "TEAM_NAME=Portland Trail Blazers<br>PLAY_TYPE=Transition<br>POSS=%{x}<br>PPP=%{y}<extra></extra>",
         "legendgroup": "Portland Trail Blazers",
         "marker": {
          "color": "#FFA15A",
          "symbol": "circle"
         },
         "mode": "markers",
         "name": "Portland Trail Blazers",
         "orientation": "v",
         "showlegend": false,
         "type": "scatter",
         "x": [
          836
         ],
         "xaxis": "x2",
         "y": [
          1.1676722488038278
         ],
         "yaxis": "y2"
        },
        {
         "hovertemplate": "TEAM_NAME=Sacramento Kings<br>PLAY_TYPE=Cut<br>POSS=%{x}<br>PPP=%{y}<extra></extra>",
         "legendgroup": "Sacramento Kings",
         "marker": {
          "color": "#19d3f3",
          "symbol": "circle"
         },
         "mode": "markers",
         "name": "Sacramento Kings",
         "orientation": "v",
         "showlegend": true,
         "type": "scatter",
         "x": [
          498
         ],
         "xaxis": "x10",
         "y": [
          1.375240963855422
         ],
         "yaxis": "y10"
        },
        {
         "hovertemplate": "TEAM_NAME=Sacramento Kings<br>PLAY_TYPE=Handoff<br>POSS=%{x}<br>PPP=%{y}<extra></extra>",
         "legendgroup": "Sacramento Kings",
         "marker": {
          "color": "#19d3f3",
          "symbol": "circle"
         },
         "mode": "markers",
         "name": "Sacramento Kings",
         "orientation": "v",
         "showlegend": false,
         "type": "scatter",
         "x": [
          560
         ],
         "xaxis": "x11",
         "y": [
          1.0948607142857145
         ],
         "yaxis": "y11"
        },
        {
         "hovertemplate": "TEAM_NAME=Sacramento Kings<br>PLAY_TYPE=Isolation<br>POSS=%{x}<br>PPP=%{y}<extra></extra>",
         "legendgroup": "Sacramento Kings",
         "marker": {
          "color": "#19d3f3",
          "symbol": "circle"
         },
         "mode": "markers",
         "name": "Sacramento Kings",
         "orientation": "v",
         "showlegend": false,
         "type": "scatter",
         "x": [
          248
         ],
         "xaxis": "x12",
         "y": [
          1.0239798387096775
         ],
         "yaxis": "y12"
        },
        {
         "hovertemplate": "TEAM_NAME=Sacramento Kings<br>PLAY_TYPE=Misc<br>POSS=%{x}<br>PPP=%{y}<extra></extra>",
         "legendgroup": "Sacramento Kings",
         "marker": {
          "color": "#19d3f3",
          "symbol": "circle"
         },
         "mode": "markers",
         "name": "Sacramento Kings",
         "orientation": "v",
         "showlegend": false,
         "type": "scatter",
         "x": [
          307
         ],
         "xaxis": "x7",
         "y": [
          0.6971661237785015
         ],
         "yaxis": "y7"
        },
        {
         "hovertemplate": "TEAM_NAME=Sacramento Kings<br>PLAY_TYPE=OffRebound<br>POSS=%{x}<br>PPP=%{y}<extra></extra>",
         "legendgroup": "Sacramento Kings",
         "marker": {
          "color": "#19d3f3",
          "symbol": "circle"
         },
         "mode": "markers",
         "name": "Sacramento Kings",
         "orientation": "v",
         "showlegend": false,
         "type": "scatter",
         "x": [
          211
         ],
         "xaxis": "x8",
         "y": [
          1.1896777251184834
         ],
         "yaxis": "y8"
        },
        {
         "hovertemplate": "TEAM_NAME=Sacramento Kings<br>PLAY_TYPE=OffScreen<br>POSS=%{x}<br>PPP=%{y}<extra></extra>",
         "legendgroup": "Sacramento Kings",
         "marker": {
          "color": "#19d3f3",
          "symbol": "circle"
         },
         "mode": "markers",
         "name": "Sacramento Kings",
         "orientation": "v",
         "showlegend": false,
         "type": "scatter",
         "x": [
          185
         ],
         "xaxis": "x9",
         "y": [
          0.8975189189189189
         ],
         "yaxis": "y9"
        },
        {
         "hovertemplate": "TEAM_NAME=Sacramento Kings<br>PLAY_TYPE=PRBallHandler<br>POSS=%{x}<br>PPP=%{y}<extra></extra>",
         "legendgroup": "Sacramento Kings",
         "marker": {
          "color": "#19d3f3",
          "symbol": "circle"
         },
         "mode": "markers",
         "name": "Sacramento Kings",
         "orientation": "v",
         "showlegend": false,
         "type": "scatter",
         "x": [
          799
         ],
         "xaxis": "x4",
         "y": [
          0.9384380475594495
         ],
         "yaxis": "y4"
        },
        {
         "hovertemplate": "TEAM_NAME=Sacramento Kings<br>PLAY_TYPE=PRRollMan<br>POSS=%{x}<br>PPP=%{y}<extra></extra>",
         "legendgroup": "Sacramento Kings",
         "marker": {
          "color": "#19d3f3",
          "symbol": "circle"
         },
         "mode": "markers",
         "name": "Sacramento Kings",
         "orientation": "v",
         "showlegend": false,
         "type": "scatter",
         "x": [
          200
         ],
         "xaxis": "x5",
         "y": [
          1.16523
         ],
         "yaxis": "y5"
        },
        {
         "hovertemplate": "TEAM_NAME=Sacramento Kings<br>PLAY_TYPE=Postup<br>POSS=%{x}<br>PPP=%{y}<extra></extra>",
         "legendgroup": "Sacramento Kings",
         "marker": {
          "color": "#19d3f3",
          "symbol": "circle"
         },
         "mode": "markers",
         "name": "Sacramento Kings",
         "orientation": "v",
         "showlegend": false,
         "type": "scatter",
         "x": [
          189
         ],
         "xaxis": "x6",
         "y": [
          1.0105555555555557
         ],
         "yaxis": "y6"
        },
        {
         "hovertemplate": "TEAM_NAME=Sacramento Kings<br>PLAY_TYPE=Spotup<br>POSS=%{x}<br>PPP=%{y}<extra></extra>",
         "legendgroup": "Sacramento Kings",
         "marker": {
          "color": "#19d3f3",
          "symbol": "circle"
         },
         "mode": "markers",
         "name": "Sacramento Kings",
         "orientation": "v",
         "showlegend": false,
         "type": "scatter",
         "x": [
          1375
         ],
         "xaxis": "x",
         "y": [
          1.0692021818181816
         ],
         "yaxis": "y"
        },
        {
         "hovertemplate": "TEAM_NAME=Sacramento Kings<br>PLAY_TYPE=Transition<br>POSS=%{x}<br>PPP=%{y}<extra></extra>",
         "legendgroup": "Sacramento Kings",
         "marker": {
          "color": "#19d3f3",
          "symbol": "circle"
         },
         "mode": "markers",
         "name": "Sacramento Kings",
         "orientation": "v",
         "showlegend": false,
         "type": "scatter",
         "x": [
          1214
         ],
         "xaxis": "x2",
         "y": [
          1.080785831960461
         ],
         "yaxis": "y2"
        },
        {
         "hovertemplate": "TEAM_NAME=San Antonio Spurs<br>PLAY_TYPE=Cut<br>POSS=%{x}<br>PPP=%{y}<extra></extra>",
         "legendgroup": "San Antonio Spurs",
         "marker": {
          "color": "#FF6692",
          "symbol": "circle"
         },
         "mode": "markers",
         "name": "San Antonio Spurs",
         "orientation": "v",
         "showlegend": true,
         "type": "scatter",
         "x": [
          466
         ],
         "xaxis": "x10",
         "y": [
          1.2402961373390557
         ],
         "yaxis": "y10"
        },
        {
         "hovertemplate": "TEAM_NAME=San Antonio Spurs<br>PLAY_TYPE=Handoff<br>POSS=%{x}<br>PPP=%{y}<extra></extra>",
         "legendgroup": "San Antonio Spurs",
         "marker": {
          "color": "#FF6692",
          "symbol": "circle"
         },
         "mode": "markers",
         "name": "San Antonio Spurs",
         "orientation": "v",
         "showlegend": false,
         "type": "scatter",
         "x": [
          502
         ],
         "xaxis": "x11",
         "y": [
          0.902378486055777
         ],
         "yaxis": "y11"
        },
        {
         "hovertemplate": "TEAM_NAME=San Antonio Spurs<br>PLAY_TYPE=Isolation<br>POSS=%{x}<br>PPP=%{y}<extra></extra>",
         "legendgroup": "San Antonio Spurs",
         "marker": {
          "color": "#FF6692",
          "symbol": "circle"
         },
         "mode": "markers",
         "name": "San Antonio Spurs",
         "orientation": "v",
         "showlegend": false,
         "type": "scatter",
         "x": [
          149
         ],
         "xaxis": "x12",
         "y": [
          0.758503355704698
         ],
         "yaxis": "y12"
        },
        {
         "hovertemplate": "TEAM_NAME=San Antonio Spurs<br>PLAY_TYPE=Misc<br>POSS=%{x}<br>PPP=%{y}<extra></extra>",
         "legendgroup": "San Antonio Spurs",
         "marker": {
          "color": "#FF6692",
          "symbol": "circle"
         },
         "mode": "markers",
         "name": "San Antonio Spurs",
         "orientation": "v",
         "showlegend": false,
         "type": "scatter",
         "x": [
          373
         ],
         "xaxis": "x7",
         "y": [
          0.37804557640750674
         ],
         "yaxis": "y7"
        },
        {
         "hovertemplate": "TEAM_NAME=San Antonio Spurs<br>PLAY_TYPE=OffRebound<br>POSS=%{x}<br>PPP=%{y}<extra></extra>",
         "legendgroup": "San Antonio Spurs",
         "marker": {
          "color": "#FF6692",
          "symbol": "circle"
         },
         "mode": "markers",
         "name": "San Antonio Spurs",
         "orientation": "v",
         "showlegend": false,
         "type": "scatter",
         "x": [
          361
         ],
         "xaxis": "x8",
         "y": [
          1.2355872576177287
         ],
         "yaxis": "y8"
        },
        {
         "hovertemplate": "TEAM_NAME=San Antonio Spurs<br>PLAY_TYPE=OffScreen<br>POSS=%{x}<br>PPP=%{y}<extra></extra>",
         "legendgroup": "San Antonio Spurs",
         "marker": {
          "color": "#FF6692",
          "symbol": "circle"
         },
         "mode": "markers",
         "name": "San Antonio Spurs",
         "orientation": "v",
         "showlegend": false,
         "type": "scatter",
         "x": [
          178
         ],
         "xaxis": "x9",
         "y": [
          0.9773258426966293
         ],
         "yaxis": "y9"
        },
        {
         "hovertemplate": "TEAM_NAME=San Antonio Spurs<br>PLAY_TYPE=PRBallHandler<br>POSS=%{x}<br>PPP=%{y}<extra></extra>",
         "legendgroup": "San Antonio Spurs",
         "marker": {
          "color": "#FF6692",
          "symbol": "circle"
         },
         "mode": "markers",
         "name": "San Antonio Spurs",
         "orientation": "v",
         "showlegend": false,
         "type": "scatter",
         "x": [
          1080
         ],
         "xaxis": "x4",
         "y": [
          0.8472916666666667
         ],
         "yaxis": "y4"
        },
        {
         "hovertemplate": "TEAM_NAME=San Antonio Spurs<br>PLAY_TYPE=PRRollMan<br>POSS=%{x}<br>PPP=%{y}<extra></extra>",
         "legendgroup": "San Antonio Spurs",
         "marker": {
          "color": "#FF6692",
          "symbol": "circle"
         },
         "mode": "markers",
         "name": "San Antonio Spurs",
         "orientation": "v",
         "showlegend": false,
         "type": "scatter",
         "x": [
          257
         ],
         "xaxis": "x5",
         "y": [
          1.1010155642023347
         ],
         "yaxis": "y5"
        },
        {
         "hovertemplate": "TEAM_NAME=San Antonio Spurs<br>PLAY_TYPE=Postup<br>POSS=%{x}<br>PPP=%{y}<extra></extra>",
         "legendgroup": "San Antonio Spurs",
         "marker": {
          "color": "#FF6692",
          "symbol": "circle"
         },
         "mode": "markers",
         "name": "San Antonio Spurs",
         "orientation": "v",
         "showlegend": false,
         "type": "scatter",
         "x": [
          257
         ],
         "xaxis": "x6",
         "y": [
          0.9494591439688717
         ],
         "yaxis": "y6"
        },
        {
         "hovertemplate": "TEAM_NAME=San Antonio Spurs<br>PLAY_TYPE=Spotup<br>POSS=%{x}<br>PPP=%{y}<extra></extra>",
         "legendgroup": "San Antonio Spurs",
         "marker": {
          "color": "#FF6692",
          "symbol": "circle"
         },
         "mode": "markers",
         "name": "San Antonio Spurs",
         "orientation": "v",
         "showlegend": false,
         "type": "scatter",
         "x": [
          1543
         ],
         "xaxis": "x",
         "y": [
          0.9947368762151652
         ],
         "yaxis": "y"
        },
        {
         "hovertemplate": "TEAM_NAME=San Antonio Spurs<br>PLAY_TYPE=Transition<br>POSS=%{x}<br>PPP=%{y}<extra></extra>",
         "legendgroup": "San Antonio Spurs",
         "marker": {
          "color": "#FF6692",
          "symbol": "circle"
         },
         "mode": "markers",
         "name": "San Antonio Spurs",
         "orientation": "v",
         "showlegend": false,
         "type": "scatter",
         "x": [
          1009
         ],
         "xaxis": "x2",
         "y": [
          1.1177888999008918
         ],
         "yaxis": "y2"
        },
        {
         "hovertemplate": "TEAM_NAME=Toronto Raptors<br>PLAY_TYPE=Cut<br>POSS=%{x}<br>PPP=%{y}<extra></extra>",
         "legendgroup": "Toronto Raptors",
         "marker": {
          "color": "#B6E880",
          "symbol": "circle"
         },
         "mode": "markers",
         "name": "Toronto Raptors",
         "orientation": "v",
         "showlegend": true,
         "type": "scatter",
         "x": [
          447
         ],
         "xaxis": "x10",
         "y": [
          1.255040268456376
         ],
         "yaxis": "y10"
        },
        {
         "hovertemplate": "TEAM_NAME=Toronto Raptors<br>PLAY_TYPE=Handoff<br>POSS=%{x}<br>PPP=%{y}<extra></extra>",
         "legendgroup": "Toronto Raptors",
         "marker": {
          "color": "#B6E880",
          "symbol": "circle"
         },
         "mode": "markers",
         "name": "Toronto Raptors",
         "orientation": "v",
         "showlegend": false,
         "type": "scatter",
         "x": [
          210
         ],
         "xaxis": "x11",
         "y": [
          1.0190619047619047
         ],
         "yaxis": "y11"
        },
        {
         "hovertemplate": "TEAM_NAME=Toronto Raptors<br>PLAY_TYPE=Isolation<br>POSS=%{x}<br>PPP=%{y}<extra></extra>",
         "legendgroup": "Toronto Raptors",
         "marker": {
          "color": "#B6E880",
          "symbol": "circle"
         },
         "mode": "markers",
         "name": "Toronto Raptors",
         "orientation": "v",
         "showlegend": false,
         "type": "scatter",
         "x": [
          495
         ],
         "xaxis": "x12",
         "y": [
          0.8567313131313131
         ],
         "yaxis": "y12"
        },
        {
         "hovertemplate": "TEAM_NAME=Toronto Raptors<br>PLAY_TYPE=Misc<br>POSS=%{x}<br>PPP=%{y}<extra></extra>",
         "legendgroup": "Toronto Raptors",
         "marker": {
          "color": "#B6E880",
          "symbol": "circle"
         },
         "mode": "markers",
         "name": "Toronto Raptors",
         "orientation": "v",
         "showlegend": false,
         "type": "scatter",
         "x": [
          293
         ],
         "xaxis": "x7",
         "y": [
          0.6347440273037541
         ],
         "yaxis": "y7"
        },
        {
         "hovertemplate": "TEAM_NAME=Toronto Raptors<br>PLAY_TYPE=OffRebound<br>POSS=%{x}<br>PPP=%{y}<extra></extra>",
         "legendgroup": "Toronto Raptors",
         "marker": {
          "color": "#B6E880",
          "symbol": "circle"
         },
         "mode": "markers",
         "name": "Toronto Raptors",
         "orientation": "v",
         "showlegend": false,
         "type": "scatter",
         "x": [
          427
         ],
         "xaxis": "x8",
         "y": [
          1.131096018735363
         ],
         "yaxis": "y8"
        },
        {
         "hovertemplate": "TEAM_NAME=Toronto Raptors<br>PLAY_TYPE=OffScreen<br>POSS=%{x}<br>PPP=%{y}<extra></extra>",
         "legendgroup": "Toronto Raptors",
         "marker": {
          "color": "#B6E880",
          "symbol": "circle"
         },
         "mode": "markers",
         "name": "Toronto Raptors",
         "orientation": "v",
         "showlegend": false,
         "type": "scatter",
         "x": [
          182
         ],
         "xaxis": "x9",
         "y": [
          0.9011978021978023
         ],
         "yaxis": "y9"
        },
        {
         "hovertemplate": "TEAM_NAME=Toronto Raptors<br>PLAY_TYPE=PRBallHandler<br>POSS=%{x}<br>PPP=%{y}<extra></extra>",
         "legendgroup": "Toronto Raptors",
         "marker": {
          "color": "#B6E880",
          "symbol": "circle"
         },
         "mode": "markers",
         "name": "Toronto Raptors",
         "orientation": "v",
         "showlegend": false,
         "type": "scatter",
         "x": [
          976
         ],
         "xaxis": "x4",
         "y": [
          0.8781926229508197
         ],
         "yaxis": "y4"
        },
        {
         "hovertemplate": "TEAM_NAME=Toronto Raptors<br>PLAY_TYPE=PRRollMan<br>POSS=%{x}<br>PPP=%{y}<extra></extra>",
         "legendgroup": "Toronto Raptors",
         "marker": {
          "color": "#B6E880",
          "symbol": "circle"
         },
         "mode": "markers",
         "name": "Toronto Raptors",
         "orientation": "v",
         "showlegend": false,
         "type": "scatter",
         "x": [
          277
         ],
         "xaxis": "x5",
         "y": [
          1.097350180505415
         ],
         "yaxis": "y5"
        },
        {
         "hovertemplate": "TEAM_NAME=Toronto Raptors<br>PLAY_TYPE=Postup<br>POSS=%{x}<br>PPP=%{y}<extra></extra>",
         "legendgroup": "Toronto Raptors",
         "marker": {
          "color": "#B6E880",
          "symbol": "circle"
         },
         "mode": "markers",
         "name": "Toronto Raptors",
         "orientation": "v",
         "showlegend": false,
         "type": "scatter",
         "x": [
          306
         ],
         "xaxis": "x6",
         "y": [
          0.9118333333333334
         ],
         "yaxis": "y6"
        },
        {
         "hovertemplate": "TEAM_NAME=Toronto Raptors<br>PLAY_TYPE=Spotup<br>POSS=%{x}<br>PPP=%{y}<extra></extra>",
         "legendgroup": "Toronto Raptors",
         "marker": {
          "color": "#B6E880",
          "symbol": "circle"
         },
         "mode": "markers",
         "name": "Toronto Raptors",
         "orientation": "v",
         "showlegend": false,
         "type": "scatter",
         "x": [
          1394
         ],
         "xaxis": "x",
         "y": [
          0.9863034433285509
         ],
         "yaxis": "y"
        },
        {
         "hovertemplate": "TEAM_NAME=Toronto Raptors<br>PLAY_TYPE=Transition<br>POSS=%{x}<br>PPP=%{y}<extra></extra>",
         "legendgroup": "Toronto Raptors",
         "marker": {
          "color": "#B6E880",
          "symbol": "circle"
         },
         "mode": "markers",
         "name": "Toronto Raptors",
         "orientation": "v",
         "showlegend": false,
         "type": "scatter",
         "x": [
          1204
         ],
         "xaxis": "x2",
         "y": [
          1.1245855481727574
         ],
         "yaxis": "y2"
        },
        {
         "hovertemplate": "TEAM_NAME=Utah Jazz<br>PLAY_TYPE=Cut<br>POSS=%{x}<br>PPP=%{y}<extra></extra>",
         "legendgroup": "Utah Jazz",
         "marker": {
          "color": "#FF97FF",
          "symbol": "circle"
         },
         "mode": "markers",
         "name": "Utah Jazz",
         "orientation": "v",
         "showlegend": true,
         "type": "scatter",
         "x": [
          455
         ],
         "xaxis": "x10",
         "y": [
          1.2571824175824173
         ],
         "yaxis": "y10"
        },
        {
         "hovertemplate": "TEAM_NAME=Utah Jazz<br>PLAY_TYPE=Handoff<br>POSS=%{x}<br>PPP=%{y}<extra></extra>",
         "legendgroup": "Utah Jazz",
         "marker": {
          "color": "#FF97FF",
          "symbol": "circle"
         },
         "mode": "markers",
         "name": "Utah Jazz",
         "orientation": "v",
         "showlegend": false,
         "type": "scatter",
         "x": [
          337
         ],
         "xaxis": "x11",
         "y": [
          0.9972789317507418
         ],
         "yaxis": "y11"
        },
        {
         "hovertemplate": "TEAM_NAME=Utah Jazz<br>PLAY_TYPE=Isolation<br>POSS=%{x}<br>PPP=%{y}<extra></extra>",
         "legendgroup": "Utah Jazz",
         "marker": {
          "color": "#FF97FF",
          "symbol": "circle"
         },
         "mode": "markers",
         "name": "Utah Jazz",
         "orientation": "v",
         "showlegend": false,
         "type": "scatter",
         "x": [
          364
         ],
         "xaxis": "x12",
         "y": [
          1.0714532967032968
         ],
         "yaxis": "y12"
        },
        {
         "hovertemplate": "TEAM_NAME=Utah Jazz<br>PLAY_TYPE=Misc<br>POSS=%{x}<br>PPP=%{y}<extra></extra>",
         "legendgroup": "Utah Jazz",
         "marker": {
          "color": "#FF97FF",
          "symbol": "circle"
         },
         "mode": "markers",
         "name": "Utah Jazz",
         "orientation": "v",
         "showlegend": false,
         "type": "scatter",
         "x": [
          391
         ],
         "xaxis": "x7",
         "y": [
          0.5676726342710998
         ],
         "yaxis": "y7"
        },
        {
         "hovertemplate": "TEAM_NAME=Utah Jazz<br>PLAY_TYPE=OffRebound<br>POSS=%{x}<br>PPP=%{y}<extra></extra>",
         "legendgroup": "Utah Jazz",
         "marker": {
          "color": "#FF97FF",
          "symbol": "circle"
         },
         "mode": "markers",
         "name": "Utah Jazz",
         "orientation": "v",
         "showlegend": false,
         "type": "scatter",
         "x": [
          373
         ],
         "xaxis": "x8",
         "y": [
          1.1770670241286862
         ],
         "yaxis": "y8"
        },
        {
         "hovertemplate": "TEAM_NAME=Utah Jazz<br>PLAY_TYPE=OffScreen<br>POSS=%{x}<br>PPP=%{y}<extra></extra>",
         "legendgroup": "Utah Jazz",
         "marker": {
          "color": "#FF97FF",
          "symbol": "circle"
         },
         "mode": "markers",
         "name": "Utah Jazz",
         "orientation": "v",
         "showlegend": false,
         "type": "scatter",
         "x": [
          437
         ],
         "xaxis": "x9",
         "y": [
          1.0203867276887872
         ],
         "yaxis": "y9"
        },
        {
         "hovertemplate": "TEAM_NAME=Utah Jazz<br>PLAY_TYPE=PRBallHandler<br>POSS=%{x}<br>PPP=%{y}<extra></extra>",
         "legendgroup": "Utah Jazz",
         "marker": {
          "color": "#FF97FF",
          "symbol": "circle"
         },
         "mode": "markers",
         "name": "Utah Jazz",
         "orientation": "v",
         "showlegend": false,
         "type": "scatter",
         "x": [
          1022
         ],
         "xaxis": "x4",
         "y": [
          0.9031174168297456
         ],
         "yaxis": "y4"
        },
        {
         "hovertemplate": "TEAM_NAME=Utah Jazz<br>PLAY_TYPE=PRRollMan<br>POSS=%{x}<br>PPP=%{y}<extra></extra>",
         "legendgroup": "Utah Jazz",
         "marker": {
          "color": "#FF97FF",
          "symbol": "circle"
         },
         "mode": "markers",
         "name": "Utah Jazz",
         "orientation": "v",
         "showlegend": false,
         "type": "scatter",
         "x": [
          291
         ],
         "xaxis": "x5",
         "y": [
          1.216298969072165
         ],
         "yaxis": "y5"
        },
        {
         "hovertemplate": "TEAM_NAME=Utah Jazz<br>PLAY_TYPE=Postup<br>POSS=%{x}<br>PPP=%{y}<extra></extra>",
         "legendgroup": "Utah Jazz",
         "marker": {
          "color": "#FF97FF",
          "symbol": "circle"
         },
         "mode": "markers",
         "name": "Utah Jazz",
         "orientation": "v",
         "showlegend": false,
         "type": "scatter",
         "x": [
          130
         ],
         "xaxis": "x6",
         "y": [
          0.8766846153846153
         ],
         "yaxis": "y6"
        },
        {
         "hovertemplate": "TEAM_NAME=Utah Jazz<br>PLAY_TYPE=Spotup<br>POSS=%{x}<br>PPP=%{y}<extra></extra>",
         "legendgroup": "Utah Jazz",
         "marker": {
          "color": "#FF97FF",
          "symbol": "circle"
         },
         "mode": "markers",
         "name": "Utah Jazz",
         "orientation": "v",
         "showlegend": false,
         "type": "scatter",
         "x": [
          1436
         ],
         "xaxis": "x",
         "y": [
          1.0454240947075208
         ],
         "yaxis": "y"
        },
        {
         "hovertemplate": "TEAM_NAME=Utah Jazz<br>PLAY_TYPE=Transition<br>POSS=%{x}<br>PPP=%{y}<extra></extra>",
         "legendgroup": "Utah Jazz",
         "marker": {
          "color": "#FF97FF",
          "symbol": "circle"
         },
         "mode": "markers",
         "name": "Utah Jazz",
         "orientation": "v",
         "showlegend": false,
         "type": "scatter",
         "x": [
          978
         ],
         "xaxis": "x2",
         "y": [
          1.162528629856851
         ],
         "yaxis": "y2"
        },
        {
         "hovertemplate": "TEAM_NAME=Washington Wizards<br>PLAY_TYPE=Cut<br>POSS=%{x}<br>PPP=%{y}<extra></extra>",
         "legendgroup": "Washington Wizards",
         "marker": {
          "color": "#FECB52",
          "symbol": "circle"
         },
         "mode": "markers",
         "name": "Washington Wizards",
         "orientation": "v",
         "showlegend": true,
         "type": "scatter",
         "x": [
          409
         ],
         "xaxis": "x10",
         "y": [
          1.325281173594132
         ],
         "yaxis": "y10"
        },
        {
         "hovertemplate": "TEAM_NAME=Washington Wizards<br>PLAY_TYPE=Handoff<br>POSS=%{x}<br>PPP=%{y}<extra></extra>",
         "legendgroup": "Washington Wizards",
         "marker": {
          "color": "#FECB52",
          "symbol": "circle"
         },
         "mode": "markers",
         "name": "Washington Wizards",
         "orientation": "v",
         "showlegend": false,
         "type": "scatter",
         "x": [
          247
         ],
         "xaxis": "x11",
         "y": [
          0.903
         ],
         "yaxis": "y11"
        },
        {
         "hovertemplate": "TEAM_NAME=Washington Wizards<br>PLAY_TYPE=Isolation<br>POSS=%{x}<br>PPP=%{y}<extra></extra>",
         "legendgroup": "Washington Wizards",
         "marker": {
          "color": "#FECB52",
          "symbol": "circle"
         },
         "mode": "markers",
         "name": "Washington Wizards",
         "orientation": "v",
         "showlegend": false,
         "type": "scatter",
         "x": [
          332
         ],
         "xaxis": "x12",
         "y": [
          0.8976807228915662
         ],
         "yaxis": "y12"
        },
        {
         "hovertemplate": "TEAM_NAME=Washington Wizards<br>PLAY_TYPE=Misc<br>POSS=%{x}<br>PPP=%{y}<extra></extra>",
         "legendgroup": "Washington Wizards",
         "marker": {
          "color": "#FECB52",
          "symbol": "circle"
         },
         "mode": "markers",
         "name": "Washington Wizards",
         "orientation": "v",
         "showlegend": false,
         "type": "scatter",
         "x": [
          358
         ],
         "xaxis": "x7",
         "y": [
          0.6115614525139664
         ],
         "yaxis": "y7"
        },
        {
         "hovertemplate": "TEAM_NAME=Washington Wizards<br>PLAY_TYPE=OffRebound<br>POSS=%{x}<br>PPP=%{y}<extra></extra>",
         "legendgroup": "Washington Wizards",
         "marker": {
          "color": "#FECB52",
          "symbol": "circle"
         },
         "mode": "markers",
         "name": "Washington Wizards",
         "orientation": "v",
         "showlegend": false,
         "type": "scatter",
         "x": [
          284
         ],
         "xaxis": "x8",
         "y": [
          1.2853978873239436
         ],
         "yaxis": "y8"
        },
        {
         "hovertemplate": "TEAM_NAME=Washington Wizards<br>PLAY_TYPE=OffScreen<br>POSS=%{x}<br>PPP=%{y}<extra></extra>",
         "legendgroup": "Washington Wizards",
         "marker": {
          "color": "#FECB52",
          "symbol": "circle"
         },
         "mode": "markers",
         "name": "Washington Wizards",
         "orientation": "v",
         "showlegend": false,
         "type": "scatter",
         "x": [
          219
         ],
         "xaxis": "x9",
         "y": [
          0.9224292237442921
         ],
         "yaxis": "y9"
        },
        {
         "hovertemplate": "TEAM_NAME=Washington Wizards<br>PLAY_TYPE=PRBallHandler<br>POSS=%{x}<br>PPP=%{y}<extra></extra>",
         "legendgroup": "Washington Wizards",
         "marker": {
          "color": "#FECB52",
          "symbol": "circle"
         },
         "mode": "markers",
         "name": "Washington Wizards",
         "orientation": "v",
         "showlegend": false,
         "type": "scatter",
         "x": [
          919
         ],
         "xaxis": "x4",
         "y": [
          0.8976931447225245
         ],
         "yaxis": "y4"
        },
        {
         "hovertemplate": "TEAM_NAME=Washington Wizards<br>PLAY_TYPE=PRRollMan<br>POSS=%{x}<br>PPP=%{y}<extra></extra>",
         "legendgroup": "Washington Wizards",
         "marker": {
          "color": "#FECB52",
          "symbol": "circle"
         },
         "mode": "markers",
         "name": "Washington Wizards",
         "orientation": "v",
         "showlegend": false,
         "type": "scatter",
         "x": [
          324
         ],
         "xaxis": "x5",
         "y": [
          1.1974043209876544
         ],
         "yaxis": "y5"
        },
        {
         "hovertemplate": "TEAM_NAME=Washington Wizards<br>PLAY_TYPE=Postup<br>POSS=%{x}<br>PPP=%{y}<extra></extra>",
         "legendgroup": "Washington Wizards",
         "marker": {
          "color": "#FECB52",
          "symbol": "circle"
         },
         "mode": "markers",
         "name": "Washington Wizards",
         "orientation": "v",
         "showlegend": false,
         "type": "scatter",
         "x": [
          293
         ],
         "xaxis": "x6",
         "y": [
          0.9966825938566554
         ],
         "yaxis": "y6"
        },
        {
         "hovertemplate": "TEAM_NAME=Washington Wizards<br>PLAY_TYPE=Spotup<br>POSS=%{x}<br>PPP=%{y}<extra></extra>",
         "legendgroup": "Washington Wizards",
         "marker": {
          "color": "#FECB52",
          "symbol": "circle"
         },
         "mode": "markers",
         "name": "Washington Wizards",
         "orientation": "v",
         "showlegend": false,
         "type": "scatter",
         "x": [
          1423
         ],
         "xaxis": "x",
         "y": [
          1.035888264230499
         ],
         "yaxis": "y"
        },
        {
         "hovertemplate": "TEAM_NAME=Washington Wizards<br>PLAY_TYPE=Transition<br>POSS=%{x}<br>PPP=%{y}<extra></extra>",
         "legendgroup": "Washington Wizards",
         "marker": {
          "color": "#FECB52",
          "symbol": "circle"
         },
         "mode": "markers",
         "name": "Washington Wizards",
         "orientation": "v",
         "showlegend": false,
         "type": "scatter",
         "x": [
          898
         ],
         "xaxis": "x2",
         "y": [
          1.13352004454343
         ],
         "yaxis": "y2"
        }
       ],
       "layout": {
        "annotations": [
         {
          "showarrow": false,
          "text": "PLAY_TYPE=Spotup",
          "x": 0.15999999999999998,
          "xanchor": "center",
          "xref": "paper",
          "y": 0.1975,
          "yanchor": "bottom",
          "yref": "paper"
         },
         {
          "showarrow": false,
          "text": "PLAY_TYPE=Transition",
          "x": 0.49999999999999994,
          "xanchor": "center",
          "xref": "paper",
          "y": 0.1975,
          "yanchor": "bottom",
          "yref": "paper"
         },
         {
          "showarrow": false,
          "text": "PLAY_TYPE=PRBallHandler",
          "x": 0.15999999999999998,
          "xanchor": "center",
          "xref": "paper",
          "y": 0.465,
          "yanchor": "bottom",
          "yref": "paper"
         },
         {
          "showarrow": false,
          "text": "PLAY_TYPE=PRRollMan",
          "x": 0.49999999999999994,
          "xanchor": "center",
          "xref": "paper",
          "y": 0.465,
          "yanchor": "bottom",
          "yref": "paper"
         },
         {
          "showarrow": false,
          "text": "PLAY_TYPE=Postup",
          "x": 0.8399999999999999,
          "xanchor": "center",
          "xref": "paper",
          "y": 0.465,
          "yanchor": "bottom",
          "yref": "paper"
         },
         {
          "showarrow": false,
          "text": "PLAY_TYPE=Misc",
          "x": 0.15999999999999998,
          "xanchor": "center",
          "xref": "paper",
          "y": 0.7325,
          "yanchor": "bottom",
          "yref": "paper"
         },
         {
          "showarrow": false,
          "text": "PLAY_TYPE=OffRebound",
          "x": 0.49999999999999994,
          "xanchor": "center",
          "xref": "paper",
          "y": 0.7325,
          "yanchor": "bottom",
          "yref": "paper"
         },
         {
          "showarrow": false,
          "text": "PLAY_TYPE=OffScreen",
          "x": 0.8399999999999999,
          "xanchor": "center",
          "xref": "paper",
          "y": 0.7325,
          "yanchor": "bottom",
          "yref": "paper"
         },
         {
          "showarrow": false,
          "text": "PLAY_TYPE=Cut",
          "x": 0.15999999999999998,
          "xanchor": "center",
          "xref": "paper",
          "y": 1,
          "yanchor": "bottom",
          "yref": "paper"
         },
         {
          "showarrow": false,
          "text": "PLAY_TYPE=Handoff",
          "x": 0.49999999999999994,
          "xanchor": "center",
          "xref": "paper",
          "y": 1,
          "yanchor": "bottom",
          "yref": "paper"
         },
         {
          "showarrow": false,
          "text": "PLAY_TYPE=Isolation",
          "x": 0.8399999999999999,
          "xanchor": "center",
          "xref": "paper",
          "y": 1,
          "yanchor": "bottom",
          "yref": "paper"
         }
        ],
        "height": 1000,
        "legend": {
         "title": {
          "text": "TEAM_NAME"
         },
         "tracegroupgap": 0
        },
        "margin": {
         "t": 60
        },
        "shapes": [
         {
          "line": {
           "dash": "dash",
           "width": 0.5
          },
          "type": "line",
          "x0": 0,
          "x1": 1,
          "xref": "x domain",
          "y0": 1.0194306169357525,
          "y1": 1.0194306169357525,
          "yref": "y"
         },
         {
          "line": {
           "dash": "dash",
           "width": 0.5
          },
          "type": "line",
          "x0": 0,
          "x1": 1,
          "xref": "x2 domain",
          "y0": 1.0194306169357525,
          "y1": 1.0194306169357525,
          "yref": "y2"
         },
         {
          "line": {
           "dash": "dash",
           "width": 0.5
          },
          "type": "line",
          "x0": 0,
          "x1": 1,
          "xref": "x4 domain",
          "y0": 1.0194306169357525,
          "y1": 1.0194306169357525,
          "yref": "y4"
         },
         {
          "line": {
           "dash": "dash",
           "width": 0.5
          },
          "type": "line",
          "x0": 0,
          "x1": 1,
          "xref": "x5 domain",
          "y0": 1.0194306169357525,
          "y1": 1.0194306169357525,
          "yref": "y5"
         },
         {
          "line": {
           "dash": "dash",
           "width": 0.5
          },
          "type": "line",
          "x0": 0,
          "x1": 1,
          "xref": "x6 domain",
          "y0": 1.0194306169357525,
          "y1": 1.0194306169357525,
          "yref": "y6"
         },
         {
          "line": {
           "dash": "dash",
           "width": 0.5
          },
          "type": "line",
          "x0": 0,
          "x1": 1,
          "xref": "x7 domain",
          "y0": 1.0194306169357525,
          "y1": 1.0194306169357525,
          "yref": "y7"
         },
         {
          "line": {
           "dash": "dash",
           "width": 0.5
          },
          "type": "line",
          "x0": 0,
          "x1": 1,
          "xref": "x8 domain",
          "y0": 1.0194306169357525,
          "y1": 1.0194306169357525,
          "yref": "y8"
         },
         {
          "line": {
           "dash": "dash",
           "width": 0.5
          },
          "type": "line",
          "x0": 0,
          "x1": 1,
          "xref": "x9 domain",
          "y0": 1.0194306169357525,
          "y1": 1.0194306169357525,
          "yref": "y9"
         },
         {
          "line": {
           "dash": "dash",
           "width": 0.5
          },
          "type": "line",
          "x0": 0,
          "x1": 1,
          "xref": "x10 domain",
          "y0": 1.0194306169357525,
          "y1": 1.0194306169357525,
          "yref": "y10"
         },
         {
          "line": {
           "dash": "dash",
           "width": 0.5
          },
          "type": "line",
          "x0": 0,
          "x1": 1,
          "xref": "x11 domain",
          "y0": 1.0194306169357525,
          "y1": 1.0194306169357525,
          "yref": "y11"
         },
         {
          "line": {
           "dash": "dash",
           "width": 0.5
          },
          "type": "line",
          "x0": 0,
          "x1": 1,
          "xref": "x12 domain",
          "y0": 1.0194306169357525,
          "y1": 1.0194306169357525,
          "yref": "y12"
         }
        ],
        "showlegend": false,
        "template": {
         "data": {
          "bar": [
           {
            "error_x": {
             "color": "#2a3f5f"
            },
            "error_y": {
             "color": "#2a3f5f"
            },
            "marker": {
             "line": {
              "color": "#E5ECF6",
              "width": 0.5
             },
             "pattern": {
              "fillmode": "overlay",
              "size": 10,
              "solidity": 0.2
             }
            },
            "type": "bar"
           }
          ],
          "barpolar": [
           {
            "marker": {
             "line": {
              "color": "#E5ECF6",
              "width": 0.5
             },
             "pattern": {
              "fillmode": "overlay",
              "size": 10,
              "solidity": 0.2
             }
            },
            "type": "barpolar"
           }
          ],
          "carpet": [
           {
            "aaxis": {
             "endlinecolor": "#2a3f5f",
             "gridcolor": "white",
             "linecolor": "white",
             "minorgridcolor": "white",
             "startlinecolor": "#2a3f5f"
            },
            "baxis": {
             "endlinecolor": "#2a3f5f",
             "gridcolor": "white",
             "linecolor": "white",
             "minorgridcolor": "white",
             "startlinecolor": "#2a3f5f"
            },
            "type": "carpet"
           }
          ],
          "choropleth": [
           {
            "colorbar": {
             "outlinewidth": 0,
             "ticks": ""
            },
            "type": "choropleth"
           }
          ],
          "contour": [
           {
            "colorbar": {
             "outlinewidth": 0,
             "ticks": ""
            },
            "colorscale": [
             [
              0,
              "#0d0887"
             ],
             [
              0.1111111111111111,
              "#46039f"
             ],
             [
              0.2222222222222222,
              "#7201a8"
             ],
             [
              0.3333333333333333,
              "#9c179e"
             ],
             [
              0.4444444444444444,
              "#bd3786"
             ],
             [
              0.5555555555555556,
              "#d8576b"
             ],
             [
              0.6666666666666666,
              "#ed7953"
             ],
             [
              0.7777777777777778,
              "#fb9f3a"
             ],
             [
              0.8888888888888888,
              "#fdca26"
             ],
             [
              1,
              "#f0f921"
             ]
            ],
            "type": "contour"
           }
          ],
          "contourcarpet": [
           {
            "colorbar": {
             "outlinewidth": 0,
             "ticks": ""
            },
            "type": "contourcarpet"
           }
          ],
          "heatmap": [
           {
            "colorbar": {
             "outlinewidth": 0,
             "ticks": ""
            },
            "colorscale": [
             [
              0,
              "#0d0887"
             ],
             [
              0.1111111111111111,
              "#46039f"
             ],
             [
              0.2222222222222222,
              "#7201a8"
             ],
             [
              0.3333333333333333,
              "#9c179e"
             ],
             [
              0.4444444444444444,
              "#bd3786"
             ],
             [
              0.5555555555555556,
              "#d8576b"
             ],
             [
              0.6666666666666666,
              "#ed7953"
             ],
             [
              0.7777777777777778,
              "#fb9f3a"
             ],
             [
              0.8888888888888888,
              "#fdca26"
             ],
             [
              1,
              "#f0f921"
             ]
            ],
            "type": "heatmap"
           }
          ],
          "heatmapgl": [
           {
            "colorbar": {
             "outlinewidth": 0,
             "ticks": ""
            },
            "colorscale": [
             [
              0,
              "#0d0887"
             ],
             [
              0.1111111111111111,
              "#46039f"
             ],
             [
              0.2222222222222222,
              "#7201a8"
             ],
             [
              0.3333333333333333,
              "#9c179e"
             ],
             [
              0.4444444444444444,
              "#bd3786"
             ],
             [
              0.5555555555555556,
              "#d8576b"
             ],
             [
              0.6666666666666666,
              "#ed7953"
             ],
             [
              0.7777777777777778,
              "#fb9f3a"
             ],
             [
              0.8888888888888888,
              "#fdca26"
             ],
             [
              1,
              "#f0f921"
             ]
            ],
            "type": "heatmapgl"
           }
          ],
          "histogram": [
           {
            "marker": {
             "pattern": {
              "fillmode": "overlay",
              "size": 10,
              "solidity": 0.2
             }
            },
            "type": "histogram"
           }
          ],
          "histogram2d": [
           {
            "colorbar": {
             "outlinewidth": 0,
             "ticks": ""
            },
            "colorscale": [
             [
              0,
              "#0d0887"
             ],
             [
              0.1111111111111111,
              "#46039f"
             ],
             [
              0.2222222222222222,
              "#7201a8"
             ],
             [
              0.3333333333333333,
              "#9c179e"
             ],
             [
              0.4444444444444444,
              "#bd3786"
             ],
             [
              0.5555555555555556,
              "#d8576b"
             ],
             [
              0.6666666666666666,
              "#ed7953"
             ],
             [
              0.7777777777777778,
              "#fb9f3a"
             ],
             [
              0.8888888888888888,
              "#fdca26"
             ],
             [
              1,
              "#f0f921"
             ]
            ],
            "type": "histogram2d"
           }
          ],
          "histogram2dcontour": [
           {
            "colorbar": {
             "outlinewidth": 0,
             "ticks": ""
            },
            "colorscale": [
             [
              0,
              "#0d0887"
             ],
             [
              0.1111111111111111,
              "#46039f"
             ],
             [
              0.2222222222222222,
              "#7201a8"
             ],
             [
              0.3333333333333333,
              "#9c179e"
             ],
             [
              0.4444444444444444,
              "#bd3786"
             ],
             [
              0.5555555555555556,
              "#d8576b"
             ],
             [
              0.6666666666666666,
              "#ed7953"
             ],
             [
              0.7777777777777778,
              "#fb9f3a"
             ],
             [
              0.8888888888888888,
              "#fdca26"
             ],
             [
              1,
              "#f0f921"
             ]
            ],
            "type": "histogram2dcontour"
           }
          ],
          "mesh3d": [
           {
            "colorbar": {
             "outlinewidth": 0,
             "ticks": ""
            },
            "type": "mesh3d"
           }
          ],
          "parcoords": [
           {
            "line": {
             "colorbar": {
              "outlinewidth": 0,
              "ticks": ""
             }
            },
            "type": "parcoords"
           }
          ],
          "pie": [
           {
            "automargin": true,
            "type": "pie"
           }
          ],
          "scatter": [
           {
            "fillpattern": {
             "fillmode": "overlay",
             "size": 10,
             "solidity": 0.2
            },
            "type": "scatter"
           }
          ],
          "scatter3d": [
           {
            "line": {
             "colorbar": {
              "outlinewidth": 0,
              "ticks": ""
             }
            },
            "marker": {
             "colorbar": {
              "outlinewidth": 0,
              "ticks": ""
             }
            },
            "type": "scatter3d"
           }
          ],
          "scattercarpet": [
           {
            "marker": {
             "colorbar": {
              "outlinewidth": 0,
              "ticks": ""
             }
            },
            "type": "scattercarpet"
           }
          ],
          "scattergeo": [
           {
            "marker": {
             "colorbar": {
              "outlinewidth": 0,
              "ticks": ""
             }
            },
            "type": "scattergeo"
           }
          ],
          "scattergl": [
           {
            "marker": {
             "colorbar": {
              "outlinewidth": 0,
              "ticks": ""
             }
            },
            "type": "scattergl"
           }
          ],
          "scattermapbox": [
           {
            "marker": {
             "colorbar": {
              "outlinewidth": 0,
              "ticks": ""
             }
            },
            "type": "scattermapbox"
           }
          ],
          "scatterpolar": [
           {
            "marker": {
             "colorbar": {
              "outlinewidth": 0,
              "ticks": ""
             }
            },
            "type": "scatterpolar"
           }
          ],
          "scatterpolargl": [
           {
            "marker": {
             "colorbar": {
              "outlinewidth": 0,
              "ticks": ""
             }
            },
            "type": "scatterpolargl"
           }
          ],
          "scatterternary": [
           {
            "marker": {
             "colorbar": {
              "outlinewidth": 0,
              "ticks": ""
             }
            },
            "type": "scatterternary"
           }
          ],
          "surface": [
           {
            "colorbar": {
             "outlinewidth": 0,
             "ticks": ""
            },
            "colorscale": [
             [
              0,
              "#0d0887"
             ],
             [
              0.1111111111111111,
              "#46039f"
             ],
             [
              0.2222222222222222,
              "#7201a8"
             ],
             [
              0.3333333333333333,
              "#9c179e"
             ],
             [
              0.4444444444444444,
              "#bd3786"
             ],
             [
              0.5555555555555556,
              "#d8576b"
             ],
             [
              0.6666666666666666,
              "#ed7953"
             ],
             [
              0.7777777777777778,
              "#fb9f3a"
             ],
             [
              0.8888888888888888,
              "#fdca26"
             ],
             [
              1,
              "#f0f921"
             ]
            ],
            "type": "surface"
           }
          ],
          "table": [
           {
            "cells": {
             "fill": {
              "color": "#EBF0F8"
             },
             "line": {
              "color": "white"
             }
            },
            "header": {
             "fill": {
              "color": "#C8D4E3"
             },
             "line": {
              "color": "white"
             }
            },
            "type": "table"
           }
          ]
         },
         "layout": {
          "annotationdefaults": {
           "arrowcolor": "#2a3f5f",
           "arrowhead": 0,
           "arrowwidth": 1
          },
          "autotypenumbers": "strict",
          "coloraxis": {
           "colorbar": {
            "outlinewidth": 0,
            "ticks": ""
           }
          },
          "colorscale": {
           "diverging": [
            [
             0,
             "#8e0152"
            ],
            [
             0.1,
             "#c51b7d"
            ],
            [
             0.2,
             "#de77ae"
            ],
            [
             0.3,
             "#f1b6da"
            ],
            [
             0.4,
             "#fde0ef"
            ],
            [
             0.5,
             "#f7f7f7"
            ],
            [
             0.6,
             "#e6f5d0"
            ],
            [
             0.7,
             "#b8e186"
            ],
            [
             0.8,
             "#7fbc41"
            ],
            [
             0.9,
             "#4d9221"
            ],
            [
             1,
             "#276419"
            ]
           ],
           "sequential": [
            [
             0,
             "#0d0887"
            ],
            [
             0.1111111111111111,
             "#46039f"
            ],
            [
             0.2222222222222222,
             "#7201a8"
            ],
            [
             0.3333333333333333,
             "#9c179e"
            ],
            [
             0.4444444444444444,
             "#bd3786"
            ],
            [
             0.5555555555555556,
             "#d8576b"
            ],
            [
             0.6666666666666666,
             "#ed7953"
            ],
            [
             0.7777777777777778,
             "#fb9f3a"
            ],
            [
             0.8888888888888888,
             "#fdca26"
            ],
            [
             1,
             "#f0f921"
            ]
           ],
           "sequentialminus": [
            [
             0,
             "#0d0887"
            ],
            [
             0.1111111111111111,
             "#46039f"
            ],
            [
             0.2222222222222222,
             "#7201a8"
            ],
            [
             0.3333333333333333,
             "#9c179e"
            ],
            [
             0.4444444444444444,
             "#bd3786"
            ],
            [
             0.5555555555555556,
             "#d8576b"
            ],
            [
             0.6666666666666666,
             "#ed7953"
            ],
            [
             0.7777777777777778,
             "#fb9f3a"
            ],
            [
             0.8888888888888888,
             "#fdca26"
            ],
            [
             1,
             "#f0f921"
            ]
           ]
          },
          "colorway": [
           "#636efa",
           "#EF553B",
           "#00cc96",
           "#ab63fa",
           "#FFA15A",
           "#19d3f3",
           "#FF6692",
           "#B6E880",
           "#FF97FF",
           "#FECB52"
          ],
          "font": {
           "color": "#2a3f5f"
          },
          "geo": {
           "bgcolor": "white",
           "lakecolor": "white",
           "landcolor": "#E5ECF6",
           "showlakes": true,
           "showland": true,
           "subunitcolor": "white"
          },
          "hoverlabel": {
           "align": "left"
          },
          "hovermode": "closest",
          "mapbox": {
           "style": "light"
          },
          "paper_bgcolor": "white",
          "plot_bgcolor": "#E5ECF6",
          "polar": {
           "angularaxis": {
            "gridcolor": "white",
            "linecolor": "white",
            "ticks": ""
           },
           "bgcolor": "#E5ECF6",
           "radialaxis": {
            "gridcolor": "white",
            "linecolor": "white",
            "ticks": ""
           }
          },
          "scene": {
           "xaxis": {
            "backgroundcolor": "#E5ECF6",
            "gridcolor": "white",
            "gridwidth": 2,
            "linecolor": "white",
            "showbackground": true,
            "ticks": "",
            "zerolinecolor": "white"
           },
           "yaxis": {
            "backgroundcolor": "#E5ECF6",
            "gridcolor": "white",
            "gridwidth": 2,
            "linecolor": "white",
            "showbackground": true,
            "ticks": "",
            "zerolinecolor": "white"
           },
           "zaxis": {
            "backgroundcolor": "#E5ECF6",
            "gridcolor": "white",
            "gridwidth": 2,
            "linecolor": "white",
            "showbackground": true,
            "ticks": "",
            "zerolinecolor": "white"
           }
          },
          "shapedefaults": {
           "line": {
            "color": "#2a3f5f"
           }
          },
          "ternary": {
           "aaxis": {
            "gridcolor": "white",
            "linecolor": "white",
            "ticks": ""
           },
           "baxis": {
            "gridcolor": "white",
            "linecolor": "white",
            "ticks": ""
           },
           "bgcolor": "#E5ECF6",
           "caxis": {
            "gridcolor": "white",
            "linecolor": "white",
            "ticks": ""
           }
          },
          "title": {
           "x": 0.05
          },
          "xaxis": {
           "automargin": true,
           "gridcolor": "white",
           "linecolor": "white",
           "ticks": "",
           "title": {
            "standoff": 15
           },
           "zerolinecolor": "white",
           "zerolinewidth": 2
          },
          "yaxis": {
           "automargin": true,
           "gridcolor": "white",
           "linecolor": "white",
           "ticks": "",
           "title": {
            "standoff": 15
           },
           "zerolinecolor": "white",
           "zerolinewidth": 2
          }
         }
        },
        "title": {
         "text": "Frequency and Efficiency of NBA Teams by Shot Type (2022-2023)",
         "x": 0.5
        },
        "width": 1100,
        "xaxis": {
         "anchor": "y",
         "domain": [
          0,
          0.31999999999999995
         ],
         "title": {
          "text": "Possessions"
         }
        },
        "xaxis10": {
         "anchor": "y10",
         "domain": [
          0,
          0.31999999999999995
         ],
         "matches": "x",
         "showticklabels": false,
         "title": {
          "text": "Possessions"
         }
        },
        "xaxis11": {
         "anchor": "y11",
         "domain": [
          0.33999999999999997,
          0.6599999999999999
         ],
         "matches": "x",
         "showticklabels": false,
         "title": {
          "text": "Possessions"
         }
        },
        "xaxis12": {
         "anchor": "y12",
         "domain": [
          0.6799999999999999,
          0.9999999999999999
         ],
         "matches": "x",
         "showticklabels": false,
         "title": {
          "text": "Possessions"
         }
        },
        "xaxis2": {
         "anchor": "y2",
         "domain": [
          0.33999999999999997,
          0.6599999999999999
         ],
         "matches": "x",
         "title": {
          "text": "Possessions"
         }
        },
        "xaxis3": {
         "anchor": "y3",
         "domain": [
          0.6799999999999999,
          0.9999999999999999
         ],
         "matches": "x",
         "title": {
          "text": "Possessions"
         }
        },
        "xaxis4": {
         "anchor": "y4",
         "domain": [
          0,
          0.31999999999999995
         ],
         "matches": "x",
         "showticklabels": false,
         "title": {
          "text": "Possessions"
         }
        },
        "xaxis5": {
         "anchor": "y5",
         "domain": [
          0.33999999999999997,
          0.6599999999999999
         ],
         "matches": "x",
         "showticklabels": false,
         "title": {
          "text": "Possessions"
         }
        },
        "xaxis6": {
         "anchor": "y6",
         "domain": [
          0.6799999999999999,
          0.9999999999999999
         ],
         "matches": "x",
         "showticklabels": false,
         "title": {
          "text": "Possessions"
         }
        },
        "xaxis7": {
         "anchor": "y7",
         "domain": [
          0,
          0.31999999999999995
         ],
         "matches": "x",
         "showticklabels": false,
         "title": {
          "text": "Possessions"
         }
        },
        "xaxis8": {
         "anchor": "y8",
         "domain": [
          0.33999999999999997,
          0.6599999999999999
         ],
         "matches": "x",
         "showticklabels": false,
         "title": {
          "text": "Possessions"
         }
        },
        "xaxis9": {
         "anchor": "y9",
         "domain": [
          0.6799999999999999,
          0.9999999999999999
         ],
         "matches": "x",
         "showticklabels": false,
         "title": {
          "text": "Possessions"
         }
        },
        "yaxis": {
         "anchor": "x",
         "domain": [
          0,
          0.1975
         ],
         "title": {
          "text": "PPP"
         }
        },
        "yaxis10": {
         "anchor": "x10",
         "domain": [
          0.8025,
          1
         ],
         "matches": "y",
         "title": {
          "text": "PPP"
         }
        },
        "yaxis11": {
         "anchor": "x11",
         "domain": [
          0.8025,
          1
         ],
         "matches": "y",
         "showticklabels": false,
         "title": {
          "text": "PPP"
         }
        },
        "yaxis12": {
         "anchor": "x12",
         "domain": [
          0.8025,
          1
         ],
         "matches": "y",
         "showticklabels": false,
         "title": {
          "text": "PPP"
         }
        },
        "yaxis2": {
         "anchor": "x2",
         "domain": [
          0,
          0.1975
         ],
         "matches": "y",
         "showticklabels": false,
         "title": {
          "text": "PPP"
         }
        },
        "yaxis3": {
         "anchor": "x3",
         "domain": [
          0,
          0.1975
         ],
         "matches": "y",
         "showticklabels": false,
         "title": {
          "text": "PPP"
         }
        },
        "yaxis4": {
         "anchor": "x4",
         "domain": [
          0.2675,
          0.465
         ],
         "matches": "y",
         "title": {
          "text": "PPP"
         }
        },
        "yaxis5": {
         "anchor": "x5",
         "domain": [
          0.2675,
          0.465
         ],
         "matches": "y",
         "showticklabels": false,
         "title": {
          "text": "PPP"
         }
        },
        "yaxis6": {
         "anchor": "x6",
         "domain": [
          0.2675,
          0.465
         ],
         "matches": "y",
         "showticklabels": false,
         "title": {
          "text": "PPP"
         }
        },
        "yaxis7": {
         "anchor": "x7",
         "domain": [
          0.535,
          0.7325
         ],
         "matches": "y",
         "title": {
          "text": "PPP"
         }
        },
        "yaxis8": {
         "anchor": "x8",
         "domain": [
          0.535,
          0.7325
         ],
         "matches": "y",
         "showticklabels": false,
         "title": {
          "text": "PPP"
         }
        },
        "yaxis9": {
         "anchor": "x9",
         "domain": [
          0.535,
          0.7325
         ],
         "matches": "y",
         "showticklabels": false,
         "title": {
          "text": "PPP"
         }
        }
       }
      },
      "text/html": [
       "<div>                            <div id=\"c8490062-148a-4f82-92ce-4232a39c1b2a\" class=\"plotly-graph-div\" style=\"height:1000px; width:1100px;\"></div>            <script type=\"text/javascript\">                require([\"plotly\"], function(Plotly) {                    window.PLOTLYENV=window.PLOTLYENV || {};                                    if (document.getElementById(\"c8490062-148a-4f82-92ce-4232a39c1b2a\")) {                    Plotly.newPlot(                        \"c8490062-148a-4f82-92ce-4232a39c1b2a\",                        [{\"hovertemplate\":\"TEAM_NAME=Atlanta Hawks<br>PLAY_TYPE=Cut<br>POSS=%{x}<br>PPP=%{y}<extra></extra>\",\"legendgroup\":\"Atlanta Hawks\",\"marker\":{\"color\":\"#636efa\",\"symbol\":\"circle\"},\"mode\":\"markers\",\"name\":\"Atlanta Hawks\",\"orientation\":\"v\",\"showlegend\":true,\"x\":[342],\"xaxis\":\"x10\",\"y\":[1.3889619883040936],\"yaxis\":\"y10\",\"type\":\"scatter\"},{\"hovertemplate\":\"TEAM_NAME=Atlanta Hawks<br>PLAY_TYPE=Handoff<br>POSS=%{x}<br>PPP=%{y}<extra></extra>\",\"legendgroup\":\"Atlanta Hawks\",\"marker\":{\"color\":\"#636efa\",\"symbol\":\"circle\"},\"mode\":\"markers\",\"name\":\"Atlanta Hawks\",\"orientation\":\"v\",\"showlegend\":false,\"x\":[154],\"xaxis\":\"x11\",\"y\":[1.019487012987013],\"yaxis\":\"y11\",\"type\":\"scatter\"},{\"hovertemplate\":\"TEAM_NAME=Atlanta Hawks<br>PLAY_TYPE=Isolation<br>POSS=%{x}<br>PPP=%{y}<extra></extra>\",\"legendgroup\":\"Atlanta Hawks\",\"marker\":{\"color\":\"#636efa\",\"symbol\":\"circle\"},\"mode\":\"markers\",\"name\":\"Atlanta Hawks\",\"orientation\":\"v\",\"showlegend\":false,\"x\":[481],\"xaxis\":\"x12\",\"y\":[0.9771455301455302],\"yaxis\":\"y12\",\"type\":\"scatter\"},{\"hovertemplate\":\"TEAM_NAME=Atlanta Hawks<br>PLAY_TYPE=Misc<br>POSS=%{x}<br>PPP=%{y}<extra></extra>\",\"legendgroup\":\"Atlanta Hawks\",\"marker\":{\"color\":\"#636efa\",\"symbol\":\"circle\"},\"mode\":\"markers\",\"name\":\"Atlanta Hawks\",\"orientation\":\"v\",\"showlegend\":false,\"x\":[285],\"xaxis\":\"x7\",\"y\":[0.6139684210526316],\"yaxis\":\"y7\",\"type\":\"scatter\"},{\"hovertemplate\":\"TEAM_NAME=Atlanta Hawks<br>PLAY_TYPE=OffRebound<br>POSS=%{x}<br>PPP=%{y}<extra></extra>\",\"legendgroup\":\"Atlanta Hawks\",\"marker\":{\"color\":\"#636efa\",\"symbol\":\"circle\"},\"mode\":\"markers\",\"name\":\"Atlanta Hawks\",\"orientation\":\"v\",\"showlegend\":false,\"x\":[322],\"xaxis\":\"x8\",\"y\":[1.114692546583851],\"yaxis\":\"y8\",\"type\":\"scatter\"},{\"hovertemplate\":\"TEAM_NAME=Atlanta Hawks<br>PLAY_TYPE=OffScreen<br>POSS=%{x}<br>PPP=%{y}<extra></extra>\",\"legendgroup\":\"Atlanta Hawks\",\"marker\":{\"color\":\"#636efa\",\"symbol\":\"circle\"},\"mode\":\"markers\",\"name\":\"Atlanta Hawks\",\"orientation\":\"v\",\"showlegend\":false,\"x\":[280],\"xaxis\":\"x9\",\"y\":[0.8712750000000001],\"yaxis\":\"y9\",\"type\":\"scatter\"},{\"hovertemplate\":\"TEAM_NAME=Atlanta Hawks<br>PLAY_TYPE=PRBallHandler<br>POSS=%{x}<br>PPP=%{y}<extra></extra>\",\"legendgroup\":\"Atlanta Hawks\",\"marker\":{\"color\":\"#636efa\",\"symbol\":\"circle\"},\"mode\":\"markers\",\"name\":\"Atlanta Hawks\",\"orientation\":\"v\",\"showlegend\":false,\"x\":[1353],\"xaxis\":\"x4\",\"y\":[0.915279379157428],\"yaxis\":\"y4\",\"type\":\"scatter\"},{\"hovertemplate\":\"TEAM_NAME=Atlanta Hawks<br>PLAY_TYPE=PRRollMan<br>POSS=%{x}<br>PPP=%{y}<extra></extra>\",\"legendgroup\":\"Atlanta Hawks\",\"marker\":{\"color\":\"#636efa\",\"symbol\":\"circle\"},\"mode\":\"markers\",\"name\":\"Atlanta Hawks\",\"orientation\":\"v\",\"showlegend\":false,\"x\":[329],\"xaxis\":\"x5\",\"y\":[1.2765440729483282],\"yaxis\":\"y5\",\"type\":\"scatter\"},{\"hovertemplate\":\"TEAM_NAME=Atlanta Hawks<br>PLAY_TYPE=Postup<br>POSS=%{x}<br>PPP=%{y}<extra></extra>\",\"legendgroup\":\"Atlanta Hawks\",\"marker\":{\"color\":\"#636efa\",\"symbol\":\"circle\"},\"mode\":\"markers\",\"name\":\"Atlanta Hawks\",\"orientation\":\"v\",\"showlegend\":false,\"x\":[186],\"xaxis\":\"x6\",\"y\":[1.0108602150537633],\"yaxis\":\"y6\",\"type\":\"scatter\"},{\"hovertemplate\":\"TEAM_NAME=Atlanta Hawks<br>PLAY_TYPE=Spotup<br>POSS=%{x}<br>PPP=%{y}<extra></extra>\",\"legendgroup\":\"Atlanta Hawks\",\"marker\":{\"color\":\"#636efa\",\"symbol\":\"circle\"},\"mode\":\"markers\",\"name\":\"Atlanta Hawks\",\"orientation\":\"v\",\"showlegend\":false,\"x\":[1352],\"xaxis\":\"x\",\"y\":[0.988096153846154],\"yaxis\":\"y\",\"type\":\"scatter\"},{\"hovertemplate\":\"TEAM_NAME=Atlanta Hawks<br>PLAY_TYPE=Transition<br>POSS=%{x}<br>PPP=%{y}<extra></extra>\",\"legendgroup\":\"Atlanta Hawks\",\"marker\":{\"color\":\"#636efa\",\"symbol\":\"circle\"},\"mode\":\"markers\",\"name\":\"Atlanta Hawks\",\"orientation\":\"v\",\"showlegend\":false,\"x\":[965],\"xaxis\":\"x2\",\"y\":[1.1721730569948186],\"yaxis\":\"y2\",\"type\":\"scatter\"},{\"hovertemplate\":\"TEAM_NAME=Boston Celtics<br>PLAY_TYPE=Cut<br>POSS=%{x}<br>PPP=%{y}<extra></extra>\",\"legendgroup\":\"Boston Celtics\",\"marker\":{\"color\":\"#EF553B\",\"symbol\":\"circle\"},\"mode\":\"markers\",\"name\":\"Boston Celtics\",\"orientation\":\"v\",\"showlegend\":true,\"x\":[301],\"xaxis\":\"x10\",\"y\":[1.3654617940199336],\"yaxis\":\"y10\",\"type\":\"scatter\"},{\"hovertemplate\":\"TEAM_NAME=Boston Celtics<br>PLAY_TYPE=Handoff<br>POSS=%{x}<br>PPP=%{y}<extra></extra>\",\"legendgroup\":\"Boston Celtics\",\"marker\":{\"color\":\"#EF553B\",\"symbol\":\"circle\"},\"mode\":\"markers\",\"name\":\"Boston Celtics\",\"orientation\":\"v\",\"showlegend\":false,\"x\":[202],\"xaxis\":\"x11\",\"y\":[1.0643762376237622],\"yaxis\":\"y11\",\"type\":\"scatter\"},{\"hovertemplate\":\"TEAM_NAME=Boston Celtics<br>PLAY_TYPE=Isolation<br>POSS=%{x}<br>PPP=%{y}<extra></extra>\",\"legendgroup\":\"Boston Celtics\",\"marker\":{\"color\":\"#EF553B\",\"symbol\":\"circle\"},\"mode\":\"markers\",\"name\":\"Boston Celtics\",\"orientation\":\"v\",\"showlegend\":false,\"x\":[484],\"xaxis\":\"x12\",\"y\":[0.9463202479338844],\"yaxis\":\"y12\",\"type\":\"scatter\"},{\"hovertemplate\":\"TEAM_NAME=Boston Celtics<br>PLAY_TYPE=Misc<br>POSS=%{x}<br>PPP=%{y}<extra></extra>\",\"legendgroup\":\"Boston Celtics\",\"marker\":{\"color\":\"#EF553B\",\"symbol\":\"circle\"},\"mode\":\"markers\",\"name\":\"Boston Celtics\",\"orientation\":\"v\",\"showlegend\":false,\"x\":[302],\"xaxis\":\"x7\",\"y\":[0.5860596026490067],\"yaxis\":\"y7\",\"type\":\"scatter\"},{\"hovertemplate\":\"TEAM_NAME=Boston Celtics<br>PLAY_TYPE=OffRebound<br>POSS=%{x}<br>PPP=%{y}<extra></extra>\",\"legendgroup\":\"Boston Celtics\",\"marker\":{\"color\":\"#EF553B\",\"symbol\":\"circle\"},\"mode\":\"markers\",\"name\":\"Boston Celtics\",\"orientation\":\"v\",\"showlegend\":false,\"x\":[235],\"xaxis\":\"x8\",\"y\":[1.2212893617021277],\"yaxis\":\"y8\",\"type\":\"scatter\"},{\"hovertemplate\":\"TEAM_NAME=Boston Celtics<br>PLAY_TYPE=OffScreen<br>POSS=%{x}<br>PPP=%{y}<extra></extra>\",\"legendgroup\":\"Boston Celtics\",\"marker\":{\"color\":\"#EF553B\",\"symbol\":\"circle\"},\"mode\":\"markers\",\"name\":\"Boston Celtics\",\"orientation\":\"v\",\"showlegend\":false,\"x\":[343],\"xaxis\":\"x9\",\"y\":[1.0145014577259475],\"yaxis\":\"y9\",\"type\":\"scatter\"},{\"hovertemplate\":\"TEAM_NAME=Boston Celtics<br>PLAY_TYPE=PRBallHandler<br>POSS=%{x}<br>PPP=%{y}<extra></extra>\",\"legendgroup\":\"Boston Celtics\",\"marker\":{\"color\":\"#EF553B\",\"symbol\":\"circle\"},\"mode\":\"markers\",\"name\":\"Boston Celtics\",\"orientation\":\"v\",\"showlegend\":false,\"x\":[983],\"xaxis\":\"x4\",\"y\":[0.9308301119023398],\"yaxis\":\"y4\",\"type\":\"scatter\"},{\"hovertemplate\":\"TEAM_NAME=Boston Celtics<br>PLAY_TYPE=PRRollMan<br>POSS=%{x}<br>PPP=%{y}<extra></extra>\",\"legendgroup\":\"Boston Celtics\",\"marker\":{\"color\":\"#EF553B\",\"symbol\":\"circle\"},\"mode\":\"markers\",\"name\":\"Boston Celtics\",\"orientation\":\"v\",\"showlegend\":false,\"x\":[256],\"xaxis\":\"x5\",\"y\":[1.1526093750000002],\"yaxis\":\"y5\",\"type\":\"scatter\"},{\"hovertemplate\":\"TEAM_NAME=Boston Celtics<br>PLAY_TYPE=Postup<br>POSS=%{x}<br>PPP=%{y}<extra></extra>\",\"legendgroup\":\"Boston Celtics\",\"marker\":{\"color\":\"#EF553B\",\"symbol\":\"circle\"},\"mode\":\"markers\",\"name\":\"Boston Celtics\",\"orientation\":\"v\",\"showlegend\":false,\"x\":[162],\"xaxis\":\"x6\",\"y\":[1.0680123456790123],\"yaxis\":\"y6\",\"type\":\"scatter\"},{\"hovertemplate\":\"TEAM_NAME=Boston Celtics<br>PLAY_TYPE=Spotup<br>POSS=%{x}<br>PPP=%{y}<extra></extra>\",\"legendgroup\":\"Boston Celtics\",\"marker\":{\"color\":\"#EF553B\",\"symbol\":\"circle\"},\"mode\":\"markers\",\"name\":\"Boston Celtics\",\"orientation\":\"v\",\"showlegend\":false,\"x\":[1648],\"xaxis\":\"x\",\"y\":[1.1153974514563108],\"yaxis\":\"y\",\"type\":\"scatter\"},{\"hovertemplate\":\"TEAM_NAME=Boston Celtics<br>PLAY_TYPE=Transition<br>POSS=%{x}<br>PPP=%{y}<extra></extra>\",\"legendgroup\":\"Boston Celtics\",\"marker\":{\"color\":\"#EF553B\",\"symbol\":\"circle\"},\"mode\":\"markers\",\"name\":\"Boston Celtics\",\"orientation\":\"v\",\"showlegend\":false,\"x\":[1037],\"xaxis\":\"x2\",\"y\":[1.1774513018322084],\"yaxis\":\"y2\",\"type\":\"scatter\"},{\"hovertemplate\":\"TEAM_NAME=Brooklyn Nets<br>PLAY_TYPE=Cut<br>POSS=%{x}<br>PPP=%{y}<extra></extra>\",\"legendgroup\":\"Brooklyn Nets\",\"marker\":{\"color\":\"#00cc96\",\"symbol\":\"circle\"},\"mode\":\"markers\",\"name\":\"Brooklyn Nets\",\"orientation\":\"v\",\"showlegend\":true,\"x\":[445],\"xaxis\":\"x10\",\"y\":[1.2721528089887641],\"yaxis\":\"y10\",\"type\":\"scatter\"},{\"hovertemplate\":\"TEAM_NAME=Brooklyn Nets<br>PLAY_TYPE=Handoff<br>POSS=%{x}<br>PPP=%{y}<extra></extra>\",\"legendgroup\":\"Brooklyn Nets\",\"marker\":{\"color\":\"#00cc96\",\"symbol\":\"circle\"},\"mode\":\"markers\",\"name\":\"Brooklyn Nets\",\"orientation\":\"v\",\"showlegend\":false,\"x\":[307],\"xaxis\":\"x11\",\"y\":[0.9902019543973942],\"yaxis\":\"y11\",\"type\":\"scatter\"},{\"hovertemplate\":\"TEAM_NAME=Brooklyn Nets<br>PLAY_TYPE=Isolation<br>POSS=%{x}<br>PPP=%{y}<extra></extra>\",\"legendgroup\":\"Brooklyn Nets\",\"marker\":{\"color\":\"#00cc96\",\"symbol\":\"circle\"},\"mode\":\"markers\",\"name\":\"Brooklyn Nets\",\"orientation\":\"v\",\"showlegend\":false,\"x\":[565],\"xaxis\":\"x12\",\"y\":[1.1010991150442477],\"yaxis\":\"y12\",\"type\":\"scatter\"},{\"hovertemplate\":\"TEAM_NAME=Brooklyn Nets<br>PLAY_TYPE=Misc<br>POSS=%{x}<br>PPP=%{y}<extra></extra>\",\"legendgroup\":\"Brooklyn Nets\",\"marker\":{\"color\":\"#00cc96\",\"symbol\":\"circle\"},\"mode\":\"markers\",\"name\":\"Brooklyn Nets\",\"orientation\":\"v\",\"showlegend\":false,\"x\":[336],\"xaxis\":\"x7\",\"y\":[0.6042500000000001],\"yaxis\":\"y7\",\"type\":\"scatter\"},{\"hovertemplate\":\"TEAM_NAME=Brooklyn Nets<br>PLAY_TYPE=OffRebound<br>POSS=%{x}<br>PPP=%{y}<extra></extra>\",\"legendgroup\":\"Brooklyn Nets\",\"marker\":{\"color\":\"#00cc96\",\"symbol\":\"circle\"},\"mode\":\"markers\",\"name\":\"Brooklyn Nets\",\"orientation\":\"v\",\"showlegend\":false,\"x\":[186],\"xaxis\":\"x8\",\"y\":[1.2473010752688172],\"yaxis\":\"y8\",\"type\":\"scatter\"},{\"hovertemplate\":\"TEAM_NAME=Brooklyn Nets<br>PLAY_TYPE=OffScreen<br>POSS=%{x}<br>PPP=%{y}<extra></extra>\",\"legendgroup\":\"Brooklyn Nets\",\"marker\":{\"color\":\"#00cc96\",\"symbol\":\"circle\"},\"mode\":\"markers\",\"name\":\"Brooklyn Nets\",\"orientation\":\"v\",\"showlegend\":false,\"x\":[229],\"xaxis\":\"x9\",\"y\":[1.0216768558951965],\"yaxis\":\"y9\",\"type\":\"scatter\"},{\"hovertemplate\":\"TEAM_NAME=Brooklyn Nets<br>PLAY_TYPE=PRBallHandler<br>POSS=%{x}<br>PPP=%{y}<extra></extra>\",\"legendgroup\":\"Brooklyn Nets\",\"marker\":{\"color\":\"#00cc96\",\"symbol\":\"circle\"},\"mode\":\"markers\",\"name\":\"Brooklyn Nets\",\"orientation\":\"v\",\"showlegend\":false,\"x\":[743],\"xaxis\":\"x4\",\"y\":[0.9919030955585463],\"yaxis\":\"y4\",\"type\":\"scatter\"},{\"hovertemplate\":\"TEAM_NAME=Brooklyn Nets<br>PLAY_TYPE=PRRollMan<br>POSS=%{x}<br>PPP=%{y}<extra></extra>\",\"legendgroup\":\"Brooklyn Nets\",\"marker\":{\"color\":\"#00cc96\",\"symbol\":\"circle\"},\"mode\":\"markers\",\"name\":\"Brooklyn Nets\",\"orientation\":\"v\",\"showlegend\":false,\"x\":[214],\"xaxis\":\"x5\",\"y\":[1.088859813084112],\"yaxis\":\"y5\",\"type\":\"scatter\"},{\"hovertemplate\":\"TEAM_NAME=Brooklyn Nets<br>PLAY_TYPE=Postup<br>POSS=%{x}<br>PPP=%{y}<extra></extra>\",\"legendgroup\":\"Brooklyn Nets\",\"marker\":{\"color\":\"#00cc96\",\"symbol\":\"circle\"},\"mode\":\"markers\",\"name\":\"Brooklyn Nets\",\"orientation\":\"v\",\"showlegend\":false,\"x\":[151],\"xaxis\":\"x6\",\"y\":[0.9669205298013245],\"yaxis\":\"y6\",\"type\":\"scatter\"},{\"hovertemplate\":\"TEAM_NAME=Brooklyn Nets<br>PLAY_TYPE=Spotup<br>POSS=%{x}<br>PPP=%{y}<extra></extra>\",\"legendgroup\":\"Brooklyn Nets\",\"marker\":{\"color\":\"#00cc96\",\"symbol\":\"circle\"},\"mode\":\"markers\",\"name\":\"Brooklyn Nets\",\"orientation\":\"v\",\"showlegend\":false,\"x\":[1325],\"xaxis\":\"x\",\"y\":[1.1260581132075471],\"yaxis\":\"y\",\"type\":\"scatter\"},{\"hovertemplate\":\"TEAM_NAME=Brooklyn Nets<br>PLAY_TYPE=Transition<br>POSS=%{x}<br>PPP=%{y}<extra></extra>\",\"legendgroup\":\"Brooklyn Nets\",\"marker\":{\"color\":\"#00cc96\",\"symbol\":\"circle\"},\"mode\":\"markers\",\"name\":\"Brooklyn Nets\",\"orientation\":\"v\",\"showlegend\":false,\"x\":[1047],\"xaxis\":\"x2\",\"y\":[1.1577803247373446],\"yaxis\":\"y2\",\"type\":\"scatter\"},{\"hovertemplate\":\"TEAM_NAME=Charlotte Hornets<br>PLAY_TYPE=Cut<br>POSS=%{x}<br>PPP=%{y}<extra></extra>\",\"legendgroup\":\"Charlotte Hornets\",\"marker\":{\"color\":\"#ab63fa\",\"symbol\":\"circle\"},\"mode\":\"markers\",\"name\":\"Charlotte Hornets\",\"orientation\":\"v\",\"showlegend\":true,\"x\":[423],\"xaxis\":\"x10\",\"y\":[1.2906950354609927],\"yaxis\":\"y10\",\"type\":\"scatter\"},{\"hovertemplate\":\"TEAM_NAME=Charlotte Hornets<br>PLAY_TYPE=Handoff<br>POSS=%{x}<br>PPP=%{y}<extra></extra>\",\"legendgroup\":\"Charlotte Hornets\",\"marker\":{\"color\":\"#ab63fa\",\"symbol\":\"circle\"},\"mode\":\"markers\",\"name\":\"Charlotte Hornets\",\"orientation\":\"v\",\"showlegend\":false,\"x\":[338],\"xaxis\":\"x11\",\"y\":[1.0885236686390531],\"yaxis\":\"y11\",\"type\":\"scatter\"},{\"hovertemplate\":\"TEAM_NAME=Charlotte Hornets<br>PLAY_TYPE=Isolation<br>POSS=%{x}<br>PPP=%{y}<extra></extra>\",\"legendgroup\":\"Charlotte Hornets\",\"marker\":{\"color\":\"#ab63fa\",\"symbol\":\"circle\"},\"mode\":\"markers\",\"name\":\"Charlotte Hornets\",\"orientation\":\"v\",\"showlegend\":false,\"x\":[257],\"xaxis\":\"x12\",\"y\":[0.8795252918287938],\"yaxis\":\"y12\",\"type\":\"scatter\"},{\"hovertemplate\":\"TEAM_NAME=Charlotte Hornets<br>PLAY_TYPE=Misc<br>POSS=%{x}<br>PPP=%{y}<extra></extra>\",\"legendgroup\":\"Charlotte Hornets\",\"marker\":{\"color\":\"#ab63fa\",\"symbol\":\"circle\"},\"mode\":\"markers\",\"name\":\"Charlotte Hornets\",\"orientation\":\"v\",\"showlegend\":false,\"x\":[326],\"xaxis\":\"x7\",\"y\":[0.5121840490797546],\"yaxis\":\"y7\",\"type\":\"scatter\"},{\"hovertemplate\":\"TEAM_NAME=Charlotte Hornets<br>PLAY_TYPE=OffRebound<br>POSS=%{x}<br>PPP=%{y}<extra></extra>\",\"legendgroup\":\"Charlotte Hornets\",\"marker\":{\"color\":\"#ab63fa\",\"symbol\":\"circle\"},\"mode\":\"markers\",\"name\":\"Charlotte Hornets\",\"orientation\":\"v\",\"showlegend\":false,\"x\":[427],\"xaxis\":\"x8\",\"y\":[1.1568266978922717],\"yaxis\":\"y8\",\"type\":\"scatter\"},{\"hovertemplate\":\"TEAM_NAME=Charlotte Hornets<br>PLAY_TYPE=OffScreen<br>POSS=%{x}<br>PPP=%{y}<extra></extra>\",\"legendgroup\":\"Charlotte Hornets\",\"marker\":{\"color\":\"#ab63fa\",\"symbol\":\"circle\"},\"mode\":\"markers\",\"name\":\"Charlotte Hornets\",\"orientation\":\"v\",\"showlegend\":false,\"x\":[260],\"xaxis\":\"x9\",\"y\":[0.8421653846153847],\"yaxis\":\"y9\",\"type\":\"scatter\"},{\"hovertemplate\":\"TEAM_NAME=Charlotte Hornets<br>PLAY_TYPE=PRBallHandler<br>POSS=%{x}<br>PPP=%{y}<extra></extra>\",\"legendgroup\":\"Charlotte Hornets\",\"marker\":{\"color\":\"#ab63fa\",\"symbol\":\"circle\"},\"mode\":\"markers\",\"name\":\"Charlotte Hornets\",\"orientation\":\"v\",\"showlegend\":false,\"x\":[1204],\"xaxis\":\"x4\",\"y\":[0.7698953488372093],\"yaxis\":\"y4\",\"type\":\"scatter\"},{\"hovertemplate\":\"TEAM_NAME=Charlotte Hornets<br>PLAY_TYPE=PRRollMan<br>POSS=%{x}<br>PPP=%{y}<extra></extra>\",\"legendgroup\":\"Charlotte Hornets\",\"marker\":{\"color\":\"#ab63fa\",\"symbol\":\"circle\"},\"mode\":\"markers\",\"name\":\"Charlotte Hornets\",\"orientation\":\"v\",\"showlegend\":false,\"x\":[336],\"xaxis\":\"x5\",\"y\":[1.2143482142857143],\"yaxis\":\"y5\",\"type\":\"scatter\"},{\"hovertemplate\":\"TEAM_NAME=Charlotte Hornets<br>PLAY_TYPE=Postup<br>POSS=%{x}<br>PPP=%{y}<extra></extra>\",\"legendgroup\":\"Charlotte Hornets\",\"marker\":{\"color\":\"#ab63fa\",\"symbol\":\"circle\"},\"mode\":\"markers\",\"name\":\"Charlotte Hornets\",\"orientation\":\"v\",\"showlegend\":false,\"x\":[162],\"xaxis\":\"x6\",\"y\":[0.969141975308642],\"yaxis\":\"y6\",\"type\":\"scatter\"},{\"hovertemplate\":\"TEAM_NAME=Charlotte Hornets<br>PLAY_TYPE=Spotup<br>POSS=%{x}<br>PPP=%{y}<extra></extra>\",\"legendgroup\":\"Charlotte Hornets\",\"marker\":{\"color\":\"#ab63fa\",\"symbol\":\"circle\"},\"mode\":\"markers\",\"name\":\"Charlotte Hornets\",\"orientation\":\"v\",\"showlegend\":false,\"x\":[1526],\"xaxis\":\"x\",\"y\":[0.9443414154652688],\"yaxis\":\"y\",\"type\":\"scatter\"},{\"hovertemplate\":\"TEAM_NAME=Charlotte Hornets<br>PLAY_TYPE=Transition<br>POSS=%{x}<br>PPP=%{y}<extra></extra>\",\"legendgroup\":\"Charlotte Hornets\",\"marker\":{\"color\":\"#ab63fa\",\"symbol\":\"circle\"},\"mode\":\"markers\",\"name\":\"Charlotte Hornets\",\"orientation\":\"v\",\"showlegend\":false,\"x\":[1139],\"xaxis\":\"x2\",\"y\":[1.097476733977173],\"yaxis\":\"y2\",\"type\":\"scatter\"},{\"hovertemplate\":\"TEAM_NAME=Chicago Bulls<br>PLAY_TYPE=Cut<br>POSS=%{x}<br>PPP=%{y}<extra></extra>\",\"legendgroup\":\"Chicago Bulls\",\"marker\":{\"color\":\"#FFA15A\",\"symbol\":\"circle\"},\"mode\":\"markers\",\"name\":\"Chicago Bulls\",\"orientation\":\"v\",\"showlegend\":true,\"x\":[303],\"xaxis\":\"x10\",\"y\":[1.3465577557755777],\"yaxis\":\"y10\",\"type\":\"scatter\"},{\"hovertemplate\":\"TEAM_NAME=Chicago Bulls<br>PLAY_TYPE=Handoff<br>POSS=%{x}<br>PPP=%{y}<extra></extra>\",\"legendgroup\":\"Chicago Bulls\",\"marker\":{\"color\":\"#FFA15A\",\"symbol\":\"circle\"},\"mode\":\"markers\",\"name\":\"Chicago Bulls\",\"orientation\":\"v\",\"showlegend\":false,\"x\":[110],\"xaxis\":\"x11\",\"y\":[0.9090545454545454],\"yaxis\":\"y11\",\"type\":\"scatter\"},{\"hovertemplate\":\"TEAM_NAME=Chicago Bulls<br>PLAY_TYPE=Isolation<br>POSS=%{x}<br>PPP=%{y}<extra></extra>\",\"legendgroup\":\"Chicago Bulls\",\"marker\":{\"color\":\"#FFA15A\",\"symbol\":\"circle\"},\"mode\":\"markers\",\"name\":\"Chicago Bulls\",\"orientation\":\"v\",\"showlegend\":false,\"x\":[341],\"xaxis\":\"x12\",\"y\":[1.0788651026392961],\"yaxis\":\"y12\",\"type\":\"scatter\"},{\"hovertemplate\":\"TEAM_NAME=Chicago Bulls<br>PLAY_TYPE=Misc<br>POSS=%{x}<br>PPP=%{y}<extra></extra>\",\"legendgroup\":\"Chicago Bulls\",\"marker\":{\"color\":\"#FFA15A\",\"symbol\":\"circle\"},\"mode\":\"markers\",\"name\":\"Chicago Bulls\",\"orientation\":\"v\",\"showlegend\":false,\"x\":[282],\"xaxis\":\"x7\",\"y\":[0.5107269503546098],\"yaxis\":\"y7\",\"type\":\"scatter\"},{\"hovertemplate\":\"TEAM_NAME=Chicago Bulls<br>PLAY_TYPE=OffRebound<br>POSS=%{x}<br>PPP=%{y}<extra></extra>\",\"legendgroup\":\"Chicago Bulls\",\"marker\":{\"color\":\"#FFA15A\",\"symbol\":\"circle\"},\"mode\":\"markers\",\"name\":\"Chicago Bulls\",\"orientation\":\"v\",\"showlegend\":false,\"x\":[268],\"xaxis\":\"x8\",\"y\":[1.1567313432835822],\"yaxis\":\"y8\",\"type\":\"scatter\"},{\"hovertemplate\":\"TEAM_NAME=Chicago Bulls<br>PLAY_TYPE=OffScreen<br>POSS=%{x}<br>PPP=%{y}<extra></extra>\",\"legendgroup\":\"Chicago Bulls\",\"marker\":{\"color\":\"#FFA15A\",\"symbol\":\"circle\"},\"mode\":\"markers\",\"name\":\"Chicago Bulls\",\"orientation\":\"v\",\"showlegend\":false,\"x\":[135],\"xaxis\":\"x9\",\"y\":[0.8221481481481482],\"yaxis\":\"y9\",\"type\":\"scatter\"},{\"hovertemplate\":\"TEAM_NAME=Chicago Bulls<br>PLAY_TYPE=PRBallHandler<br>POSS=%{x}<br>PPP=%{y}<extra></extra>\",\"legendgroup\":\"Chicago Bulls\",\"marker\":{\"color\":\"#FFA15A\",\"symbol\":\"circle\"},\"mode\":\"markers\",\"name\":\"Chicago Bulls\",\"orientation\":\"v\",\"showlegend\":false,\"x\":[1270],\"xaxis\":\"x4\",\"y\":[0.9526590551181102],\"yaxis\":\"y4\",\"type\":\"scatter\"},{\"hovertemplate\":\"TEAM_NAME=Chicago Bulls<br>PLAY_TYPE=PRRollMan<br>POSS=%{x}<br>PPP=%{y}<extra></extra>\",\"legendgroup\":\"Chicago Bulls\",\"marker\":{\"color\":\"#FFA15A\",\"symbol\":\"circle\"},\"mode\":\"markers\",\"name\":\"Chicago Bulls\",\"orientation\":\"v\",\"showlegend\":false,\"x\":[440],\"xaxis\":\"x5\",\"y\":[1.109015909090909],\"yaxis\":\"y5\",\"type\":\"scatter\"},{\"hovertemplate\":\"TEAM_NAME=Chicago Bulls<br>PLAY_TYPE=Postup<br>POSS=%{x}<br>PPP=%{y}<extra></extra>\",\"legendgroup\":\"Chicago Bulls\",\"marker\":{\"color\":\"#FFA15A\",\"symbol\":\"circle\"},\"mode\":\"markers\",\"name\":\"Chicago Bulls\",\"orientation\":\"v\",\"showlegend\":false,\"x\":[313],\"xaxis\":\"x6\",\"y\":[1.1275367412140576],\"yaxis\":\"y6\",\"type\":\"scatter\"},{\"hovertemplate\":\"TEAM_NAME=Chicago Bulls<br>PLAY_TYPE=Spotup<br>POSS=%{x}<br>PPP=%{y}<extra></extra>\",\"legendgroup\":\"Chicago Bulls\",\"marker\":{\"color\":\"#FFA15A\",\"symbol\":\"circle\"},\"mode\":\"markers\",\"name\":\"Chicago Bulls\",\"orientation\":\"v\",\"showlegend\":false,\"x\":[1422],\"xaxis\":\"x\",\"y\":[1.059148382559775],\"yaxis\":\"y\",\"type\":\"scatter\"},{\"hovertemplate\":\"TEAM_NAME=Chicago Bulls<br>PLAY_TYPE=Transition<br>POSS=%{x}<br>PPP=%{y}<extra></extra>\",\"legendgroup\":\"Chicago Bulls\",\"marker\":{\"color\":\"#FFA15A\",\"symbol\":\"circle\"},\"mode\":\"markers\",\"name\":\"Chicago Bulls\",\"orientation\":\"v\",\"showlegend\":false,\"x\":[998],\"xaxis\":\"x2\",\"y\":[1.113250501002004],\"yaxis\":\"y2\",\"type\":\"scatter\"},{\"hovertemplate\":\"TEAM_NAME=Cleveland Cavaliers<br>PLAY_TYPE=Cut<br>POSS=%{x}<br>PPP=%{y}<extra></extra>\",\"legendgroup\":\"Cleveland Cavaliers\",\"marker\":{\"color\":\"#19d3f3\",\"symbol\":\"circle\"},\"mode\":\"markers\",\"name\":\"Cleveland Cavaliers\",\"orientation\":\"v\",\"showlegend\":true,\"x\":[534],\"xaxis\":\"x10\",\"y\":[1.3855898876404495],\"yaxis\":\"y10\",\"type\":\"scatter\"},{\"hovertemplate\":\"TEAM_NAME=Cleveland Cavaliers<br>PLAY_TYPE=Handoff<br>POSS=%{x}<br>PPP=%{y}<extra></extra>\",\"legendgroup\":\"Cleveland Cavaliers\",\"marker\":{\"color\":\"#19d3f3\",\"symbol\":\"circle\"},\"mode\":\"markers\",\"name\":\"Cleveland Cavaliers\",\"orientation\":\"v\",\"showlegend\":false,\"x\":[221],\"xaxis\":\"x11\",\"y\":[0.9278778280542985],\"yaxis\":\"y11\",\"type\":\"scatter\"},{\"hovertemplate\":\"TEAM_NAME=Cleveland Cavaliers<br>PLAY_TYPE=Isolation<br>POSS=%{x}<br>PPP=%{y}<extra></extra>\",\"legendgroup\":\"Cleveland Cavaliers\",\"marker\":{\"color\":\"#19d3f3\",\"symbol\":\"circle\"},\"mode\":\"markers\",\"name\":\"Cleveland Cavaliers\",\"orientation\":\"v\",\"showlegend\":false,\"x\":[343],\"xaxis\":\"x12\",\"y\":[0.9390058309037901],\"yaxis\":\"y12\",\"type\":\"scatter\"},{\"hovertemplate\":\"TEAM_NAME=Cleveland Cavaliers<br>PLAY_TYPE=Misc<br>POSS=%{x}<br>PPP=%{y}<extra></extra>\",\"legendgroup\":\"Cleveland Cavaliers\",\"marker\":{\"color\":\"#19d3f3\",\"symbol\":\"circle\"},\"mode\":\"markers\",\"name\":\"Cleveland Cavaliers\",\"orientation\":\"v\",\"showlegend\":false,\"x\":[296],\"xaxis\":\"x7\",\"y\":[0.5539932432432433],\"yaxis\":\"y7\",\"type\":\"scatter\"},{\"hovertemplate\":\"TEAM_NAME=Cleveland Cavaliers<br>PLAY_TYPE=OffRebound<br>POSS=%{x}<br>PPP=%{y}<extra></extra>\",\"legendgroup\":\"Cleveland Cavaliers\",\"marker\":{\"color\":\"#19d3f3\",\"symbol\":\"circle\"},\"mode\":\"markers\",\"name\":\"Cleveland Cavaliers\",\"orientation\":\"v\",\"showlegend\":false,\"x\":[254],\"xaxis\":\"x8\",\"y\":[1.1377086614173229],\"yaxis\":\"y8\",\"type\":\"scatter\"},{\"hovertemplate\":\"TEAM_NAME=Cleveland Cavaliers<br>PLAY_TYPE=OffScreen<br>POSS=%{x}<br>PPP=%{y}<extra></extra>\",\"legendgroup\":\"Cleveland Cavaliers\",\"marker\":{\"color\":\"#19d3f3\",\"symbol\":\"circle\"},\"mode\":\"markers\",\"name\":\"Cleveland Cavaliers\",\"orientation\":\"v\",\"showlegend\":false,\"x\":[192],\"xaxis\":\"x9\",\"y\":[1.005421875],\"yaxis\":\"y9\",\"type\":\"scatter\"},{\"hovertemplate\":\"TEAM_NAME=Cleveland Cavaliers<br>PLAY_TYPE=PRBallHandler<br>POSS=%{x}<br>PPP=%{y}<extra></extra>\",\"legendgroup\":\"Cleveland Cavaliers\",\"marker\":{\"color\":\"#19d3f3\",\"symbol\":\"circle\"},\"mode\":\"markers\",\"name\":\"Cleveland Cavaliers\",\"orientation\":\"v\",\"showlegend\":false,\"x\":[1187],\"xaxis\":\"x4\",\"y\":[0.9781718618365627],\"yaxis\":\"y4\",\"type\":\"scatter\"},{\"hovertemplate\":\"TEAM_NAME=Cleveland Cavaliers<br>PLAY_TYPE=PRRollMan<br>POSS=%{x}<br>PPP=%{y}<extra></extra>\",\"legendgroup\":\"Cleveland Cavaliers\",\"marker\":{\"color\":\"#19d3f3\",\"symbol\":\"circle\"},\"mode\":\"markers\",\"name\":\"Cleveland Cavaliers\",\"orientation\":\"v\",\"showlegend\":false,\"x\":[433],\"xaxis\":\"x5\",\"y\":[1.1133464203233256],\"yaxis\":\"y5\",\"type\":\"scatter\"},{\"hovertemplate\":\"TEAM_NAME=Cleveland Cavaliers<br>PLAY_TYPE=Postup<br>POSS=%{x}<br>PPP=%{y}<extra></extra>\",\"legendgroup\":\"Cleveland Cavaliers\",\"marker\":{\"color\":\"#19d3f3\",\"symbol\":\"circle\"},\"mode\":\"markers\",\"name\":\"Cleveland Cavaliers\",\"orientation\":\"v\",\"showlegend\":false,\"x\":[193],\"xaxis\":\"x6\",\"y\":[0.777181347150259],\"yaxis\":\"y6\",\"type\":\"scatter\"},{\"hovertemplate\":\"TEAM_NAME=Cleveland Cavaliers<br>PLAY_TYPE=Spotup<br>POSS=%{x}<br>PPP=%{y}<extra></extra>\",\"legendgroup\":\"Cleveland Cavaliers\",\"marker\":{\"color\":\"#19d3f3\",\"symbol\":\"circle\"},\"mode\":\"markers\",\"name\":\"Cleveland Cavaliers\",\"orientation\":\"v\",\"showlegend\":false,\"x\":[1335],\"xaxis\":\"x\",\"y\":[1.0134876404494382],\"yaxis\":\"y\",\"type\":\"scatter\"},{\"hovertemplate\":\"TEAM_NAME=Cleveland Cavaliers<br>PLAY_TYPE=Transition<br>POSS=%{x}<br>PPP=%{y}<extra></extra>\",\"legendgroup\":\"Cleveland Cavaliers\",\"marker\":{\"color\":\"#19d3f3\",\"symbol\":\"circle\"},\"mode\":\"markers\",\"name\":\"Cleveland Cavaliers\",\"orientation\":\"v\",\"showlegend\":false,\"x\":[940],\"xaxis\":\"x2\",\"y\":[1.1818340425531915],\"yaxis\":\"y2\",\"type\":\"scatter\"},{\"hovertemplate\":\"TEAM_NAME=Dallas Mavericks<br>PLAY_TYPE=Cut<br>POSS=%{x}<br>PPP=%{y}<extra></extra>\",\"legendgroup\":\"Dallas Mavericks\",\"marker\":{\"color\":\"#FF6692\",\"symbol\":\"circle\"},\"mode\":\"markers\",\"name\":\"Dallas Mavericks\",\"orientation\":\"v\",\"showlegend\":true,\"x\":[227],\"xaxis\":\"x10\",\"y\":[1.3921762114537446],\"yaxis\":\"y10\",\"type\":\"scatter\"},{\"hovertemplate\":\"TEAM_NAME=Dallas Mavericks<br>PLAY_TYPE=Handoff<br>POSS=%{x}<br>PPP=%{y}<extra></extra>\",\"legendgroup\":\"Dallas Mavericks\",\"marker\":{\"color\":\"#FF6692\",\"symbol\":\"circle\"},\"mode\":\"markers\",\"name\":\"Dallas Mavericks\",\"orientation\":\"v\",\"showlegend\":false,\"x\":[118],\"xaxis\":\"x11\",\"y\":[0.8730677966101695],\"yaxis\":\"y11\",\"type\":\"scatter\"},{\"hovertemplate\":\"TEAM_NAME=Dallas Mavericks<br>PLAY_TYPE=Isolation<br>POSS=%{x}<br>PPP=%{y}<extra></extra>\",\"legendgroup\":\"Dallas Mavericks\",\"marker\":{\"color\":\"#FF6692\",\"symbol\":\"circle\"},\"mode\":\"markers\",\"name\":\"Dallas Mavericks\",\"orientation\":\"v\",\"showlegend\":false,\"x\":[739],\"xaxis\":\"x12\",\"y\":[1.0391569688768607],\"yaxis\":\"y12\",\"type\":\"scatter\"},{\"hovertemplate\":\"TEAM_NAME=Dallas Mavericks<br>PLAY_TYPE=Misc<br>POSS=%{x}<br>PPP=%{y}<extra></extra>\",\"legendgroup\":\"Dallas Mavericks\",\"marker\":{\"color\":\"#FF6692\",\"symbol\":\"circle\"},\"mode\":\"markers\",\"name\":\"Dallas Mavericks\",\"orientation\":\"v\",\"showlegend\":false,\"x\":[321],\"xaxis\":\"x7\",\"y\":[0.5701869158878504],\"yaxis\":\"y7\",\"type\":\"scatter\"},{\"hovertemplate\":\"TEAM_NAME=Dallas Mavericks<br>PLAY_TYPE=OffRebound<br>POSS=%{x}<br>PPP=%{y}<extra></extra>\",\"legendgroup\":\"Dallas Mavericks\",\"marker\":{\"color\":\"#FF6692\",\"symbol\":\"circle\"},\"mode\":\"markers\",\"name\":\"Dallas Mavericks\",\"orientation\":\"v\",\"showlegend\":false,\"x\":[137],\"xaxis\":\"x8\",\"y\":[1.248343065693431],\"yaxis\":\"y8\",\"type\":\"scatter\"},{\"hovertemplate\":\"TEAM_NAME=Dallas Mavericks<br>PLAY_TYPE=OffScreen<br>POSS=%{x}<br>PPP=%{y}<extra></extra>\",\"legendgroup\":\"Dallas Mavericks\",\"marker\":{\"color\":\"#FF6692\",\"symbol\":\"circle\"},\"mode\":\"markers\",\"name\":\"Dallas Mavericks\",\"orientation\":\"v\",\"showlegend\":false,\"x\":[158],\"xaxis\":\"x9\",\"y\":[1.0694810126582277],\"yaxis\":\"y9\",\"type\":\"scatter\"},{\"hovertemplate\":\"TEAM_NAME=Dallas Mavericks<br>PLAY_TYPE=PRBallHandler<br>POSS=%{x}<br>PPP=%{y}<extra></extra>\",\"legendgroup\":\"Dallas Mavericks\",\"marker\":{\"color\":\"#FF6692\",\"symbol\":\"circle\"},\"mode\":\"markers\",\"name\":\"Dallas Mavericks\",\"orientation\":\"v\",\"showlegend\":false,\"x\":[884],\"xaxis\":\"x4\",\"y\":[1.0213823529411763],\"yaxis\":\"y4\",\"type\":\"scatter\"},{\"hovertemplate\":\"TEAM_NAME=Dallas Mavericks<br>PLAY_TYPE=PRRollMan<br>POSS=%{x}<br>PPP=%{y}<extra></extra>\",\"legendgroup\":\"Dallas Mavericks\",\"marker\":{\"color\":\"#FF6692\",\"symbol\":\"circle\"},\"mode\":\"markers\",\"name\":\"Dallas Mavericks\",\"orientation\":\"v\",\"showlegend\":false,\"x\":[346],\"xaxis\":\"x5\",\"y\":[1.3381589595375722],\"yaxis\":\"y5\",\"type\":\"scatter\"},{\"hovertemplate\":\"TEAM_NAME=Dallas Mavericks<br>PLAY_TYPE=Postup<br>POSS=%{x}<br>PPP=%{y}<extra></extra>\",\"legendgroup\":\"Dallas Mavericks\",\"marker\":{\"color\":\"#FF6692\",\"symbol\":\"circle\"},\"mode\":\"markers\",\"name\":\"Dallas Mavericks\",\"orientation\":\"v\",\"showlegend\":false,\"x\":[304],\"xaxis\":\"x6\",\"y\":[1.049203947368421],\"yaxis\":\"y6\",\"type\":\"scatter\"},{\"hovertemplate\":\"TEAM_NAME=Dallas Mavericks<br>PLAY_TYPE=Spotup<br>POSS=%{x}<br>PPP=%{y}<extra></extra>\",\"legendgroup\":\"Dallas Mavericks\",\"marker\":{\"color\":\"#FF6692\",\"symbol\":\"circle\"},\"mode\":\"markers\",\"name\":\"Dallas Mavericks\",\"orientation\":\"v\",\"showlegend\":false,\"x\":[1531],\"xaxis\":\"x\",\"y\":[1.0823919007184848],\"yaxis\":\"y\",\"type\":\"scatter\"},{\"hovertemplate\":\"TEAM_NAME=Dallas Mavericks<br>PLAY_TYPE=Transition<br>POSS=%{x}<br>PPP=%{y}<extra></extra>\",\"legendgroup\":\"Dallas Mavericks\",\"marker\":{\"color\":\"#FF6692\",\"symbol\":\"circle\"},\"mode\":\"markers\",\"name\":\"Dallas Mavericks\",\"orientation\":\"v\",\"showlegend\":false,\"x\":[794],\"xaxis\":\"x2\",\"y\":[1.0969521410579344],\"yaxis\":\"y2\",\"type\":\"scatter\"},{\"hovertemplate\":\"TEAM_NAME=Denver Nuggets<br>PLAY_TYPE=Cut<br>POSS=%{x}<br>PPP=%{y}<extra></extra>\",\"legendgroup\":\"Denver Nuggets\",\"marker\":{\"color\":\"#B6E880\",\"symbol\":\"circle\"},\"mode\":\"markers\",\"name\":\"Denver Nuggets\",\"orientation\":\"v\",\"showlegend\":true,\"x\":[554],\"xaxis\":\"x10\",\"y\":[1.3825324909747292],\"yaxis\":\"y10\",\"type\":\"scatter\"},{\"hovertemplate\":\"TEAM_NAME=Denver Nuggets<br>PLAY_TYPE=Handoff<br>POSS=%{x}<br>PPP=%{y}<extra></extra>\",\"legendgroup\":\"Denver Nuggets\",\"marker\":{\"color\":\"#B6E880\",\"symbol\":\"circle\"},\"mode\":\"markers\",\"name\":\"Denver Nuggets\",\"orientation\":\"v\",\"showlegend\":false,\"x\":[324],\"xaxis\":\"x11\",\"y\":[0.879564814814815],\"yaxis\":\"y11\",\"type\":\"scatter\"},{\"hovertemplate\":\"TEAM_NAME=Denver Nuggets<br>PLAY_TYPE=Isolation<br>POSS=%{x}<br>PPP=%{y}<extra></extra>\",\"legendgroup\":\"Denver Nuggets\",\"marker\":{\"color\":\"#B6E880\",\"symbol\":\"circle\"},\"mode\":\"markers\",\"name\":\"Denver Nuggets\",\"orientation\":\"v\",\"showlegend\":false,\"x\":[312],\"xaxis\":\"x12\",\"y\":[0.9455096153846153],\"yaxis\":\"y12\",\"type\":\"scatter\"},{\"hovertemplate\":\"TEAM_NAME=Denver Nuggets<br>PLAY_TYPE=Misc<br>POSS=%{x}<br>PPP=%{y}<extra></extra>\",\"legendgroup\":\"Denver Nuggets\",\"marker\":{\"color\":\"#B6E880\",\"symbol\":\"circle\"},\"mode\":\"markers\",\"name\":\"Denver Nuggets\",\"orientation\":\"v\",\"showlegend\":false,\"x\":[381],\"xaxis\":\"x7\",\"y\":[0.44608398950131234],\"yaxis\":\"y7\",\"type\":\"scatter\"},{\"hovertemplate\":\"TEAM_NAME=Denver Nuggets<br>PLAY_TYPE=OffRebound<br>POSS=%{x}<br>PPP=%{y}<extra></extra>\",\"legendgroup\":\"Denver Nuggets\",\"marker\":{\"color\":\"#B6E880\",\"symbol\":\"circle\"},\"mode\":\"markers\",\"name\":\"Denver Nuggets\",\"orientation\":\"v\",\"showlegend\":false,\"x\":[320],\"xaxis\":\"x8\",\"y\":[1.17194375],\"yaxis\":\"y8\",\"type\":\"scatter\"},{\"hovertemplate\":\"TEAM_NAME=Denver Nuggets<br>PLAY_TYPE=OffScreen<br>POSS=%{x}<br>PPP=%{y}<extra></extra>\",\"legendgroup\":\"Denver Nuggets\",\"marker\":{\"color\":\"#B6E880\",\"symbol\":\"circle\"},\"mode\":\"markers\",\"name\":\"Denver Nuggets\",\"orientation\":\"v\",\"showlegend\":false,\"x\":[223],\"xaxis\":\"x9\",\"y\":[0.9281165919282511],\"yaxis\":\"y9\",\"type\":\"scatter\"},{\"hovertemplate\":\"TEAM_NAME=Denver Nuggets<br>PLAY_TYPE=PRBallHandler<br>POSS=%{x}<br>PPP=%{y}<extra></extra>\",\"legendgroup\":\"Denver Nuggets\",\"marker\":{\"color\":\"#B6E880\",\"symbol\":\"circle\"},\"mode\":\"markers\",\"name\":\"Denver Nuggets\",\"orientation\":\"v\",\"showlegend\":false,\"x\":[774],\"xaxis\":\"x4\",\"y\":[0.8902984496124031],\"yaxis\":\"y4\",\"type\":\"scatter\"},{\"hovertemplate\":\"TEAM_NAME=Denver Nuggets<br>PLAY_TYPE=PRRollMan<br>POSS=%{x}<br>PPP=%{y}<extra></extra>\",\"legendgroup\":\"Denver Nuggets\",\"marker\":{\"color\":\"#B6E880\",\"symbol\":\"circle\"},\"mode\":\"markers\",\"name\":\"Denver Nuggets\",\"orientation\":\"v\",\"showlegend\":false,\"x\":[291],\"xaxis\":\"x5\",\"y\":[1.374429553264605],\"yaxis\":\"y5\",\"type\":\"scatter\"},{\"hovertemplate\":\"TEAM_NAME=Denver Nuggets<br>PLAY_TYPE=Postup<br>POSS=%{x}<br>PPP=%{y}<extra></extra>\",\"legendgroup\":\"Denver Nuggets\",\"marker\":{\"color\":\"#B6E880\",\"symbol\":\"circle\"},\"mode\":\"markers\",\"name\":\"Denver Nuggets\",\"orientation\":\"v\",\"showlegend\":false,\"x\":[478],\"xaxis\":\"x6\",\"y\":[1.0896380753138075],\"yaxis\":\"y6\",\"type\":\"scatter\"},{\"hovertemplate\":\"TEAM_NAME=Denver Nuggets<br>PLAY_TYPE=Spotup<br>POSS=%{x}<br>PPP=%{y}<extra></extra>\",\"legendgroup\":\"Denver Nuggets\",\"marker\":{\"color\":\"#B6E880\",\"symbol\":\"circle\"},\"mode\":\"markers\",\"name\":\"Denver Nuggets\",\"orientation\":\"v\",\"showlegend\":false,\"x\":[1173],\"xaxis\":\"x\",\"y\":[1.074058823529412],\"yaxis\":\"y\",\"type\":\"scatter\"},{\"hovertemplate\":\"TEAM_NAME=Denver Nuggets<br>PLAY_TYPE=Transition<br>POSS=%{x}<br>PPP=%{y}<extra></extra>\",\"legendgroup\":\"Denver Nuggets\",\"marker\":{\"color\":\"#B6E880\",\"symbol\":\"circle\"},\"mode\":\"markers\",\"name\":\"Denver Nuggets\",\"orientation\":\"v\",\"showlegend\":false,\"x\":[1038],\"xaxis\":\"x2\",\"y\":[1.2456233140655104],\"yaxis\":\"y2\",\"type\":\"scatter\"},{\"hovertemplate\":\"TEAM_NAME=Detroit Pistons<br>PLAY_TYPE=Cut<br>POSS=%{x}<br>PPP=%{y}<extra></extra>\",\"legendgroup\":\"Detroit Pistons\",\"marker\":{\"color\":\"#FF97FF\",\"symbol\":\"circle\"},\"mode\":\"markers\",\"name\":\"Detroit Pistons\",\"orientation\":\"v\",\"showlegend\":true,\"x\":[330],\"xaxis\":\"x10\",\"y\":[1.2818666666666665],\"yaxis\":\"y10\",\"type\":\"scatter\"},{\"hovertemplate\":\"TEAM_NAME=Detroit Pistons<br>PLAY_TYPE=Handoff<br>POSS=%{x}<br>PPP=%{y}<extra></extra>\",\"legendgroup\":\"Detroit Pistons\",\"marker\":{\"color\":\"#FF97FF\",\"symbol\":\"circle\"},\"mode\":\"markers\",\"name\":\"Detroit Pistons\",\"orientation\":\"v\",\"showlegend\":false,\"x\":[169],\"xaxis\":\"x11\",\"y\":[0.8166272189349113],\"yaxis\":\"y11\",\"type\":\"scatter\"},{\"hovertemplate\":\"TEAM_NAME=Detroit Pistons<br>PLAY_TYPE=Isolation<br>POSS=%{x}<br>PPP=%{y}<extra></extra>\",\"legendgroup\":\"Detroit Pistons\",\"marker\":{\"color\":\"#FF97FF\",\"symbol\":\"circle\"},\"mode\":\"markers\",\"name\":\"Detroit Pistons\",\"orientation\":\"v\",\"showlegend\":false,\"x\":[425],\"xaxis\":\"x12\",\"y\":[0.8517952941176471],\"yaxis\":\"y12\",\"type\":\"scatter\"},{\"hovertemplate\":\"TEAM_NAME=Detroit Pistons<br>PLAY_TYPE=Misc<br>POSS=%{x}<br>PPP=%{y}<extra></extra>\",\"legendgroup\":\"Detroit Pistons\",\"marker\":{\"color\":\"#FF97FF\",\"symbol\":\"circle\"},\"mode\":\"markers\",\"name\":\"Detroit Pistons\",\"orientation\":\"v\",\"showlegend\":false,\"x\":[401],\"xaxis\":\"x7\",\"y\":[0.5634513715710723],\"yaxis\":\"y7\",\"type\":\"scatter\"},{\"hovertemplate\":\"TEAM_NAME=Detroit Pistons<br>PLAY_TYPE=OffRebound<br>POSS=%{x}<br>PPP=%{y}<extra></extra>\",\"legendgroup\":\"Detroit Pistons\",\"marker\":{\"color\":\"#FF97FF\",\"symbol\":\"circle\"},\"mode\":\"markers\",\"name\":\"Detroit Pistons\",\"orientation\":\"v\",\"showlegend\":false,\"x\":[320],\"xaxis\":\"x8\",\"y\":[1.1624406250000001],\"yaxis\":\"y8\",\"type\":\"scatter\"},{\"hovertemplate\":\"TEAM_NAME=Detroit Pistons<br>PLAY_TYPE=OffScreen<br>POSS=%{x}<br>PPP=%{y}<extra></extra>\",\"legendgroup\":\"Detroit Pistons\",\"marker\":{\"color\":\"#FF97FF\",\"symbol\":\"circle\"},\"mode\":\"markers\",\"name\":\"Detroit Pistons\",\"orientation\":\"v\",\"showlegend\":false,\"x\":[246],\"xaxis\":\"x9\",\"y\":[1.065162601626016],\"yaxis\":\"y9\",\"type\":\"scatter\"},{\"hovertemplate\":\"TEAM_NAME=Detroit Pistons<br>PLAY_TYPE=PRBallHandler<br>POSS=%{x}<br>PPP=%{y}<extra></extra>\",\"legendgroup\":\"Detroit Pistons\",\"marker\":{\"color\":\"#FF97FF\",\"symbol\":\"circle\"},\"mode\":\"markers\",\"name\":\"Detroit Pistons\",\"orientation\":\"v\",\"showlegend\":false,\"x\":[1328],\"xaxis\":\"x4\",\"y\":[0.8478704819277109],\"yaxis\":\"y4\",\"type\":\"scatter\"},{\"hovertemplate\":\"TEAM_NAME=Detroit Pistons<br>PLAY_TYPE=PRRollMan<br>POSS=%{x}<br>PPP=%{y}<extra></extra>\",\"legendgroup\":\"Detroit Pistons\",\"marker\":{\"color\":\"#FF97FF\",\"symbol\":\"circle\"},\"mode\":\"markers\",\"name\":\"Detroit Pistons\",\"orientation\":\"v\",\"showlegend\":false,\"x\":[287],\"xaxis\":\"x5\",\"y\":[1.19504181184669],\"yaxis\":\"y5\",\"type\":\"scatter\"},{\"hovertemplate\":\"TEAM_NAME=Detroit Pistons<br>PLAY_TYPE=Postup<br>POSS=%{x}<br>PPP=%{y}<extra></extra>\",\"legendgroup\":\"Detroit Pistons\",\"marker\":{\"color\":\"#FF97FF\",\"symbol\":\"circle\"},\"mode\":\"markers\",\"name\":\"Detroit Pistons\",\"orientation\":\"v\",\"showlegend\":false,\"x\":[214],\"xaxis\":\"x6\",\"y\":[0.8833317757009347],\"yaxis\":\"y6\",\"type\":\"scatter\"},{\"hovertemplate\":\"TEAM_NAME=Detroit Pistons<br>PLAY_TYPE=Spotup<br>POSS=%{x}<br>PPP=%{y}<extra></extra>\",\"legendgroup\":\"Detroit Pistons\",\"marker\":{\"color\":\"#FF97FF\",\"symbol\":\"circle\"},\"mode\":\"markers\",\"name\":\"Detroit Pistons\",\"orientation\":\"v\",\"showlegend\":false,\"x\":[1465],\"xaxis\":\"x\",\"y\":[1.01500614334471],\"yaxis\":\"y\",\"type\":\"scatter\"},{\"hovertemplate\":\"TEAM_NAME=Detroit Pistons<br>PLAY_TYPE=Transition<br>POSS=%{x}<br>PPP=%{y}<extra></extra>\",\"legendgroup\":\"Detroit Pistons\",\"marker\":{\"color\":\"#FF97FF\",\"symbol\":\"circle\"},\"mode\":\"markers\",\"name\":\"Detroit Pistons\",\"orientation\":\"v\",\"showlegend\":false,\"x\":[1055],\"xaxis\":\"x2\",\"y\":[1.116719431279621],\"yaxis\":\"y2\",\"type\":\"scatter\"},{\"hovertemplate\":\"TEAM_NAME=Golden State Warriors<br>PLAY_TYPE=Cut<br>POSS=%{x}<br>PPP=%{y}<extra></extra>\",\"legendgroup\":\"Golden State Warriors\",\"marker\":{\"color\":\"#FECB52\",\"symbol\":\"circle\"},\"mode\":\"markers\",\"name\":\"Golden State Warriors\",\"orientation\":\"v\",\"showlegend\":true,\"x\":[623],\"xaxis\":\"x10\",\"y\":[1.319505617977528],\"yaxis\":\"y10\",\"type\":\"scatter\"},{\"hovertemplate\":\"TEAM_NAME=Golden State Warriors<br>PLAY_TYPE=Handoff<br>POSS=%{x}<br>PPP=%{y}<extra></extra>\",\"legendgroup\":\"Golden State Warriors\",\"marker\":{\"color\":\"#FECB52\",\"symbol\":\"circle\"},\"mode\":\"markers\",\"name\":\"Golden State Warriors\",\"orientation\":\"v\",\"showlegend\":false,\"x\":[433],\"xaxis\":\"x11\",\"y\":[1.0208221709006928],\"yaxis\":\"y11\",\"type\":\"scatter\"},{\"hovertemplate\":\"TEAM_NAME=Golden State Warriors<br>PLAY_TYPE=Isolation<br>POSS=%{x}<br>PPP=%{y}<extra></extra>\",\"legendgroup\":\"Golden State Warriors\",\"marker\":{\"color\":\"#FECB52\",\"symbol\":\"circle\"},\"mode\":\"markers\",\"name\":\"Golden State Warriors\",\"orientation\":\"v\",\"showlegend\":false,\"x\":[219],\"xaxis\":\"x12\",\"y\":[0.8950547945205479],\"yaxis\":\"y12\",\"type\":\"scatter\"},{\"hovertemplate\":\"TEAM_NAME=Golden State Warriors<br>PLAY_TYPE=Misc<br>POSS=%{x}<br>PPP=%{y}<extra></extra>\",\"legendgroup\":\"Golden State Warriors\",\"marker\":{\"color\":\"#FECB52\",\"symbol\":\"circle\"},\"mode\":\"markers\",\"name\":\"Golden State Warriors\",\"orientation\":\"v\",\"showlegend\":false,\"x\":[412],\"xaxis\":\"x7\",\"y\":[0.42948786407767],\"yaxis\":\"y7\",\"type\":\"scatter\"},{\"hovertemplate\":\"TEAM_NAME=Golden State Warriors<br>PLAY_TYPE=OffRebound<br>POSS=%{x}<br>PPP=%{y}<extra></extra>\",\"legendgroup\":\"Golden State Warriors\",\"marker\":{\"color\":\"#FECB52\",\"symbol\":\"circle\"},\"mode\":\"markers\",\"name\":\"Golden State Warriors\",\"orientation\":\"v\",\"showlegend\":false,\"x\":[287],\"xaxis\":\"x8\",\"y\":[1.0138362369337979],\"yaxis\":\"y8\",\"type\":\"scatter\"},{\"hovertemplate\":\"TEAM_NAME=Golden State Warriors<br>PLAY_TYPE=OffScreen<br>POSS=%{x}<br>PPP=%{y}<extra></extra>\",\"legendgroup\":\"Golden State Warriors\",\"marker\":{\"color\":\"#FECB52\",\"symbol\":\"circle\"},\"mode\":\"markers\",\"name\":\"Golden State Warriors\",\"orientation\":\"v\",\"showlegend\":false,\"x\":[596],\"xaxis\":\"x9\",\"y\":[1.015253355704698],\"yaxis\":\"y9\",\"type\":\"scatter\"},{\"hovertemplate\":\"TEAM_NAME=Golden State Warriors<br>PLAY_TYPE=PRBallHandler<br>POSS=%{x}<br>PPP=%{y}<extra></extra>\",\"legendgroup\":\"Golden State Warriors\",\"marker\":{\"color\":\"#FECB52\",\"symbol\":\"circle\"},\"mode\":\"markers\",\"name\":\"Golden State Warriors\",\"orientation\":\"v\",\"showlegend\":false,\"x\":[836],\"xaxis\":\"x4\",\"y\":[0.9580586124401914],\"yaxis\":\"y4\",\"type\":\"scatter\"},{\"hovertemplate\":\"TEAM_NAME=Golden State Warriors<br>PLAY_TYPE=PRRollMan<br>POSS=%{x}<br>PPP=%{y}<extra></extra>\",\"legendgroup\":\"Golden State Warriors\",\"marker\":{\"color\":\"#FECB52\",\"symbol\":\"circle\"},\"mode\":\"markers\",\"name\":\"Golden State Warriors\",\"orientation\":\"v\",\"showlegend\":false,\"x\":[186],\"xaxis\":\"x5\",\"y\":[1.1881290322580647],\"yaxis\":\"y5\",\"type\":\"scatter\"},{\"hovertemplate\":\"TEAM_NAME=Golden State Warriors<br>PLAY_TYPE=Postup<br>POSS=%{x}<br>PPP=%{y}<extra></extra>\",\"legendgroup\":\"Golden State Warriors\",\"marker\":{\"color\":\"#FECB52\",\"symbol\":\"circle\"},\"mode\":\"markers\",\"name\":\"Golden State Warriors\",\"orientation\":\"v\",\"showlegend\":false,\"x\":[119],\"xaxis\":\"x6\",\"y\":[0.7981512605042016],\"yaxis\":\"y6\",\"type\":\"scatter\"},{\"hovertemplate\":\"TEAM_NAME=Golden State Warriors<br>PLAY_TYPE=Spotup<br>POSS=%{x}<br>PPP=%{y}<extra></extra>\",\"legendgroup\":\"Golden State Warriors\",\"marker\":{\"color\":\"#FECB52\",\"symbol\":\"circle\"},\"mode\":\"markers\",\"name\":\"Golden State Warriors\",\"orientation\":\"v\",\"showlegend\":false,\"x\":[1279],\"xaxis\":\"x\",\"y\":[1.0905582486317438],\"yaxis\":\"y\",\"type\":\"scatter\"},{\"hovertemplate\":\"TEAM_NAME=Golden State Warriors<br>PLAY_TYPE=Transition<br>POSS=%{x}<br>PPP=%{y}<extra></extra>\",\"legendgroup\":\"Golden State Warriors\",\"marker\":{\"color\":\"#FECB52\",\"symbol\":\"circle\"},\"mode\":\"markers\",\"name\":\"Golden State Warriors\",\"orientation\":\"v\",\"showlegend\":false,\"x\":[1033],\"xaxis\":\"x2\",\"y\":[1.137385285575992],\"yaxis\":\"y2\",\"type\":\"scatter\"},{\"hovertemplate\":\"TEAM_NAME=Houston Rockets<br>PLAY_TYPE=Cut<br>POSS=%{x}<br>PPP=%{y}<extra></extra>\",\"legendgroup\":\"Houston Rockets\",\"marker\":{\"color\":\"#636efa\",\"symbol\":\"circle\"},\"mode\":\"markers\",\"name\":\"Houston Rockets\",\"orientation\":\"v\",\"showlegend\":true,\"x\":[413],\"xaxis\":\"x10\",\"y\":[1.1404866828087168],\"yaxis\":\"y10\",\"type\":\"scatter\"},{\"hovertemplate\":\"TEAM_NAME=Houston Rockets<br>PLAY_TYPE=Handoff<br>POSS=%{x}<br>PPP=%{y}<extra></extra>\",\"legendgroup\":\"Houston Rockets\",\"marker\":{\"color\":\"#636efa\",\"symbol\":\"circle\"},\"mode\":\"markers\",\"name\":\"Houston Rockets\",\"orientation\":\"v\",\"showlegend\":false,\"x\":[313],\"xaxis\":\"x11\",\"y\":[0.9391693290734824],\"yaxis\":\"y11\",\"type\":\"scatter\"},{\"hovertemplate\":\"TEAM_NAME=Houston Rockets<br>PLAY_TYPE=Isolation<br>POSS=%{x}<br>PPP=%{y}<extra></extra>\",\"legendgroup\":\"Houston Rockets\",\"marker\":{\"color\":\"#636efa\",\"symbol\":\"circle\"},\"mode\":\"markers\",\"name\":\"Houston Rockets\",\"orientation\":\"v\",\"showlegend\":false,\"x\":[390],\"xaxis\":\"x12\",\"y\":[0.941276923076923],\"yaxis\":\"y12\",\"type\":\"scatter\"},{\"hovertemplate\":\"TEAM_NAME=Houston Rockets<br>PLAY_TYPE=Misc<br>POSS=%{x}<br>PPP=%{y}<extra></extra>\",\"legendgroup\":\"Houston Rockets\",\"marker\":{\"color\":\"#636efa\",\"symbol\":\"circle\"},\"mode\":\"markers\",\"name\":\"Houston Rockets\",\"orientation\":\"v\",\"showlegend\":false,\"x\":[367],\"xaxis\":\"x7\",\"y\":[0.5393487738419618],\"yaxis\":\"y7\",\"type\":\"scatter\"},{\"hovertemplate\":\"TEAM_NAME=Houston Rockets<br>PLAY_TYPE=OffRebound<br>POSS=%{x}<br>PPP=%{y}<extra></extra>\",\"legendgroup\":\"Houston Rockets\",\"marker\":{\"color\":\"#636efa\",\"symbol\":\"circle\"},\"mode\":\"markers\",\"name\":\"Houston Rockets\",\"orientation\":\"v\",\"showlegend\":false,\"x\":[384],\"xaxis\":\"x8\",\"y\":[1.078125],\"yaxis\":\"y8\",\"type\":\"scatter\"},{\"hovertemplate\":\"TEAM_NAME=Houston Rockets<br>PLAY_TYPE=OffScreen<br>POSS=%{x}<br>PPP=%{y}<extra></extra>\",\"legendgroup\":\"Houston Rockets\",\"marker\":{\"color\":\"#636efa\",\"symbol\":\"circle\"},\"mode\":\"markers\",\"name\":\"Houston Rockets\",\"orientation\":\"v\",\"showlegend\":false,\"x\":[103],\"xaxis\":\"x9\",\"y\":[0.7475922330097087],\"yaxis\":\"y9\",\"type\":\"scatter\"},{\"hovertemplate\":\"TEAM_NAME=Houston Rockets<br>PLAY_TYPE=PRBallHandler<br>POSS=%{x}<br>PPP=%{y}<extra></extra>\",\"legendgroup\":\"Houston Rockets\",\"marker\":{\"color\":\"#636efa\",\"symbol\":\"circle\"},\"mode\":\"markers\",\"name\":\"Houston Rockets\",\"orientation\":\"v\",\"showlegend\":false,\"x\":[1202],\"xaxis\":\"x4\",\"y\":[0.8134559068219634],\"yaxis\":\"y4\",\"type\":\"scatter\"},{\"hovertemplate\":\"TEAM_NAME=Houston Rockets<br>PLAY_TYPE=PRRollMan<br>POSS=%{x}<br>PPP=%{y}<extra></extra>\",\"legendgroup\":\"Houston Rockets\",\"marker\":{\"color\":\"#636efa\",\"symbol\":\"circle\"},\"mode\":\"markers\",\"name\":\"Houston Rockets\",\"orientation\":\"v\",\"showlegend\":false,\"x\":[374],\"xaxis\":\"x5\",\"y\":[1.1097807486631015],\"yaxis\":\"y5\",\"type\":\"scatter\"},{\"hovertemplate\":\"TEAM_NAME=Houston Rockets<br>PLAY_TYPE=Postup<br>POSS=%{x}<br>PPP=%{y}<extra></extra>\",\"legendgroup\":\"Houston Rockets\",\"marker\":{\"color\":\"#636efa\",\"symbol\":\"circle\"},\"mode\":\"markers\",\"name\":\"Houston Rockets\",\"orientation\":\"v\",\"showlegend\":false,\"x\":[205],\"xaxis\":\"x6\",\"y\":[0.9559024390243901],\"yaxis\":\"y6\",\"type\":\"scatter\"},{\"hovertemplate\":\"TEAM_NAME=Houston Rockets<br>PLAY_TYPE=Spotup<br>POSS=%{x}<br>PPP=%{y}<extra></extra>\",\"legendgroup\":\"Houston Rockets\",\"marker\":{\"color\":\"#636efa\",\"symbol\":\"circle\"},\"mode\":\"markers\",\"name\":\"Houston Rockets\",\"orientation\":\"v\",\"showlegend\":false,\"x\":[1417],\"xaxis\":\"x\",\"y\":[1.0000119971771348],\"yaxis\":\"y\",\"type\":\"scatter\"},{\"hovertemplate\":\"TEAM_NAME=Houston Rockets<br>PLAY_TYPE=Transition<br>POSS=%{x}<br>PPP=%{y}<extra></extra>\",\"legendgroup\":\"Houston Rockets\",\"marker\":{\"color\":\"#636efa\",\"symbol\":\"circle\"},\"mode\":\"markers\",\"name\":\"Houston Rockets\",\"orientation\":\"v\",\"showlegend\":false,\"x\":[837],\"xaxis\":\"x2\",\"y\":[1.0262724014336917],\"yaxis\":\"y2\",\"type\":\"scatter\"},{\"hovertemplate\":\"TEAM_NAME=Indiana Pacers<br>PLAY_TYPE=Cut<br>POSS=%{x}<br>PPP=%{y}<extra></extra>\",\"legendgroup\":\"Indiana Pacers\",\"marker\":{\"color\":\"#EF553B\",\"symbol\":\"circle\"},\"mode\":\"markers\",\"name\":\"Indiana Pacers\",\"orientation\":\"v\",\"showlegend\":true,\"x\":[365],\"xaxis\":\"x10\",\"y\":[1.3094657534246574],\"yaxis\":\"y10\",\"type\":\"scatter\"},{\"hovertemplate\":\"TEAM_NAME=Indiana Pacers<br>PLAY_TYPE=Handoff<br>POSS=%{x}<br>PPP=%{y}<extra></extra>\",\"legendgroup\":\"Indiana Pacers\",\"marker\":{\"color\":\"#EF553B\",\"symbol\":\"circle\"},\"mode\":\"markers\",\"name\":\"Indiana Pacers\",\"orientation\":\"v\",\"showlegend\":false,\"x\":[325],\"xaxis\":\"x11\",\"y\":[0.9936953846153846],\"yaxis\":\"y11\",\"type\":\"scatter\"},{\"hovertemplate\":\"TEAM_NAME=Indiana Pacers<br>PLAY_TYPE=Isolation<br>POSS=%{x}<br>PPP=%{y}<extra></extra>\",\"legendgroup\":\"Indiana Pacers\",\"marker\":{\"color\":\"#EF553B\",\"symbol\":\"circle\"},\"mode\":\"markers\",\"name\":\"Indiana Pacers\",\"orientation\":\"v\",\"showlegend\":false,\"x\":[243],\"xaxis\":\"x12\",\"y\":[0.9093045267489711],\"yaxis\":\"y12\",\"type\":\"scatter\"},{\"hovertemplate\":\"TEAM_NAME=Indiana Pacers<br>PLAY_TYPE=Misc<br>POSS=%{x}<br>PPP=%{y}<extra></extra>\",\"legendgroup\":\"Indiana Pacers\",\"marker\":{\"color\":\"#EF553B\",\"symbol\":\"circle\"},\"mode\":\"markers\",\"name\":\"Indiana Pacers\",\"orientation\":\"v\",\"showlegend\":false,\"x\":[366],\"xaxis\":\"x7\",\"y\":[0.5520792349726775],\"yaxis\":\"y7\",\"type\":\"scatter\"},{\"hovertemplate\":\"TEAM_NAME=Indiana Pacers<br>PLAY_TYPE=OffRebound<br>POSS=%{x}<br>PPP=%{y}<extra></extra>\",\"legendgroup\":\"Indiana Pacers\",\"marker\":{\"color\":\"#EF553B\",\"symbol\":\"circle\"},\"mode\":\"markers\",\"name\":\"Indiana Pacers\",\"orientation\":\"v\",\"showlegend\":false,\"x\":[257],\"xaxis\":\"x8\",\"y\":[1.105194552529183],\"yaxis\":\"y8\",\"type\":\"scatter\"},{\"hovertemplate\":\"TEAM_NAME=Indiana Pacers<br>PLAY_TYPE=OffScreen<br>POSS=%{x}<br>PPP=%{y}<extra></extra>\",\"legendgroup\":\"Indiana Pacers\",\"marker\":{\"color\":\"#EF553B\",\"symbol\":\"circle\"},\"mode\":\"markers\",\"name\":\"Indiana Pacers\",\"orientation\":\"v\",\"showlegend\":false,\"x\":[205],\"xaxis\":\"x9\",\"y\":[0.9022341463414633],\"yaxis\":\"y9\",\"type\":\"scatter\"},{\"hovertemplate\":\"TEAM_NAME=Indiana Pacers<br>PLAY_TYPE=PRBallHandler<br>POSS=%{x}<br>PPP=%{y}<extra></extra>\",\"legendgroup\":\"Indiana Pacers\",\"marker\":{\"color\":\"#EF553B\",\"symbol\":\"circle\"},\"mode\":\"markers\",\"name\":\"Indiana Pacers\",\"orientation\":\"v\",\"showlegend\":false,\"x\":[1105],\"xaxis\":\"x4\",\"y\":[0.8906262443438915],\"yaxis\":\"y4\",\"type\":\"scatter\"},{\"hovertemplate\":\"TEAM_NAME=Indiana Pacers<br>PLAY_TYPE=PRRollMan<br>POSS=%{x}<br>PPP=%{y}<extra></extra>\",\"legendgroup\":\"Indiana Pacers\",\"marker\":{\"color\":\"#EF553B\",\"symbol\":\"circle\"},\"mode\":\"markers\",\"name\":\"Indiana Pacers\",\"orientation\":\"v\",\"showlegend\":false,\"x\":[395],\"xaxis\":\"x5\",\"y\":[1.070873417721519],\"yaxis\":\"y5\",\"type\":\"scatter\"},{\"hovertemplate\":\"TEAM_NAME=Indiana Pacers<br>PLAY_TYPE=Postup<br>POSS=%{x}<br>PPP=%{y}<extra></extra>\",\"legendgroup\":\"Indiana Pacers\",\"marker\":{\"color\":\"#EF553B\",\"symbol\":\"circle\"},\"mode\":\"markers\",\"name\":\"Indiana Pacers\",\"orientation\":\"v\",\"showlegend\":false,\"x\":[130],\"xaxis\":\"x6\",\"y\":[0.9768923076923076],\"yaxis\":\"y6\",\"type\":\"scatter\"},{\"hovertemplate\":\"TEAM_NAME=Indiana Pacers<br>PLAY_TYPE=Spotup<br>POSS=%{x}<br>PPP=%{y}<extra></extra>\",\"legendgroup\":\"Indiana Pacers\",\"marker\":{\"color\":\"#EF553B\",\"symbol\":\"circle\"},\"mode\":\"markers\",\"name\":\"Indiana Pacers\",\"orientation\":\"v\",\"showlegend\":false,\"x\":[1511],\"xaxis\":\"x\",\"y\":[0.9913143613500992],\"yaxis\":\"y\",\"type\":\"scatter\"},{\"hovertemplate\":\"TEAM_NAME=Indiana Pacers<br>PLAY_TYPE=Transition<br>POSS=%{x}<br>PPP=%{y}<extra></extra>\",\"legendgroup\":\"Indiana Pacers\",\"marker\":{\"color\":\"#EF553B\",\"symbol\":\"circle\"},\"mode\":\"markers\",\"name\":\"Indiana Pacers\",\"orientation\":\"v\",\"showlegend\":false,\"x\":[1246],\"xaxis\":\"x2\",\"y\":[1.1725963081861956],\"yaxis\":\"y2\",\"type\":\"scatter\"},{\"hovertemplate\":\"TEAM_NAME=LA Clippers<br>PLAY_TYPE=Cut<br>POSS=%{x}<br>PPP=%{y}<extra></extra>\",\"legendgroup\":\"LA Clippers\",\"marker\":{\"color\":\"#00cc96\",\"symbol\":\"circle\"},\"mode\":\"markers\",\"name\":\"LA Clippers\",\"orientation\":\"v\",\"showlegend\":true,\"x\":[249],\"xaxis\":\"x10\",\"y\":[1.2891084337349397],\"yaxis\":\"y10\",\"type\":\"scatter\"},{\"hovertemplate\":\"TEAM_NAME=LA Clippers<br>PLAY_TYPE=Handoff<br>POSS=%{x}<br>PPP=%{y}<extra></extra>\",\"legendgroup\":\"LA Clippers\",\"marker\":{\"color\":\"#00cc96\",\"symbol\":\"circle\"},\"mode\":\"markers\",\"name\":\"LA Clippers\",\"orientation\":\"v\",\"showlegend\":false,\"x\":[187],\"xaxis\":\"x11\",\"y\":[0.8716363636363635],\"yaxis\":\"y11\",\"type\":\"scatter\"},{\"hovertemplate\":\"TEAM_NAME=LA Clippers<br>PLAY_TYPE=Isolation<br>POSS=%{x}<br>PPP=%{y}<extra></extra>\",\"legendgroup\":\"LA Clippers\",\"marker\":{\"color\":\"#00cc96\",\"symbol\":\"circle\"},\"mode\":\"markers\",\"name\":\"LA Clippers\",\"orientation\":\"v\",\"showlegend\":false,\"x\":[542],\"xaxis\":\"x12\",\"y\":[0.8763228782287823],\"yaxis\":\"y12\",\"type\":\"scatter\"},{\"hovertemplate\":\"TEAM_NAME=LA Clippers<br>PLAY_TYPE=Misc<br>POSS=%{x}<br>PPP=%{y}<extra></extra>\",\"legendgroup\":\"LA Clippers\",\"marker\":{\"color\":\"#00cc96\",\"symbol\":\"circle\"},\"mode\":\"markers\",\"name\":\"LA Clippers\",\"orientation\":\"v\",\"showlegend\":false,\"x\":[352],\"xaxis\":\"x7\",\"y\":[0.536877840909091],\"yaxis\":\"y7\",\"type\":\"scatter\"},{\"hovertemplate\":\"TEAM_NAME=LA Clippers<br>PLAY_TYPE=OffRebound<br>POSS=%{x}<br>PPP=%{y}<extra></extra>\",\"legendgroup\":\"LA Clippers\",\"marker\":{\"color\":\"#00cc96\",\"symbol\":\"circle\"},\"mode\":\"markers\",\"name\":\"LA Clippers\",\"orientation\":\"v\",\"showlegend\":false,\"x\":[272],\"xaxis\":\"x8\",\"y\":[0.9630330882352941],\"yaxis\":\"y8\",\"type\":\"scatter\"},{\"hovertemplate\":\"TEAM_NAME=LA Clippers<br>PLAY_TYPE=OffScreen<br>POSS=%{x}<br>PPP=%{y}<extra></extra>\",\"legendgroup\":\"LA Clippers\",\"marker\":{\"color\":\"#00cc96\",\"symbol\":\"circle\"},\"mode\":\"markers\",\"name\":\"LA Clippers\",\"orientation\":\"v\",\"showlegend\":false,\"x\":[276],\"xaxis\":\"x9\",\"y\":[0.9528804347826088],\"yaxis\":\"y9\",\"type\":\"scatter\"},{\"hovertemplate\":\"TEAM_NAME=LA Clippers<br>PLAY_TYPE=PRBallHandler<br>POSS=%{x}<br>PPP=%{y}<extra></extra>\",\"legendgroup\":\"LA Clippers\",\"marker\":{\"color\":\"#00cc96\",\"symbol\":\"circle\"},\"mode\":\"markers\",\"name\":\"LA Clippers\",\"orientation\":\"v\",\"showlegend\":false,\"x\":[1141],\"xaxis\":\"x4\",\"y\":[0.942957055214724],\"yaxis\":\"y4\",\"type\":\"scatter\"},{\"hovertemplate\":\"TEAM_NAME=LA Clippers<br>PLAY_TYPE=PRRollMan<br>POSS=%{x}<br>PPP=%{y}<extra></extra>\",\"legendgroup\":\"LA Clippers\",\"marker\":{\"color\":\"#00cc96\",\"symbol\":\"circle\"},\"mode\":\"markers\",\"name\":\"LA Clippers\",\"orientation\":\"v\",\"showlegend\":false,\"x\":[224],\"xaxis\":\"x5\",\"y\":[1.1829151785714287],\"yaxis\":\"y5\",\"type\":\"scatter\"},{\"hovertemplate\":\"TEAM_NAME=LA Clippers<br>PLAY_TYPE=Postup<br>POSS=%{x}<br>PPP=%{y}<extra></extra>\",\"legendgroup\":\"LA Clippers\",\"marker\":{\"color\":\"#00cc96\",\"symbol\":\"circle\"},\"mode\":\"markers\",\"name\":\"LA Clippers\",\"orientation\":\"v\",\"showlegend\":false,\"x\":[284],\"xaxis\":\"x6\",\"y\":[0.9896197183098592],\"yaxis\":\"y6\",\"type\":\"scatter\"},{\"hovertemplate\":\"TEAM_NAME=LA Clippers<br>PLAY_TYPE=Spotup<br>POSS=%{x}<br>PPP=%{y}<extra></extra>\",\"legendgroup\":\"LA Clippers\",\"marker\":{\"color\":\"#00cc96\",\"symbol\":\"circle\"},\"mode\":\"markers\",\"name\":\"LA Clippers\",\"orientation\":\"v\",\"showlegend\":false,\"x\":[1499],\"xaxis\":\"x\",\"y\":[1.128987991994663],\"yaxis\":\"y\",\"type\":\"scatter\"},{\"hovertemplate\":\"TEAM_NAME=LA Clippers<br>PLAY_TYPE=Transition<br>POSS=%{x}<br>PPP=%{y}<extra></extra>\",\"legendgroup\":\"LA Clippers\",\"marker\":{\"color\":\"#00cc96\",\"symbol\":\"circle\"},\"mode\":\"markers\",\"name\":\"LA Clippers\",\"orientation\":\"v\",\"showlegend\":false,\"x\":[1039],\"xaxis\":\"x2\",\"y\":[1.1281222329162655],\"yaxis\":\"y2\",\"type\":\"scatter\"},{\"hovertemplate\":\"TEAM_NAME=Los Angeles Lakers<br>PLAY_TYPE=Cut<br>POSS=%{x}<br>PPP=%{y}<extra></extra>\",\"legendgroup\":\"Los Angeles Lakers\",\"marker\":{\"color\":\"#ab63fa\",\"symbol\":\"circle\"},\"mode\":\"markers\",\"name\":\"Los Angeles Lakers\",\"orientation\":\"v\",\"showlegend\":true,\"x\":[385],\"xaxis\":\"x10\",\"y\":[1.4155090909090908],\"yaxis\":\"y10\",\"type\":\"scatter\"},{\"hovertemplate\":\"TEAM_NAME=Los Angeles Lakers<br>PLAY_TYPE=Handoff<br>POSS=%{x}<br>PPP=%{y}<extra></extra>\",\"legendgroup\":\"Los Angeles Lakers\",\"marker\":{\"color\":\"#ab63fa\",\"symbol\":\"circle\"},\"mode\":\"markers\",\"name\":\"Los Angeles Lakers\",\"orientation\":\"v\",\"showlegend\":false,\"x\":[137],\"xaxis\":\"x11\",\"y\":[0.9779854014598539],\"yaxis\":\"y11\",\"type\":\"scatter\"},{\"hovertemplate\":\"TEAM_NAME=Los Angeles Lakers<br>PLAY_TYPE=Isolation<br>POSS=%{x}<br>PPP=%{y}<extra></extra>\",\"legendgroup\":\"Los Angeles Lakers\",\"marker\":{\"color\":\"#ab63fa\",\"symbol\":\"circle\"},\"mode\":\"markers\",\"name\":\"Los Angeles Lakers\",\"orientation\":\"v\",\"showlegend\":false,\"x\":[563],\"xaxis\":\"x12\",\"y\":[0.8649200710479573],\"yaxis\":\"y12\",\"type\":\"scatter\"},{\"hovertemplate\":\"TEAM_NAME=Los Angeles Lakers<br>PLAY_TYPE=Misc<br>POSS=%{x}<br>PPP=%{y}<extra></extra>\",\"legendgroup\":\"Los Angeles Lakers\",\"marker\":{\"color\":\"#ab63fa\",\"symbol\":\"circle\"},\"mode\":\"markers\",\"name\":\"Los Angeles Lakers\",\"orientation\":\"v\",\"showlegend\":false,\"x\":[308],\"xaxis\":\"x7\",\"y\":[0.6105097402597401],\"yaxis\":\"y7\",\"type\":\"scatter\"},{\"hovertemplate\":\"TEAM_NAME=Los Angeles Lakers<br>PLAY_TYPE=OffRebound<br>POSS=%{x}<br>PPP=%{y}<extra></extra>\",\"legendgroup\":\"Los Angeles Lakers\",\"marker\":{\"color\":\"#ab63fa\",\"symbol\":\"circle\"},\"mode\":\"markers\",\"name\":\"Los Angeles Lakers\",\"orientation\":\"v\",\"showlegend\":false,\"x\":[274],\"xaxis\":\"x8\",\"y\":[1.2519051094890508],\"yaxis\":\"y8\",\"type\":\"scatter\"},{\"hovertemplate\":\"TEAM_NAME=Los Angeles Lakers<br>PLAY_TYPE=OffScreen<br>POSS=%{x}<br>PPP=%{y}<extra></extra>\",\"legendgroup\":\"Los Angeles Lakers\",\"marker\":{\"color\":\"#ab63fa\",\"symbol\":\"circle\"},\"mode\":\"markers\",\"name\":\"Los Angeles Lakers\",\"orientation\":\"v\",\"showlegend\":false,\"x\":[124],\"xaxis\":\"x9\",\"y\":[0.8953387096774194],\"yaxis\":\"y9\",\"type\":\"scatter\"},{\"hovertemplate\":\"TEAM_NAME=Los Angeles Lakers<br>PLAY_TYPE=PRBallHandler<br>POSS=%{x}<br>PPP=%{y}<extra></extra>\",\"legendgroup\":\"Los Angeles Lakers\",\"marker\":{\"color\":\"#ab63fa\",\"symbol\":\"circle\"},\"mode\":\"markers\",\"name\":\"Los Angeles Lakers\",\"orientation\":\"v\",\"showlegend\":false,\"x\":[1044],\"xaxis\":\"x4\",\"y\":[0.8697289272030652],\"yaxis\":\"y4\",\"type\":\"scatter\"},{\"hovertemplate\":\"TEAM_NAME=Los Angeles Lakers<br>PLAY_TYPE=PRRollMan<br>POSS=%{x}<br>PPP=%{y}<extra></extra>\",\"legendgroup\":\"Los Angeles Lakers\",\"marker\":{\"color\":\"#ab63fa\",\"symbol\":\"circle\"},\"mode\":\"markers\",\"name\":\"Los Angeles Lakers\",\"orientation\":\"v\",\"showlegend\":false,\"x\":[397],\"xaxis\":\"x5\",\"y\":[1.3402015113350128],\"yaxis\":\"y5\",\"type\":\"scatter\"},{\"hovertemplate\":\"TEAM_NAME=Los Angeles Lakers<br>PLAY_TYPE=Postup<br>POSS=%{x}<br>PPP=%{y}<extra></extra>\",\"legendgroup\":\"Los Angeles Lakers\",\"marker\":{\"color\":\"#ab63fa\",\"symbol\":\"circle\"},\"mode\":\"markers\",\"name\":\"Los Angeles Lakers\",\"orientation\":\"v\",\"showlegend\":false,\"x\":[319],\"xaxis\":\"x6\",\"y\":[0.993921630094044],\"yaxis\":\"y6\",\"type\":\"scatter\"},{\"hovertemplate\":\"TEAM_NAME=Los Angeles Lakers<br>PLAY_TYPE=Spotup<br>POSS=%{x}<br>PPP=%{y}<extra></extra>\",\"legendgroup\":\"Los Angeles Lakers\",\"marker\":{\"color\":\"#ab63fa\",\"symbol\":\"circle\"},\"mode\":\"markers\",\"name\":\"Los Angeles Lakers\",\"orientation\":\"v\",\"showlegend\":false,\"x\":[1318],\"xaxis\":\"x\",\"y\":[1.0295819423368742],\"yaxis\":\"y\",\"type\":\"scatter\"},{\"hovertemplate\":\"TEAM_NAME=Los Angeles Lakers<br>PLAY_TYPE=Transition<br>POSS=%{x}<br>PPP=%{y}<extra></extra>\",\"legendgroup\":\"Los Angeles Lakers\",\"marker\":{\"color\":\"#ab63fa\",\"symbol\":\"circle\"},\"mode\":\"markers\",\"name\":\"Los Angeles Lakers\",\"orientation\":\"v\",\"showlegend\":false,\"x\":[1207],\"xaxis\":\"x2\",\"y\":[1.104229494614747],\"yaxis\":\"y2\",\"type\":\"scatter\"},{\"hovertemplate\":\"TEAM_NAME=Memphis Grizzlies<br>PLAY_TYPE=Cut<br>POSS=%{x}<br>PPP=%{y}<extra></extra>\",\"legendgroup\":\"Memphis Grizzlies\",\"marker\":{\"color\":\"#FFA15A\",\"symbol\":\"circle\"},\"mode\":\"markers\",\"name\":\"Memphis Grizzlies\",\"orientation\":\"v\",\"showlegend\":true,\"x\":[436],\"xaxis\":\"x10\",\"y\":[1.3348233944954127],\"yaxis\":\"y10\",\"type\":\"scatter\"},{\"hovertemplate\":\"TEAM_NAME=Memphis Grizzlies<br>PLAY_TYPE=Handoff<br>POSS=%{x}<br>PPP=%{y}<extra></extra>\",\"legendgroup\":\"Memphis Grizzlies\",\"marker\":{\"color\":\"#FFA15A\",\"symbol\":\"circle\"},\"mode\":\"markers\",\"name\":\"Memphis Grizzlies\",\"orientation\":\"v\",\"showlegend\":false,\"x\":[292],\"xaxis\":\"x11\",\"y\":[0.9623116438356164],\"yaxis\":\"y11\",\"type\":\"scatter\"},{\"hovertemplate\":\"TEAM_NAME=Memphis Grizzlies<br>PLAY_TYPE=Isolation<br>POSS=%{x}<br>PPP=%{y}<extra></extra>\",\"legendgroup\":\"Memphis Grizzlies\",\"marker\":{\"color\":\"#FFA15A\",\"symbol\":\"circle\"},\"mode\":\"markers\",\"name\":\"Memphis Grizzlies\",\"orientation\":\"v\",\"showlegend\":false,\"x\":[246],\"xaxis\":\"x12\",\"y\":[0.8456219512195122],\"yaxis\":\"y12\",\"type\":\"scatter\"},{\"hovertemplate\":\"TEAM_NAME=Memphis Grizzlies<br>PLAY_TYPE=Misc<br>POSS=%{x}<br>PPP=%{y}<extra></extra>\",\"legendgroup\":\"Memphis Grizzlies\",\"marker\":{\"color\":\"#FFA15A\",\"symbol\":\"circle\"},\"mode\":\"markers\",\"name\":\"Memphis Grizzlies\",\"orientation\":\"v\",\"showlegend\":false,\"x\":[362],\"xaxis\":\"x7\",\"y\":[0.5165662983425415],\"yaxis\":\"y7\",\"type\":\"scatter\"},{\"hovertemplate\":\"TEAM_NAME=Memphis Grizzlies<br>PLAY_TYPE=OffRebound<br>POSS=%{x}<br>PPP=%{y}<extra></extra>\",\"legendgroup\":\"Memphis Grizzlies\",\"marker\":{\"color\":\"#FFA15A\",\"symbol\":\"circle\"},\"mode\":\"markers\",\"name\":\"Memphis Grizzlies\",\"orientation\":\"v\",\"showlegend\":false,\"x\":[402],\"xaxis\":\"x8\",\"y\":[1.0896417910447762],\"yaxis\":\"y8\",\"type\":\"scatter\"},{\"hovertemplate\":\"TEAM_NAME=Memphis Grizzlies<br>PLAY_TYPE=OffScreen<br>POSS=%{x}<br>PPP=%{y}<extra></extra>\",\"legendgroup\":\"Memphis Grizzlies\",\"marker\":{\"color\":\"#FFA15A\",\"symbol\":\"circle\"},\"mode\":\"markers\",\"name\":\"Memphis Grizzlies\",\"orientation\":\"v\",\"showlegend\":false,\"x\":[204],\"xaxis\":\"x9\",\"y\":[0.9312009803921569],\"yaxis\":\"y9\",\"type\":\"scatter\"},{\"hovertemplate\":\"TEAM_NAME=Memphis Grizzlies<br>PLAY_TYPE=PRBallHandler<br>POSS=%{x}<br>PPP=%{y}<extra></extra>\",\"legendgroup\":\"Memphis Grizzlies\",\"marker\":{\"color\":\"#FFA15A\",\"symbol\":\"circle\"},\"mode\":\"markers\",\"name\":\"Memphis Grizzlies\",\"orientation\":\"v\",\"showlegend\":false,\"x\":[1216],\"xaxis\":\"x4\",\"y\":[0.8675370065789475],\"yaxis\":\"y4\",\"type\":\"scatter\"},{\"hovertemplate\":\"TEAM_NAME=Memphis Grizzlies<br>PLAY_TYPE=PRRollMan<br>POSS=%{x}<br>PPP=%{y}<extra></extra>\",\"legendgroup\":\"Memphis Grizzlies\",\"marker\":{\"color\":\"#FFA15A\",\"symbol\":\"circle\"},\"mode\":\"markers\",\"name\":\"Memphis Grizzlies\",\"orientation\":\"v\",\"showlegend\":false,\"x\":[235],\"xaxis\":\"x5\",\"y\":[1.2980340425531915],\"yaxis\":\"y5\",\"type\":\"scatter\"},{\"hovertemplate\":\"TEAM_NAME=Memphis Grizzlies<br>PLAY_TYPE=Postup<br>POSS=%{x}<br>PPP=%{y}<extra></extra>\",\"legendgroup\":\"Memphis Grizzlies\",\"marker\":{\"color\":\"#FFA15A\",\"symbol\":\"circle\"},\"mode\":\"markers\",\"name\":\"Memphis Grizzlies\",\"orientation\":\"v\",\"showlegend\":false,\"x\":[167],\"xaxis\":\"x6\",\"y\":[0.934005988023952],\"yaxis\":\"y6\",\"type\":\"scatter\"},{\"hovertemplate\":\"TEAM_NAME=Memphis Grizzlies<br>PLAY_TYPE=Spotup<br>POSS=%{x}<br>PPP=%{y}<extra></extra>\",\"legendgroup\":\"Memphis Grizzlies\",\"marker\":{\"color\":\"#FFA15A\",\"symbol\":\"circle\"},\"mode\":\"markers\",\"name\":\"Memphis Grizzlies\",\"orientation\":\"v\",\"showlegend\":false,\"x\":[1367],\"xaxis\":\"x\",\"y\":[0.9949722019019751],\"yaxis\":\"y\",\"type\":\"scatter\"},{\"hovertemplate\":\"TEAM_NAME=Memphis Grizzlies<br>PLAY_TYPE=Transition<br>POSS=%{x}<br>PPP=%{y}<extra></extra>\",\"legendgroup\":\"Memphis Grizzlies\",\"marker\":{\"color\":\"#FFA15A\",\"symbol\":\"circle\"},\"mode\":\"markers\",\"name\":\"Memphis Grizzlies\",\"orientation\":\"v\",\"showlegend\":false,\"x\":[1246],\"xaxis\":\"x2\",\"y\":[1.119710272873194],\"yaxis\":\"y2\",\"type\":\"scatter\"},{\"hovertemplate\":\"TEAM_NAME=Miami Heat<br>PLAY_TYPE=Cut<br>POSS=%{x}<br>PPP=%{y}<extra></extra>\",\"legendgroup\":\"Miami Heat\",\"marker\":{\"color\":\"#19d3f3\",\"symbol\":\"circle\"},\"mode\":\"markers\",\"name\":\"Miami Heat\",\"orientation\":\"v\",\"showlegend\":true,\"x\":[457],\"xaxis\":\"x10\",\"y\":[1.2627199124726476],\"yaxis\":\"y10\",\"type\":\"scatter\"},{\"hovertemplate\":\"TEAM_NAME=Miami Heat<br>PLAY_TYPE=Handoff<br>POSS=%{x}<br>PPP=%{y}<extra></extra>\",\"legendgroup\":\"Miami Heat\",\"marker\":{\"color\":\"#19d3f3\",\"symbol\":\"circle\"},\"mode\":\"markers\",\"name\":\"Miami Heat\",\"orientation\":\"v\",\"showlegend\":false,\"x\":[388],\"xaxis\":\"x11\",\"y\":[0.850590206185567],\"yaxis\":\"y11\",\"type\":\"scatter\"},{\"hovertemplate\":\"TEAM_NAME=Miami Heat<br>PLAY_TYPE=Isolation<br>POSS=%{x}<br>PPP=%{y}<extra></extra>\",\"legendgroup\":\"Miami Heat\",\"marker\":{\"color\":\"#19d3f3\",\"symbol\":\"circle\"},\"mode\":\"markers\",\"name\":\"Miami Heat\",\"orientation\":\"v\",\"showlegend\":false,\"x\":[401],\"xaxis\":\"x12\",\"y\":[0.9425935162094764],\"yaxis\":\"y12\",\"type\":\"scatter\"},{\"hovertemplate\":\"TEAM_NAME=Miami Heat<br>PLAY_TYPE=Misc<br>POSS=%{x}<br>PPP=%{y}<extra></extra>\",\"legendgroup\":\"Miami Heat\",\"marker\":{\"color\":\"#19d3f3\",\"symbol\":\"circle\"},\"mode\":\"markers\",\"name\":\"Miami Heat\",\"orientation\":\"v\",\"showlegend\":false,\"x\":[332],\"xaxis\":\"x7\",\"y\":[0.6025030120481928],\"yaxis\":\"y7\",\"type\":\"scatter\"},{\"hovertemplate\":\"TEAM_NAME=Miami Heat<br>PLAY_TYPE=OffRebound<br>POSS=%{x}<br>PPP=%{y}<extra></extra>\",\"legendgroup\":\"Miami Heat\",\"marker\":{\"color\":\"#19d3f3\",\"symbol\":\"circle\"},\"mode\":\"markers\",\"name\":\"Miami Heat\",\"orientation\":\"v\",\"showlegend\":false,\"x\":[263],\"xaxis\":\"x8\",\"y\":[1.1142205323193917],\"yaxis\":\"y8\",\"type\":\"scatter\"},{\"hovertemplate\":\"TEAM_NAME=Miami Heat<br>PLAY_TYPE=OffScreen<br>POSS=%{x}<br>PPP=%{y}<extra></extra>\",\"legendgroup\":\"Miami Heat\",\"marker\":{\"color\":\"#19d3f3\",\"symbol\":\"circle\"},\"mode\":\"markers\",\"name\":\"Miami Heat\",\"orientation\":\"v\",\"showlegend\":false,\"x\":[228],\"xaxis\":\"x9\",\"y\":[0.8685219298245613],\"yaxis\":\"y9\",\"type\":\"scatter\"},{\"hovertemplate\":\"TEAM_NAME=Miami Heat<br>PLAY_TYPE=PRBallHandler<br>POSS=%{x}<br>PPP=%{y}<extra></extra>\",\"legendgroup\":\"Miami Heat\",\"marker\":{\"color\":\"#19d3f3\",\"symbol\":\"circle\"},\"mode\":\"markers\",\"name\":\"Miami Heat\",\"orientation\":\"v\",\"showlegend\":false,\"x\":[1073],\"xaxis\":\"x4\",\"y\":[0.9393578751164958],\"yaxis\":\"y4\",\"type\":\"scatter\"},{\"hovertemplate\":\"TEAM_NAME=Miami Heat<br>PLAY_TYPE=PRRollMan<br>POSS=%{x}<br>PPP=%{y}<extra></extra>\",\"legendgroup\":\"Miami Heat\",\"marker\":{\"color\":\"#19d3f3\",\"symbol\":\"circle\"},\"mode\":\"markers\",\"name\":\"Miami Heat\",\"orientation\":\"v\",\"showlegend\":false,\"x\":[387],\"xaxis\":\"x5\",\"y\":[1.0596382428940572],\"yaxis\":\"y5\",\"type\":\"scatter\"},{\"hovertemplate\":\"TEAM_NAME=Miami Heat<br>PLAY_TYPE=Postup<br>POSS=%{x}<br>PPP=%{y}<extra></extra>\",\"legendgroup\":\"Miami Heat\",\"marker\":{\"color\":\"#19d3f3\",\"symbol\":\"circle\"},\"mode\":\"markers\",\"name\":\"Miami Heat\",\"orientation\":\"v\",\"showlegend\":false,\"x\":[212],\"xaxis\":\"x6\",\"y\":[0.9055707547169811],\"yaxis\":\"y6\",\"type\":\"scatter\"},{\"hovertemplate\":\"TEAM_NAME=Miami Heat<br>PLAY_TYPE=Spotup<br>POSS=%{x}<br>PPP=%{y}<extra></extra>\",\"legendgroup\":\"Miami Heat\",\"marker\":{\"color\":\"#19d3f3\",\"symbol\":\"circle\"},\"mode\":\"markers\",\"name\":\"Miami Heat\",\"orientation\":\"v\",\"showlegend\":false,\"x\":[1271],\"xaxis\":\"x\",\"y\":[1.0108560188827695],\"yaxis\":\"y\",\"type\":\"scatter\"},{\"hovertemplate\":\"TEAM_NAME=Miami Heat<br>PLAY_TYPE=Transition<br>POSS=%{x}<br>PPP=%{y}<extra></extra>\",\"legendgroup\":\"Miami Heat\",\"marker\":{\"color\":\"#19d3f3\",\"symbol\":\"circle\"},\"mode\":\"markers\",\"name\":\"Miami Heat\",\"orientation\":\"v\",\"showlegend\":false,\"x\":[891],\"xaxis\":\"x2\",\"y\":[1.144753086419753],\"yaxis\":\"y2\",\"type\":\"scatter\"},{\"hovertemplate\":\"TEAM_NAME=Milwaukee Bucks<br>PLAY_TYPE=Cut<br>POSS=%{x}<br>PPP=%{y}<extra></extra>\",\"legendgroup\":\"Milwaukee Bucks\",\"marker\":{\"color\":\"#FF6692\",\"symbol\":\"circle\"},\"mode\":\"markers\",\"name\":\"Milwaukee Bucks\",\"orientation\":\"v\",\"showlegend\":true,\"x\":[294],\"xaxis\":\"x10\",\"y\":[1.204091836734694],\"yaxis\":\"y10\",\"type\":\"scatter\"},{\"hovertemplate\":\"TEAM_NAME=Milwaukee Bucks<br>PLAY_TYPE=Handoff<br>POSS=%{x}<br>PPP=%{y}<extra></extra>\",\"legendgroup\":\"Milwaukee Bucks\",\"marker\":{\"color\":\"#FF6692\",\"symbol\":\"circle\"},\"mode\":\"markers\",\"name\":\"Milwaukee Bucks\",\"orientation\":\"v\",\"showlegend\":false,\"x\":[327],\"xaxis\":\"x11\",\"y\":[0.8592782874617736],\"yaxis\":\"y11\",\"type\":\"scatter\"},{\"hovertemplate\":\"TEAM_NAME=Milwaukee Bucks<br>PLAY_TYPE=Isolation<br>POSS=%{x}<br>PPP=%{y}<extra></extra>\",\"legendgroup\":\"Milwaukee Bucks\",\"marker\":{\"color\":\"#FF6692\",\"symbol\":\"circle\"},\"mode\":\"markers\",\"name\":\"Milwaukee Bucks\",\"orientation\":\"v\",\"showlegend\":false,\"x\":[371],\"xaxis\":\"x12\",\"y\":[0.8383827493261456],\"yaxis\":\"y12\",\"type\":\"scatter\"},{\"hovertemplate\":\"TEAM_NAME=Milwaukee Bucks<br>PLAY_TYPE=Misc<br>POSS=%{x}<br>PPP=%{y}<extra></extra>\",\"legendgroup\":\"Milwaukee Bucks\",\"marker\":{\"color\":\"#FF6692\",\"symbol\":\"circle\"},\"mode\":\"markers\",\"name\":\"Milwaukee Bucks\",\"orientation\":\"v\",\"showlegend\":false,\"x\":[359],\"xaxis\":\"x7\",\"y\":[0.5405125348189415],\"yaxis\":\"y7\",\"type\":\"scatter\"},{\"hovertemplate\":\"TEAM_NAME=Milwaukee Bucks<br>PLAY_TYPE=OffRebound<br>POSS=%{x}<br>PPP=%{y}<extra></extra>\",\"legendgroup\":\"Milwaukee Bucks\",\"marker\":{\"color\":\"#FF6692\",\"symbol\":\"circle\"},\"mode\":\"markers\",\"name\":\"Milwaukee Bucks\",\"orientation\":\"v\",\"showlegend\":false,\"x\":[293],\"xaxis\":\"x8\",\"y\":[1.2149590443686007],\"yaxis\":\"y8\",\"type\":\"scatter\"},{\"hovertemplate\":\"TEAM_NAME=Milwaukee Bucks<br>PLAY_TYPE=OffScreen<br>POSS=%{x}<br>PPP=%{y}<extra></extra>\",\"legendgroup\":\"Milwaukee Bucks\",\"marker\":{\"color\":\"#FF6692\",\"symbol\":\"circle\"},\"mode\":\"markers\",\"name\":\"Milwaukee Bucks\",\"orientation\":\"v\",\"showlegend\":false,\"x\":[124],\"xaxis\":\"x9\",\"y\":[0.7983467741935484],\"yaxis\":\"y9\",\"type\":\"scatter\"},{\"hovertemplate\":\"TEAM_NAME=Milwaukee Bucks<br>PLAY_TYPE=PRBallHandler<br>POSS=%{x}<br>PPP=%{y}<extra></extra>\",\"legendgroup\":\"Milwaukee Bucks\",\"marker\":{\"color\":\"#FF6692\",\"symbol\":\"circle\"},\"mode\":\"markers\",\"name\":\"Milwaukee Bucks\",\"orientation\":\"v\",\"showlegend\":false,\"x\":[900],\"xaxis\":\"x4\",\"y\":[0.9211222222222222],\"yaxis\":\"y4\",\"type\":\"scatter\"},{\"hovertemplate\":\"TEAM_NAME=Milwaukee Bucks<br>PLAY_TYPE=PRRollMan<br>POSS=%{x}<br>PPP=%{y}<extra></extra>\",\"legendgroup\":\"Milwaukee Bucks\",\"marker\":{\"color\":\"#FF6692\",\"symbol\":\"circle\"},\"mode\":\"markers\",\"name\":\"Milwaukee Bucks\",\"orientation\":\"v\",\"showlegend\":false,\"x\":[359],\"xaxis\":\"x5\",\"y\":[1.1562395543175488],\"yaxis\":\"y5\",\"type\":\"scatter\"},{\"hovertemplate\":\"TEAM_NAME=Milwaukee Bucks<br>PLAY_TYPE=Postup<br>POSS=%{x}<br>PPP=%{y}<extra></extra>\",\"legendgroup\":\"Milwaukee Bucks\",\"marker\":{\"color\":\"#FF6692\",\"symbol\":\"circle\"},\"mode\":\"markers\",\"name\":\"Milwaukee Bucks\",\"orientation\":\"v\",\"showlegend\":false,\"x\":[449],\"xaxis\":\"x6\",\"y\":[0.975325167037862],\"yaxis\":\"y6\",\"type\":\"scatter\"},{\"hovertemplate\":\"TEAM_NAME=Milwaukee Bucks<br>PLAY_TYPE=Spotup<br>POSS=%{x}<br>PPP=%{y}<extra></extra>\",\"legendgroup\":\"Milwaukee Bucks\",\"marker\":{\"color\":\"#FF6692\",\"symbol\":\"circle\"},\"mode\":\"markers\",\"name\":\"Milwaukee Bucks\",\"orientation\":\"v\",\"showlegend\":false,\"x\":[1449],\"xaxis\":\"x\",\"y\":[1.0483485162180817],\"yaxis\":\"y\",\"type\":\"scatter\"},{\"hovertemplate\":\"TEAM_NAME=Milwaukee Bucks<br>PLAY_TYPE=Transition<br>POSS=%{x}<br>PPP=%{y}<extra></extra>\",\"legendgroup\":\"Milwaukee Bucks\",\"marker\":{\"color\":\"#FF6692\",\"symbol\":\"circle\"},\"mode\":\"markers\",\"name\":\"Milwaukee Bucks\",\"orientation\":\"v\",\"showlegend\":false,\"x\":[1073],\"xaxis\":\"x2\",\"y\":[1.0902702702702702],\"yaxis\":\"y2\",\"type\":\"scatter\"},{\"hovertemplate\":\"TEAM_NAME=Minnesota Timberwolves<br>PLAY_TYPE=Cut<br>POSS=%{x}<br>PPP=%{y}<extra></extra>\",\"legendgroup\":\"Minnesota Timberwolves\",\"marker\":{\"color\":\"#B6E880\",\"symbol\":\"circle\"},\"mode\":\"markers\",\"name\":\"Minnesota Timberwolves\",\"orientation\":\"v\",\"showlegend\":true,\"x\":[375],\"xaxis\":\"x10\",\"y\":[1.3414000000000001],\"yaxis\":\"y10\",\"type\":\"scatter\"},{\"hovertemplate\":\"TEAM_NAME=Minnesota Timberwolves<br>PLAY_TYPE=Handoff<br>POSS=%{x}<br>PPP=%{y}<extra></extra>\",\"legendgroup\":\"Minnesota Timberwolves\",\"marker\":{\"color\":\"#B6E880\",\"symbol\":\"circle\"},\"mode\":\"markers\",\"name\":\"Minnesota Timberwolves\",\"orientation\":\"v\",\"showlegend\":false,\"x\":[221],\"xaxis\":\"x11\",\"y\":[0.9094434389140271],\"yaxis\":\"y11\",\"type\":\"scatter\"},{\"hovertemplate\":\"TEAM_NAME=Minnesota Timberwolves<br>PLAY_TYPE=Isolation<br>POSS=%{x}<br>PPP=%{y}<extra></extra>\",\"legendgroup\":\"Minnesota Timberwolves\",\"marker\":{\"color\":\"#B6E880\",\"symbol\":\"circle\"},\"mode\":\"markers\",\"name\":\"Minnesota Timberwolves\",\"orientation\":\"v\",\"showlegend\":false,\"x\":[444],\"xaxis\":\"x12\",\"y\":[0.9460518018018018],\"yaxis\":\"y12\",\"type\":\"scatter\"},{\"hovertemplate\":\"TEAM_NAME=Minnesota Timberwolves<br>PLAY_TYPE=Misc<br>POSS=%{x}<br>PPP=%{y}<extra></extra>\",\"legendgroup\":\"Minnesota Timberwolves\",\"marker\":{\"color\":\"#B6E880\",\"symbol\":\"circle\"},\"mode\":\"markers\",\"name\":\"Minnesota Timberwolves\",\"orientation\":\"v\",\"showlegend\":false,\"x\":[356],\"xaxis\":\"x7\",\"y\":[0.5057247191011236],\"yaxis\":\"y7\",\"type\":\"scatter\"},{\"hovertemplate\":\"TEAM_NAME=Minnesota Timberwolves<br>PLAY_TYPE=OffRebound<br>POSS=%{x}<br>PPP=%{y}<extra></extra>\",\"legendgroup\":\"Minnesota Timberwolves\",\"marker\":{\"color\":\"#B6E880\",\"symbol\":\"circle\"},\"mode\":\"markers\",\"name\":\"Minnesota Timberwolves\",\"orientation\":\"v\",\"showlegend\":false,\"x\":[270],\"xaxis\":\"x8\",\"y\":[1.1444222222222222],\"yaxis\":\"y8\",\"type\":\"scatter\"},{\"hovertemplate\":\"TEAM_NAME=Minnesota Timberwolves<br>PLAY_TYPE=OffScreen<br>POSS=%{x}<br>PPP=%{y}<extra></extra>\",\"legendgroup\":\"Minnesota Timberwolves\",\"marker\":{\"color\":\"#B6E880\",\"symbol\":\"circle\"},\"mode\":\"markers\",\"name\":\"Minnesota Timberwolves\",\"orientation\":\"v\",\"showlegend\":false,\"x\":[250],\"xaxis\":\"x9\",\"y\":[0.867928],\"yaxis\":\"y9\",\"type\":\"scatter\"},{\"hovertemplate\":\"TEAM_NAME=Minnesota Timberwolves<br>PLAY_TYPE=PRBallHandler<br>POSS=%{x}<br>PPP=%{y}<extra></extra>\",\"legendgroup\":\"Minnesota Timberwolves\",\"marker\":{\"color\":\"#B6E880\",\"symbol\":\"circle\"},\"mode\":\"markers\",\"name\":\"Minnesota Timberwolves\",\"orientation\":\"v\",\"showlegend\":false,\"x\":[1027],\"xaxis\":\"x4\",\"y\":[0.9182619279454723],\"yaxis\":\"y4\",\"type\":\"scatter\"},{\"hovertemplate\":\"TEAM_NAME=Minnesota Timberwolves<br>PLAY_TYPE=PRRollMan<br>POSS=%{x}<br>PPP=%{y}<extra></extra>\",\"legendgroup\":\"Minnesota Timberwolves\",\"marker\":{\"color\":\"#B6E880\",\"symbol\":\"circle\"},\"mode\":\"markers\",\"name\":\"Minnesota Timberwolves\",\"orientation\":\"v\",\"showlegend\":false,\"x\":[262],\"xaxis\":\"x5\",\"y\":[1.2022671755725192],\"yaxis\":\"y5\",\"type\":\"scatter\"},{\"hovertemplate\":\"TEAM_NAME=Minnesota Timberwolves<br>PLAY_TYPE=Postup<br>POSS=%{x}<br>PPP=%{y}<extra></extra>\",\"legendgroup\":\"Minnesota Timberwolves\",\"marker\":{\"color\":\"#B6E880\",\"symbol\":\"circle\"},\"mode\":\"markers\",\"name\":\"Minnesota Timberwolves\",\"orientation\":\"v\",\"showlegend\":false,\"x\":[148],\"xaxis\":\"x6\",\"y\":[1.0068513513513515],\"yaxis\":\"y6\",\"type\":\"scatter\"},{\"hovertemplate\":\"TEAM_NAME=Minnesota Timberwolves<br>PLAY_TYPE=Spotup<br>POSS=%{x}<br>PPP=%{y}<extra></extra>\",\"legendgroup\":\"Minnesota Timberwolves\",\"marker\":{\"color\":\"#B6E880\",\"symbol\":\"circle\"},\"mode\":\"markers\",\"name\":\"Minnesota Timberwolves\",\"orientation\":\"v\",\"showlegend\":false,\"x\":[1557],\"xaxis\":\"x\",\"y\":[1.053916506101477],\"yaxis\":\"y\",\"type\":\"scatter\"},{\"hovertemplate\":\"TEAM_NAME=Minnesota Timberwolves<br>PLAY_TYPE=Transition<br>POSS=%{x}<br>PPP=%{y}<extra></extra>\",\"legendgroup\":\"Minnesota Timberwolves\",\"marker\":{\"color\":\"#B6E880\",\"symbol\":\"circle\"},\"mode\":\"markers\",\"name\":\"Minnesota Timberwolves\",\"orientation\":\"v\",\"showlegend\":false,\"x\":[1132],\"xaxis\":\"x2\",\"y\":[1.1536537102473499],\"yaxis\":\"y2\",\"type\":\"scatter\"},{\"hovertemplate\":\"TEAM_NAME=New Orleans Pelicans<br>PLAY_TYPE=Cut<br>POSS=%{x}<br>PPP=%{y}<extra></extra>\",\"legendgroup\":\"New Orleans Pelicans\",\"marker\":{\"color\":\"#FF97FF\",\"symbol\":\"circle\"},\"mode\":\"markers\",\"name\":\"New Orleans Pelicans\",\"orientation\":\"v\",\"showlegend\":true,\"x\":[473],\"xaxis\":\"x10\",\"y\":[1.3044186046511628],\"yaxis\":\"y10\",\"type\":\"scatter\"},{\"hovertemplate\":\"TEAM_NAME=New Orleans Pelicans<br>PLAY_TYPE=Handoff<br>POSS=%{x}<br>PPP=%{y}<extra></extra>\",\"legendgroup\":\"New Orleans Pelicans\",\"marker\":{\"color\":\"#FF97FF\",\"symbol\":\"circle\"},\"mode\":\"markers\",\"name\":\"New Orleans Pelicans\",\"orientation\":\"v\",\"showlegend\":false,\"x\":[329],\"xaxis\":\"x11\",\"y\":[0.9818449848024315],\"yaxis\":\"y11\",\"type\":\"scatter\"},{\"hovertemplate\":\"TEAM_NAME=New Orleans Pelicans<br>PLAY_TYPE=Isolation<br>POSS=%{x}<br>PPP=%{y}<extra></extra>\",\"legendgroup\":\"New Orleans Pelicans\",\"marker\":{\"color\":\"#FF97FF\",\"symbol\":\"circle\"},\"mode\":\"markers\",\"name\":\"New Orleans Pelicans\",\"orientation\":\"v\",\"showlegend\":false,\"x\":[320],\"xaxis\":\"x12\",\"y\":[0.9469218749999999],\"yaxis\":\"y12\",\"type\":\"scatter\"},{\"hovertemplate\":\"TEAM_NAME=New Orleans Pelicans<br>PLAY_TYPE=Misc<br>POSS=%{x}<br>PPP=%{y}<extra></extra>\",\"legendgroup\":\"New Orleans Pelicans\",\"marker\":{\"color\":\"#FF97FF\",\"symbol\":\"circle\"},\"mode\":\"markers\",\"name\":\"New Orleans Pelicans\",\"orientation\":\"v\",\"showlegend\":false,\"x\":[356],\"xaxis\":\"x7\",\"y\":[0.47191853932584266],\"yaxis\":\"y7\",\"type\":\"scatter\"},{\"hovertemplate\":\"TEAM_NAME=New Orleans Pelicans<br>PLAY_TYPE=OffRebound<br>POSS=%{x}<br>PPP=%{y}<extra></extra>\",\"legendgroup\":\"New Orleans Pelicans\",\"marker\":{\"color\":\"#FF97FF\",\"symbol\":\"circle\"},\"mode\":\"markers\",\"name\":\"New Orleans Pelicans\",\"orientation\":\"v\",\"showlegend\":false,\"x\":[397],\"xaxis\":\"x8\",\"y\":[1.2015163727959697],\"yaxis\":\"y8\",\"type\":\"scatter\"},{\"hovertemplate\":\"TEAM_NAME=New Orleans Pelicans<br>PLAY_TYPE=OffScreen<br>POSS=%{x}<br>PPP=%{y}<extra></extra>\",\"legendgroup\":\"New Orleans Pelicans\",\"marker\":{\"color\":\"#FF97FF\",\"symbol\":\"circle\"},\"mode\":\"markers\",\"name\":\"New Orleans Pelicans\",\"orientation\":\"v\",\"showlegend\":false,\"x\":[227],\"xaxis\":\"x9\",\"y\":[0.9560440528634361],\"yaxis\":\"y9\",\"type\":\"scatter\"},{\"hovertemplate\":\"TEAM_NAME=New Orleans Pelicans<br>PLAY_TYPE=PRBallHandler<br>POSS=%{x}<br>PPP=%{y}<extra></extra>\",\"legendgroup\":\"New Orleans Pelicans\",\"marker\":{\"color\":\"#FF97FF\",\"symbol\":\"circle\"},\"mode\":\"markers\",\"name\":\"New Orleans Pelicans\",\"orientation\":\"v\",\"showlegend\":false,\"x\":[980],\"xaxis\":\"x4\",\"y\":[0.8786153061224491],\"yaxis\":\"y4\",\"type\":\"scatter\"},{\"hovertemplate\":\"TEAM_NAME=New Orleans Pelicans<br>PLAY_TYPE=PRRollMan<br>POSS=%{x}<br>PPP=%{y}<extra></extra>\",\"legendgroup\":\"New Orleans Pelicans\",\"marker\":{\"color\":\"#FF97FF\",\"symbol\":\"circle\"},\"mode\":\"markers\",\"name\":\"New Orleans Pelicans\",\"orientation\":\"v\",\"showlegend\":false,\"x\":[283],\"xaxis\":\"x5\",\"y\":[1.1272120141342756],\"yaxis\":\"y5\",\"type\":\"scatter\"},{\"hovertemplate\":\"TEAM_NAME=New Orleans Pelicans<br>PLAY_TYPE=Postup<br>POSS=%{x}<br>PPP=%{y}<extra></extra>\",\"legendgroup\":\"New Orleans Pelicans\",\"marker\":{\"color\":\"#FF97FF\",\"symbol\":\"circle\"},\"mode\":\"markers\",\"name\":\"New Orleans Pelicans\",\"orientation\":\"v\",\"showlegend\":false,\"x\":[379],\"xaxis\":\"x6\",\"y\":[0.9394696569920844],\"yaxis\":\"y6\",\"type\":\"scatter\"},{\"hovertemplate\":\"TEAM_NAME=New Orleans Pelicans<br>PLAY_TYPE=Spotup<br>POSS=%{x}<br>PPP=%{y}<extra></extra>\",\"legendgroup\":\"New Orleans Pelicans\",\"marker\":{\"color\":\"#FF97FF\",\"symbol\":\"circle\"},\"mode\":\"markers\",\"name\":\"New Orleans Pelicans\",\"orientation\":\"v\",\"showlegend\":false,\"x\":[1438],\"xaxis\":\"x\",\"y\":[1.0270695410292072],\"yaxis\":\"y\",\"type\":\"scatter\"},{\"hovertemplate\":\"TEAM_NAME=New Orleans Pelicans<br>PLAY_TYPE=Transition<br>POSS=%{x}<br>PPP=%{y}<extra></extra>\",\"legendgroup\":\"New Orleans Pelicans\",\"marker\":{\"color\":\"#FF97FF\",\"symbol\":\"circle\"},\"mode\":\"markers\",\"name\":\"New Orleans Pelicans\",\"orientation\":\"v\",\"showlegend\":false,\"x\":[1042],\"xaxis\":\"x2\",\"y\":[1.1314913627639156],\"yaxis\":\"y2\",\"type\":\"scatter\"},{\"hovertemplate\":\"TEAM_NAME=New York Knicks<br>PLAY_TYPE=Cut<br>POSS=%{x}<br>PPP=%{y}<extra></extra>\",\"legendgroup\":\"New York Knicks\",\"marker\":{\"color\":\"#FECB52\",\"symbol\":\"circle\"},\"mode\":\"markers\",\"name\":\"New York Knicks\",\"orientation\":\"v\",\"showlegend\":true,\"x\":[373],\"xaxis\":\"x10\",\"y\":[1.3538042895442362],\"yaxis\":\"y10\",\"type\":\"scatter\"},{\"hovertemplate\":\"TEAM_NAME=New York Knicks<br>PLAY_TYPE=Handoff<br>POSS=%{x}<br>PPP=%{y}<extra></extra>\",\"legendgroup\":\"New York Knicks\",\"marker\":{\"color\":\"#FECB52\",\"symbol\":\"circle\"},\"mode\":\"markers\",\"name\":\"New York Knicks\",\"orientation\":\"v\",\"showlegend\":false,\"x\":[325],\"xaxis\":\"x11\",\"y\":[0.9816861538461537],\"yaxis\":\"y11\",\"type\":\"scatter\"},{\"hovertemplate\":\"TEAM_NAME=New York Knicks<br>PLAY_TYPE=Isolation<br>POSS=%{x}<br>PPP=%{y}<extra></extra>\",\"legendgroup\":\"New York Knicks\",\"marker\":{\"color\":\"#FECB52\",\"symbol\":\"circle\"},\"mode\":\"markers\",\"name\":\"New York Knicks\",\"orientation\":\"v\",\"showlegend\":false,\"x\":[555],\"xaxis\":\"x12\",\"y\":[0.9859333333333333],\"yaxis\":\"y12\",\"type\":\"scatter\"},{\"hovertemplate\":\"TEAM_NAME=New York Knicks<br>PLAY_TYPE=Misc<br>POSS=%{x}<br>PPP=%{y}<extra></extra>\",\"legendgroup\":\"New York Knicks\",\"marker\":{\"color\":\"#FECB52\",\"symbol\":\"circle\"},\"mode\":\"markers\",\"name\":\"New York Knicks\",\"orientation\":\"v\",\"showlegend\":false,\"x\":[312],\"xaxis\":\"x7\",\"y\":[0.621849358974359],\"yaxis\":\"y7\",\"type\":\"scatter\"},{\"hovertemplate\":\"TEAM_NAME=New York Knicks<br>PLAY_TYPE=OffRebound<br>POSS=%{x}<br>PPP=%{y}<extra></extra>\",\"legendgroup\":\"New York Knicks\",\"marker\":{\"color\":\"#FECB52\",\"symbol\":\"circle\"},\"mode\":\"markers\",\"name\":\"New York Knicks\",\"orientation\":\"v\",\"showlegend\":false,\"x\":[392],\"xaxis\":\"x8\",\"y\":[1.1276658163265305],\"yaxis\":\"y8\",\"type\":\"scatter\"},{\"hovertemplate\":\"TEAM_NAME=New York Knicks<br>PLAY_TYPE=OffScreen<br>POSS=%{x}<br>PPP=%{y}<extra></extra>\",\"legendgroup\":\"New York Knicks\",\"marker\":{\"color\":\"#FECB52\",\"symbol\":\"circle\"},\"mode\":\"markers\",\"name\":\"New York Knicks\",\"orientation\":\"v\",\"showlegend\":false,\"x\":[118],\"xaxis\":\"x9\",\"y\":[0.8730084745762712],\"yaxis\":\"y9\",\"type\":\"scatter\"},{\"hovertemplate\":\"TEAM_NAME=New York Knicks<br>PLAY_TYPE=PRBallHandler<br>POSS=%{x}<br>PPP=%{y}<extra></extra>\",\"legendgroup\":\"New York Knicks\",\"marker\":{\"color\":\"#FECB52\",\"symbol\":\"circle\"},\"mode\":\"markers\",\"name\":\"New York Knicks\",\"orientation\":\"v\",\"showlegend\":false,\"x\":[1158],\"xaxis\":\"x4\",\"y\":[0.913490500863558],\"yaxis\":\"y4\",\"type\":\"scatter\"},{\"hovertemplate\":\"TEAM_NAME=New York Knicks<br>PLAY_TYPE=PRRollMan<br>POSS=%{x}<br>PPP=%{y}<extra></extra>\",\"legendgroup\":\"New York Knicks\",\"marker\":{\"color\":\"#FECB52\",\"symbol\":\"circle\"},\"mode\":\"markers\",\"name\":\"New York Knicks\",\"orientation\":\"v\",\"showlegend\":false,\"x\":[189],\"xaxis\":\"x5\",\"y\":[1.2324497354497355],\"yaxis\":\"y5\",\"type\":\"scatter\"},{\"hovertemplate\":\"TEAM_NAME=New York Knicks<br>PLAY_TYPE=Postup<br>POSS=%{x}<br>PPP=%{y}<extra></extra>\",\"legendgroup\":\"New York Knicks\",\"marker\":{\"color\":\"#FECB52\",\"symbol\":\"circle\"},\"mode\":\"markers\",\"name\":\"New York Knicks\",\"orientation\":\"v\",\"showlegend\":false,\"x\":[225],\"xaxis\":\"x6\",\"y\":[0.8177111111111112],\"yaxis\":\"y6\",\"type\":\"scatter\"},{\"hovertemplate\":\"TEAM_NAME=New York Knicks<br>PLAY_TYPE=Spotup<br>POSS=%{x}<br>PPP=%{y}<extra></extra>\",\"legendgroup\":\"New York Knicks\",\"marker\":{\"color\":\"#FECB52\",\"symbol\":\"circle\"},\"mode\":\"markers\",\"name\":\"New York Knicks\",\"orientation\":\"v\",\"showlegend\":false,\"x\":[1616],\"xaxis\":\"x\",\"y\":[1.009233292079208],\"yaxis\":\"y\",\"type\":\"scatter\"},{\"hovertemplate\":\"TEAM_NAME=New York Knicks<br>PLAY_TYPE=Transition<br>POSS=%{x}<br>PPP=%{y}<extra></extra>\",\"legendgroup\":\"New York Knicks\",\"marker\":{\"color\":\"#FECB52\",\"symbol\":\"circle\"},\"mode\":\"markers\",\"name\":\"New York Knicks\",\"orientation\":\"v\",\"showlegend\":false,\"x\":[973],\"xaxis\":\"x2\",\"y\":[1.1183103802672145],\"yaxis\":\"y2\",\"type\":\"scatter\"},{\"hovertemplate\":\"TEAM_NAME=Oklahoma City Thunder<br>PLAY_TYPE=Cut<br>POSS=%{x}<br>PPP=%{y}<extra></extra>\",\"legendgroup\":\"Oklahoma City Thunder\",\"marker\":{\"color\":\"#636efa\",\"symbol\":\"circle\"},\"mode\":\"markers\",\"name\":\"Oklahoma City Thunder\",\"orientation\":\"v\",\"showlegend\":true,\"x\":[468],\"xaxis\":\"x10\",\"y\":[1.2458418803418803],\"yaxis\":\"y10\",\"type\":\"scatter\"},{\"hovertemplate\":\"TEAM_NAME=Oklahoma City Thunder<br>PLAY_TYPE=Handoff<br>POSS=%{x}<br>PPP=%{y}<extra></extra>\",\"legendgroup\":\"Oklahoma City Thunder\",\"marker\":{\"color\":\"#636efa\",\"symbol\":\"circle\"},\"mode\":\"markers\",\"name\":\"Oklahoma City Thunder\",\"orientation\":\"v\",\"showlegend\":false,\"x\":[154],\"xaxis\":\"x11\",\"y\":[1.0260974025974023],\"yaxis\":\"y11\",\"type\":\"scatter\"},{\"hovertemplate\":\"TEAM_NAME=Oklahoma City Thunder<br>PLAY_TYPE=Isolation<br>POSS=%{x}<br>PPP=%{y}<extra></extra>\",\"legendgroup\":\"Oklahoma City Thunder\",\"marker\":{\"color\":\"#636efa\",\"symbol\":\"circle\"},\"mode\":\"markers\",\"name\":\"Oklahoma City Thunder\",\"orientation\":\"v\",\"showlegend\":false,\"x\":[473],\"xaxis\":\"x12\",\"y\":[0.9872029598308668],\"yaxis\":\"y12\",\"type\":\"scatter\"},{\"hovertemplate\":\"TEAM_NAME=Oklahoma City Thunder<br>PLAY_TYPE=Misc<br>POSS=%{x}<br>PPP=%{y}<extra></extra>\",\"legendgroup\":\"Oklahoma City Thunder\",\"marker\":{\"color\":\"#636efa\",\"symbol\":\"circle\"},\"mode\":\"markers\",\"name\":\"Oklahoma City Thunder\",\"orientation\":\"v\",\"showlegend\":false,\"x\":[263],\"xaxis\":\"x7\",\"y\":[0.5171140684410646],\"yaxis\":\"y7\",\"type\":\"scatter\"},{\"hovertemplate\":\"TEAM_NAME=Oklahoma City Thunder<br>PLAY_TYPE=OffRebound<br>POSS=%{x}<br>PPP=%{y}<extra></extra>\",\"legendgroup\":\"Oklahoma City Thunder\",\"marker\":{\"color\":\"#636efa\",\"symbol\":\"circle\"},\"mode\":\"markers\",\"name\":\"Oklahoma City Thunder\",\"orientation\":\"v\",\"showlegend\":false,\"x\":[315],\"xaxis\":\"x8\",\"y\":[0.9778666666666666],\"yaxis\":\"y8\",\"type\":\"scatter\"},{\"hovertemplate\":\"TEAM_NAME=Oklahoma City Thunder<br>PLAY_TYPE=OffScreen<br>POSS=%{x}<br>PPP=%{y}<extra></extra>\",\"legendgroup\":\"Oklahoma City Thunder\",\"marker\":{\"color\":\"#636efa\",\"symbol\":\"circle\"},\"mode\":\"markers\",\"name\":\"Oklahoma City Thunder\",\"orientation\":\"v\",\"showlegend\":false,\"x\":[80],\"xaxis\":\"x9\",\"y\":[1.0875],\"yaxis\":\"y9\",\"type\":\"scatter\"},{\"hovertemplate\":\"TEAM_NAME=Oklahoma City Thunder<br>PLAY_TYPE=PRBallHandler<br>POSS=%{x}<br>PPP=%{y}<extra></extra>\",\"legendgroup\":\"Oklahoma City Thunder\",\"marker\":{\"color\":\"#636efa\",\"symbol\":\"circle\"},\"mode\":\"markers\",\"name\":\"Oklahoma City Thunder\",\"orientation\":\"v\",\"showlegend\":false,\"x\":[1158],\"xaxis\":\"x4\",\"y\":[0.9083445595854923],\"yaxis\":\"y4\",\"type\":\"scatter\"},{\"hovertemplate\":\"TEAM_NAME=Oklahoma City Thunder<br>PLAY_TYPE=PRRollMan<br>POSS=%{x}<br>PPP=%{y}<extra></extra>\",\"legendgroup\":\"Oklahoma City Thunder\",\"marker\":{\"color\":\"#636efa\",\"symbol\":\"circle\"},\"mode\":\"markers\",\"name\":\"Oklahoma City Thunder\",\"orientation\":\"v\",\"showlegend\":false,\"x\":[269],\"xaxis\":\"x5\",\"y\":[1.0705947955390334],\"yaxis\":\"y5\",\"type\":\"scatter\"},{\"hovertemplate\":\"TEAM_NAME=Oklahoma City Thunder<br>PLAY_TYPE=Postup<br>POSS=%{x}<br>PPP=%{y}<extra></extra>\",\"legendgroup\":\"Oklahoma City Thunder\",\"marker\":{\"color\":\"#636efa\",\"symbol\":\"circle\"},\"mode\":\"markers\",\"name\":\"Oklahoma City Thunder\",\"orientation\":\"v\",\"showlegend\":false,\"x\":[75],\"xaxis\":\"x6\",\"y\":[1.1468666666666667],\"yaxis\":\"y6\",\"type\":\"scatter\"},{\"hovertemplate\":\"TEAM_NAME=Oklahoma City Thunder<br>PLAY_TYPE=Spotup<br>POSS=%{x}<br>PPP=%{y}<extra></extra>\",\"legendgroup\":\"Oklahoma City Thunder\",\"marker\":{\"color\":\"#636efa\",\"symbol\":\"circle\"},\"mode\":\"markers\",\"name\":\"Oklahoma City Thunder\",\"orientation\":\"v\",\"showlegend\":false,\"x\":[1644],\"xaxis\":\"x\",\"y\":[1.0201940389294404],\"yaxis\":\"y\",\"type\":\"scatter\"},{\"hovertemplate\":\"TEAM_NAME=Oklahoma City Thunder<br>PLAY_TYPE=Transition<br>POSS=%{x}<br>PPP=%{y}<extra></extra>\",\"legendgroup\":\"Oklahoma City Thunder\",\"marker\":{\"color\":\"#636efa\",\"symbol\":\"circle\"},\"mode\":\"markers\",\"name\":\"Oklahoma City Thunder\",\"orientation\":\"v\",\"showlegend\":false,\"x\":[1220],\"xaxis\":\"x2\",\"y\":[1.1533950819672132],\"yaxis\":\"y2\",\"type\":\"scatter\"},{\"hovertemplate\":\"TEAM_NAME=Orlando Magic<br>PLAY_TYPE=Cut<br>POSS=%{x}<br>PPP=%{y}<extra></extra>\",\"legendgroup\":\"Orlando Magic\",\"marker\":{\"color\":\"#EF553B\",\"symbol\":\"circle\"},\"mode\":\"markers\",\"name\":\"Orlando Magic\",\"orientation\":\"v\",\"showlegend\":true,\"x\":[353],\"xaxis\":\"x10\",\"y\":[1.3485014164305948],\"yaxis\":\"y10\",\"type\":\"scatter\"},{\"hovertemplate\":\"TEAM_NAME=Orlando Magic<br>PLAY_TYPE=Handoff<br>POSS=%{x}<br>PPP=%{y}<extra></extra>\",\"legendgroup\":\"Orlando Magic\",\"marker\":{\"color\":\"#EF553B\",\"symbol\":\"circle\"},\"mode\":\"markers\",\"name\":\"Orlando Magic\",\"orientation\":\"v\",\"showlegend\":false,\"x\":[341],\"xaxis\":\"x11\",\"y\":[0.8593782991202348],\"yaxis\":\"y11\",\"type\":\"scatter\"},{\"hovertemplate\":\"TEAM_NAME=Orlando Magic<br>PLAY_TYPE=Isolation<br>POSS=%{x}<br>PPP=%{y}<extra></extra>\",\"legendgroup\":\"Orlando Magic\",\"marker\":{\"color\":\"#EF553B\",\"symbol\":\"circle\"},\"mode\":\"markers\",\"name\":\"Orlando Magic\",\"orientation\":\"v\",\"showlegend\":false,\"x\":[368],\"xaxis\":\"x12\",\"y\":[0.8316277173913044],\"yaxis\":\"y12\",\"type\":\"scatter\"},{\"hovertemplate\":\"TEAM_NAME=Orlando Magic<br>PLAY_TYPE=Misc<br>POSS=%{x}<br>PPP=%{y}<extra></extra>\",\"legendgroup\":\"Orlando Magic\",\"marker\":{\"color\":\"#EF553B\",\"symbol\":\"circle\"},\"mode\":\"markers\",\"name\":\"Orlando Magic\",\"orientation\":\"v\",\"showlegend\":false,\"x\":[362],\"xaxis\":\"x7\",\"y\":[0.5609033149171271],\"yaxis\":\"y7\",\"type\":\"scatter\"},{\"hovertemplate\":\"TEAM_NAME=Orlando Magic<br>PLAY_TYPE=OffRebound<br>POSS=%{x}<br>PPP=%{y}<extra></extra>\",\"legendgroup\":\"Orlando Magic\",\"marker\":{\"color\":\"#EF553B\",\"symbol\":\"circle\"},\"mode\":\"markers\",\"name\":\"Orlando Magic\",\"orientation\":\"v\",\"showlegend\":false,\"x\":[326],\"xaxis\":\"x8\",\"y\":[1.2239325153374234],\"yaxis\":\"y8\",\"type\":\"scatter\"},{\"hovertemplate\":\"TEAM_NAME=Orlando Magic<br>PLAY_TYPE=OffScreen<br>POSS=%{x}<br>PPP=%{y}<extra></extra>\",\"legendgroup\":\"Orlando Magic\",\"marker\":{\"color\":\"#EF553B\",\"symbol\":\"circle\"},\"mode\":\"markers\",\"name\":\"Orlando Magic\",\"orientation\":\"v\",\"showlegend\":false,\"x\":[138],\"xaxis\":\"x9\",\"y\":[1.0432826086956524],\"yaxis\":\"y9\",\"type\":\"scatter\"},{\"hovertemplate\":\"TEAM_NAME=Orlando Magic<br>PLAY_TYPE=PRBallHandler<br>POSS=%{x}<br>PPP=%{y}<extra></extra>\",\"legendgroup\":\"Orlando Magic\",\"marker\":{\"color\":\"#EF553B\",\"symbol\":\"circle\"},\"mode\":\"markers\",\"name\":\"Orlando Magic\",\"orientation\":\"v\",\"showlegend\":false,\"x\":[1138],\"xaxis\":\"x4\",\"y\":[0.926866432337434],\"yaxis\":\"y4\",\"type\":\"scatter\"},{\"hovertemplate\":\"TEAM_NAME=Orlando Magic<br>PLAY_TYPE=PRRollMan<br>POSS=%{x}<br>PPP=%{y}<extra></extra>\",\"legendgroup\":\"Orlando Magic\",\"marker\":{\"color\":\"#EF553B\",\"symbol\":\"circle\"},\"mode\":\"markers\",\"name\":\"Orlando Magic\",\"orientation\":\"v\",\"showlegend\":false,\"x\":[328],\"xaxis\":\"x5\",\"y\":[1.1523597560975607],\"yaxis\":\"y5\",\"type\":\"scatter\"},{\"hovertemplate\":\"TEAM_NAME=Orlando Magic<br>PLAY_TYPE=Postup<br>POSS=%{x}<br>PPP=%{y}<extra></extra>\",\"legendgroup\":\"Orlando Magic\",\"marker\":{\"color\":\"#EF553B\",\"symbol\":\"circle\"},\"mode\":\"markers\",\"name\":\"Orlando Magic\",\"orientation\":\"v\",\"showlegend\":false,\"x\":[190],\"xaxis\":\"x6\",\"y\":[0.9104736842105263],\"yaxis\":\"y6\",\"type\":\"scatter\"},{\"hovertemplate\":\"TEAM_NAME=Orlando Magic<br>PLAY_TYPE=Spotup<br>POSS=%{x}<br>PPP=%{y}<extra></extra>\",\"legendgroup\":\"Orlando Magic\",\"marker\":{\"color\":\"#EF553B\",\"symbol\":\"circle\"},\"mode\":\"markers\",\"name\":\"Orlando Magic\",\"orientation\":\"v\",\"showlegend\":false,\"x\":[1366],\"xaxis\":\"x\",\"y\":[1.0006749633967789],\"yaxis\":\"y\",\"type\":\"scatter\"},{\"hovertemplate\":\"TEAM_NAME=Orlando Magic<br>PLAY_TYPE=Transition<br>POSS=%{x}<br>PPP=%{y}<extra></extra>\",\"legendgroup\":\"Orlando Magic\",\"marker\":{\"color\":\"#EF553B\",\"symbol\":\"circle\"},\"mode\":\"markers\",\"name\":\"Orlando Magic\",\"orientation\":\"v\",\"showlegend\":false,\"x\":[1007],\"xaxis\":\"x2\",\"y\":[1.1042393247269118],\"yaxis\":\"y2\",\"type\":\"scatter\"},{\"hovertemplate\":\"TEAM_NAME=Philadelphia 76ers<br>PLAY_TYPE=Cut<br>POSS=%{x}<br>PPP=%{y}<extra></extra>\",\"legendgroup\":\"Philadelphia 76ers\",\"marker\":{\"color\":\"#00cc96\",\"symbol\":\"circle\"},\"mode\":\"markers\",\"name\":\"Philadelphia 76ers\",\"orientation\":\"v\",\"showlegend\":true,\"x\":[277],\"xaxis\":\"x10\",\"y\":[1.2274187725631769],\"yaxis\":\"y10\",\"type\":\"scatter\"},{\"hovertemplate\":\"TEAM_NAME=Philadelphia 76ers<br>PLAY_TYPE=Handoff<br>POSS=%{x}<br>PPP=%{y}<extra></extra>\",\"legendgroup\":\"Philadelphia 76ers\",\"marker\":{\"color\":\"#00cc96\",\"symbol\":\"circle\"},\"mode\":\"markers\",\"name\":\"Philadelphia 76ers\",\"orientation\":\"v\",\"showlegend\":false,\"x\":[139],\"xaxis\":\"x11\",\"y\":[1.0142949640287768],\"yaxis\":\"y11\",\"type\":\"scatter\"},{\"hovertemplate\":\"TEAM_NAME=Philadelphia 76ers<br>PLAY_TYPE=Isolation<br>POSS=%{x}<br>PPP=%{y}<extra></extra>\",\"legendgroup\":\"Philadelphia 76ers\",\"marker\":{\"color\":\"#00cc96\",\"symbol\":\"circle\"},\"mode\":\"markers\",\"name\":\"Philadelphia 76ers\",\"orientation\":\"v\",\"showlegend\":false,\"x\":[645],\"xaxis\":\"x12\",\"y\":[1.004568992248062],\"yaxis\":\"y12\",\"type\":\"scatter\"},{\"hovertemplate\":\"TEAM_NAME=Philadelphia 76ers<br>PLAY_TYPE=Misc<br>POSS=%{x}<br>PPP=%{y}<extra></extra>\",\"legendgroup\":\"Philadelphia 76ers\",\"marker\":{\"color\":\"#00cc96\",\"symbol\":\"circle\"},\"mode\":\"markers\",\"name\":\"Philadelphia 76ers\",\"orientation\":\"v\",\"showlegend\":false,\"x\":[321],\"xaxis\":\"x7\",\"y\":[0.47035825545171345],\"yaxis\":\"y7\",\"type\":\"scatter\"},{\"hovertemplate\":\"TEAM_NAME=Philadelphia 76ers<br>PLAY_TYPE=OffRebound<br>POSS=%{x}<br>PPP=%{y}<extra></extra>\",\"legendgroup\":\"Philadelphia 76ers\",\"marker\":{\"color\":\"#00cc96\",\"symbol\":\"circle\"},\"mode\":\"markers\",\"name\":\"Philadelphia 76ers\",\"orientation\":\"v\",\"showlegend\":false,\"x\":[201],\"xaxis\":\"x8\",\"y\":[1.1790995024875621],\"yaxis\":\"y8\",\"type\":\"scatter\"},{\"hovertemplate\":\"TEAM_NAME=Philadelphia 76ers<br>PLAY_TYPE=OffScreen<br>POSS=%{x}<br>PPP=%{y}<extra></extra>\",\"legendgroup\":\"Philadelphia 76ers\",\"marker\":{\"color\":\"#00cc96\",\"symbol\":\"circle\"},\"mode\":\"markers\",\"name\":\"Philadelphia 76ers\",\"orientation\":\"v\",\"showlegend\":false,\"x\":[101],\"xaxis\":\"x9\",\"y\":[0.7027128712871288],\"yaxis\":\"y9\",\"type\":\"scatter\"},{\"hovertemplate\":\"TEAM_NAME=Philadelphia 76ers<br>PLAY_TYPE=PRBallHandler<br>POSS=%{x}<br>PPP=%{y}<extra></extra>\",\"legendgroup\":\"Philadelphia 76ers\",\"marker\":{\"color\":\"#00cc96\",\"symbol\":\"circle\"},\"mode\":\"markers\",\"name\":\"Philadelphia 76ers\",\"orientation\":\"v\",\"showlegend\":false,\"x\":[849],\"xaxis\":\"x4\",\"y\":[0.9009387514723203],\"yaxis\":\"y4\",\"type\":\"scatter\"},{\"hovertemplate\":\"TEAM_NAME=Philadelphia 76ers<br>PLAY_TYPE=PRRollMan<br>POSS=%{x}<br>PPP=%{y}<extra></extra>\",\"legendgroup\":\"Philadelphia 76ers\",\"marker\":{\"color\":\"#00cc96\",\"symbol\":\"circle\"},\"mode\":\"markers\",\"name\":\"Philadelphia 76ers\",\"orientation\":\"v\",\"showlegend\":false,\"x\":[451],\"xaxis\":\"x5\",\"y\":[1.2060243902439023],\"yaxis\":\"y5\",\"type\":\"scatter\"},{\"hovertemplate\":\"TEAM_NAME=Philadelphia 76ers<br>PLAY_TYPE=Postup<br>POSS=%{x}<br>PPP=%{y}<extra></extra>\",\"legendgroup\":\"Philadelphia 76ers\",\"marker\":{\"color\":\"#00cc96\",\"symbol\":\"circle\"},\"mode\":\"markers\",\"name\":\"Philadelphia 76ers\",\"orientation\":\"v\",\"showlegend\":false,\"x\":[329],\"xaxis\":\"x6\",\"y\":[1.121519756838906],\"yaxis\":\"y6\",\"type\":\"scatter\"},{\"hovertemplate\":\"TEAM_NAME=Philadelphia 76ers<br>PLAY_TYPE=Spotup<br>POSS=%{x}<br>PPP=%{y}<extra></extra>\",\"legendgroup\":\"Philadelphia 76ers\",\"marker\":{\"color\":\"#00cc96\",\"symbol\":\"circle\"},\"mode\":\"markers\",\"name\":\"Philadelphia 76ers\",\"orientation\":\"v\",\"showlegend\":false,\"x\":[1378],\"xaxis\":\"x\",\"y\":[1.1329731494920174],\"yaxis\":\"y\",\"type\":\"scatter\"},{\"hovertemplate\":\"TEAM_NAME=Philadelphia 76ers<br>PLAY_TYPE=Transition<br>POSS=%{x}<br>PPP=%{y}<extra></extra>\",\"legendgroup\":\"Philadelphia 76ers\",\"marker\":{\"color\":\"#00cc96\",\"symbol\":\"circle\"},\"mode\":\"markers\",\"name\":\"Philadelphia 76ers\",\"orientation\":\"v\",\"showlegend\":false,\"x\":[884],\"xaxis\":\"x2\",\"y\":[1.20910407239819],\"yaxis\":\"y2\",\"type\":\"scatter\"},{\"hovertemplate\":\"TEAM_NAME=Phoenix Suns<br>PLAY_TYPE=Cut<br>POSS=%{x}<br>PPP=%{y}<extra></extra>\",\"legendgroup\":\"Phoenix Suns\",\"marker\":{\"color\":\"#ab63fa\",\"symbol\":\"circle\"},\"mode\":\"markers\",\"name\":\"Phoenix Suns\",\"orientation\":\"v\",\"showlegend\":true,\"x\":[390],\"xaxis\":\"x10\",\"y\":[1.2105000000000001],\"yaxis\":\"y10\",\"type\":\"scatter\"},{\"hovertemplate\":\"TEAM_NAME=Phoenix Suns<br>PLAY_TYPE=Handoff<br>POSS=%{x}<br>PPP=%{y}<extra></extra>\",\"legendgroup\":\"Phoenix Suns\",\"marker\":{\"color\":\"#ab63fa\",\"symbol\":\"circle\"},\"mode\":\"markers\",\"name\":\"Phoenix Suns\",\"orientation\":\"v\",\"showlegend\":false,\"x\":[286],\"xaxis\":\"x11\",\"y\":[0.8566083916083916],\"yaxis\":\"y11\",\"type\":\"scatter\"},{\"hovertemplate\":\"TEAM_NAME=Phoenix Suns<br>PLAY_TYPE=Isolation<br>POSS=%{x}<br>PPP=%{y}<extra></extra>\",\"legendgroup\":\"Phoenix Suns\",\"marker\":{\"color\":\"#ab63fa\",\"symbol\":\"circle\"},\"mode\":\"markers\",\"name\":\"Phoenix Suns\",\"orientation\":\"v\",\"showlegend\":false,\"x\":[235],\"xaxis\":\"x12\",\"y\":[0.8296936170212766],\"yaxis\":\"y12\",\"type\":\"scatter\"},{\"hovertemplate\":\"TEAM_NAME=Phoenix Suns<br>PLAY_TYPE=Misc<br>POSS=%{x}<br>PPP=%{y}<extra></extra>\",\"legendgroup\":\"Phoenix Suns\",\"marker\":{\"color\":\"#ab63fa\",\"symbol\":\"circle\"},\"mode\":\"markers\",\"name\":\"Phoenix Suns\",\"orientation\":\"v\",\"showlegend\":false,\"x\":[394],\"xaxis\":\"x7\",\"y\":[0.5176827411167513],\"yaxis\":\"y7\",\"type\":\"scatter\"},{\"hovertemplate\":\"TEAM_NAME=Phoenix Suns<br>PLAY_TYPE=OffRebound<br>POSS=%{x}<br>PPP=%{y}<extra></extra>\",\"legendgroup\":\"Phoenix Suns\",\"marker\":{\"color\":\"#ab63fa\",\"symbol\":\"circle\"},\"mode\":\"markers\",\"name\":\"Phoenix Suns\",\"orientation\":\"v\",\"showlegend\":false,\"x\":[356],\"xaxis\":\"x8\",\"y\":[1.1205898876404494],\"yaxis\":\"y8\",\"type\":\"scatter\"},{\"hovertemplate\":\"TEAM_NAME=Phoenix Suns<br>PLAY_TYPE=OffScreen<br>POSS=%{x}<br>PPP=%{y}<extra></extra>\",\"legendgroup\":\"Phoenix Suns\",\"marker\":{\"color\":\"#ab63fa\",\"symbol\":\"circle\"},\"mode\":\"markers\",\"name\":\"Phoenix Suns\",\"orientation\":\"v\",\"showlegend\":false,\"x\":[223],\"xaxis\":\"x9\",\"y\":[0.9999103139013451],\"yaxis\":\"y9\",\"type\":\"scatter\"},{\"hovertemplate\":\"TEAM_NAME=Phoenix Suns<br>PLAY_TYPE=PRBallHandler<br>POSS=%{x}<br>PPP=%{y}<extra></extra>\",\"legendgroup\":\"Phoenix Suns\",\"marker\":{\"color\":\"#ab63fa\",\"symbol\":\"circle\"},\"mode\":\"markers\",\"name\":\"Phoenix Suns\",\"orientation\":\"v\",\"showlegend\":false,\"x\":[1130],\"xaxis\":\"x4\",\"y\":[0.8715008849557522],\"yaxis\":\"y4\",\"type\":\"scatter\"},{\"hovertemplate\":\"TEAM_NAME=Phoenix Suns<br>PLAY_TYPE=PRRollMan<br>POSS=%{x}<br>PPP=%{y}<extra></extra>\",\"legendgroup\":\"Phoenix Suns\",\"marker\":{\"color\":\"#ab63fa\",\"symbol\":\"circle\"},\"mode\":\"markers\",\"name\":\"Phoenix Suns\",\"orientation\":\"v\",\"showlegend\":false,\"x\":[408],\"xaxis\":\"x5\",\"y\":[1.156752450980392],\"yaxis\":\"y5\",\"type\":\"scatter\"},{\"hovertemplate\":\"TEAM_NAME=Phoenix Suns<br>PLAY_TYPE=Postup<br>POSS=%{x}<br>PPP=%{y}<extra></extra>\",\"legendgroup\":\"Phoenix Suns\",\"marker\":{\"color\":\"#ab63fa\",\"symbol\":\"circle\"},\"mode\":\"markers\",\"name\":\"Phoenix Suns\",\"orientation\":\"v\",\"showlegend\":false,\"x\":[385],\"xaxis\":\"x6\",\"y\":[1.0103194805194806],\"yaxis\":\"y6\",\"type\":\"scatter\"},{\"hovertemplate\":\"TEAM_NAME=Phoenix Suns<br>PLAY_TYPE=Spotup<br>POSS=%{x}<br>PPP=%{y}<extra></extra>\",\"legendgroup\":\"Phoenix Suns\",\"marker\":{\"color\":\"#ab63fa\",\"symbol\":\"circle\"},\"mode\":\"markers\",\"name\":\"Phoenix Suns\",\"orientation\":\"v\",\"showlegend\":false,\"x\":[1653],\"xaxis\":\"x\",\"y\":[1.0526709013914095],\"yaxis\":\"y\",\"type\":\"scatter\"},{\"hovertemplate\":\"TEAM_NAME=Phoenix Suns<br>PLAY_TYPE=Transition<br>POSS=%{x}<br>PPP=%{y}<extra></extra>\",\"legendgroup\":\"Phoenix Suns\",\"marker\":{\"color\":\"#ab63fa\",\"symbol\":\"circle\"},\"mode\":\"markers\",\"name\":\"Phoenix Suns\",\"orientation\":\"v\",\"showlegend\":false,\"x\":[861],\"xaxis\":\"x2\",\"y\":[1.1034006968641115],\"yaxis\":\"y2\",\"type\":\"scatter\"},{\"hovertemplate\":\"TEAM_NAME=Portland Trail Blazers<br>PLAY_TYPE=Cut<br>POSS=%{x}<br>PPP=%{y}<extra></extra>\",\"legendgroup\":\"Portland Trail Blazers\",\"marker\":{\"color\":\"#FFA15A\",\"symbol\":\"circle\"},\"mode\":\"markers\",\"name\":\"Portland Trail Blazers\",\"orientation\":\"v\",\"showlegend\":true,\"x\":[417],\"xaxis\":\"x10\",\"y\":[1.3070143884892085],\"yaxis\":\"y10\",\"type\":\"scatter\"},{\"hovertemplate\":\"TEAM_NAME=Portland Trail Blazers<br>PLAY_TYPE=Handoff<br>POSS=%{x}<br>PPP=%{y}<extra></extra>\",\"legendgroup\":\"Portland Trail Blazers\",\"marker\":{\"color\":\"#FFA15A\",\"symbol\":\"circle\"},\"mode\":\"markers\",\"name\":\"Portland Trail Blazers\",\"orientation\":\"v\",\"showlegend\":false,\"x\":[302],\"xaxis\":\"x11\",\"y\":[1.0828708609271522],\"yaxis\":\"y11\",\"type\":\"scatter\"},{\"hovertemplate\":\"TEAM_NAME=Portland Trail Blazers<br>PLAY_TYPE=Isolation<br>POSS=%{x}<br>PPP=%{y}<extra></extra>\",\"legendgroup\":\"Portland Trail Blazers\",\"marker\":{\"color\":\"#FFA15A\",\"symbol\":\"circle\"},\"mode\":\"markers\",\"name\":\"Portland Trail Blazers\",\"orientation\":\"v\",\"showlegend\":false,\"x\":[515],\"xaxis\":\"x12\",\"y\":[1.0429145631067964],\"yaxis\":\"y12\",\"type\":\"scatter\"},{\"hovertemplate\":\"TEAM_NAME=Portland Trail Blazers<br>PLAY_TYPE=Misc<br>POSS=%{x}<br>PPP=%{y}<extra></extra>\",\"legendgroup\":\"Portland Trail Blazers\",\"marker\":{\"color\":\"#FFA15A\",\"symbol\":\"circle\"},\"mode\":\"markers\",\"name\":\"Portland Trail Blazers\",\"orientation\":\"v\",\"showlegend\":false,\"x\":[395],\"xaxis\":\"x7\",\"y\":[0.5417873417721519],\"yaxis\":\"y7\",\"type\":\"scatter\"},{\"hovertemplate\":\"TEAM_NAME=Portland Trail Blazers<br>PLAY_TYPE=OffRebound<br>POSS=%{x}<br>PPP=%{y}<extra></extra>\",\"legendgroup\":\"Portland Trail Blazers\",\"marker\":{\"color\":\"#FFA15A\",\"symbol\":\"circle\"},\"mode\":\"markers\",\"name\":\"Portland Trail Blazers\",\"orientation\":\"v\",\"showlegend\":false,\"x\":[230],\"xaxis\":\"x8\",\"y\":[1.1567782608695651],\"yaxis\":\"y8\",\"type\":\"scatter\"},{\"hovertemplate\":\"TEAM_NAME=Portland Trail Blazers<br>PLAY_TYPE=OffScreen<br>POSS=%{x}<br>PPP=%{y}<extra></extra>\",\"legendgroup\":\"Portland Trail Blazers\",\"marker\":{\"color\":\"#FFA15A\",\"symbol\":\"circle\"},\"mode\":\"markers\",\"name\":\"Portland Trail Blazers\",\"orientation\":\"v\",\"showlegend\":false,\"x\":[244],\"xaxis\":\"x9\",\"y\":[1.0898319672131147],\"yaxis\":\"y9\",\"type\":\"scatter\"},{\"hovertemplate\":\"TEAM_NAME=Portland Trail Blazers<br>PLAY_TYPE=PRBallHandler<br>POSS=%{x}<br>PPP=%{y}<extra></extra>\",\"legendgroup\":\"Portland Trail Blazers\",\"marker\":{\"color\":\"#FFA15A\",\"symbol\":\"circle\"},\"mode\":\"markers\",\"name\":\"Portland Trail Blazers\",\"orientation\":\"v\",\"showlegend\":false,\"x\":[1035],\"xaxis\":\"x4\",\"y\":[1.0106434782608695],\"yaxis\":\"y4\",\"type\":\"scatter\"},{\"hovertemplate\":\"TEAM_NAME=Portland Trail Blazers<br>PLAY_TYPE=PRRollMan<br>POSS=%{x}<br>PPP=%{y}<extra></extra>\",\"legendgroup\":\"Portland Trail Blazers\",\"marker\":{\"color\":\"#FFA15A\",\"symbol\":\"circle\"},\"mode\":\"markers\",\"name\":\"Portland Trail Blazers\",\"orientation\":\"v\",\"showlegend\":false,\"x\":[206],\"xaxis\":\"x5\",\"y\":[1.1408058252427185],\"yaxis\":\"y5\",\"type\":\"scatter\"},{\"hovertemplate\":\"TEAM_NAME=Portland Trail Blazers<br>PLAY_TYPE=Postup<br>POSS=%{x}<br>PPP=%{y}<extra></extra>\",\"legendgroup\":\"Portland Trail Blazers\",\"marker\":{\"color\":\"#FFA15A\",\"symbol\":\"circle\"},\"mode\":\"markers\",\"name\":\"Portland Trail Blazers\",\"orientation\":\"v\",\"showlegend\":false,\"x\":[284],\"xaxis\":\"x6\",\"y\":[0.9189718309859155],\"yaxis\":\"y6\",\"type\":\"scatter\"},{\"hovertemplate\":\"TEAM_NAME=Portland Trail Blazers<br>PLAY_TYPE=Spotup<br>POSS=%{x}<br>PPP=%{y}<extra></extra>\",\"legendgroup\":\"Portland Trail Blazers\",\"marker\":{\"color\":\"#FFA15A\",\"symbol\":\"circle\"},\"mode\":\"markers\",\"name\":\"Portland Trail Blazers\",\"orientation\":\"v\",\"showlegend\":false,\"x\":[1310],\"xaxis\":\"x\",\"y\":[1.0672854961832061],\"yaxis\":\"y\",\"type\":\"scatter\"},{\"hovertemplate\":\"TEAM_NAME=Portland Trail Blazers<br>PLAY_TYPE=Transition<br>POSS=%{x}<br>PPP=%{y}<extra></extra>\",\"legendgroup\":\"Portland Trail Blazers\",\"marker\":{\"color\":\"#FFA15A\",\"symbol\":\"circle\"},\"mode\":\"markers\",\"name\":\"Portland Trail Blazers\",\"orientation\":\"v\",\"showlegend\":false,\"x\":[836],\"xaxis\":\"x2\",\"y\":[1.1676722488038278],\"yaxis\":\"y2\",\"type\":\"scatter\"},{\"hovertemplate\":\"TEAM_NAME=Sacramento Kings<br>PLAY_TYPE=Cut<br>POSS=%{x}<br>PPP=%{y}<extra></extra>\",\"legendgroup\":\"Sacramento Kings\",\"marker\":{\"color\":\"#19d3f3\",\"symbol\":\"circle\"},\"mode\":\"markers\",\"name\":\"Sacramento Kings\",\"orientation\":\"v\",\"showlegend\":true,\"x\":[498],\"xaxis\":\"x10\",\"y\":[1.375240963855422],\"yaxis\":\"y10\",\"type\":\"scatter\"},{\"hovertemplate\":\"TEAM_NAME=Sacramento Kings<br>PLAY_TYPE=Handoff<br>POSS=%{x}<br>PPP=%{y}<extra></extra>\",\"legendgroup\":\"Sacramento Kings\",\"marker\":{\"color\":\"#19d3f3\",\"symbol\":\"circle\"},\"mode\":\"markers\",\"name\":\"Sacramento Kings\",\"orientation\":\"v\",\"showlegend\":false,\"x\":[560],\"xaxis\":\"x11\",\"y\":[1.0948607142857145],\"yaxis\":\"y11\",\"type\":\"scatter\"},{\"hovertemplate\":\"TEAM_NAME=Sacramento Kings<br>PLAY_TYPE=Isolation<br>POSS=%{x}<br>PPP=%{y}<extra></extra>\",\"legendgroup\":\"Sacramento Kings\",\"marker\":{\"color\":\"#19d3f3\",\"symbol\":\"circle\"},\"mode\":\"markers\",\"name\":\"Sacramento Kings\",\"orientation\":\"v\",\"showlegend\":false,\"x\":[248],\"xaxis\":\"x12\",\"y\":[1.0239798387096775],\"yaxis\":\"y12\",\"type\":\"scatter\"},{\"hovertemplate\":\"TEAM_NAME=Sacramento Kings<br>PLAY_TYPE=Misc<br>POSS=%{x}<br>PPP=%{y}<extra></extra>\",\"legendgroup\":\"Sacramento Kings\",\"marker\":{\"color\":\"#19d3f3\",\"symbol\":\"circle\"},\"mode\":\"markers\",\"name\":\"Sacramento Kings\",\"orientation\":\"v\",\"showlegend\":false,\"x\":[307],\"xaxis\":\"x7\",\"y\":[0.6971661237785015],\"yaxis\":\"y7\",\"type\":\"scatter\"},{\"hovertemplate\":\"TEAM_NAME=Sacramento Kings<br>PLAY_TYPE=OffRebound<br>POSS=%{x}<br>PPP=%{y}<extra></extra>\",\"legendgroup\":\"Sacramento Kings\",\"marker\":{\"color\":\"#19d3f3\",\"symbol\":\"circle\"},\"mode\":\"markers\",\"name\":\"Sacramento Kings\",\"orientation\":\"v\",\"showlegend\":false,\"x\":[211],\"xaxis\":\"x8\",\"y\":[1.1896777251184834],\"yaxis\":\"y8\",\"type\":\"scatter\"},{\"hovertemplate\":\"TEAM_NAME=Sacramento Kings<br>PLAY_TYPE=OffScreen<br>POSS=%{x}<br>PPP=%{y}<extra></extra>\",\"legendgroup\":\"Sacramento Kings\",\"marker\":{\"color\":\"#19d3f3\",\"symbol\":\"circle\"},\"mode\":\"markers\",\"name\":\"Sacramento Kings\",\"orientation\":\"v\",\"showlegend\":false,\"x\":[185],\"xaxis\":\"x9\",\"y\":[0.8975189189189189],\"yaxis\":\"y9\",\"type\":\"scatter\"},{\"hovertemplate\":\"TEAM_NAME=Sacramento Kings<br>PLAY_TYPE=PRBallHandler<br>POSS=%{x}<br>PPP=%{y}<extra></extra>\",\"legendgroup\":\"Sacramento Kings\",\"marker\":{\"color\":\"#19d3f3\",\"symbol\":\"circle\"},\"mode\":\"markers\",\"name\":\"Sacramento Kings\",\"orientation\":\"v\",\"showlegend\":false,\"x\":[799],\"xaxis\":\"x4\",\"y\":[0.9384380475594495],\"yaxis\":\"y4\",\"type\":\"scatter\"},{\"hovertemplate\":\"TEAM_NAME=Sacramento Kings<br>PLAY_TYPE=PRRollMan<br>POSS=%{x}<br>PPP=%{y}<extra></extra>\",\"legendgroup\":\"Sacramento Kings\",\"marker\":{\"color\":\"#19d3f3\",\"symbol\":\"circle\"},\"mode\":\"markers\",\"name\":\"Sacramento Kings\",\"orientation\":\"v\",\"showlegend\":false,\"x\":[200],\"xaxis\":\"x5\",\"y\":[1.16523],\"yaxis\":\"y5\",\"type\":\"scatter\"},{\"hovertemplate\":\"TEAM_NAME=Sacramento Kings<br>PLAY_TYPE=Postup<br>POSS=%{x}<br>PPP=%{y}<extra></extra>\",\"legendgroup\":\"Sacramento Kings\",\"marker\":{\"color\":\"#19d3f3\",\"symbol\":\"circle\"},\"mode\":\"markers\",\"name\":\"Sacramento Kings\",\"orientation\":\"v\",\"showlegend\":false,\"x\":[189],\"xaxis\":\"x6\",\"y\":[1.0105555555555557],\"yaxis\":\"y6\",\"type\":\"scatter\"},{\"hovertemplate\":\"TEAM_NAME=Sacramento Kings<br>PLAY_TYPE=Spotup<br>POSS=%{x}<br>PPP=%{y}<extra></extra>\",\"legendgroup\":\"Sacramento Kings\",\"marker\":{\"color\":\"#19d3f3\",\"symbol\":\"circle\"},\"mode\":\"markers\",\"name\":\"Sacramento Kings\",\"orientation\":\"v\",\"showlegend\":false,\"x\":[1375],\"xaxis\":\"x\",\"y\":[1.0692021818181816],\"yaxis\":\"y\",\"type\":\"scatter\"},{\"hovertemplate\":\"TEAM_NAME=Sacramento Kings<br>PLAY_TYPE=Transition<br>POSS=%{x}<br>PPP=%{y}<extra></extra>\",\"legendgroup\":\"Sacramento Kings\",\"marker\":{\"color\":\"#19d3f3\",\"symbol\":\"circle\"},\"mode\":\"markers\",\"name\":\"Sacramento Kings\",\"orientation\":\"v\",\"showlegend\":false,\"x\":[1214],\"xaxis\":\"x2\",\"y\":[1.080785831960461],\"yaxis\":\"y2\",\"type\":\"scatter\"},{\"hovertemplate\":\"TEAM_NAME=San Antonio Spurs<br>PLAY_TYPE=Cut<br>POSS=%{x}<br>PPP=%{y}<extra></extra>\",\"legendgroup\":\"San Antonio Spurs\",\"marker\":{\"color\":\"#FF6692\",\"symbol\":\"circle\"},\"mode\":\"markers\",\"name\":\"San Antonio Spurs\",\"orientation\":\"v\",\"showlegend\":true,\"x\":[466],\"xaxis\":\"x10\",\"y\":[1.2402961373390557],\"yaxis\":\"y10\",\"type\":\"scatter\"},{\"hovertemplate\":\"TEAM_NAME=San Antonio Spurs<br>PLAY_TYPE=Handoff<br>POSS=%{x}<br>PPP=%{y}<extra></extra>\",\"legendgroup\":\"San Antonio Spurs\",\"marker\":{\"color\":\"#FF6692\",\"symbol\":\"circle\"},\"mode\":\"markers\",\"name\":\"San Antonio Spurs\",\"orientation\":\"v\",\"showlegend\":false,\"x\":[502],\"xaxis\":\"x11\",\"y\":[0.902378486055777],\"yaxis\":\"y11\",\"type\":\"scatter\"},{\"hovertemplate\":\"TEAM_NAME=San Antonio Spurs<br>PLAY_TYPE=Isolation<br>POSS=%{x}<br>PPP=%{y}<extra></extra>\",\"legendgroup\":\"San Antonio Spurs\",\"marker\":{\"color\":\"#FF6692\",\"symbol\":\"circle\"},\"mode\":\"markers\",\"name\":\"San Antonio Spurs\",\"orientation\":\"v\",\"showlegend\":false,\"x\":[149],\"xaxis\":\"x12\",\"y\":[0.758503355704698],\"yaxis\":\"y12\",\"type\":\"scatter\"},{\"hovertemplate\":\"TEAM_NAME=San Antonio Spurs<br>PLAY_TYPE=Misc<br>POSS=%{x}<br>PPP=%{y}<extra></extra>\",\"legendgroup\":\"San Antonio Spurs\",\"marker\":{\"color\":\"#FF6692\",\"symbol\":\"circle\"},\"mode\":\"markers\",\"name\":\"San Antonio Spurs\",\"orientation\":\"v\",\"showlegend\":false,\"x\":[373],\"xaxis\":\"x7\",\"y\":[0.37804557640750674],\"yaxis\":\"y7\",\"type\":\"scatter\"},{\"hovertemplate\":\"TEAM_NAME=San Antonio Spurs<br>PLAY_TYPE=OffRebound<br>POSS=%{x}<br>PPP=%{y}<extra></extra>\",\"legendgroup\":\"San Antonio Spurs\",\"marker\":{\"color\":\"#FF6692\",\"symbol\":\"circle\"},\"mode\":\"markers\",\"name\":\"San Antonio Spurs\",\"orientation\":\"v\",\"showlegend\":false,\"x\":[361],\"xaxis\":\"x8\",\"y\":[1.2355872576177287],\"yaxis\":\"y8\",\"type\":\"scatter\"},{\"hovertemplate\":\"TEAM_NAME=San Antonio Spurs<br>PLAY_TYPE=OffScreen<br>POSS=%{x}<br>PPP=%{y}<extra></extra>\",\"legendgroup\":\"San Antonio Spurs\",\"marker\":{\"color\":\"#FF6692\",\"symbol\":\"circle\"},\"mode\":\"markers\",\"name\":\"San Antonio Spurs\",\"orientation\":\"v\",\"showlegend\":false,\"x\":[178],\"xaxis\":\"x9\",\"y\":[0.9773258426966293],\"yaxis\":\"y9\",\"type\":\"scatter\"},{\"hovertemplate\":\"TEAM_NAME=San Antonio Spurs<br>PLAY_TYPE=PRBallHandler<br>POSS=%{x}<br>PPP=%{y}<extra></extra>\",\"legendgroup\":\"San Antonio Spurs\",\"marker\":{\"color\":\"#FF6692\",\"symbol\":\"circle\"},\"mode\":\"markers\",\"name\":\"San Antonio Spurs\",\"orientation\":\"v\",\"showlegend\":false,\"x\":[1080],\"xaxis\":\"x4\",\"y\":[0.8472916666666667],\"yaxis\":\"y4\",\"type\":\"scatter\"},{\"hovertemplate\":\"TEAM_NAME=San Antonio Spurs<br>PLAY_TYPE=PRRollMan<br>POSS=%{x}<br>PPP=%{y}<extra></extra>\",\"legendgroup\":\"San Antonio Spurs\",\"marker\":{\"color\":\"#FF6692\",\"symbol\":\"circle\"},\"mode\":\"markers\",\"name\":\"San Antonio Spurs\",\"orientation\":\"v\",\"showlegend\":false,\"x\":[257],\"xaxis\":\"x5\",\"y\":[1.1010155642023347],\"yaxis\":\"y5\",\"type\":\"scatter\"},{\"hovertemplate\":\"TEAM_NAME=San Antonio Spurs<br>PLAY_TYPE=Postup<br>POSS=%{x}<br>PPP=%{y}<extra></extra>\",\"legendgroup\":\"San Antonio Spurs\",\"marker\":{\"color\":\"#FF6692\",\"symbol\":\"circle\"},\"mode\":\"markers\",\"name\":\"San Antonio Spurs\",\"orientation\":\"v\",\"showlegend\":false,\"x\":[257],\"xaxis\":\"x6\",\"y\":[0.9494591439688717],\"yaxis\":\"y6\",\"type\":\"scatter\"},{\"hovertemplate\":\"TEAM_NAME=San Antonio Spurs<br>PLAY_TYPE=Spotup<br>POSS=%{x}<br>PPP=%{y}<extra></extra>\",\"legendgroup\":\"San Antonio Spurs\",\"marker\":{\"color\":\"#FF6692\",\"symbol\":\"circle\"},\"mode\":\"markers\",\"name\":\"San Antonio Spurs\",\"orientation\":\"v\",\"showlegend\":false,\"x\":[1543],\"xaxis\":\"x\",\"y\":[0.9947368762151652],\"yaxis\":\"y\",\"type\":\"scatter\"},{\"hovertemplate\":\"TEAM_NAME=San Antonio Spurs<br>PLAY_TYPE=Transition<br>POSS=%{x}<br>PPP=%{y}<extra></extra>\",\"legendgroup\":\"San Antonio Spurs\",\"marker\":{\"color\":\"#FF6692\",\"symbol\":\"circle\"},\"mode\":\"markers\",\"name\":\"San Antonio Spurs\",\"orientation\":\"v\",\"showlegend\":false,\"x\":[1009],\"xaxis\":\"x2\",\"y\":[1.1177888999008918],\"yaxis\":\"y2\",\"type\":\"scatter\"},{\"hovertemplate\":\"TEAM_NAME=Toronto Raptors<br>PLAY_TYPE=Cut<br>POSS=%{x}<br>PPP=%{y}<extra></extra>\",\"legendgroup\":\"Toronto Raptors\",\"marker\":{\"color\":\"#B6E880\",\"symbol\":\"circle\"},\"mode\":\"markers\",\"name\":\"Toronto Raptors\",\"orientation\":\"v\",\"showlegend\":true,\"x\":[447],\"xaxis\":\"x10\",\"y\":[1.255040268456376],\"yaxis\":\"y10\",\"type\":\"scatter\"},{\"hovertemplate\":\"TEAM_NAME=Toronto Raptors<br>PLAY_TYPE=Handoff<br>POSS=%{x}<br>PPP=%{y}<extra></extra>\",\"legendgroup\":\"Toronto Raptors\",\"marker\":{\"color\":\"#B6E880\",\"symbol\":\"circle\"},\"mode\":\"markers\",\"name\":\"Toronto Raptors\",\"orientation\":\"v\",\"showlegend\":false,\"x\":[210],\"xaxis\":\"x11\",\"y\":[1.0190619047619047],\"yaxis\":\"y11\",\"type\":\"scatter\"},{\"hovertemplate\":\"TEAM_NAME=Toronto Raptors<br>PLAY_TYPE=Isolation<br>POSS=%{x}<br>PPP=%{y}<extra></extra>\",\"legendgroup\":\"Toronto Raptors\",\"marker\":{\"color\":\"#B6E880\",\"symbol\":\"circle\"},\"mode\":\"markers\",\"name\":\"Toronto Raptors\",\"orientation\":\"v\",\"showlegend\":false,\"x\":[495],\"xaxis\":\"x12\",\"y\":[0.8567313131313131],\"yaxis\":\"y12\",\"type\":\"scatter\"},{\"hovertemplate\":\"TEAM_NAME=Toronto Raptors<br>PLAY_TYPE=Misc<br>POSS=%{x}<br>PPP=%{y}<extra></extra>\",\"legendgroup\":\"Toronto Raptors\",\"marker\":{\"color\":\"#B6E880\",\"symbol\":\"circle\"},\"mode\":\"markers\",\"name\":\"Toronto Raptors\",\"orientation\":\"v\",\"showlegend\":false,\"x\":[293],\"xaxis\":\"x7\",\"y\":[0.6347440273037541],\"yaxis\":\"y7\",\"type\":\"scatter\"},{\"hovertemplate\":\"TEAM_NAME=Toronto Raptors<br>PLAY_TYPE=OffRebound<br>POSS=%{x}<br>PPP=%{y}<extra></extra>\",\"legendgroup\":\"Toronto Raptors\",\"marker\":{\"color\":\"#B6E880\",\"symbol\":\"circle\"},\"mode\":\"markers\",\"name\":\"Toronto Raptors\",\"orientation\":\"v\",\"showlegend\":false,\"x\":[427],\"xaxis\":\"x8\",\"y\":[1.131096018735363],\"yaxis\":\"y8\",\"type\":\"scatter\"},{\"hovertemplate\":\"TEAM_NAME=Toronto Raptors<br>PLAY_TYPE=OffScreen<br>POSS=%{x}<br>PPP=%{y}<extra></extra>\",\"legendgroup\":\"Toronto Raptors\",\"marker\":{\"color\":\"#B6E880\",\"symbol\":\"circle\"},\"mode\":\"markers\",\"name\":\"Toronto Raptors\",\"orientation\":\"v\",\"showlegend\":false,\"x\":[182],\"xaxis\":\"x9\",\"y\":[0.9011978021978023],\"yaxis\":\"y9\",\"type\":\"scatter\"},{\"hovertemplate\":\"TEAM_NAME=Toronto Raptors<br>PLAY_TYPE=PRBallHandler<br>POSS=%{x}<br>PPP=%{y}<extra></extra>\",\"legendgroup\":\"Toronto Raptors\",\"marker\":{\"color\":\"#B6E880\",\"symbol\":\"circle\"},\"mode\":\"markers\",\"name\":\"Toronto Raptors\",\"orientation\":\"v\",\"showlegend\":false,\"x\":[976],\"xaxis\":\"x4\",\"y\":[0.8781926229508197],\"yaxis\":\"y4\",\"type\":\"scatter\"},{\"hovertemplate\":\"TEAM_NAME=Toronto Raptors<br>PLAY_TYPE=PRRollMan<br>POSS=%{x}<br>PPP=%{y}<extra></extra>\",\"legendgroup\":\"Toronto Raptors\",\"marker\":{\"color\":\"#B6E880\",\"symbol\":\"circle\"},\"mode\":\"markers\",\"name\":\"Toronto Raptors\",\"orientation\":\"v\",\"showlegend\":false,\"x\":[277],\"xaxis\":\"x5\",\"y\":[1.097350180505415],\"yaxis\":\"y5\",\"type\":\"scatter\"},{\"hovertemplate\":\"TEAM_NAME=Toronto Raptors<br>PLAY_TYPE=Postup<br>POSS=%{x}<br>PPP=%{y}<extra></extra>\",\"legendgroup\":\"Toronto Raptors\",\"marker\":{\"color\":\"#B6E880\",\"symbol\":\"circle\"},\"mode\":\"markers\",\"name\":\"Toronto Raptors\",\"orientation\":\"v\",\"showlegend\":false,\"x\":[306],\"xaxis\":\"x6\",\"y\":[0.9118333333333334],\"yaxis\":\"y6\",\"type\":\"scatter\"},{\"hovertemplate\":\"TEAM_NAME=Toronto Raptors<br>PLAY_TYPE=Spotup<br>POSS=%{x}<br>PPP=%{y}<extra></extra>\",\"legendgroup\":\"Toronto Raptors\",\"marker\":{\"color\":\"#B6E880\",\"symbol\":\"circle\"},\"mode\":\"markers\",\"name\":\"Toronto Raptors\",\"orientation\":\"v\",\"showlegend\":false,\"x\":[1394],\"xaxis\":\"x\",\"y\":[0.9863034433285509],\"yaxis\":\"y\",\"type\":\"scatter\"},{\"hovertemplate\":\"TEAM_NAME=Toronto Raptors<br>PLAY_TYPE=Transition<br>POSS=%{x}<br>PPP=%{y}<extra></extra>\",\"legendgroup\":\"Toronto Raptors\",\"marker\":{\"color\":\"#B6E880\",\"symbol\":\"circle\"},\"mode\":\"markers\",\"name\":\"Toronto Raptors\",\"orientation\":\"v\",\"showlegend\":false,\"x\":[1204],\"xaxis\":\"x2\",\"y\":[1.1245855481727574],\"yaxis\":\"y2\",\"type\":\"scatter\"},{\"hovertemplate\":\"TEAM_NAME=Utah Jazz<br>PLAY_TYPE=Cut<br>POSS=%{x}<br>PPP=%{y}<extra></extra>\",\"legendgroup\":\"Utah Jazz\",\"marker\":{\"color\":\"#FF97FF\",\"symbol\":\"circle\"},\"mode\":\"markers\",\"name\":\"Utah Jazz\",\"orientation\":\"v\",\"showlegend\":true,\"x\":[455],\"xaxis\":\"x10\",\"y\":[1.2571824175824173],\"yaxis\":\"y10\",\"type\":\"scatter\"},{\"hovertemplate\":\"TEAM_NAME=Utah Jazz<br>PLAY_TYPE=Handoff<br>POSS=%{x}<br>PPP=%{y}<extra></extra>\",\"legendgroup\":\"Utah Jazz\",\"marker\":{\"color\":\"#FF97FF\",\"symbol\":\"circle\"},\"mode\":\"markers\",\"name\":\"Utah Jazz\",\"orientation\":\"v\",\"showlegend\":false,\"x\":[337],\"xaxis\":\"x11\",\"y\":[0.9972789317507418],\"yaxis\":\"y11\",\"type\":\"scatter\"},{\"hovertemplate\":\"TEAM_NAME=Utah Jazz<br>PLAY_TYPE=Isolation<br>POSS=%{x}<br>PPP=%{y}<extra></extra>\",\"legendgroup\":\"Utah Jazz\",\"marker\":{\"color\":\"#FF97FF\",\"symbol\":\"circle\"},\"mode\":\"markers\",\"name\":\"Utah Jazz\",\"orientation\":\"v\",\"showlegend\":false,\"x\":[364],\"xaxis\":\"x12\",\"y\":[1.0714532967032968],\"yaxis\":\"y12\",\"type\":\"scatter\"},{\"hovertemplate\":\"TEAM_NAME=Utah Jazz<br>PLAY_TYPE=Misc<br>POSS=%{x}<br>PPP=%{y}<extra></extra>\",\"legendgroup\":\"Utah Jazz\",\"marker\":{\"color\":\"#FF97FF\",\"symbol\":\"circle\"},\"mode\":\"markers\",\"name\":\"Utah Jazz\",\"orientation\":\"v\",\"showlegend\":false,\"x\":[391],\"xaxis\":\"x7\",\"y\":[0.5676726342710998],\"yaxis\":\"y7\",\"type\":\"scatter\"},{\"hovertemplate\":\"TEAM_NAME=Utah Jazz<br>PLAY_TYPE=OffRebound<br>POSS=%{x}<br>PPP=%{y}<extra></extra>\",\"legendgroup\":\"Utah Jazz\",\"marker\":{\"color\":\"#FF97FF\",\"symbol\":\"circle\"},\"mode\":\"markers\",\"name\":\"Utah Jazz\",\"orientation\":\"v\",\"showlegend\":false,\"x\":[373],\"xaxis\":\"x8\",\"y\":[1.1770670241286862],\"yaxis\":\"y8\",\"type\":\"scatter\"},{\"hovertemplate\":\"TEAM_NAME=Utah Jazz<br>PLAY_TYPE=OffScreen<br>POSS=%{x}<br>PPP=%{y}<extra></extra>\",\"legendgroup\":\"Utah Jazz\",\"marker\":{\"color\":\"#FF97FF\",\"symbol\":\"circle\"},\"mode\":\"markers\",\"name\":\"Utah Jazz\",\"orientation\":\"v\",\"showlegend\":false,\"x\":[437],\"xaxis\":\"x9\",\"y\":[1.0203867276887872],\"yaxis\":\"y9\",\"type\":\"scatter\"},{\"hovertemplate\":\"TEAM_NAME=Utah Jazz<br>PLAY_TYPE=PRBallHandler<br>POSS=%{x}<br>PPP=%{y}<extra></extra>\",\"legendgroup\":\"Utah Jazz\",\"marker\":{\"color\":\"#FF97FF\",\"symbol\":\"circle\"},\"mode\":\"markers\",\"name\":\"Utah Jazz\",\"orientation\":\"v\",\"showlegend\":false,\"x\":[1022],\"xaxis\":\"x4\",\"y\":[0.9031174168297456],\"yaxis\":\"y4\",\"type\":\"scatter\"},{\"hovertemplate\":\"TEAM_NAME=Utah Jazz<br>PLAY_TYPE=PRRollMan<br>POSS=%{x}<br>PPP=%{y}<extra></extra>\",\"legendgroup\":\"Utah Jazz\",\"marker\":{\"color\":\"#FF97FF\",\"symbol\":\"circle\"},\"mode\":\"markers\",\"name\":\"Utah Jazz\",\"orientation\":\"v\",\"showlegend\":false,\"x\":[291],\"xaxis\":\"x5\",\"y\":[1.216298969072165],\"yaxis\":\"y5\",\"type\":\"scatter\"},{\"hovertemplate\":\"TEAM_NAME=Utah Jazz<br>PLAY_TYPE=Postup<br>POSS=%{x}<br>PPP=%{y}<extra></extra>\",\"legendgroup\":\"Utah Jazz\",\"marker\":{\"color\":\"#FF97FF\",\"symbol\":\"circle\"},\"mode\":\"markers\",\"name\":\"Utah Jazz\",\"orientation\":\"v\",\"showlegend\":false,\"x\":[130],\"xaxis\":\"x6\",\"y\":[0.8766846153846153],\"yaxis\":\"y6\",\"type\":\"scatter\"},{\"hovertemplate\":\"TEAM_NAME=Utah Jazz<br>PLAY_TYPE=Spotup<br>POSS=%{x}<br>PPP=%{y}<extra></extra>\",\"legendgroup\":\"Utah Jazz\",\"marker\":{\"color\":\"#FF97FF\",\"symbol\":\"circle\"},\"mode\":\"markers\",\"name\":\"Utah Jazz\",\"orientation\":\"v\",\"showlegend\":false,\"x\":[1436],\"xaxis\":\"x\",\"y\":[1.0454240947075208],\"yaxis\":\"y\",\"type\":\"scatter\"},{\"hovertemplate\":\"TEAM_NAME=Utah Jazz<br>PLAY_TYPE=Transition<br>POSS=%{x}<br>PPP=%{y}<extra></extra>\",\"legendgroup\":\"Utah Jazz\",\"marker\":{\"color\":\"#FF97FF\",\"symbol\":\"circle\"},\"mode\":\"markers\",\"name\":\"Utah Jazz\",\"orientation\":\"v\",\"showlegend\":false,\"x\":[978],\"xaxis\":\"x2\",\"y\":[1.162528629856851],\"yaxis\":\"y2\",\"type\":\"scatter\"},{\"hovertemplate\":\"TEAM_NAME=Washington Wizards<br>PLAY_TYPE=Cut<br>POSS=%{x}<br>PPP=%{y}<extra></extra>\",\"legendgroup\":\"Washington Wizards\",\"marker\":{\"color\":\"#FECB52\",\"symbol\":\"circle\"},\"mode\":\"markers\",\"name\":\"Washington Wizards\",\"orientation\":\"v\",\"showlegend\":true,\"x\":[409],\"xaxis\":\"x10\",\"y\":[1.325281173594132],\"yaxis\":\"y10\",\"type\":\"scatter\"},{\"hovertemplate\":\"TEAM_NAME=Washington Wizards<br>PLAY_TYPE=Handoff<br>POSS=%{x}<br>PPP=%{y}<extra></extra>\",\"legendgroup\":\"Washington Wizards\",\"marker\":{\"color\":\"#FECB52\",\"symbol\":\"circle\"},\"mode\":\"markers\",\"name\":\"Washington Wizards\",\"orientation\":\"v\",\"showlegend\":false,\"x\":[247],\"xaxis\":\"x11\",\"y\":[0.903],\"yaxis\":\"y11\",\"type\":\"scatter\"},{\"hovertemplate\":\"TEAM_NAME=Washington Wizards<br>PLAY_TYPE=Isolation<br>POSS=%{x}<br>PPP=%{y}<extra></extra>\",\"legendgroup\":\"Washington Wizards\",\"marker\":{\"color\":\"#FECB52\",\"symbol\":\"circle\"},\"mode\":\"markers\",\"name\":\"Washington Wizards\",\"orientation\":\"v\",\"showlegend\":false,\"x\":[332],\"xaxis\":\"x12\",\"y\":[0.8976807228915662],\"yaxis\":\"y12\",\"type\":\"scatter\"},{\"hovertemplate\":\"TEAM_NAME=Washington Wizards<br>PLAY_TYPE=Misc<br>POSS=%{x}<br>PPP=%{y}<extra></extra>\",\"legendgroup\":\"Washington Wizards\",\"marker\":{\"color\":\"#FECB52\",\"symbol\":\"circle\"},\"mode\":\"markers\",\"name\":\"Washington Wizards\",\"orientation\":\"v\",\"showlegend\":false,\"x\":[358],\"xaxis\":\"x7\",\"y\":[0.6115614525139664],\"yaxis\":\"y7\",\"type\":\"scatter\"},{\"hovertemplate\":\"TEAM_NAME=Washington Wizards<br>PLAY_TYPE=OffRebound<br>POSS=%{x}<br>PPP=%{y}<extra></extra>\",\"legendgroup\":\"Washington Wizards\",\"marker\":{\"color\":\"#FECB52\",\"symbol\":\"circle\"},\"mode\":\"markers\",\"name\":\"Washington Wizards\",\"orientation\":\"v\",\"showlegend\":false,\"x\":[284],\"xaxis\":\"x8\",\"y\":[1.2853978873239436],\"yaxis\":\"y8\",\"type\":\"scatter\"},{\"hovertemplate\":\"TEAM_NAME=Washington Wizards<br>PLAY_TYPE=OffScreen<br>POSS=%{x}<br>PPP=%{y}<extra></extra>\",\"legendgroup\":\"Washington Wizards\",\"marker\":{\"color\":\"#FECB52\",\"symbol\":\"circle\"},\"mode\":\"markers\",\"name\":\"Washington Wizards\",\"orientation\":\"v\",\"showlegend\":false,\"x\":[219],\"xaxis\":\"x9\",\"y\":[0.9224292237442921],\"yaxis\":\"y9\",\"type\":\"scatter\"},{\"hovertemplate\":\"TEAM_NAME=Washington Wizards<br>PLAY_TYPE=PRBallHandler<br>POSS=%{x}<br>PPP=%{y}<extra></extra>\",\"legendgroup\":\"Washington Wizards\",\"marker\":{\"color\":\"#FECB52\",\"symbol\":\"circle\"},\"mode\":\"markers\",\"name\":\"Washington Wizards\",\"orientation\":\"v\",\"showlegend\":false,\"x\":[919],\"xaxis\":\"x4\",\"y\":[0.8976931447225245],\"yaxis\":\"y4\",\"type\":\"scatter\"},{\"hovertemplate\":\"TEAM_NAME=Washington Wizards<br>PLAY_TYPE=PRRollMan<br>POSS=%{x}<br>PPP=%{y}<extra></extra>\",\"legendgroup\":\"Washington Wizards\",\"marker\":{\"color\":\"#FECB52\",\"symbol\":\"circle\"},\"mode\":\"markers\",\"name\":\"Washington Wizards\",\"orientation\":\"v\",\"showlegend\":false,\"x\":[324],\"xaxis\":\"x5\",\"y\":[1.1974043209876544],\"yaxis\":\"y5\",\"type\":\"scatter\"},{\"hovertemplate\":\"TEAM_NAME=Washington Wizards<br>PLAY_TYPE=Postup<br>POSS=%{x}<br>PPP=%{y}<extra></extra>\",\"legendgroup\":\"Washington Wizards\",\"marker\":{\"color\":\"#FECB52\",\"symbol\":\"circle\"},\"mode\":\"markers\",\"name\":\"Washington Wizards\",\"orientation\":\"v\",\"showlegend\":false,\"x\":[293],\"xaxis\":\"x6\",\"y\":[0.9966825938566554],\"yaxis\":\"y6\",\"type\":\"scatter\"},{\"hovertemplate\":\"TEAM_NAME=Washington Wizards<br>PLAY_TYPE=Spotup<br>POSS=%{x}<br>PPP=%{y}<extra></extra>\",\"legendgroup\":\"Washington Wizards\",\"marker\":{\"color\":\"#FECB52\",\"symbol\":\"circle\"},\"mode\":\"markers\",\"name\":\"Washington Wizards\",\"orientation\":\"v\",\"showlegend\":false,\"x\":[1423],\"xaxis\":\"x\",\"y\":[1.035888264230499],\"yaxis\":\"y\",\"type\":\"scatter\"},{\"hovertemplate\":\"TEAM_NAME=Washington Wizards<br>PLAY_TYPE=Transition<br>POSS=%{x}<br>PPP=%{y}<extra></extra>\",\"legendgroup\":\"Washington Wizards\",\"marker\":{\"color\":\"#FECB52\",\"symbol\":\"circle\"},\"mode\":\"markers\",\"name\":\"Washington Wizards\",\"orientation\":\"v\",\"showlegend\":false,\"x\":[898],\"xaxis\":\"x2\",\"y\":[1.13352004454343],\"yaxis\":\"y2\",\"type\":\"scatter\"}],                        {\"template\":{\"data\":{\"histogram2dcontour\":[{\"type\":\"histogram2dcontour\",\"colorbar\":{\"outlinewidth\":0,\"ticks\":\"\"},\"colorscale\":[[0.0,\"#0d0887\"],[0.1111111111111111,\"#46039f\"],[0.2222222222222222,\"#7201a8\"],[0.3333333333333333,\"#9c179e\"],[0.4444444444444444,\"#bd3786\"],[0.5555555555555556,\"#d8576b\"],[0.6666666666666666,\"#ed7953\"],[0.7777777777777778,\"#fb9f3a\"],[0.8888888888888888,\"#fdca26\"],[1.0,\"#f0f921\"]]}],\"choropleth\":[{\"type\":\"choropleth\",\"colorbar\":{\"outlinewidth\":0,\"ticks\":\"\"}}],\"histogram2d\":[{\"type\":\"histogram2d\",\"colorbar\":{\"outlinewidth\":0,\"ticks\":\"\"},\"colorscale\":[[0.0,\"#0d0887\"],[0.1111111111111111,\"#46039f\"],[0.2222222222222222,\"#7201a8\"],[0.3333333333333333,\"#9c179e\"],[0.4444444444444444,\"#bd3786\"],[0.5555555555555556,\"#d8576b\"],[0.6666666666666666,\"#ed7953\"],[0.7777777777777778,\"#fb9f3a\"],[0.8888888888888888,\"#fdca26\"],[1.0,\"#f0f921\"]]}],\"heatmap\":[{\"type\":\"heatmap\",\"colorbar\":{\"outlinewidth\":0,\"ticks\":\"\"},\"colorscale\":[[0.0,\"#0d0887\"],[0.1111111111111111,\"#46039f\"],[0.2222222222222222,\"#7201a8\"],[0.3333333333333333,\"#9c179e\"],[0.4444444444444444,\"#bd3786\"],[0.5555555555555556,\"#d8576b\"],[0.6666666666666666,\"#ed7953\"],[0.7777777777777778,\"#fb9f3a\"],[0.8888888888888888,\"#fdca26\"],[1.0,\"#f0f921\"]]}],\"heatmapgl\":[{\"type\":\"heatmapgl\",\"colorbar\":{\"outlinewidth\":0,\"ticks\":\"\"},\"colorscale\":[[0.0,\"#0d0887\"],[0.1111111111111111,\"#46039f\"],[0.2222222222222222,\"#7201a8\"],[0.3333333333333333,\"#9c179e\"],[0.4444444444444444,\"#bd3786\"],[0.5555555555555556,\"#d8576b\"],[0.6666666666666666,\"#ed7953\"],[0.7777777777777778,\"#fb9f3a\"],[0.8888888888888888,\"#fdca26\"],[1.0,\"#f0f921\"]]}],\"contourcarpet\":[{\"type\":\"contourcarpet\",\"colorbar\":{\"outlinewidth\":0,\"ticks\":\"\"}}],\"contour\":[{\"type\":\"contour\",\"colorbar\":{\"outlinewidth\":0,\"ticks\":\"\"},\"colorscale\":[[0.0,\"#0d0887\"],[0.1111111111111111,\"#46039f\"],[0.2222222222222222,\"#7201a8\"],[0.3333333333333333,\"#9c179e\"],[0.4444444444444444,\"#bd3786\"],[0.5555555555555556,\"#d8576b\"],[0.6666666666666666,\"#ed7953\"],[0.7777777777777778,\"#fb9f3a\"],[0.8888888888888888,\"#fdca26\"],[1.0,\"#f0f921\"]]}],\"surface\":[{\"type\":\"surface\",\"colorbar\":{\"outlinewidth\":0,\"ticks\":\"\"},\"colorscale\":[[0.0,\"#0d0887\"],[0.1111111111111111,\"#46039f\"],[0.2222222222222222,\"#7201a8\"],[0.3333333333333333,\"#9c179e\"],[0.4444444444444444,\"#bd3786\"],[0.5555555555555556,\"#d8576b\"],[0.6666666666666666,\"#ed7953\"],[0.7777777777777778,\"#fb9f3a\"],[0.8888888888888888,\"#fdca26\"],[1.0,\"#f0f921\"]]}],\"mesh3d\":[{\"type\":\"mesh3d\",\"colorbar\":{\"outlinewidth\":0,\"ticks\":\"\"}}],\"scatter\":[{\"fillpattern\":{\"fillmode\":\"overlay\",\"size\":10,\"solidity\":0.2},\"type\":\"scatter\"}],\"parcoords\":[{\"type\":\"parcoords\",\"line\":{\"colorbar\":{\"outlinewidth\":0,\"ticks\":\"\"}}}],\"scatterpolargl\":[{\"type\":\"scatterpolargl\",\"marker\":{\"colorbar\":{\"outlinewidth\":0,\"ticks\":\"\"}}}],\"bar\":[{\"error_x\":{\"color\":\"#2a3f5f\"},\"error_y\":{\"color\":\"#2a3f5f\"},\"marker\":{\"line\":{\"color\":\"#E5ECF6\",\"width\":0.5},\"pattern\":{\"fillmode\":\"overlay\",\"size\":10,\"solidity\":0.2}},\"type\":\"bar\"}],\"scattergeo\":[{\"type\":\"scattergeo\",\"marker\":{\"colorbar\":{\"outlinewidth\":0,\"ticks\":\"\"}}}],\"scatterpolar\":[{\"type\":\"scatterpolar\",\"marker\":{\"colorbar\":{\"outlinewidth\":0,\"ticks\":\"\"}}}],\"histogram\":[{\"marker\":{\"pattern\":{\"fillmode\":\"overlay\",\"size\":10,\"solidity\":0.2}},\"type\":\"histogram\"}],\"scattergl\":[{\"type\":\"scattergl\",\"marker\":{\"colorbar\":{\"outlinewidth\":0,\"ticks\":\"\"}}}],\"scatter3d\":[{\"type\":\"scatter3d\",\"line\":{\"colorbar\":{\"outlinewidth\":0,\"ticks\":\"\"}},\"marker\":{\"colorbar\":{\"outlinewidth\":0,\"ticks\":\"\"}}}],\"scattermapbox\":[{\"type\":\"scattermapbox\",\"marker\":{\"colorbar\":{\"outlinewidth\":0,\"ticks\":\"\"}}}],\"scatterternary\":[{\"type\":\"scatterternary\",\"marker\":{\"colorbar\":{\"outlinewidth\":0,\"ticks\":\"\"}}}],\"scattercarpet\":[{\"type\":\"scattercarpet\",\"marker\":{\"colorbar\":{\"outlinewidth\":0,\"ticks\":\"\"}}}],\"carpet\":[{\"aaxis\":{\"endlinecolor\":\"#2a3f5f\",\"gridcolor\":\"white\",\"linecolor\":\"white\",\"minorgridcolor\":\"white\",\"startlinecolor\":\"#2a3f5f\"},\"baxis\":{\"endlinecolor\":\"#2a3f5f\",\"gridcolor\":\"white\",\"linecolor\":\"white\",\"minorgridcolor\":\"white\",\"startlinecolor\":\"#2a3f5f\"},\"type\":\"carpet\"}],\"table\":[{\"cells\":{\"fill\":{\"color\":\"#EBF0F8\"},\"line\":{\"color\":\"white\"}},\"header\":{\"fill\":{\"color\":\"#C8D4E3\"},\"line\":{\"color\":\"white\"}},\"type\":\"table\"}],\"barpolar\":[{\"marker\":{\"line\":{\"color\":\"#E5ECF6\",\"width\":0.5},\"pattern\":{\"fillmode\":\"overlay\",\"size\":10,\"solidity\":0.2}},\"type\":\"barpolar\"}],\"pie\":[{\"automargin\":true,\"type\":\"pie\"}]},\"layout\":{\"autotypenumbers\":\"strict\",\"colorway\":[\"#636efa\",\"#EF553B\",\"#00cc96\",\"#ab63fa\",\"#FFA15A\",\"#19d3f3\",\"#FF6692\",\"#B6E880\",\"#FF97FF\",\"#FECB52\"],\"font\":{\"color\":\"#2a3f5f\"},\"hovermode\":\"closest\",\"hoverlabel\":{\"align\":\"left\"},\"paper_bgcolor\":\"white\",\"plot_bgcolor\":\"#E5ECF6\",\"polar\":{\"bgcolor\":\"#E5ECF6\",\"angularaxis\":{\"gridcolor\":\"white\",\"linecolor\":\"white\",\"ticks\":\"\"},\"radialaxis\":{\"gridcolor\":\"white\",\"linecolor\":\"white\",\"ticks\":\"\"}},\"ternary\":{\"bgcolor\":\"#E5ECF6\",\"aaxis\":{\"gridcolor\":\"white\",\"linecolor\":\"white\",\"ticks\":\"\"},\"baxis\":{\"gridcolor\":\"white\",\"linecolor\":\"white\",\"ticks\":\"\"},\"caxis\":{\"gridcolor\":\"white\",\"linecolor\":\"white\",\"ticks\":\"\"}},\"coloraxis\":{\"colorbar\":{\"outlinewidth\":0,\"ticks\":\"\"}},\"colorscale\":{\"sequential\":[[0.0,\"#0d0887\"],[0.1111111111111111,\"#46039f\"],[0.2222222222222222,\"#7201a8\"],[0.3333333333333333,\"#9c179e\"],[0.4444444444444444,\"#bd3786\"],[0.5555555555555556,\"#d8576b\"],[0.6666666666666666,\"#ed7953\"],[0.7777777777777778,\"#fb9f3a\"],[0.8888888888888888,\"#fdca26\"],[1.0,\"#f0f921\"]],\"sequentialminus\":[[0.0,\"#0d0887\"],[0.1111111111111111,\"#46039f\"],[0.2222222222222222,\"#7201a8\"],[0.3333333333333333,\"#9c179e\"],[0.4444444444444444,\"#bd3786\"],[0.5555555555555556,\"#d8576b\"],[0.6666666666666666,\"#ed7953\"],[0.7777777777777778,\"#fb9f3a\"],[0.8888888888888888,\"#fdca26\"],[1.0,\"#f0f921\"]],\"diverging\":[[0,\"#8e0152\"],[0.1,\"#c51b7d\"],[0.2,\"#de77ae\"],[0.3,\"#f1b6da\"],[0.4,\"#fde0ef\"],[0.5,\"#f7f7f7\"],[0.6,\"#e6f5d0\"],[0.7,\"#b8e186\"],[0.8,\"#7fbc41\"],[0.9,\"#4d9221\"],[1,\"#276419\"]]},\"xaxis\":{\"gridcolor\":\"white\",\"linecolor\":\"white\",\"ticks\":\"\",\"title\":{\"standoff\":15},\"zerolinecolor\":\"white\",\"automargin\":true,\"zerolinewidth\":2},\"yaxis\":{\"gridcolor\":\"white\",\"linecolor\":\"white\",\"ticks\":\"\",\"title\":{\"standoff\":15},\"zerolinecolor\":\"white\",\"automargin\":true,\"zerolinewidth\":2},\"scene\":{\"xaxis\":{\"backgroundcolor\":\"#E5ECF6\",\"gridcolor\":\"white\",\"linecolor\":\"white\",\"showbackground\":true,\"ticks\":\"\",\"zerolinecolor\":\"white\",\"gridwidth\":2},\"yaxis\":{\"backgroundcolor\":\"#E5ECF6\",\"gridcolor\":\"white\",\"linecolor\":\"white\",\"showbackground\":true,\"ticks\":\"\",\"zerolinecolor\":\"white\",\"gridwidth\":2},\"zaxis\":{\"backgroundcolor\":\"#E5ECF6\",\"gridcolor\":\"white\",\"linecolor\":\"white\",\"showbackground\":true,\"ticks\":\"\",\"zerolinecolor\":\"white\",\"gridwidth\":2}},\"shapedefaults\":{\"line\":{\"color\":\"#2a3f5f\"}},\"annotationdefaults\":{\"arrowcolor\":\"#2a3f5f\",\"arrowhead\":0,\"arrowwidth\":1},\"geo\":{\"bgcolor\":\"white\",\"landcolor\":\"#E5ECF6\",\"subunitcolor\":\"white\",\"showland\":true,\"showlakes\":true,\"lakecolor\":\"white\"},\"title\":{\"x\":0.05},\"mapbox\":{\"style\":\"light\"}}},\"xaxis\":{\"anchor\":\"y\",\"domain\":[0.0,0.31999999999999995],\"title\":{\"text\":\"Possessions\"}},\"yaxis\":{\"anchor\":\"x\",\"domain\":[0.0,0.1975],\"title\":{\"text\":\"PPP\"}},\"xaxis2\":{\"anchor\":\"y2\",\"domain\":[0.33999999999999997,0.6599999999999999],\"matches\":\"x\",\"title\":{\"text\":\"Possessions\"}},\"yaxis2\":{\"anchor\":\"x2\",\"domain\":[0.0,0.1975],\"matches\":\"y\",\"showticklabels\":false,\"title\":{\"text\":\"PPP\"}},\"xaxis3\":{\"anchor\":\"y3\",\"domain\":[0.6799999999999999,0.9999999999999999],\"matches\":\"x\",\"title\":{\"text\":\"Possessions\"}},\"yaxis3\":{\"anchor\":\"x3\",\"domain\":[0.0,0.1975],\"matches\":\"y\",\"showticklabels\":false,\"title\":{\"text\":\"PPP\"}},\"xaxis4\":{\"anchor\":\"y4\",\"domain\":[0.0,0.31999999999999995],\"matches\":\"x\",\"showticklabels\":false,\"title\":{\"text\":\"Possessions\"}},\"yaxis4\":{\"anchor\":\"x4\",\"domain\":[0.2675,0.465],\"matches\":\"y\",\"title\":{\"text\":\"PPP\"}},\"xaxis5\":{\"anchor\":\"y5\",\"domain\":[0.33999999999999997,0.6599999999999999],\"matches\":\"x\",\"showticklabels\":false,\"title\":{\"text\":\"Possessions\"}},\"yaxis5\":{\"anchor\":\"x5\",\"domain\":[0.2675,0.465],\"matches\":\"y\",\"showticklabels\":false,\"title\":{\"text\":\"PPP\"}},\"xaxis6\":{\"anchor\":\"y6\",\"domain\":[0.6799999999999999,0.9999999999999999],\"matches\":\"x\",\"showticklabels\":false,\"title\":{\"text\":\"Possessions\"}},\"yaxis6\":{\"anchor\":\"x6\",\"domain\":[0.2675,0.465],\"matches\":\"y\",\"showticklabels\":false,\"title\":{\"text\":\"PPP\"}},\"xaxis7\":{\"anchor\":\"y7\",\"domain\":[0.0,0.31999999999999995],\"matches\":\"x\",\"showticklabels\":false,\"title\":{\"text\":\"Possessions\"}},\"yaxis7\":{\"anchor\":\"x7\",\"domain\":[0.535,0.7325],\"matches\":\"y\",\"title\":{\"text\":\"PPP\"}},\"xaxis8\":{\"anchor\":\"y8\",\"domain\":[0.33999999999999997,0.6599999999999999],\"matches\":\"x\",\"showticklabels\":false,\"title\":{\"text\":\"Possessions\"}},\"yaxis8\":{\"anchor\":\"x8\",\"domain\":[0.535,0.7325],\"matches\":\"y\",\"showticklabels\":false,\"title\":{\"text\":\"PPP\"}},\"xaxis9\":{\"anchor\":\"y9\",\"domain\":[0.6799999999999999,0.9999999999999999],\"matches\":\"x\",\"showticklabels\":false,\"title\":{\"text\":\"Possessions\"}},\"yaxis9\":{\"anchor\":\"x9\",\"domain\":[0.535,0.7325],\"matches\":\"y\",\"showticklabels\":false,\"title\":{\"text\":\"PPP\"}},\"xaxis10\":{\"anchor\":\"y10\",\"domain\":[0.0,0.31999999999999995],\"matches\":\"x\",\"showticklabels\":false,\"title\":{\"text\":\"Possessions\"}},\"yaxis10\":{\"anchor\":\"x10\",\"domain\":[0.8025,1.0],\"matches\":\"y\",\"title\":{\"text\":\"PPP\"}},\"xaxis11\":{\"anchor\":\"y11\",\"domain\":[0.33999999999999997,0.6599999999999999],\"matches\":\"x\",\"showticklabels\":false,\"title\":{\"text\":\"Possessions\"}},\"yaxis11\":{\"anchor\":\"x11\",\"domain\":[0.8025,1.0],\"matches\":\"y\",\"showticklabels\":false,\"title\":{\"text\":\"PPP\"}},\"xaxis12\":{\"anchor\":\"y12\",\"domain\":[0.6799999999999999,0.9999999999999999],\"matches\":\"x\",\"showticklabels\":false,\"title\":{\"text\":\"Possessions\"}},\"yaxis12\":{\"anchor\":\"x12\",\"domain\":[0.8025,1.0],\"matches\":\"y\",\"showticklabels\":false,\"title\":{\"text\":\"PPP\"}},\"annotations\":[{\"showarrow\":false,\"text\":\"PLAY_TYPE=Spotup\",\"x\":0.15999999999999998,\"xanchor\":\"center\",\"xref\":\"paper\",\"y\":0.1975,\"yanchor\":\"bottom\",\"yref\":\"paper\"},{\"showarrow\":false,\"text\":\"PLAY_TYPE=Transition\",\"x\":0.49999999999999994,\"xanchor\":\"center\",\"xref\":\"paper\",\"y\":0.1975,\"yanchor\":\"bottom\",\"yref\":\"paper\"},{\"showarrow\":false,\"text\":\"PLAY_TYPE=PRBallHandler\",\"x\":0.15999999999999998,\"xanchor\":\"center\",\"xref\":\"paper\",\"y\":0.465,\"yanchor\":\"bottom\",\"yref\":\"paper\"},{\"showarrow\":false,\"text\":\"PLAY_TYPE=PRRollMan\",\"x\":0.49999999999999994,\"xanchor\":\"center\",\"xref\":\"paper\",\"y\":0.465,\"yanchor\":\"bottom\",\"yref\":\"paper\"},{\"showarrow\":false,\"text\":\"PLAY_TYPE=Postup\",\"x\":0.8399999999999999,\"xanchor\":\"center\",\"xref\":\"paper\",\"y\":0.465,\"yanchor\":\"bottom\",\"yref\":\"paper\"},{\"showarrow\":false,\"text\":\"PLAY_TYPE=Misc\",\"x\":0.15999999999999998,\"xanchor\":\"center\",\"xref\":\"paper\",\"y\":0.7325,\"yanchor\":\"bottom\",\"yref\":\"paper\"},{\"showarrow\":false,\"text\":\"PLAY_TYPE=OffRebound\",\"x\":0.49999999999999994,\"xanchor\":\"center\",\"xref\":\"paper\",\"y\":0.7325,\"yanchor\":\"bottom\",\"yref\":\"paper\"},{\"showarrow\":false,\"text\":\"PLAY_TYPE=OffScreen\",\"x\":0.8399999999999999,\"xanchor\":\"center\",\"xref\":\"paper\",\"y\":0.7325,\"yanchor\":\"bottom\",\"yref\":\"paper\"},{\"showarrow\":false,\"text\":\"PLAY_TYPE=Cut\",\"x\":0.15999999999999998,\"xanchor\":\"center\",\"xref\":\"paper\",\"y\":1.0,\"yanchor\":\"bottom\",\"yref\":\"paper\"},{\"showarrow\":false,\"text\":\"PLAY_TYPE=Handoff\",\"x\":0.49999999999999994,\"xanchor\":\"center\",\"xref\":\"paper\",\"y\":1.0,\"yanchor\":\"bottom\",\"yref\":\"paper\"},{\"showarrow\":false,\"text\":\"PLAY_TYPE=Isolation\",\"x\":0.8399999999999999,\"xanchor\":\"center\",\"xref\":\"paper\",\"y\":1.0,\"yanchor\":\"bottom\",\"yref\":\"paper\"}],\"legend\":{\"title\":{\"text\":\"TEAM_NAME\"},\"tracegroupgap\":0},\"margin\":{\"t\":60},\"height\":1000,\"width\":1100,\"showlegend\":false,\"title\":{\"text\":\"Frequency and Efficiency of NBA Teams by Shot Type (2022-2023)\",\"x\":0.5},\"shapes\":[{\"line\":{\"dash\":\"dash\",\"width\":0.5},\"type\":\"line\",\"x0\":0,\"x1\":1,\"xref\":\"x domain\",\"y0\":1.0194306169357525,\"y1\":1.0194306169357525,\"yref\":\"y\"},{\"line\":{\"dash\":\"dash\",\"width\":0.5},\"type\":\"line\",\"x0\":0,\"x1\":1,\"xref\":\"x2 domain\",\"y0\":1.0194306169357525,\"y1\":1.0194306169357525,\"yref\":\"y2\"},{\"line\":{\"dash\":\"dash\",\"width\":0.5},\"type\":\"line\",\"x0\":0,\"x1\":1,\"xref\":\"x4 domain\",\"y0\":1.0194306169357525,\"y1\":1.0194306169357525,\"yref\":\"y4\"},{\"line\":{\"dash\":\"dash\",\"width\":0.5},\"type\":\"line\",\"x0\":0,\"x1\":1,\"xref\":\"x5 domain\",\"y0\":1.0194306169357525,\"y1\":1.0194306169357525,\"yref\":\"y5\"},{\"line\":{\"dash\":\"dash\",\"width\":0.5},\"type\":\"line\",\"x0\":0,\"x1\":1,\"xref\":\"x6 domain\",\"y0\":1.0194306169357525,\"y1\":1.0194306169357525,\"yref\":\"y6\"},{\"line\":{\"dash\":\"dash\",\"width\":0.5},\"type\":\"line\",\"x0\":0,\"x1\":1,\"xref\":\"x7 domain\",\"y0\":1.0194306169357525,\"y1\":1.0194306169357525,\"yref\":\"y7\"},{\"line\":{\"dash\":\"dash\",\"width\":0.5},\"type\":\"line\",\"x0\":0,\"x1\":1,\"xref\":\"x8 domain\",\"y0\":1.0194306169357525,\"y1\":1.0194306169357525,\"yref\":\"y8\"},{\"line\":{\"dash\":\"dash\",\"width\":0.5},\"type\":\"line\",\"x0\":0,\"x1\":1,\"xref\":\"x9 domain\",\"y0\":1.0194306169357525,\"y1\":1.0194306169357525,\"yref\":\"y9\"},{\"line\":{\"dash\":\"dash\",\"width\":0.5},\"type\":\"line\",\"x0\":0,\"x1\":1,\"xref\":\"x10 domain\",\"y0\":1.0194306169357525,\"y1\":1.0194306169357525,\"yref\":\"y10\"},{\"line\":{\"dash\":\"dash\",\"width\":0.5},\"type\":\"line\",\"x0\":0,\"x1\":1,\"xref\":\"x11 domain\",\"y0\":1.0194306169357525,\"y1\":1.0194306169357525,\"yref\":\"y11\"},{\"line\":{\"dash\":\"dash\",\"width\":0.5},\"type\":\"line\",\"x0\":0,\"x1\":1,\"xref\":\"x12 domain\",\"y0\":1.0194306169357525,\"y1\":1.0194306169357525,\"yref\":\"y12\"}]},                        {\"responsive\": true}                    ).then(function(){\n",
       "                            \n",
       "var gd = document.getElementById('c8490062-148a-4f82-92ce-4232a39c1b2a');\n",
       "var x = new MutationObserver(function (mutations, observer) {{\n",
       "        var display = window.getComputedStyle(gd).display;\n",
       "        if (!display || display === 'none') {{\n",
       "            console.log([gd, 'removed!']);\n",
       "            Plotly.purge(gd);\n",
       "            observer.disconnect();\n",
       "        }}\n",
       "}});\n",
       "\n",
       "// Listen for the removal of the full notebook cells\n",
       "var notebookContainer = gd.closest('#notebook-container');\n",
       "if (notebookContainer) {{\n",
       "    x.observe(notebookContainer, {childList: true});\n",
       "}}\n",
       "\n",
       "// Listen for the clearing of the current output cell\n",
       "var outputEl = gd.closest('.output');\n",
       "if (outputEl) {{\n",
       "    x.observe(outputEl, {childList: true});\n",
       "}}\n",
       "\n",
       "                        })                };                });            </script>        </div>"
      ]
     },
     "metadata": {},
     "output_type": "display_data"
    }
   ],
   "source": [
    "fig = px.scatter(df_team, x='POSS', y='PPP', facet_col='PLAY_TYPE', facet_col_wrap=3, color='TEAM_NAME', width=1100, height=1000)\n",
    "fig.update_layout(showlegend=False)\n",
    "fig.update_layout(title_text='Frequency and Efficiency of NBA Teams by Shot Type (2022-2023)', title_x=0.5)\n",
    "fig.add_hline(y=league_average_ppp, line_dash='dash', line_width = 0.5)\n",
    "fig.update_xaxes(title_text='Possessions')\n",
    "fig.update_yaxes(title_text='PPP')\n",
    "fig.show()"
   ]
  },
  {
   "cell_type": "markdown",
   "metadata": {
    "collapsed": false
   },
   "source": [
    "#### Cut\n",
    "* The Golden State Warriors are an excellent cutting team. Generating effective cutting possessions requires an effective motion offense with the presence of multiple skilled ball handlers and players who excel at off ball movement. The Warriors are a veteran team with a core that has played together for many years. In contrast, the Houston Rockets are a rebuilding team with talented but inexperienced players and generate the least efficient looks from cutting possessions.\n",
    "#### Handoff\n",
    "* The Sacramento Kings do an excellent job of generating a large volume of efficient handoff possessions.\n",
    "#### Isolation\n",
    "* The San Antonio Spurs are very poor in isolation, but also take the least number of isolation attempts which is better than taking a large volume of an inefficient shot type. In contrast, the Dallas Mavericks generate a large volume of isolation looks with just above league average efficiency, driven in large part by their franchise star Luka Doncic's ability to break down defenses on his own.\n",
    "#### Off Rebounds\n",
    "* Off Rebound possessions are incredibly efficient, with only Oklahoma City Thunder, Golden State Warriors, and LA Clippers performing below league average. The Warriors and Clippers both run offenses that do not rely on much activity from the center. The Thunder, however, are missing the presence of 7'1\" rookie Chet Holmgren. It will be interesting to see if their efficency and frequency of Off Rebound possessions improves once he returns to play.\n",
    "#### Off Screen\n",
    "* The Golden State Warriors generate by far the most possessions coming off of screens, but only do so at a league average level. The Houston Rockets and Philadelphia 76ers both generate very inefficient looks off of screens but do so infrequently.\n",
    "#### Pick and Roll Ball Handler\n",
    "* The Pick and Roll Ball Handler category is almost entirely below league average efficiency, with only the Dallas Mavericks and Portland Trail Blazers coming particularly close. Luka Donic and Damian Lillard are both excellent ball handling threats. Interestingly, while these types of possessions are inefficient, almost all teams run them with large frequency. The Pick and Roll is a simply, fundamental basketball skill and can be executed effectively even with only a limited amount of time, whereas for example generating a good spotup or off screen look might take more time to emerge in an offensive possession. It might be interesting to further analyze possessions by the time left of the shot clock when the shot attempt occurs to attempt to see what types of shots tend to be bail out shots done with the pressure of limited time left in the possession.\n",
    "#### Pick and Roll Roller\n",
    "* In contrast to the PR Ball Handler, the PR Roll is less frequent but much more efficient, with every team performing at an above average efficiency. The Denver Nuggets, Dallas Mavericks, and Los Angeles Lakers do the best job of utilizing these possessions.\n",
    "#### Postup\n",
    "* The Postup is run effectively by the Denver Nuggets, powered by MVP center Nikola Jokic's impressive individual scoring ability combined with his excellent passing.\n",
    "#### Spot Up\n",
    "* The Spot Up is most effectively used by the Boston Celtics, who generate a large number of highly efficient shots for their team.\n",
    "#### Transition\n",
    "* Finally, the Transition play is both a frequently used and incredibly efficient shot type for every team. A significant trend in the league has been the increased desire for teams to generate efficient looks in transition to take advantage of defenses who have not had time to get into position yet. The data shows that this trend is occurring for a reason."
   ]
  },
  {
   "cell_type": "markdown",
   "metadata": {
    "collapsed": false
   },
   "source": [
    "# Future Analysis Ideas\n",
    "\n",
    "* looking at changes in shot type frequency and efficiency over time\n",
    "* comparing deviance from league average frequency and efficiency at the team level per shot type to generate uniqueness scores that describe which NBA offenses are most similar to average and which offenses deviate most from average\n",
    "* regression analysis on how player variables such as height impact effectiveness of Off Rebound possessions as an example"
   ]
  },
  {
   "cell_type": "code",
   "execution_count": 223,
   "metadata": {
    "collapsed": false
   },
   "outputs": [],
   "source": []
  }
 ],
 "metadata": {
  "kernelspec": {
   "display_name": "Python 3 (ipykernel)",
   "language": "python",
   "name": "python3"
  },
  "language_info": {
   "codemirror_mode": {
    "name": "ipython",
    "version": 3
   },
   "file_extension": ".py",
   "mimetype": "text/x-python",
   "name": "python",
   "nbconvert_exporter": "python",
   "pygments_lexer": "ipython3",
   "version": "3.9.16"
  }
 },
 "nbformat": 4,
 "nbformat_minor": 1
}
